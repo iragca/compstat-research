{
 "cells": [
  {
   "cell_type": "code",
   "execution_count": 1,
   "metadata": {},
   "outputs": [
    {
     "name": "stderr",
     "output_type": "stream",
     "text": [
      "\u001b[32m2025-02-05 12:00:59.214\u001b[0m | \u001b[1mINFO    \u001b[0m | \u001b[36mcompstat_research.config\u001b[0m:\u001b[36m<module>\u001b[0m:\u001b[36m11\u001b[0m - \u001b[1mPROJ_ROOT path is: D:\\Documents\\3 Production Save Files\\1 Cloned repositories\\compstat-research\u001b[0m\n"
     ]
    }
   ],
   "source": [
    "import polars as pl\n",
    "\n",
    "from ydata_profiling import ProfileReport\n",
    "\n",
    "from compstat_research.config import EXTERNAL_DATA_DIR\n",
    "\n",
    "data_path = EXTERNAL_DATA_DIR / \"kaggle\" / \"ph-major-cities-weather-data\""
   ]
  },
  {
   "cell_type": "code",
   "execution_count": 2,
   "metadata": {},
   "outputs": [
    {
     "data": {
      "text/html": [
       "<div><style>\n",
       ".dataframe > thead > tr,\n",
       ".dataframe > tbody > tr {\n",
       "  text-align: right;\n",
       "  white-space: pre-wrap;\n",
       "}\n",
       "</style>\n",
       "<small>shape: (51_888, 27)</small><table border=\"1\" class=\"dataframe\"><thead><tr><th>visibility</th><th>datetime</th><th>coord.lon</th><th>coord.lat</th><th>main.temp</th><th>main.feels_like</th><th>main.temp_min</th><th>main.temp_max</th><th>main.pressure</th><th>main.humidity</th><th>main.sea_level</th><th>main.grnd_level</th><th>wind.speed</th><th>wind.deg</th><th>wind.gust</th><th>clouds.all</th><th>sys.sunrise</th><th>sys.sunset</th><th>weather.id</th><th>weather.main</th><th>weather.description</th><th>weather.icon</th><th>extraction_date_time</th><th>city_name</th><th>sys.type</th><th>sys.id</th><th>rain.1h</th></tr><tr><td>f64</td><td>str</td><td>f64</td><td>f64</td><td>f64</td><td>f64</td><td>f64</td><td>f64</td><td>f64</td><td>f64</td><td>f64</td><td>f64</td><td>f64</td><td>f64</td><td>str</td><td>f64</td><td>str</td><td>str</td><td>f64</td><td>str</td><td>str</td><td>str</td><td>str</td><td>str</td><td>str</td><td>str</td><td>str</td></tr></thead><tbody><tr><td>10000.0</td><td>&quot;2024-12-01 00:06:00+08:00&quot;</td><td>119.9811</td><td>16.1561</td><td>25.75</td><td>26.55</td><td>25.75</td><td>25.75</td><td>1009.0</td><td>83.0</td><td>1009.0</td><td>1004.0</td><td>2.92</td><td>114.0</td><td>&quot;3.45&quot;</td><td>100.0</td><td>&quot;2024-12-01 06:12:12+08:00&quot;</td><td>&quot;2024-12-01 17:26:25+08:00&quot;</td><td>804.0</td><td>&quot;Clouds&quot;</td><td>&quot;overcast clouds&quot;</td><td>&quot;04n&quot;</td><td>&quot;2024-12-01 00:06:00.384027+08:…</td><td>&quot;Alaminos&quot;</td><td>&quot;&quot;</td><td>&quot;&quot;</td><td>&quot;&quot;</td></tr><tr><td>10000.0</td><td>&quot;2024-12-01 00:06:02+08:00&quot;</td><td>120.5833</td><td>15.15</td><td>25.25</td><td>25.87</td><td>25.25</td><td>25.25</td><td>1010.0</td><td>78.0</td><td>1010.0</td><td>992.0</td><td>1.03</td><td>270.0</td><td>&quot;&quot;</td><td>20.0</td><td>&quot;2024-12-01 06:08:03+08:00&quot;</td><td>&quot;2024-12-01 17:25:44+08:00&quot;</td><td>801.0</td><td>&quot;Clouds&quot;</td><td>&quot;few clouds&quot;</td><td>&quot;02n&quot;</td><td>&quot;2024-12-01 00:06:02.737698+08:…</td><td>&quot;Angeles City&quot;</td><td>&quot;1.0&quot;</td><td>&quot;8152.0&quot;</td><td>&quot;&quot;</td></tr><tr><td>10000.0</td><td>&quot;2024-12-01 00:06:04+08:00&quot;</td><td>121.19</td><td>15.6181</td><td>22.72</td><td>23.35</td><td>22.72</td><td>22.72</td><td>1011.0</td><td>88.0</td><td>1011.0</td><td>971.0</td><td>2.26</td><td>81.0</td><td>&quot;3.25&quot;</td><td>74.0</td><td>&quot;2024-12-01 06:06:26+08:00&quot;</td><td>&quot;2024-12-01 17:22:30+08:00&quot;</td><td>803.0</td><td>&quot;Clouds&quot;</td><td>&quot;broken clouds&quot;</td><td>&quot;04n&quot;</td><td>&quot;2024-12-01 00:06:04.850520+08:…</td><td>&quot;Antipolo&quot;</td><td>&quot;&quot;</td><td>&quot;&quot;</td><td>&quot;&quot;</td></tr><tr><td>10000.0</td><td>&quot;2024-12-01 00:06:06+08:00&quot;</td><td>123.5085</td><td>12.2285</td><td>24.69</td><td>25.7</td><td>24.69</td><td>24.69</td><td>1007.0</td><td>95.0</td><td>1007.0</td><td>998.0</td><td>3.21</td><td>10.0</td><td>&quot;6.92&quot;</td><td>100.0</td><td>&quot;2024-12-01 05:51:26+08:00&quot;</td><td>&quot;2024-12-01 17:18:57+08:00&quot;</td><td>804.0</td><td>&quot;Clouds&quot;</td><td>&quot;overcast clouds&quot;</td><td>&quot;04n&quot;</td><td>&quot;2024-12-01 00:06:06.266091+08:…</td><td>&quot;Bacolod&quot;</td><td>&quot;&quot;</td><td>&quot;&quot;</td><td>&quot;&quot;</td></tr><tr><td>10000.0</td><td>&quot;2024-12-01 00:06:08+08:00&quot;</td><td>120.929</td><td>14.459</td><td>26.6</td><td>26.6</td><td>26.17</td><td>27.24</td><td>1009.0</td><td>87.0</td><td>1009.0</td><td>1006.0</td><td>0.51</td><td>0.0</td><td>&quot;&quot;</td><td>75.0</td><td>&quot;2024-12-01 06:05:30+08:00&quot;</td><td>&quot;2024-12-01 17:25:32+08:00&quot;</td><td>803.0</td><td>&quot;Clouds&quot;</td><td>&quot;broken clouds&quot;</td><td>&quot;04n&quot;</td><td>&quot;2024-12-01 00:06:08.471000+08:…</td><td>&quot;Bacoor&quot;</td><td>&quot;2.0&quot;</td><td>&quot;2005706.0&quot;</td><td>&quot;&quot;</td></tr><tr><td>&hellip;</td><td>&hellip;</td><td>&hellip;</td><td>&hellip;</td><td>&hellip;</td><td>&hellip;</td><td>&hellip;</td><td>&hellip;</td><td>&hellip;</td><td>&hellip;</td><td>&hellip;</td><td>&hellip;</td><td>&hellip;</td><td>&hellip;</td><td>&hellip;</td><td>&hellip;</td><td>&hellip;</td><td>&hellip;</td><td>&hellip;</td><td>&hellip;</td><td>&hellip;</td><td>&hellip;</td><td>&hellip;</td><td>&hellip;</td><td>&hellip;</td><td>&hellip;</td><td>&hellip;</td></tr><tr><td>10000.0</td><td>&quot;2024-12-31 22:10:06+08:00&quot;</td><td>124.5725</td><td>11.1089</td><td>24.27</td><td>25.13</td><td>24.27</td><td>24.27</td><td>1011.0</td><td>91.0</td><td>1011.0</td><td>996.0</td><td>1.22</td><td>46.0</td><td>&quot;2.17&quot;</td><td>100.0</td><td>&quot;2024-12-31 06:00:03+08:00&quot;</td><td>&quot;2024-12-31 17:29:01+08:00&quot;</td><td>804.0</td><td>&quot;Clouds&quot;</td><td>&quot;overcast clouds&quot;</td><td>&quot;04n&quot;</td><td>&quot;2024-12-31 22:10:06.026752+08:…</td><td>&quot;Valencia&quot;</td><td>&quot;&quot;</td><td>&quot;&quot;</td><td>&quot;&quot;</td></tr><tr><td>10000.0</td><td>&quot;2024-12-31 22:10:08+08:00&quot;</td><td>120.9667</td><td>14.7</td><td>26.88</td><td>29.92</td><td>26.73</td><td>27.99</td><td>1012.0</td><td>85.0</td><td>1012.0</td><td>1013.0</td><td>2.58</td><td>79.0</td><td>&quot;2.94&quot;</td><td>42.0</td><td>&quot;2024-12-31 06:20:54+08:00&quot;</td><td>&quot;2024-12-31 17:37:01+08:00&quot;</td><td>802.0</td><td>&quot;Clouds&quot;</td><td>&quot;scattered clouds&quot;</td><td>&quot;03n&quot;</td><td>&quot;2024-12-31 22:10:08.042052+08:…</td><td>&quot;Valenzuela&quot;</td><td>&quot;2.0&quot;</td><td>&quot;2008256.0&quot;</td><td>&quot;&quot;</td></tr><tr><td>10000.0</td><td>&quot;2024-12-31 22:10:09+08:00&quot;</td><td>123.0778</td><td>10.9</td><td>26.41</td><td>26.41</td><td>26.41</td><td>26.41</td><td>1011.0</td><td>84.0</td><td>1011.0</td><td>1000.0</td><td>3.87</td><td>42.0</td><td>&quot;5.25&quot;</td><td>98.0</td><td>&quot;2024-12-31 06:05:40+08:00&quot;</td><td>&quot;2024-12-31 17:35:22+08:00&quot;</td><td>804.0</td><td>&quot;Clouds&quot;</td><td>&quot;overcast clouds&quot;</td><td>&quot;04n&quot;</td><td>&quot;2024-12-31 22:10:09.757499+08:…</td><td>&quot;Victorias&quot;</td><td>&quot;&quot;</td><td>&quot;&quot;</td><td>&quot;&quot;</td></tr><tr><td>10000.0</td><td>&quot;2024-12-31 22:06:18+08:00&quot;</td><td>120.3869</td><td>17.5747</td><td>28.29</td><td>33.91</td><td>28.29</td><td>28.29</td><td>1011.0</td><td>86.0</td><td>1011.0</td><td>1004.0</td><td>2.1</td><td>105.0</td><td>&quot;2.25&quot;</td><td>59.0</td><td>&quot;2024-12-31 06:28:30+08:00&quot;</td><td>&quot;2024-12-31 17:34:03+08:00&quot;</td><td>803.0</td><td>&quot;Clouds&quot;</td><td>&quot;broken clouds&quot;</td><td>&quot;04n&quot;</td><td>&quot;2024-12-31 22:10:11.497721+08:…</td><td>&quot;Vigan&quot;</td><td>&quot;2.0&quot;</td><td>&quot;2043564.0&quot;</td><td>&quot;&quot;</td></tr><tr><td>10000.0</td><td>&quot;2024-12-31 22:10:14+08:00&quot;</td><td>122.0696</td><td>6.9135</td><td>25.05</td><td>26.01</td><td>25.05</td><td>25.05</td><td>1011.0</td><td>92.0</td><td>1011.0</td><td>987.0</td><td>0.55</td><td>12.0</td><td>&quot;1.17&quot;</td><td>100.0</td><td>&quot;2024-12-31 06:02:46+08:00&quot;</td><td>&quot;2024-12-31 17:46:20+08:00&quot;</td><td>804.0</td><td>&quot;Clouds&quot;</td><td>&quot;overcast clouds&quot;</td><td>&quot;04n&quot;</td><td>&quot;2024-12-31 22:10:14.029963+08:…</td><td>&quot;Zamboanga City&quot;</td><td>&quot;&quot;</td><td>&quot;&quot;</td><td>&quot;&quot;</td></tr></tbody></table></div>"
      ],
      "text/plain": [
       "shape: (51_888, 27)\n",
       "┌────────────┬────────────┬───────────┬───────────┬───┬───────────┬──────────┬───────────┬─────────┐\n",
       "│ visibility ┆ datetime   ┆ coord.lon ┆ coord.lat ┆ … ┆ city_name ┆ sys.type ┆ sys.id    ┆ rain.1h │\n",
       "│ ---        ┆ ---        ┆ ---       ┆ ---       ┆   ┆ ---       ┆ ---      ┆ ---       ┆ ---     │\n",
       "│ f64        ┆ str        ┆ f64       ┆ f64       ┆   ┆ str       ┆ str      ┆ str       ┆ str     │\n",
       "╞════════════╪════════════╪═══════════╪═══════════╪═══╪═══════════╪══════════╪═══════════╪═════════╡\n",
       "│ 10000.0    ┆ 2024-12-01 ┆ 119.9811  ┆ 16.1561   ┆ … ┆ Alaminos  ┆          ┆           ┆         │\n",
       "│            ┆ 00:06:00+0 ┆           ┆           ┆   ┆           ┆          ┆           ┆         │\n",
       "│            ┆ 8:00       ┆           ┆           ┆   ┆           ┆          ┆           ┆         │\n",
       "│ 10000.0    ┆ 2024-12-01 ┆ 120.5833  ┆ 15.15     ┆ … ┆ Angeles   ┆ 1.0      ┆ 8152.0    ┆         │\n",
       "│            ┆ 00:06:02+0 ┆           ┆           ┆   ┆ City      ┆          ┆           ┆         │\n",
       "│            ┆ 8:00       ┆           ┆           ┆   ┆           ┆          ┆           ┆         │\n",
       "│ 10000.0    ┆ 2024-12-01 ┆ 121.19    ┆ 15.6181   ┆ … ┆ Antipolo  ┆          ┆           ┆         │\n",
       "│            ┆ 00:06:04+0 ┆           ┆           ┆   ┆           ┆          ┆           ┆         │\n",
       "│            ┆ 8:00       ┆           ┆           ┆   ┆           ┆          ┆           ┆         │\n",
       "│ 10000.0    ┆ 2024-12-01 ┆ 123.5085  ┆ 12.2285   ┆ … ┆ Bacolod   ┆          ┆           ┆         │\n",
       "│            ┆ 00:06:06+0 ┆           ┆           ┆   ┆           ┆          ┆           ┆         │\n",
       "│            ┆ 8:00       ┆           ┆           ┆   ┆           ┆          ┆           ┆         │\n",
       "│ 10000.0    ┆ 2024-12-01 ┆ 120.929   ┆ 14.459    ┆ … ┆ Bacoor    ┆ 2.0      ┆ 2005706.0 ┆         │\n",
       "│            ┆ 00:06:08+0 ┆           ┆           ┆   ┆           ┆          ┆           ┆         │\n",
       "│            ┆ 8:00       ┆           ┆           ┆   ┆           ┆          ┆           ┆         │\n",
       "│ …          ┆ …          ┆ …         ┆ …         ┆ … ┆ …         ┆ …        ┆ …         ┆ …       │\n",
       "│ 10000.0    ┆ 2024-12-31 ┆ 124.5725  ┆ 11.1089   ┆ … ┆ Valencia  ┆          ┆           ┆         │\n",
       "│            ┆ 22:10:06+0 ┆           ┆           ┆   ┆           ┆          ┆           ┆         │\n",
       "│            ┆ 8:00       ┆           ┆           ┆   ┆           ┆          ┆           ┆         │\n",
       "│ 10000.0    ┆ 2024-12-31 ┆ 120.9667  ┆ 14.7      ┆ … ┆ Valenzuel ┆ 2.0      ┆ 2008256.0 ┆         │\n",
       "│            ┆ 22:10:08+0 ┆           ┆           ┆   ┆ a         ┆          ┆           ┆         │\n",
       "│            ┆ 8:00       ┆           ┆           ┆   ┆           ┆          ┆           ┆         │\n",
       "│ 10000.0    ┆ 2024-12-31 ┆ 123.0778  ┆ 10.9      ┆ … ┆ Victorias ┆          ┆           ┆         │\n",
       "│            ┆ 22:10:09+0 ┆           ┆           ┆   ┆           ┆          ┆           ┆         │\n",
       "│            ┆ 8:00       ┆           ┆           ┆   ┆           ┆          ┆           ┆         │\n",
       "│ 10000.0    ┆ 2024-12-31 ┆ 120.3869  ┆ 17.5747   ┆ … ┆ Vigan     ┆ 2.0      ┆ 2043564.0 ┆         │\n",
       "│            ┆ 22:06:18+0 ┆           ┆           ┆   ┆           ┆          ┆           ┆         │\n",
       "│            ┆ 8:00       ┆           ┆           ┆   ┆           ┆          ┆           ┆         │\n",
       "│ 10000.0    ┆ 2024-12-31 ┆ 122.0696  ┆ 6.9135    ┆ … ┆ Zamboanga ┆          ┆           ┆         │\n",
       "│            ┆ 22:10:14+0 ┆           ┆           ┆   ┆ City      ┆          ┆           ┆         │\n",
       "│            ┆ 8:00       ┆           ┆           ┆   ┆           ┆          ┆           ┆         │\n",
       "└────────────┴────────────┴───────────┴───────────┴───┴───────────┴──────────┴───────────┴─────────┘"
      ]
     },
     "execution_count": 2,
     "metadata": {},
     "output_type": "execute_result"
    }
   ],
   "source": [
    "df_202412 = pl.read_csv(data_path / \"202412\" / \"202412_CombinedData.csv\" / \"202412_CombinedData.csv\")\n",
    "df_202412"
   ]
  },
  {
   "cell_type": "code",
   "execution_count": 8,
   "metadata": {},
   "outputs": [
    {
     "data": {
      "text/html": [
       "<div><style>\n",
       ".dataframe > thead > tr,\n",
       ".dataframe > tbody > tr {\n",
       "  text-align: right;\n",
       "  white-space: pre-wrap;\n",
       "}\n",
       "</style>\n",
       "<small>shape: (9, 28)</small><table border=\"1\" class=\"dataframe\"><thead><tr><th>statistic</th><th>visibility</th><th>datetime</th><th>coord.lon</th><th>coord.lat</th><th>main.temp</th><th>main.feels_like</th><th>main.temp_min</th><th>main.temp_max</th><th>main.pressure</th><th>main.humidity</th><th>main.sea_level</th><th>main.grnd_level</th><th>wind.speed</th><th>wind.deg</th><th>wind.gust</th><th>clouds.all</th><th>sys.sunrise</th><th>sys.sunset</th><th>weather.id</th><th>weather.main</th><th>weather.description</th><th>weather.icon</th><th>extraction_date_time</th><th>city_name</th><th>sys.type</th><th>sys.id</th><th>rain.1h</th></tr><tr><td>str</td><td>f64</td><td>str</td><td>f64</td><td>f64</td><td>f64</td><td>f64</td><td>f64</td><td>f64</td><td>f64</td><td>f64</td><td>f64</td><td>f64</td><td>f64</td><td>f64</td><td>str</td><td>f64</td><td>str</td><td>str</td><td>f64</td><td>str</td><td>str</td><td>str</td><td>str</td><td>str</td><td>str</td><td>str</td><td>str</td></tr></thead><tbody><tr><td>&quot;count&quot;</td><td>51787.0</td><td>&quot;51888&quot;</td><td>51888.0</td><td>51888.0</td><td>51888.0</td><td>51888.0</td><td>51888.0</td><td>51888.0</td><td>51888.0</td><td>51888.0</td><td>51888.0</td><td>51888.0</td><td>51888.0</td><td>51888.0</td><td>&quot;51888&quot;</td><td>51888.0</td><td>&quot;51888&quot;</td><td>&quot;51888&quot;</td><td>51888.0</td><td>&quot;51888&quot;</td><td>&quot;51888&quot;</td><td>&quot;51888&quot;</td><td>&quot;51888&quot;</td><td>&quot;51888&quot;</td><td>&quot;51888&quot;</td><td>&quot;51888&quot;</td><td>&quot;51888&quot;</td></tr><tr><td>&quot;null_count&quot;</td><td>101.0</td><td>&quot;0&quot;</td><td>0.0</td><td>0.0</td><td>0.0</td><td>0.0</td><td>0.0</td><td>0.0</td><td>0.0</td><td>0.0</td><td>0.0</td><td>0.0</td><td>0.0</td><td>0.0</td><td>&quot;0&quot;</td><td>0.0</td><td>&quot;0&quot;</td><td>&quot;0&quot;</td><td>0.0</td><td>&quot;0&quot;</td><td>&quot;0&quot;</td><td>&quot;0&quot;</td><td>&quot;0&quot;</td><td>&quot;0&quot;</td><td>&quot;0&quot;</td><td>&quot;0&quot;</td><td>&quot;0&quot;</td></tr><tr><td>&quot;mean&quot;</td><td>9735.700311</td><td>null</td><td>122.524401</td><td>12.551157</td><td>26.167295</td><td>28.149812</td><td>26.074643</td><td>26.264861</td><td>1010.043844</td><td>83.744276</td><td>1010.043844</td><td>995.794577</td><td>2.896365</td><td>111.068667</td><td>null</td><td>83.576472</td><td>null</td><td>null</td><td>767.693262</td><td>null</td><td>null</td><td>null</td><td>null</td><td>null</td><td>null</td><td>null</td><td>null</td></tr><tr><td>&quot;std&quot;</td><td>1138.015293</td><td>null</td><td>1.730644</td><td>3.182204</td><td>2.442697</td><td>4.067455</td><td>2.402434</td><td>2.503443</td><td>2.395765</td><td>9.413975</td><td>2.395765</td><td>16.651434</td><td>1.864009</td><td>104.185103</td><td>null</td><td>23.589999</td><td>null</td><td>null</td><td>97.87012</td><td>null</td><td>null</td><td>null</td><td>null</td><td>null</td><td>null</td><td>null</td><td>null</td></tr><tr><td>&quot;min&quot;</td><td>6.0</td><td>&quot;2024-12-01 00:02:56+08:00&quot;</td><td>118.7333</td><td>6.0872</td><td>12.89</td><td>12.56</td><td>12.89</td><td>12.89</td><td>1003.0</td><td>18.0</td><td>1003.0</td><td>900.0</td><td>0.0</td><td>0.0</td><td>&quot;&quot;</td><td>0.0</td><td>&quot;2024-12-01 05:32:36+08:00&quot;</td><td>&quot;2024-12-01 17:12:18+08:00&quot;</td><td>200.0</td><td>&quot;Clear&quot;</td><td>&quot;broken clouds&quot;</td><td>&quot;01d&quot;</td><td>&quot;2024-12-01 00:06:00.384027+08:…</td><td>&quot;Alaminos&quot;</td><td>&quot;&quot;</td><td>&quot;&quot;</td><td>&quot;&quot;</td></tr><tr><td>&quot;25%&quot;</td><td>10000.0</td><td>null</td><td>120.9667</td><td>10.1061</td><td>24.68</td><td>25.54</td><td>24.59</td><td>24.74</td><td>1008.0</td><td>78.0</td><td>1008.0</td><td>991.0</td><td>1.49</td><td>43.0</td><td>null</td><td>75.0</td><td>null</td><td>null</td><td>803.0</td><td>null</td><td>null</td><td>null</td><td>null</td><td>null</td><td>null</td><td>null</td><td>null</td></tr><tr><td>&quot;50%&quot;</td><td>10000.0</td><td>null</td><td>122.55</td><td>13.4083</td><td>26.08</td><td>26.45</td><td>26.03</td><td>26.16</td><td>1010.0</td><td>85.0</td><td>1010.0</td><td>999.0</td><td>2.48</td><td>71.0</td><td>null</td><td>97.0</td><td>null</td><td>null</td><td>804.0</td><td>null</td><td>null</td><td>null</td><td>null</td><td>null</td><td>null</td><td>null</td><td>null</td></tr><tr><td>&quot;75%&quot;</td><td>10000.0</td><td>null</td><td>123.8907</td><td>14.7678</td><td>27.73</td><td>31.31</td><td>27.65</td><td>27.9</td><td>1012.0</td><td>91.0</td><td>1012.0</td><td>1005.0</td><td>3.99</td><td>130.0</td><td>null</td><td>100.0</td><td>null</td><td>null</td><td>804.0</td><td>null</td><td>null</td><td>null</td><td>null</td><td>null</td><td>null</td><td>null</td><td>null</td></tr><tr><td>&quot;max&quot;</td><td>10000.0</td><td>&quot;2024-12-31 22:10:14+08:00&quot;</td><td>126.1986</td><td>18.1989</td><td>34.14</td><td>41.06</td><td>34.14</td><td>34.14</td><td>1020.0</td><td>100.0</td><td>1020.0</td><td>1023.0</td><td>12.1</td><td>360.0</td><td>&quot;9.99&quot;</td><td>100.0</td><td>&quot;2024-12-31 06:28:51+08:00&quot;</td><td>&quot;2024-12-31 17:54:47+08:00&quot;</td><td>804.0</td><td>&quot;Thunderstorm&quot;</td><td>&quot;very heavy rain&quot;</td><td>&quot;11n&quot;</td><td>&quot;2024-12-31 22:10:14.029963+08:…</td><td>&quot;Zamboanga City&quot;</td><td>&quot;2.0&quot;</td><td>&quot;8187.0&quot;</td><td>&quot;9.99&quot;</td></tr></tbody></table></div>"
      ],
      "text/plain": [
       "shape: (9, 28)\n",
       "┌────────────┬────────────┬────────────┬────────────┬───┬────────────┬──────────┬────────┬─────────┐\n",
       "│ statistic  ┆ visibility ┆ datetime   ┆ coord.lon  ┆ … ┆ city_name  ┆ sys.type ┆ sys.id ┆ rain.1h │\n",
       "│ ---        ┆ ---        ┆ ---        ┆ ---        ┆   ┆ ---        ┆ ---      ┆ ---    ┆ ---     │\n",
       "│ str        ┆ f64        ┆ str        ┆ f64        ┆   ┆ str        ┆ str      ┆ str    ┆ str     │\n",
       "╞════════════╪════════════╪════════════╪════════════╪═══╪════════════╪══════════╪════════╪═════════╡\n",
       "│ count      ┆ 51787.0    ┆ 51888      ┆ 51888.0    ┆ … ┆ 51888      ┆ 51888    ┆ 51888  ┆ 51888   │\n",
       "│ null_count ┆ 101.0      ┆ 0          ┆ 0.0        ┆ … ┆ 0          ┆ 0        ┆ 0      ┆ 0       │\n",
       "│ mean       ┆ 9735.70031 ┆ null       ┆ 122.524401 ┆ … ┆ null       ┆ null     ┆ null   ┆ null    │\n",
       "│            ┆ 1          ┆            ┆            ┆   ┆            ┆          ┆        ┆         │\n",
       "│ std        ┆ 1138.01529 ┆ null       ┆ 1.730644   ┆ … ┆ null       ┆ null     ┆ null   ┆ null    │\n",
       "│            ┆ 3          ┆            ┆            ┆   ┆            ┆          ┆        ┆         │\n",
       "│ min        ┆ 6.0        ┆ 2024-12-01 ┆ 118.7333   ┆ … ┆ Alaminos   ┆          ┆        ┆         │\n",
       "│            ┆            ┆ 00:02:56+0 ┆            ┆   ┆            ┆          ┆        ┆         │\n",
       "│            ┆            ┆ 8:00       ┆            ┆   ┆            ┆          ┆        ┆         │\n",
       "│ 25%        ┆ 10000.0    ┆ null       ┆ 120.9667   ┆ … ┆ null       ┆ null     ┆ null   ┆ null    │\n",
       "│ 50%        ┆ 10000.0    ┆ null       ┆ 122.55     ┆ … ┆ null       ┆ null     ┆ null   ┆ null    │\n",
       "│ 75%        ┆ 10000.0    ┆ null       ┆ 123.8907   ┆ … ┆ null       ┆ null     ┆ null   ┆ null    │\n",
       "│ max        ┆ 10000.0    ┆ 2024-12-31 ┆ 126.1986   ┆ … ┆ Zamboanga  ┆ 2.0      ┆ 8187.0 ┆ 9.99    │\n",
       "│            ┆            ┆ 22:10:14+0 ┆            ┆   ┆ City       ┆          ┆        ┆         │\n",
       "│            ┆            ┆ 8:00       ┆            ┆   ┆            ┆          ┆        ┆         │\n",
       "└────────────┴────────────┴────────────┴────────────┴───┴────────────┴──────────┴────────┴─────────┘"
      ]
     },
     "execution_count": 8,
     "metadata": {},
     "output_type": "execute_result"
    }
   ],
   "source": [
    "df_202412.describe()"
   ]
  },
  {
   "cell_type": "code",
   "execution_count": 3,
   "metadata": {},
   "outputs": [],
   "source": [
    "df_202412_profile = ProfileReport(df_202412.to_pandas())"
   ]
  },
  {
   "cell_type": "code",
   "execution_count": 4,
   "metadata": {},
   "outputs": [
    {
     "data": {
      "application/vnd.jupyter.widget-view+json": {
       "model_id": "f89415062994442a826043e4ec58dacf",
       "version_major": 2,
       "version_minor": 0
      },
      "text/plain": [
       "Summarize dataset:   0%|          | 0/5 [00:00<?, ?it/s]"
      ]
     },
     "metadata": {},
     "output_type": "display_data"
    },
    {
     "data": {
      "application/vnd.jupyter.widget-view+json": {
       "model_id": "a8be4a916b9643908bb7f568996003a8",
       "version_major": 2,
       "version_minor": 0
      },
      "text/plain": [
       "Generate report structure:   0%|          | 0/1 [00:00<?, ?it/s]"
      ]
     },
     "metadata": {},
     "output_type": "display_data"
    },
    {
     "data": {
      "application/vnd.jupyter.widget-view+json": {
       "model_id": "0fdd9f819e9f4666b48909d821ba5535",
       "version_major": 2,
       "version_minor": 0
      },
      "text/plain": [
       "Render widgets:   0%|          | 0/1 [00:00<?, ?it/s]"
      ]
     },
     "metadata": {},
     "output_type": "display_data"
    },
    {
     "data": {
      "application/vnd.jupyter.widget-view+json": {
       "model_id": "fa4887ba3eed4919a627c12fb2c2b986",
       "version_major": 2,
       "version_minor": 0
      },
      "text/plain": [
       "VBox(children=(Tab(children=(Tab(children=(GridBox(children=(VBox(children=(GridspecLayout(children=(HTML(valu…"
      ]
     },
     "metadata": {},
     "output_type": "display_data"
    }
   ],
   "source": [
    "df_202412_profile.to_widgets()"
   ]
  }
 ],
 "metadata": {
  "kernelspec": {
   "display_name": ".venv",
   "language": "python",
   "name": "python3"
  },
  "language_info": {
   "codemirror_mode": {
    "name": "ipython",
    "version": 3
   },
   "file_extension": ".py",
   "mimetype": "text/x-python",
   "name": "python",
   "nbconvert_exporter": "python",
   "pygments_lexer": "ipython3",
   "version": "3.10.7"
  }
 },
 "nbformat": 4,
 "nbformat_minor": 2
}
