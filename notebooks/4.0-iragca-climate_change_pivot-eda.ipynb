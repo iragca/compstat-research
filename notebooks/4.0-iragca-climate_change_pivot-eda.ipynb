{
 "cells": [
  {
   "cell_type": "code",
   "execution_count": 5,
   "metadata": {},
   "outputs": [],
   "source": [
    "import polars as pl\n",
    "\n",
    "from ydata_profiling import ProfileReport\n",
    "\n",
    "from compstat_research.config import PROCESSED_DATA_DIR, REPORTS_DIR"
   ]
  },
  {
   "cell_type": "code",
   "execution_count": 2,
   "metadata": {},
   "outputs": [
    {
     "data": {
      "text/html": [
       "<div><style>\n",
       ".dataframe > thead > tr,\n",
       ".dataframe > tbody > tr {\n",
       "  text-align: right;\n",
       "  white-space: pre-wrap;\n",
       "}\n",
       "</style>\n",
       "<small>shape: (64, 39)</small><table border=\"1\" class=\"dataframe\"><thead><tr><th>Year</th><th>Agricultural land (sq. km)</th><th>Agricultural land (% of land area)</th><th>Arable land (% of land area)</th><th>Rural land area where elevation is below 5 meters (sq. km)</th><th>Rural land area where elevation is below 5 meters (% of total land area)</th><th>Urban land area where elevation is below 5 meters (sq. km)</th><th>Urban land area where elevation is below 5 meters (% of total land area)</th><th>Land area where elevation is below 5 meters (% of total land area)</th><th>Forest area (sq. km)</th><th>Forest area (% of land area)</th><th>Agricultural irrigated land (% of total agricultural land)</th><th>Average precipitation in depth (mm per year)</th><th>Cereal yield (kg per hectare)</th><th>Foreign direct investment, net inflows (% of GDP)</th><th>Access to electricity (% of population)</th><th>Renewable energy consumption (% of total final energy consumption)</th><th>Droughts, floods, extreme temperatures (% of population, average 1990-2009)</th><th>Rural population living in areas where elevation is below 5 meters (% of total population)</th><th>Urban population living in areas where elevation is below 5 meters (% of total population)</th><th>Population living in areas where elevation is below 5 meters (% of total population)</th><th>Population in urban agglomerations of more than 1 million (% of total population)</th><th>Annual freshwater withdrawals, total (billion cubic meters)</th><th>Annual freshwater withdrawals, total (% of internal resources)</th><th>Terrestrial protected areas (% of total land area)</th><th>Marine protected areas (% of territorial waters)</th><th>Terrestrial and marine protected areas (% of total territorial area)</th><th>Ease of doing business rank (1=most business-friendly regulations)</th><th>Agriculture, forestry, and fishing, value added (% of GDP)</th><th>School enrollment, primary and secondary (gross), gender parity index (GPI)</th><th>Primary completion rate, total (% of relevant age group)</th><th>Mortality rate, under-5 (per 1,000 live births)</th><th>Prevalence of underweight, weight for age (% of children under 5)</th><th>Poverty headcount ratio at $2.15 a day (2017 PPP) (% of population)</th><th>Population growth (annual %)</th><th>Population, total</th><th>Urban population growth (annual %)</th><th>Urban population</th><th>Urban population (% of total population)</th></tr><tr><td>i64</td><td>f64</td><td>f64</td><td>f64</td><td>f64</td><td>f64</td><td>f64</td><td>f64</td><td>f64</td><td>f64</td><td>f64</td><td>f64</td><td>f64</td><td>f64</td><td>f64</td><td>f64</td><td>f64</td><td>f64</td><td>f64</td><td>f64</td><td>f64</td><td>f64</td><td>f64</td><td>f64</td><td>f64</td><td>f64</td><td>f64</td><td>f64</td><td>f64</td><td>f64</td><td>f64</td><td>f64</td><td>f64</td><td>f64</td><td>f64</td><td>f64</td><td>f64</td><td>f64</td><td>f64</td></tr></thead><tbody><tr><td>2021</td><td>126830.0</td><td>42.536137</td><td>18.747694</td><td>null</td><td>null</td><td>null</td><td>null</td><td>null</td><td>72234.8</td><td>24.226046</td><td>null</td><td>2348.0</td><td>3834.8</td><td>3.040789</td><td>97.5</td><td>28.0</td><td>null</td><td>null</td><td>null</td><td>null</td><td>14.168735</td><td>89.000364</td><td>18.580452</td><td>15.86869</td><td>1.744404</td><td>3.722085</td><td>null</td><td>10.069164</td><td>1.026121</td><td>91.101982</td><td>27.9</td><td>16.7</td><td>3.0</td><td>0.90566</td><td>1.1310095e8</td><td>1.486152</td><td>5.3931057e7</td><td>47.684</td></tr><tr><td>2020</td><td>126590.0</td><td>42.455646</td><td>18.747694</td><td>null</td><td>null</td><td>null</td><td>null</td><td>null</td><td>71885.9</td><td>24.109032</td><td>null</td><td>2348.0</td><td>3769.4</td><td>1.885864</td><td>96.4</td><td>29.1</td><td>null</td><td>null</td><td>null</td><td>null</td><td>14.051324</td><td>87.477269</td><td>18.262478</td><td>15.37247</td><td>1.159064</td><td>3.149224</td><td>null</td><td>10.185311</td><td>1.02387</td><td>98.112625</td><td>28.0</td><td>null</td><td>null</td><td>1.145514</td><td>1.12081264e8</td><td>1.693334</td><td>5.3135486e7</td><td>47.408</td></tr><tr><td>2019</td><td>126360.0</td><td>42.378509</td><td>18.747694</td><td>null</td><td>null</td><td>null</td><td>null</td><td>null</td><td>71537.0</td><td>23.992018</td><td>null</td><td>2348.0</td><td>3737.9</td><td>2.301175</td><td>95.3</td><td>26.9</td><td>null</td><td>null</td><td>null</td><td>null</td><td>13.973986</td><td>85.994514</td><td>17.952926</td><td>15.37247</td><td>1.159064</td><td>3.149224</td><td>95.0</td><td>8.820324</td><td>1.025195</td><td>101.023819</td><td>28.0</td><td>18.9</td><td>null</td><td>1.216155</td><td>1.10804683e8</td><td>1.730744</td><td>5.22433e7</td><td>47.149</td></tr><tr><td>2018</td><td>126130.0</td><td>42.301372</td><td>18.747694</td><td>null</td><td>null</td><td>null</td><td>null</td><td>null</td><td>71188.1</td><td>23.875004</td><td>null</td><td>2348.0</td><td>3670.5</td><td>2.868338</td><td>94.2</td><td>27.6</td><td>null</td><td>null</td><td>null</td><td>null</td><td>13.910755</td><td>92.157811</td><td>19.239626</td><td>15.316659</td><td>1.159063</td><td>3.141408</td><td>null</td><td>9.65014</td><td>1.025809</td><td>110.882187</td><td>28.0</td><td>19.0</td><td>3.0</td><td>1.23686</td><td>1.09465287e8</td><td>1.717687</td><td>5.1346882e7</td><td>46.907</td></tr><tr><td>2017</td><td>125900.0</td><td>42.224234</td><td>18.747694</td><td>null</td><td>null</td><td>null</td><td>null</td><td>null</td><td>70839.3</td><td>23.758024</td><td>null</td><td>2348.0</td><td>3692.3</td><td>3.122388</td><td>93.0</td><td>27.8</td><td>null</td><td>null</td><td>null</td><td>null</td><td>13.852652</td><td>91.79128</td><td>19.163106</td><td>15.316659</td><td>1.159063</td><td>3.141408</td><td>null</td><td>10.182954</td><td>1.01849</td><td>104.436455</td><td>27.9</td><td>null</td><td>null</td><td>1.288302</td><td>1.08119693e8</td><td>1.732714</td><td>5.0472435e7</td><td>46.682</td></tr><tr><td>&hellip;</td><td>&hellip;</td><td>&hellip;</td><td>&hellip;</td><td>&hellip;</td><td>&hellip;</td><td>&hellip;</td><td>&hellip;</td><td>&hellip;</td><td>&hellip;</td><td>&hellip;</td><td>&hellip;</td><td>&hellip;</td><td>&hellip;</td><td>&hellip;</td><td>&hellip;</td><td>&hellip;</td><td>&hellip;</td><td>&hellip;</td><td>&hellip;</td><td>&hellip;</td><td>&hellip;</td><td>&hellip;</td><td>&hellip;</td><td>&hellip;</td><td>&hellip;</td><td>&hellip;</td><td>&hellip;</td><td>&hellip;</td><td>&hellip;</td><td>&hellip;</td><td>&hellip;</td><td>&hellip;</td><td>&hellip;</td><td>&hellip;</td><td>&hellip;</td><td>&hellip;</td><td>&hellip;</td><td>&hellip;</td></tr><tr><td>1962</td><td>77920.0</td><td>26.124858</td><td>16.361564</td><td>null</td><td>null</td><td>null</td><td>null</td><td>null</td><td>null</td><td>null</td><td>null</td><td>2348.0</td><td>1025.3</td><td>null</td><td>null</td><td>null</td><td>null</td><td>null</td><td>null</td><td>null</td><td>9.211286</td><td>null</td><td>null</td><td>null</td><td>null</td><td>null</td><td>null</td><td>23.805024</td><td>null</td><td>null</td><td>96.3</td><td>null</td><td>null</td><td>3.182005</td><td>2.9723536e7</td><td>4.03258</td><td>9.159605e6</td><td>30.816</td></tr><tr><td>1961</td><td>77130.0</td><td>25.859988</td><td>16.431972</td><td>null</td><td>null</td><td>null</td><td>null</td><td>null</td><td>null</td><td>null</td><td>null</td><td>2348.0</td><td>996.3</td><td>null</td><td>null</td><td>null</td><td>null</td><td>null</td><td>null</td><td>null</td><td>9.093618</td><td>null</td><td>null</td><td>null</td><td>null</td><td>null</td><td>null</td><td>23.645382</td><td>null</td><td>null</td><td>98.9</td><td>null</td><td>null</td><td>3.178292</td><td>2.8792621e7</td><td>4.026253</td><td>8.797585e6</td><td>30.555</td></tr><tr><td>2022</td><td>null</td><td>42.536137</td><td>18.747694</td><td>null</td><td>null</td><td>null</td><td>null</td><td>null</td><td>72583.7</td><td>24.343059</td><td>null</td><td>null</td><td>3821.6</td><td>2.34751</td><td>94.8</td><td>null</td><td>null</td><td>null</td><td>null</td><td>null</td><td>14.314811</td><td>null</td><td>null</td><td>15.86869</td><td>1.744404</td><td>3.722085</td><td>null</td><td>9.551768</td><td>null</td><td>87.982689</td><td>27.5</td><td>null</td><td>null</td><td>0.760479</td><td>1.13964338e8</td><td>1.37306</td><td>5.467667e7</td><td>47.977</td></tr><tr><td>2023</td><td>null</td><td>null</td><td>null</td><td>null</td><td>null</td><td>null</td><td>null</td><td>null</td><td>null</td><td>null</td><td>null</td><td>null</td><td>null</td><td>2.085411</td><td>null</td><td>null</td><td>null</td><td>null</td><td>null</td><td>null</td><td>14.462804</td><td>null</td><td>null</td><td>null</td><td>null</td><td>null</td><td>null</td><td>9.39675</td><td>null</td><td>80.705971</td><td>null</td><td>null</td><td>null</td><td>0.810001</td><td>1.14891199e8</td><td>1.454066</td><td>5.5477513e7</td><td>48.287</td></tr><tr><td>1960</td><td>null</td><td>null</td><td>null</td><td>null</td><td>null</td><td>null</td><td>null</td><td>null</td><td>null</td><td>null</td><td>null</td><td>null</td><td>null</td><td>null</td><td>null</td><td>null</td><td>null</td><td>null</td><td>null</td><td>null</td><td>8.977754</td><td>null</td><td>null</td><td>null</td><td>null</td><td>null</td><td>null</td><td>23.708189</td><td>null</td><td>null</td><td>102.0</td><td>null</td><td>null</td><td>null</td><td>2.7891897e7</td><td>null</td><td>8.450408e6</td><td>30.297</td></tr></tbody></table></div>"
      ],
      "text/plain": [
       "shape: (64, 39)\n",
       "┌──────┬────────────┬────────────┬────────────┬───┬────────────┬───────────┬───────────┬───────────┐\n",
       "│ Year ┆ Agricultur ┆ Agricultur ┆ Arable     ┆ … ┆ Population ┆ Urban pop ┆ Urban pop ┆ Urban pop │\n",
       "│ ---  ┆ al land    ┆ al land (% ┆ land (% of ┆   ┆ , total    ┆ ulation   ┆ ulation   ┆ ulation   │\n",
       "│ i64  ┆ (sq. km)   ┆ of land a… ┆ land area) ┆   ┆ ---        ┆ growth    ┆ ---       ┆ (% of     │\n",
       "│      ┆ ---        ┆ ---        ┆ ---        ┆   ┆ f64        ┆ (annua…   ┆ f64       ┆ total p…  │\n",
       "│      ┆ f64        ┆ f64        ┆ f64        ┆   ┆            ┆ ---       ┆           ┆ ---       │\n",
       "│      ┆            ┆            ┆            ┆   ┆            ┆ f64       ┆           ┆ f64       │\n",
       "╞══════╪════════════╪════════════╪════════════╪═══╪════════════╪═══════════╪═══════════╪═══════════╡\n",
       "│ 2021 ┆ 126830.0   ┆ 42.536137  ┆ 18.747694  ┆ … ┆ 1.1310095e ┆ 1.486152  ┆ 5.3931057 ┆ 47.684    │\n",
       "│      ┆            ┆            ┆            ┆   ┆ 8          ┆           ┆ e7        ┆           │\n",
       "│ 2020 ┆ 126590.0   ┆ 42.455646  ┆ 18.747694  ┆ … ┆ 1.12081264 ┆ 1.693334  ┆ 5.3135486 ┆ 47.408    │\n",
       "│      ┆            ┆            ┆            ┆   ┆ e8         ┆           ┆ e7        ┆           │\n",
       "│ 2019 ┆ 126360.0   ┆ 42.378509  ┆ 18.747694  ┆ … ┆ 1.10804683 ┆ 1.730744  ┆ 5.22433e7 ┆ 47.149    │\n",
       "│      ┆            ┆            ┆            ┆   ┆ e8         ┆           ┆           ┆           │\n",
       "│ 2018 ┆ 126130.0   ┆ 42.301372  ┆ 18.747694  ┆ … ┆ 1.09465287 ┆ 1.717687  ┆ 5.1346882 ┆ 46.907    │\n",
       "│      ┆            ┆            ┆            ┆   ┆ e8         ┆           ┆ e7        ┆           │\n",
       "│ 2017 ┆ 125900.0   ┆ 42.224234  ┆ 18.747694  ┆ … ┆ 1.08119693 ┆ 1.732714  ┆ 5.0472435 ┆ 46.682    │\n",
       "│      ┆            ┆            ┆            ┆   ┆ e8         ┆           ┆ e7        ┆           │\n",
       "│ …    ┆ …          ┆ …          ┆ …          ┆ … ┆ …          ┆ …         ┆ …         ┆ …         │\n",
       "│ 1962 ┆ 77920.0    ┆ 26.124858  ┆ 16.361564  ┆ … ┆ 2.9723536e ┆ 4.03258   ┆ 9.159605e ┆ 30.816    │\n",
       "│      ┆            ┆            ┆            ┆   ┆ 7          ┆           ┆ 6         ┆           │\n",
       "│ 1961 ┆ 77130.0    ┆ 25.859988  ┆ 16.431972  ┆ … ┆ 2.8792621e ┆ 4.026253  ┆ 8.797585e ┆ 30.555    │\n",
       "│      ┆            ┆            ┆            ┆   ┆ 7          ┆           ┆ 6         ┆           │\n",
       "│ 2022 ┆ null       ┆ 42.536137  ┆ 18.747694  ┆ … ┆ 1.13964338 ┆ 1.37306   ┆ 5.467667e ┆ 47.977    │\n",
       "│      ┆            ┆            ┆            ┆   ┆ e8         ┆           ┆ 7         ┆           │\n",
       "│ 2023 ┆ null       ┆ null       ┆ null       ┆ … ┆ 1.14891199 ┆ 1.454066  ┆ 5.5477513 ┆ 48.287    │\n",
       "│      ┆            ┆            ┆            ┆   ┆ e8         ┆           ┆ e7        ┆           │\n",
       "│ 1960 ┆ null       ┆ null       ┆ null       ┆ … ┆ 2.7891897e ┆ null      ┆ 8.450408e ┆ 30.297    │\n",
       "│      ┆            ┆            ┆            ┆   ┆ 7          ┆           ┆ 6         ┆           │\n",
       "└──────┴────────────┴────────────┴────────────┴───┴────────────┴───────────┴───────────┴───────────┘"
      ]
     },
     "execution_count": 2,
     "metadata": {},
     "output_type": "execute_result"
    }
   ],
   "source": [
    "data = pl.read_csv(PROCESSED_DATA_DIR / \"climate_change_pivot.csv\")\n",
    "data"
   ]
  },
  {
   "cell_type": "code",
   "execution_count": 4,
   "metadata": {},
   "outputs": [],
   "source": [
    "# Turn the data into a profile \n",
    "profile = ProfileReport(data.to_pandas(), title=\"Climate Change\")"
   ]
  },
  {
   "cell_type": "code",
   "execution_count": 6,
   "metadata": {},
   "outputs": [
    {
     "data": {
      "application/vnd.jupyter.widget-view+json": {
       "model_id": "6ed72f98d7f34f2db1ccd642016eb487",
       "version_major": 2,
       "version_minor": 0
      },
      "text/plain": [
       "Summarize dataset:   0%|          | 0/5 [00:00<?, ?it/s]"
      ]
     },
     "metadata": {},
     "output_type": "display_data"
    },
    {
     "data": {
      "application/vnd.jupyter.widget-view+json": {
       "model_id": "36107443e38b4a059cac7f1a39c7b193",
       "version_major": 2,
       "version_minor": 0
      },
      "text/plain": [
       "Generate report structure:   0%|          | 0/1 [00:00<?, ?it/s]"
      ]
     },
     "metadata": {},
     "output_type": "display_data"
    },
    {
     "data": {
      "application/vnd.jupyter.widget-view+json": {
       "model_id": "a0f6d6dc1e334d9e80c0f7f1d94aa1be",
       "version_major": 2,
       "version_minor": 0
      },
      "text/plain": [
       "Render widgets:   0%|          | 0/1 [00:00<?, ?it/s]"
      ]
     },
     "metadata": {},
     "output_type": "display_data"
    },
    {
     "data": {
      "application/vnd.jupyter.widget-view+json": {
       "model_id": "93915b7cb0fa4f5bb771717e94f1e599",
       "version_major": 2,
       "version_minor": 0
      },
      "text/plain": [
       "VBox(children=(Tab(children=(Tab(children=(GridBox(children=(VBox(children=(GridspecLayout(children=(HTML(valu…"
      ]
     },
     "metadata": {},
     "output_type": "display_data"
    }
   ],
   "source": [
    "# Use a widget to display the profile\n",
    "profile.to_widgets()"
   ]
  },
  {
   "cell_type": "code",
   "execution_count": 7,
   "metadata": {},
   "outputs": [
    {
     "data": {
      "application/vnd.jupyter.widget-view+json": {
       "model_id": "10722c7ab78249068e86b0934aae2189",
       "version_major": 2,
       "version_minor": 0
      },
      "text/plain": [
       "Render HTML:   0%|          | 0/1 [00:00<?, ?it/s]"
      ]
     },
     "metadata": {},
     "output_type": "display_data"
    },
    {
     "data": {
      "application/vnd.jupyter.widget-view+json": {
       "model_id": "eb9cc408be204d3184ba51b213cd61cc",
       "version_major": 2,
       "version_minor": 0
      },
      "text/plain": [
       "Export report to file:   0%|          | 0/1 [00:00<?, ?it/s]"
      ]
     },
     "metadata": {},
     "output_type": "display_data"
    }
   ],
   "source": [
    "# Save the profile\n",
    "save_path = REPORTS_DIR / \"html\"\n",
    "\n",
    "if not save_path.exists():\n",
    "    save_path.mkdir()\n",
    "\n",
    "profile.to_file(save_path / \"climate_change_profile.html\")"
   ]
  }
 ],
 "metadata": {
  "kernelspec": {
   "display_name": ".venv",
   "language": "python",
   "name": "python3"
  },
  "language_info": {
   "codemirror_mode": {
    "name": "ipython",
    "version": 3
   },
   "file_extension": ".py",
   "mimetype": "text/x-python",
   "name": "python",
   "nbconvert_exporter": "python",
   "pygments_lexer": "ipython3",
   "version": "3.10.7"
  }
 },
 "nbformat": 4,
 "nbformat_minor": 2
}
