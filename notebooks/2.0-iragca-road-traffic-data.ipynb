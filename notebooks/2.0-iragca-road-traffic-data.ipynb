{
 "cells": [
  {
   "cell_type": "code",
   "execution_count": 1,
   "metadata": {},
   "outputs": [
    {
     "name": "stderr",
     "output_type": "stream",
     "text": [
      "\u001b[32m2025-02-05 12:04:28.963\u001b[0m | \u001b[1mINFO    \u001b[0m | \u001b[36mcompstat_research.config\u001b[0m:\u001b[36m<module>\u001b[0m:\u001b[36m11\u001b[0m - \u001b[1mPROJ_ROOT path is: D:\\Documents\\3 Production Save Files\\1 Cloned repositories\\compstat-research\u001b[0m\n"
     ]
    }
   ],
   "source": [
    "import polars as pl\n",
    "\n",
    "from ydata_profiling import ProfileReport\n",
    "\n",
    "from compstat_research.config import EXTERNAL_DATA_DIR\n",
    "\n",
    "data_path = EXTERNAL_DATA_DIR / \"kaggle\" / \"dft_traffic_counts_raw_counts\""
   ]
  },
  {
   "cell_type": "code",
   "execution_count": 2,
   "metadata": {},
   "outputs": [
    {
     "data": {
      "text/html": [
       "<div><style>\n",
       ".dataframe > thead > tr,\n",
       ".dataframe > tbody > tr {\n",
       "  text-align: right;\n",
       "  white-space: pre-wrap;\n",
       "}\n",
       "</style>\n",
       "<small>shape: (4_337_136, 32)</small><table border=\"1\" class=\"dataframe\"><thead><tr><th>count_point_id</th><th>direction_of_travel</th><th>year</th><th>count_date</th><th>hour</th><th>region_id</th><th>region_name</th><th>local_authority_id</th><th>local_authority_name</th><th>road_name</th><th>road_type</th><th>start_junction_road_name</th><th>end_junction_road_name</th><th>easting</th><th>northing</th><th>latitude</th><th>longitude</th><th>link_length_km</th><th>link_length_miles</th><th>pedal_cycles</th><th>two_wheeled_motor_vehicles</th><th>cars_and_taxis</th><th>buses_and_coaches</th><th>lgvs</th><th>hgvs_2_rigid_axle</th><th>hgvs_3_rigid_axle</th><th>hgvs_4_or_more_rigid_axle</th><th>hgvs_3_or_4_articulated_axle</th><th>hgvs_5_articulated_axle</th><th>hgvs_6_articulated_axle</th><th>all_hgvs</th><th>all_motor_vehicles</th></tr><tr><td>i64</td><td>str</td><td>i64</td><td>str</td><td>i64</td><td>i64</td><td>str</td><td>i64</td><td>str</td><td>str</td><td>str</td><td>str</td><td>str</td><td>i64</td><td>i64</td><td>f64</td><td>f64</td><td>f64</td><td>f64</td><td>i64</td><td>i64</td><td>i64</td><td>i64</td><td>i64</td><td>i64</td><td>i64</td><td>i64</td><td>i64</td><td>i64</td><td>i64</td><td>i64</td><td>i64</td></tr></thead><tbody><tr><td>52</td><td>&quot;E&quot;</td><td>2019</td><td>&quot;2019-09-06&quot;</td><td>17</td><td>1</td><td>&quot;South West&quot;</td><td>1</td><td>&quot;Isles of Scilly&quot;</td><td>&quot;A3112&quot;</td><td>&quot;Major&quot;</td><td>&quot;A3111&quot;</td><td>&quot;A3110&quot;</td><td>91203</td><td>10217</td><td>49.912239</td><td>-6.302848</td><td>2.0</td><td>1.24</td><td>6</td><td>1</td><td>16</td><td>0</td><td>8</td><td>0</td><td>0</td><td>0</td><td>0</td><td>0</td><td>0</td><td>0</td><td>25</td></tr><tr><td>52</td><td>&quot;E&quot;</td><td>2019</td><td>&quot;2019-09-06&quot;</td><td>12</td><td>1</td><td>&quot;South West&quot;</td><td>1</td><td>&quot;Isles of Scilly&quot;</td><td>&quot;A3112&quot;</td><td>&quot;Major&quot;</td><td>&quot;A3111&quot;</td><td>&quot;A3110&quot;</td><td>91203</td><td>10217</td><td>49.912239</td><td>-6.302848</td><td>2.0</td><td>1.24</td><td>9</td><td>1</td><td>28</td><td>0</td><td>8</td><td>0</td><td>0</td><td>0</td><td>0</td><td>0</td><td>0</td><td>0</td><td>37</td></tr><tr><td>52</td><td>&quot;E&quot;</td><td>2019</td><td>&quot;2019-09-06&quot;</td><td>14</td><td>1</td><td>&quot;South West&quot;</td><td>1</td><td>&quot;Isles of Scilly&quot;</td><td>&quot;A3112&quot;</td><td>&quot;Major&quot;</td><td>&quot;A3111&quot;</td><td>&quot;A3110&quot;</td><td>91203</td><td>10217</td><td>49.912239</td><td>-6.302848</td><td>2.0</td><td>1.24</td><td>7</td><td>0</td><td>18</td><td>0</td><td>9</td><td>0</td><td>0</td><td>0</td><td>0</td><td>0</td><td>0</td><td>0</td><td>27</td></tr><tr><td>52</td><td>&quot;W&quot;</td><td>2019</td><td>&quot;2019-09-06&quot;</td><td>14</td><td>1</td><td>&quot;South West&quot;</td><td>1</td><td>&quot;Isles of Scilly&quot;</td><td>&quot;A3112&quot;</td><td>&quot;Major&quot;</td><td>&quot;A3111&quot;</td><td>&quot;A3110&quot;</td><td>91203</td><td>10217</td><td>49.912239</td><td>-6.302848</td><td>2.0</td><td>1.24</td><td>3</td><td>1</td><td>20</td><td>1</td><td>11</td><td>0</td><td>0</td><td>0</td><td>0</td><td>0</td><td>0</td><td>0</td><td>33</td></tr><tr><td>52</td><td>&quot;W&quot;</td><td>2019</td><td>&quot;2019-09-06&quot;</td><td>12</td><td>1</td><td>&quot;South West&quot;</td><td>1</td><td>&quot;Isles of Scilly&quot;</td><td>&quot;A3112&quot;</td><td>&quot;Major&quot;</td><td>&quot;A3111&quot;</td><td>&quot;A3110&quot;</td><td>91203</td><td>10217</td><td>49.912239</td><td>-6.302848</td><td>2.0</td><td>1.24</td><td>3</td><td>0</td><td>19</td><td>1</td><td>9</td><td>0</td><td>0</td><td>0</td><td>0</td><td>0</td><td>0</td><td>0</td><td>29</td></tr><tr><td>&hellip;</td><td>&hellip;</td><td>&hellip;</td><td>&hellip;</td><td>&hellip;</td><td>&hellip;</td><td>&hellip;</td><td>&hellip;</td><td>&hellip;</td><td>&hellip;</td><td>&hellip;</td><td>&hellip;</td><td>&hellip;</td><td>&hellip;</td><td>&hellip;</td><td>&hellip;</td><td>&hellip;</td><td>&hellip;</td><td>&hellip;</td><td>&hellip;</td><td>&hellip;</td><td>&hellip;</td><td>&hellip;</td><td>&hellip;</td><td>&hellip;</td><td>&hellip;</td><td>&hellip;</td><td>&hellip;</td><td>&hellip;</td><td>&hellip;</td><td>&hellip;</td><td>&hellip;</td></tr><tr><td>997144</td><td>&quot;S&quot;</td><td>2000</td><td>&quot;2000-10-06&quot;</td><td>14</td><td>11</td><td>&quot;North East&quot;</td><td>170</td><td>&quot;Middlesbrough&quot;</td><td>&quot;C&quot;</td><td>&quot;Minor&quot;</td><td>&quot;&quot;</td><td>&quot;&quot;</td><td>452611</td><td>515111</td><td>54.528559</td><td>-1.18858</td><td>null</td><td>null</td><td>1</td><td>1</td><td>217</td><td>7</td><td>12</td><td>4</td><td>1</td><td>0</td><td>0</td><td>0</td><td>0</td><td>5</td><td>242</td></tr><tr><td>997144</td><td>&quot;S&quot;</td><td>2000</td><td>&quot;2000-10-06&quot;</td><td>15</td><td>11</td><td>&quot;North East&quot;</td><td>170</td><td>&quot;Middlesbrough&quot;</td><td>&quot;C&quot;</td><td>&quot;Minor&quot;</td><td>&quot;&quot;</td><td>&quot;&quot;</td><td>452611</td><td>515111</td><td>54.528559</td><td>-1.18858</td><td>null</td><td>null</td><td>2</td><td>2</td><td>256</td><td>6</td><td>22</td><td>2</td><td>0</td><td>0</td><td>0</td><td>0</td><td>0</td><td>2</td><td>288</td></tr><tr><td>997144</td><td>&quot;S&quot;</td><td>2000</td><td>&quot;2000-10-06&quot;</td><td>16</td><td>11</td><td>&quot;North East&quot;</td><td>170</td><td>&quot;Middlesbrough&quot;</td><td>&quot;C&quot;</td><td>&quot;Minor&quot;</td><td>&quot;&quot;</td><td>&quot;&quot;</td><td>452611</td><td>515111</td><td>54.528559</td><td>-1.18858</td><td>null</td><td>null</td><td>0</td><td>3</td><td>245</td><td>8</td><td>14</td><td>3</td><td>0</td><td>0</td><td>0</td><td>0</td><td>0</td><td>3</td><td>273</td></tr><tr><td>997144</td><td>&quot;S&quot;</td><td>2000</td><td>&quot;2000-10-06&quot;</td><td>17</td><td>11</td><td>&quot;North East&quot;</td><td>170</td><td>&quot;Middlesbrough&quot;</td><td>&quot;C&quot;</td><td>&quot;Minor&quot;</td><td>&quot;&quot;</td><td>&quot;&quot;</td><td>452611</td><td>515111</td><td>54.528559</td><td>-1.18858</td><td>null</td><td>null</td><td>1</td><td>3</td><td>248</td><td>6</td><td>22</td><td>1</td><td>0</td><td>0</td><td>0</td><td>0</td><td>0</td><td>1</td><td>280</td></tr><tr><td>997144</td><td>&quot;S&quot;</td><td>2000</td><td>&quot;2000-10-06&quot;</td><td>18</td><td>11</td><td>&quot;North East&quot;</td><td>170</td><td>&quot;Middlesbrough&quot;</td><td>&quot;C&quot;</td><td>&quot;Minor&quot;</td><td>&quot;&quot;</td><td>&quot;&quot;</td><td>452611</td><td>515111</td><td>54.528559</td><td>-1.18858</td><td>null</td><td>null</td><td>0</td><td>0</td><td>349</td><td>5</td><td>15</td><td>1</td><td>0</td><td>0</td><td>0</td><td>0</td><td>0</td><td>1</td><td>370</td></tr></tbody></table></div>"
      ],
      "text/plain": [
       "shape: (4_337_136, 32)\n",
       "┌────────────┬────────────┬──────┬────────────┬───┬────────────┬────────────┬──────────┬───────────┐\n",
       "│ count_poin ┆ direction_ ┆ year ┆ count_date ┆ … ┆ hgvs_5_art ┆ hgvs_6_art ┆ all_hgvs ┆ all_motor │\n",
       "│ t_id       ┆ of_travel  ┆ ---  ┆ ---        ┆   ┆ iculated_a ┆ iculated_a ┆ ---      ┆ _vehicles │\n",
       "│ ---        ┆ ---        ┆ i64  ┆ str        ┆   ┆ xle        ┆ xle        ┆ i64      ┆ ---       │\n",
       "│ i64        ┆ str        ┆      ┆            ┆   ┆ ---        ┆ ---        ┆          ┆ i64       │\n",
       "│            ┆            ┆      ┆            ┆   ┆ i64        ┆ i64        ┆          ┆           │\n",
       "╞════════════╪════════════╪══════╪════════════╪═══╪════════════╪════════════╪══════════╪═══════════╡\n",
       "│ 52         ┆ E          ┆ 2019 ┆ 2019-09-06 ┆ … ┆ 0          ┆ 0          ┆ 0        ┆ 25        │\n",
       "│ 52         ┆ E          ┆ 2019 ┆ 2019-09-06 ┆ … ┆ 0          ┆ 0          ┆ 0        ┆ 37        │\n",
       "│ 52         ┆ E          ┆ 2019 ┆ 2019-09-06 ┆ … ┆ 0          ┆ 0          ┆ 0        ┆ 27        │\n",
       "│ 52         ┆ W          ┆ 2019 ┆ 2019-09-06 ┆ … ┆ 0          ┆ 0          ┆ 0        ┆ 33        │\n",
       "│ 52         ┆ W          ┆ 2019 ┆ 2019-09-06 ┆ … ┆ 0          ┆ 0          ┆ 0        ┆ 29        │\n",
       "│ …          ┆ …          ┆ …    ┆ …          ┆ … ┆ …          ┆ …          ┆ …        ┆ …         │\n",
       "│ 997144     ┆ S          ┆ 2000 ┆ 2000-10-06 ┆ … ┆ 0          ┆ 0          ┆ 5        ┆ 242       │\n",
       "│ 997144     ┆ S          ┆ 2000 ┆ 2000-10-06 ┆ … ┆ 0          ┆ 0          ┆ 2        ┆ 288       │\n",
       "│ 997144     ┆ S          ┆ 2000 ┆ 2000-10-06 ┆ … ┆ 0          ┆ 0          ┆ 3        ┆ 273       │\n",
       "│ 997144     ┆ S          ┆ 2000 ┆ 2000-10-06 ┆ … ┆ 0          ┆ 0          ┆ 1        ┆ 280       │\n",
       "│ 997144     ┆ S          ┆ 2000 ┆ 2000-10-06 ┆ … ┆ 0          ┆ 0          ┆ 1        ┆ 370       │\n",
       "└────────────┴────────────┴──────┴────────────┴───┴────────────┴────────────┴──────────┴───────────┘"
      ]
     },
     "execution_count": 2,
     "metadata": {},
     "output_type": "execute_result"
    }
   ],
   "source": [
    "dft = pl.read_csv(data_path / \"dft_traffic_counts_raw_counts.csv\", ignore_errors=True)\n",
    "dft"
   ]
  },
  {
   "cell_type": "code",
   "execution_count": 3,
   "metadata": {},
   "outputs": [
    {
     "data": {
      "text/html": [
       "<div><style>\n",
       ".dataframe > thead > tr,\n",
       ".dataframe > tbody > tr {\n",
       "  text-align: right;\n",
       "  white-space: pre-wrap;\n",
       "}\n",
       "</style>\n",
       "<small>shape: (9, 33)</small><table border=\"1\" class=\"dataframe\"><thead><tr><th>statistic</th><th>count_point_id</th><th>direction_of_travel</th><th>year</th><th>count_date</th><th>hour</th><th>region_id</th><th>region_name</th><th>local_authority_id</th><th>local_authority_name</th><th>road_name</th><th>road_type</th><th>start_junction_road_name</th><th>end_junction_road_name</th><th>easting</th><th>northing</th><th>latitude</th><th>longitude</th><th>link_length_km</th><th>link_length_miles</th><th>pedal_cycles</th><th>two_wheeled_motor_vehicles</th><th>cars_and_taxis</th><th>buses_and_coaches</th><th>lgvs</th><th>hgvs_2_rigid_axle</th><th>hgvs_3_rigid_axle</th><th>hgvs_4_or_more_rigid_axle</th><th>hgvs_3_or_4_articulated_axle</th><th>hgvs_5_articulated_axle</th><th>hgvs_6_articulated_axle</th><th>all_hgvs</th><th>all_motor_vehicles</th></tr><tr><td>str</td><td>f64</td><td>str</td><td>f64</td><td>str</td><td>f64</td><td>f64</td><td>str</td><td>f64</td><td>str</td><td>str</td><td>str</td><td>str</td><td>str</td><td>f64</td><td>f64</td><td>f64</td><td>f64</td><td>f64</td><td>f64</td><td>f64</td><td>f64</td><td>f64</td><td>f64</td><td>f64</td><td>f64</td><td>f64</td><td>f64</td><td>f64</td><td>f64</td><td>f64</td><td>f64</td><td>f64</td></tr></thead><tbody><tr><td>&quot;count&quot;</td><td>4.337136e6</td><td>&quot;4337136&quot;</td><td>4.337136e6</td><td>&quot;4337136&quot;</td><td>4.337136e6</td><td>4.337136e6</td><td>&quot;4337136&quot;</td><td>4.337136e6</td><td>&quot;4337136&quot;</td><td>&quot;4337136&quot;</td><td>&quot;4337136&quot;</td><td>&quot;4337136&quot;</td><td>&quot;4337136&quot;</td><td>4.337136e6</td><td>4.337136e6</td><td>4.337136e6</td><td>4.337136e6</td><td>1.970148e6</td><td>1.970148e6</td><td>4.337136e6</td><td>4.337136e6</td><td>4.337135e6</td><td>4.337131e6</td><td>4.337136e6</td><td>4.337132e6</td><td>4.337135e6</td><td>4.337134e6</td><td>4.337135e6</td><td>4.337136e6</td><td>4.337135e6</td><td>4.337127e6</td><td>4.337121e6</td></tr><tr><td>&quot;null_count&quot;</td><td>0.0</td><td>&quot;0&quot;</td><td>0.0</td><td>&quot;0&quot;</td><td>0.0</td><td>0.0</td><td>&quot;0&quot;</td><td>0.0</td><td>&quot;0&quot;</td><td>&quot;0&quot;</td><td>&quot;0&quot;</td><td>&quot;0&quot;</td><td>&quot;0&quot;</td><td>0.0</td><td>0.0</td><td>0.0</td><td>0.0</td><td>2.366988e6</td><td>2.366988e6</td><td>0.0</td><td>0.0</td><td>1.0</td><td>5.0</td><td>0.0</td><td>4.0</td><td>1.0</td><td>2.0</td><td>1.0</td><td>0.0</td><td>1.0</td><td>9.0</td><td>15.0</td></tr><tr><td>&quot;mean&quot;</td><td>529719.898771</td><td>null</td><td>2009.613832</td><td>null</td><td>12.499984</td><td>6.158748</td><td>null</td><td>102.52442</td><td>null</td><td>null</td><td>null</td><td>null</td><td>null</td><td>432524.813086</td><td>302569.08205</td><td>52.611426</td><td>-1.537796</td><td>3.700184</td><td>2.298968</td><td>2.815848</td><td>4.99059</td><td>422.507011</td><td>5.644446</td><td>72.642904</td><td>14.629263</td><td>2.407345</td><td>2.655058</td><td>2.164424</td><td>7.611798</td><td>7.745612</td><td>37.213542</td><td>542.999104</td></tr><tr><td>&quot;std&quot;</td><td>446013.433865</td><td>null</td><td>5.777505</td><td>null</td><td>3.452076</td><td>3.041423</td><td>null</td><td>52.094852</td><td>null</td><td>null</td><td>null</td><td>null</td><td>null</td><td>95731.308927</td><td>163037.840473</td><td>1.467568</td><td>1.407976</td><td>4.13522</td><td>2.569695</td><td>13.764592</td><td>14.171025</td><td>629.961338</td><td>11.245516</td><td>121.456593</td><td>30.863028</td><td>5.415965</td><td>6.850709</td><td>6.845025</td><td>27.406195</td><td>28.929624</td><td>93.505142</td><td>823.944687</td></tr><tr><td>&quot;min&quot;</td><td>51.0</td><td>&quot;C&quot;</td><td>2000.0</td><td>&quot;2000-03-17&quot;</td><td>0.0</td><td>1.0</td><td>&quot;East Midlands&quot;</td><td>1.0</td><td>&quot;Aberdeen City&quot;</td><td>&quot;A1&quot;</td><td>&quot;Major&quot;</td><td>&quot;&quot;</td><td>&quot;&quot;</td><td>70406.0</td><td>10217.0</td><td>49.912239</td><td>-7.443134</td><td>0.1</td><td>0.06</td><td>0.0</td><td>0.0</td><td>0.0</td><td>0.0</td><td>0.0</td><td>0.0</td><td>-3.0</td><td>0.0</td><td>0.0</td><td>0.0</td><td>0.0</td><td>0.0</td><td>0.0</td></tr><tr><td>&quot;25%&quot;</td><td>46201.0</td><td>null</td><td>2005.0</td><td>null</td><td>9.0</td><td>4.0</td><td>null</td><td>67.0</td><td>null</td><td>null</td><td>null</td><td>null</td><td>null</td><td>368000.0</td><td>178503.0</td><td>51.49284</td><td>-2.480397</td><td>1.1</td><td>0.68</td><td>0.0</td><td>0.0</td><td>43.0</td><td>0.0</td><td>7.0</td><td>0.0</td><td>0.0</td><td>0.0</td><td>0.0</td><td>0.0</td><td>0.0</td><td>1.0</td><td>54.0</td></tr><tr><td>&quot;50%&quot;</td><td>810150.0</td><td>null</td><td>2009.0</td><td>null</td><td>12.0</td><td>7.0</td><td>null</td><td>97.0</td><td>null</td><td>null</td><td>null</td><td>null</td><td>null</td><td>432840.0</td><td>275885.0</td><td>52.372898</td><td>-1.510037</td><td>2.3</td><td>1.43</td><td>0.0</td><td>1.0</td><td>195.0</td><td>2.0</td><td>29.0</td><td>3.0</td><td>0.0</td><td>0.0</td><td>0.0</td><td>0.0</td><td>0.0</td><td>5.0</td><td>244.0</td></tr><tr><td>&quot;75%&quot;</td><td>945789.0</td><td>null</td><td>2015.0</td><td>null</td><td>15.0</td><td>9.0</td><td>null</td><td>141.0</td><td>null</td><td>null</td><td>null</td><td>null</td><td>null</td><td>510540.0</td><td>396956.0</td><td>53.467509</td><td>-0.389845</td><td>4.7</td><td>2.92</td><td>2.0</td><td>5.0</td><td>522.0</td><td>7.0</td><td>82.0</td><td>14.0</td><td>2.0</td><td>2.0</td><td>1.0</td><td>2.0</td><td>2.0</td><td>27.0</td><td>656.0</td></tr><tr><td>&quot;max&quot;</td><td>9.99999e5</td><td>&quot;w&quot;</td><td>2019.0</td><td>&quot;2019-11-07&quot;</td><td>18.0</td><td>11.0</td><td>&quot;Yorkshire and The Humber&quot;</td><td>210.0</td><td>&quot;York&quot;</td><td>&quot;U&quot;</td><td>&quot;Minor&quot;</td><td>&quot;west end of Jn 46&quot;</td><td>&quot;trading estate roundabout nort…</td><td>655040.0</td><td>1.209448e6</td><td>60.763012</td><td>1.7545533</td><td>55.5</td><td>34.49</td><td>2207.0</td><td>768.0</td><td>9709.0</td><td>1425.0</td><td>5811.0</td><td>2327.0</td><td>290.0</td><td>796.0</td><td>927.0</td><td>1107.0</td><td>1430.0</td><td>2691.0</td><td>10905.0</td></tr></tbody></table></div>"
      ],
      "text/plain": [
       "shape: (9, 33)\n",
       "┌───────────┬───────────┬───────────┬───────────┬───┬───────────┬───────────┬───────────┬──────────┐\n",
       "│ statistic ┆ count_poi ┆ direction ┆ year      ┆ … ┆ hgvs_5_ar ┆ hgvs_6_ar ┆ all_hgvs  ┆ all_moto │\n",
       "│ ---       ┆ nt_id     ┆ _of_trave ┆ ---       ┆   ┆ ticulated ┆ ticulated ┆ ---       ┆ r_vehicl │\n",
       "│ str       ┆ ---       ┆ l         ┆ f64       ┆   ┆ _axle     ┆ _axle     ┆ f64       ┆ es       │\n",
       "│           ┆ f64       ┆ ---       ┆           ┆   ┆ ---       ┆ ---       ┆           ┆ ---      │\n",
       "│           ┆           ┆ str       ┆           ┆   ┆ f64       ┆ f64       ┆           ┆ f64      │\n",
       "╞═══════════╪═══════════╪═══════════╪═══════════╪═══╪═══════════╪═══════════╪═══════════╪══════════╡\n",
       "│ count     ┆ 4.337136e ┆ 4337136   ┆ 4.337136e ┆ … ┆ 4.337136e ┆ 4.337135e ┆ 4.337127e ┆ 4.337121 │\n",
       "│           ┆ 6         ┆           ┆ 6         ┆   ┆ 6         ┆ 6         ┆ 6         ┆ e6       │\n",
       "│ null_coun ┆ 0.0       ┆ 0         ┆ 0.0       ┆ … ┆ 0.0       ┆ 1.0       ┆ 9.0       ┆ 15.0     │\n",
       "│ t         ┆           ┆           ┆           ┆   ┆           ┆           ┆           ┆          │\n",
       "│ mean      ┆ 529719.89 ┆ null      ┆ 2009.6138 ┆ … ┆ 7.611798  ┆ 7.745612  ┆ 37.213542 ┆ 542.9991 │\n",
       "│           ┆ 8771      ┆           ┆ 32        ┆   ┆           ┆           ┆           ┆ 04       │\n",
       "│ std       ┆ 446013.43 ┆ null      ┆ 5.777505  ┆ … ┆ 27.406195 ┆ 28.929624 ┆ 93.505142 ┆ 823.9446 │\n",
       "│           ┆ 3865      ┆           ┆           ┆   ┆           ┆           ┆           ┆ 87       │\n",
       "│ min       ┆ 51.0      ┆ C         ┆ 2000.0    ┆ … ┆ 0.0       ┆ 0.0       ┆ 0.0       ┆ 0.0      │\n",
       "│ 25%       ┆ 46201.0   ┆ null      ┆ 2005.0    ┆ … ┆ 0.0       ┆ 0.0       ┆ 1.0       ┆ 54.0     │\n",
       "│ 50%       ┆ 810150.0  ┆ null      ┆ 2009.0    ┆ … ┆ 0.0       ┆ 0.0       ┆ 5.0       ┆ 244.0    │\n",
       "│ 75%       ┆ 945789.0  ┆ null      ┆ 2015.0    ┆ … ┆ 2.0       ┆ 2.0       ┆ 27.0      ┆ 656.0    │\n",
       "│ max       ┆ 9.99999e5 ┆ w         ┆ 2019.0    ┆ … ┆ 1107.0    ┆ 1430.0    ┆ 2691.0    ┆ 10905.0  │\n",
       "└───────────┴───────────┴───────────┴───────────┴───┴───────────┴───────────┴───────────┴──────────┘"
      ]
     },
     "execution_count": 3,
     "metadata": {},
     "output_type": "execute_result"
    }
   ],
   "source": [
    "dft.describe()"
   ]
  },
  {
   "cell_type": "code",
   "execution_count": 4,
   "metadata": {},
   "outputs": [],
   "source": [
    "dft_profile = ProfileReport(dft.to_pandas())"
   ]
  },
  {
   "cell_type": "code",
   "execution_count": 5,
   "metadata": {},
   "outputs": [
    {
     "data": {
      "application/vnd.jupyter.widget-view+json": {
       "model_id": "45ed701539324b1e88d4a97b25b545ad",
       "version_major": 2,
       "version_minor": 0
      },
      "text/plain": [
       "Summarize dataset:   0%|          | 0/5 [00:00<?, ?it/s]"
      ]
     },
     "metadata": {},
     "output_type": "display_data"
    },
    {
     "data": {
      "application/vnd.jupyter.widget-view+json": {
       "model_id": "6ba25f898c4649fc8ad1ddb651882793",
       "version_major": 2,
       "version_minor": 0
      },
      "text/plain": [
       "Generate report structure:   0%|          | 0/1 [00:00<?, ?it/s]"
      ]
     },
     "metadata": {},
     "output_type": "display_data"
    },
    {
     "data": {
      "application/vnd.jupyter.widget-view+json": {
       "model_id": "069ad76f47e24975987aca8ca87fcb3e",
       "version_major": 2,
       "version_minor": 0
      },
      "text/plain": [
       "Render widgets:   0%|          | 0/1 [00:00<?, ?it/s]"
      ]
     },
     "metadata": {},
     "output_type": "display_data"
    },
    {
     "data": {
      "application/vnd.jupyter.widget-view+json": {
       "model_id": "c57d32f9fdbc418c867a9c1697d79a4a",
       "version_major": 2,
       "version_minor": 0
      },
      "text/plain": [
       "VBox(children=(Tab(children=(Tab(children=(GridBox(children=(VBox(children=(GridspecLayout(children=(HTML(valu…"
      ]
     },
     "metadata": {},
     "output_type": "display_data"
    }
   ],
   "source": [
    "dft_profile.to_widgets()"
   ]
  },
  {
   "cell_type": "code",
   "execution_count": 15,
   "metadata": {},
   "outputs": [
    {
     "data": {
      "text/html": [
       "<div><style>\n",
       ".dataframe > thead > tr,\n",
       ".dataframe > tbody > tr {\n",
       "  text-align: right;\n",
       "  white-space: pre-wrap;\n",
       "}\n",
       "</style>\n",
       "<small>shape: (5_529, 7)</small><table border=\"1\" class=\"dataframe\"><thead><tr><th>local_authority_id</th><th>local_authority_name</th><th>year</th><th>link_length_km</th><th>link_length_miles</th><th>cars_and_taxis</th><th>all_motor_vehicles</th></tr><tr><td>i64</td><td>str</td><td>i64</td><td>f64</td><td>f64</td><td>f64</td><td>f64</td></tr></thead><tbody><tr><td>45</td><td>&quot;Aberdeenshire&quot;</td><td>2019</td><td>6273.378</td><td>3898.1</td><td>1.5378e9</td><td>2.0552e9</td></tr><tr><td>107</td><td>&quot;Lambeth&quot;</td><td>2019</td><td>377.0</td><td>234.26</td><td>3.9771e8</td><td>5.4712e8</td></tr><tr><td>172</td><td>&quot;Newcastle upon Tyne&quot;</td><td>2019</td><td>984.992</td><td>612.05</td><td>1.0060e9</td><td>1.2090e9</td></tr><tr><td>93</td><td>&quot;Tower Hamlets&quot;</td><td>2019</td><td>287.327</td><td>178.54</td><td>4.6529e8</td><td>6.3094e8</td></tr><tr><td>158</td><td>&quot;St. Helens&quot;</td><td>2019</td><td>740.22</td><td>459.95</td><td>7.2818e8</td><td>9.3078e8</td></tr><tr><td>&hellip;</td><td>&hellip;</td><td>&hellip;</td><td>&hellip;</td><td>&hellip;</td><td>&hellip;</td><td>&hellip;</td></tr><tr><td>56</td><td>&quot;Stockport&quot;</td><td>1993</td><td>958.451</td><td>595.55</td><td>8.3361e8</td><td>9.8341e8</td></tr><tr><td>8</td><td>&quot;Swansea&quot;</td><td>1993</td><td>1139.553</td><td>708.09</td><td>7.1192e8</td><td>8.3868e8</td></tr><tr><td>104</td><td>&quot;Lewisham&quot;</td><td>1993</td><td>439.146</td><td>272.87</td><td>4.3487e8</td><td>5.2810e8</td></tr><tr><td>145</td><td>&quot;Camden&quot;</td><td>1993</td><td>278.194</td><td>172.86</td><td>3.1263e8</td><td>3.8456e8</td></tr><tr><td>169</td><td>&quot;Kingston upon Hull, City of&quot;</td><td>1993</td><td>713.66</td><td>443.45</td><td>5.6170e8</td><td>6.8052e8</td></tr></tbody></table></div>"
      ],
      "text/plain": [
       "shape: (5_529, 7)\n",
       "┌───────────────┬───────────────┬──────┬──────────────┬──────────────┬──────────────┬──────────────┐\n",
       "│ local_authori ┆ local_authori ┆ year ┆ link_length_ ┆ link_length_ ┆ cars_and_tax ┆ all_motor_ve │\n",
       "│ ty_id         ┆ ty_name       ┆ ---  ┆ km           ┆ miles        ┆ is           ┆ hicles       │\n",
       "│ ---           ┆ ---           ┆ i64  ┆ ---          ┆ ---          ┆ ---          ┆ ---          │\n",
       "│ i64           ┆ str           ┆      ┆ f64          ┆ f64          ┆ f64          ┆ f64          │\n",
       "╞═══════════════╪═══════════════╪══════╪══════════════╪══════════════╪══════════════╪══════════════╡\n",
       "│ 45            ┆ Aberdeenshire ┆ 2019 ┆ 6273.378     ┆ 3898.1       ┆ 1.5378e9     ┆ 2.0552e9     │\n",
       "│ 107           ┆ Lambeth       ┆ 2019 ┆ 377.0        ┆ 234.26       ┆ 3.9771e8     ┆ 5.4712e8     │\n",
       "│ 172           ┆ Newcastle     ┆ 2019 ┆ 984.992      ┆ 612.05       ┆ 1.0060e9     ┆ 1.2090e9     │\n",
       "│               ┆ upon Tyne     ┆      ┆              ┆              ┆              ┆              │\n",
       "│ 93            ┆ Tower Hamlets ┆ 2019 ┆ 287.327      ┆ 178.54       ┆ 4.6529e8     ┆ 6.3094e8     │\n",
       "│ 158           ┆ St. Helens    ┆ 2019 ┆ 740.22       ┆ 459.95       ┆ 7.2818e8     ┆ 9.3078e8     │\n",
       "│ …             ┆ …             ┆ …    ┆ …            ┆ …            ┆ …            ┆ …            │\n",
       "│ 56            ┆ Stockport     ┆ 1993 ┆ 958.451      ┆ 595.55       ┆ 8.3361e8     ┆ 9.8341e8     │\n",
       "│ 8             ┆ Swansea       ┆ 1993 ┆ 1139.553     ┆ 708.09       ┆ 7.1192e8     ┆ 8.3868e8     │\n",
       "│ 104           ┆ Lewisham      ┆ 1993 ┆ 439.146      ┆ 272.87       ┆ 4.3487e8     ┆ 5.2810e8     │\n",
       "│ 145           ┆ Camden        ┆ 1993 ┆ 278.194      ┆ 172.86       ┆ 3.1263e8     ┆ 3.8456e8     │\n",
       "│ 169           ┆ Kingston upon ┆ 1993 ┆ 713.66       ┆ 443.45       ┆ 5.6170e8     ┆ 6.8052e8     │\n",
       "│               ┆ Hull, City of ┆      ┆              ┆              ┆              ┆              │\n",
       "└───────────────┴───────────────┴──────┴──────────────┴──────────────┴──────────────┴──────────────┘"
      ]
     },
     "execution_count": 15,
     "metadata": {},
     "output_type": "execute_result"
    }
   ],
   "source": [
    "local_authority = pl.read_csv(data_path / \"local_authority_traffic.csv\")\n",
    "local_authority"
   ]
  },
  {
   "cell_type": "code",
   "execution_count": 18,
   "metadata": {},
   "outputs": [
    {
     "data": {
      "text/html": [
       "<div><style>\n",
       ".dataframe > thead > tr,\n",
       ".dataframe > tbody > tr {\n",
       "  text-align: right;\n",
       "  white-space: pre-wrap;\n",
       "}\n",
       "</style>\n",
       "<small>shape: (9, 8)</small><table border=\"1\" class=\"dataframe\"><thead><tr><th>statistic</th><th>local_authority_id</th><th>local_authority_name</th><th>year</th><th>link_length_km</th><th>link_length_miles</th><th>cars_and_taxis</th><th>all_motor_vehicles</th></tr><tr><td>str</td><td>f64</td><td>str</td><td>f64</td><td>f64</td><td>f64</td><td>f64</td><td>f64</td></tr></thead><tbody><tr><td>&quot;count&quot;</td><td>5529.0</td><td>&quot;5529&quot;</td><td>5529.0</td><td>5529.0</td><td>5529.0</td><td>5529.0</td><td>5529.0</td></tr><tr><td>&quot;null_count&quot;</td><td>0.0</td><td>&quot;0&quot;</td><td>0.0</td><td>0.0</td><td>0.0</td><td>0.0</td><td>0.0</td></tr><tr><td>&quot;mean&quot;</td><td>103.954784</td><td>null</td><td>2006.029481</td><td>1914.890071</td><td>1189.857482</td><td>1.1866e9</td><td>1.4894e9</td></tr><tr><td>&quot;std&quot;</td><td>59.894406</td><td>null</td><td>7.791677</td><td>2250.130227</td><td>1398.166153</td><td>1.3239e9</td><td>1.6679e9</td></tr><tr><td>&quot;min&quot;</td><td>1.0</td><td>&quot;Aberdeen City&quot;</td><td>1993.0</td><td>34.51</td><td>21.44</td><td>818783.1803</td><td>1.4079e6</td></tr><tr><td>&quot;25%&quot;</td><td>52.0</td><td>null</td><td>1999.0</td><td>557.72</td><td>346.55</td><td>4.3733607e8</td><td>5.4559e8</td></tr><tr><td>&quot;50%&quot;</td><td>104.0</td><td>null</td><td>2006.0</td><td>965.896</td><td>600.18</td><td>7.1621364e8</td><td>8.92186914e8</td></tr><tr><td>&quot;75%&quot;</td><td>156.0</td><td>null</td><td>2013.0</td><td>2024.887</td><td>1258.21</td><td>1.2265e9</td><td>1.5509e9</td></tr><tr><td>&quot;max&quot;</td><td>210.0</td><td>&quot;York&quot;</td><td>2019.0</td><td>13134.17</td><td>8161.19</td><td>8.2170e9</td><td>1.0329e10</td></tr></tbody></table></div>"
      ],
      "text/plain": [
       "shape: (9, 8)\n",
       "┌────────────┬────────────┬────────────┬───────────┬───────────┬───────────┬───────────┬───────────┐\n",
       "│ statistic  ┆ local_auth ┆ local_auth ┆ year      ┆ link_leng ┆ link_leng ┆ cars_and_ ┆ all_motor │\n",
       "│ ---        ┆ ority_id   ┆ ority_name ┆ ---       ┆ th_km     ┆ th_miles  ┆ taxis     ┆ _vehicles │\n",
       "│ str        ┆ ---        ┆ ---        ┆ f64       ┆ ---       ┆ ---       ┆ ---       ┆ ---       │\n",
       "│            ┆ f64        ┆ str        ┆           ┆ f64       ┆ f64       ┆ f64       ┆ f64       │\n",
       "╞════════════╪════════════╪════════════╪═══════════╪═══════════╪═══════════╪═══════════╪═══════════╡\n",
       "│ count      ┆ 5529.0     ┆ 5529       ┆ 5529.0    ┆ 5529.0    ┆ 5529.0    ┆ 5529.0    ┆ 5529.0    │\n",
       "│ null_count ┆ 0.0        ┆ 0          ┆ 0.0       ┆ 0.0       ┆ 0.0       ┆ 0.0       ┆ 0.0       │\n",
       "│ mean       ┆ 103.954784 ┆ null       ┆ 2006.0294 ┆ 1914.8900 ┆ 1189.8574 ┆ 1.1866e9  ┆ 1.4894e9  │\n",
       "│            ┆            ┆            ┆ 81        ┆ 71        ┆ 82        ┆           ┆           │\n",
       "│ std        ┆ 59.894406  ┆ null       ┆ 7.791677  ┆ 2250.1302 ┆ 1398.1661 ┆ 1.3239e9  ┆ 1.6679e9  │\n",
       "│            ┆            ┆            ┆           ┆ 27        ┆ 53        ┆           ┆           │\n",
       "│ min        ┆ 1.0        ┆ Aberdeen   ┆ 1993.0    ┆ 34.51     ┆ 21.44     ┆ 818783.18 ┆ 1.4079e6  │\n",
       "│            ┆            ┆ City       ┆           ┆           ┆           ┆ 03        ┆           │\n",
       "│ 25%        ┆ 52.0       ┆ null       ┆ 1999.0    ┆ 557.72    ┆ 346.55    ┆ 4.3733607 ┆ 5.4559e8  │\n",
       "│            ┆            ┆            ┆           ┆           ┆           ┆ e8        ┆           │\n",
       "│ 50%        ┆ 104.0      ┆ null       ┆ 2006.0    ┆ 965.896   ┆ 600.18    ┆ 7.1621364 ┆ 8.9218691 │\n",
       "│            ┆            ┆            ┆           ┆           ┆           ┆ e8        ┆ 4e8       │\n",
       "│ 75%        ┆ 156.0      ┆ null       ┆ 2013.0    ┆ 2024.887  ┆ 1258.21   ┆ 1.2265e9  ┆ 1.5509e9  │\n",
       "│ max        ┆ 210.0      ┆ York       ┆ 2019.0    ┆ 13134.17  ┆ 8161.19   ┆ 8.2170e9  ┆ 1.0329e10 │\n",
       "└────────────┴────────────┴────────────┴───────────┴───────────┴───────────┴───────────┴───────────┘"
      ]
     },
     "execution_count": 18,
     "metadata": {},
     "output_type": "execute_result"
    }
   ],
   "source": [
    "local_authority.describe()"
   ]
  },
  {
   "cell_type": "code",
   "execution_count": 19,
   "metadata": {},
   "outputs": [
    {
     "data": {
      "text/html": [
       "<div><style>\n",
       ".dataframe > thead > tr,\n",
       ".dataframe > tbody > tr {\n",
       "  text-align: right;\n",
       "  white-space: pre-wrap;\n",
       "}\n",
       "</style>\n",
       "<small>shape: (1_645, 15)</small><table border=\"1\" class=\"dataframe\"><thead><tr><th>year</th><th>region_id</th><th>region_name</th><th>road_category_id</th><th>road_category_name</th><th>road_category_description</th><th>total_link_length_km</th><th>total_link_length_miles</th><th>pedal_cycles</th><th>two_wheeled_motor_vehicles</th><th>cars_and_taxis</th><th>buses_and_coaches</th><th>lgvs</th><th>all_hgvs</th><th>all_motor_vehicles</th></tr><tr><td>i64</td><td>i64</td><td>str</td><td>i64</td><td>str</td><td>str</td><td>f64</td><td>f64</td><td>f64</td><td>f64</td><td>f64</td><td>f64</td><td>f64</td><td>f64</td><td>f64</td></tr></thead><tbody><tr><td>2019</td><td>1</td><td>&quot;South West&quot;</td><td>4</td><td>&quot;PA&quot;</td><td>&quot;Class A Principal road&quot;</td><td>4253.7</td><td>2643.13</td><td>5.4357e7</td><td>1.0615e8</td><td>8.5253e9</td><td>6.7184e7</td><td>1.6010e9</td><td>3.8365e8</td><td>1.0683e10</td></tr><tr><td>2019</td><td>5</td><td>&quot;North West&quot;</td><td>4</td><td>&quot;PA&quot;</td><td>&quot;Class A Principal road&quot;</td><td>3793.0</td><td>2356.86</td><td>6.2732e7</td><td>7.2244e7</td><td>9.1585e9</td><td>9.0102e7</td><td>1.4527e9</td><td>3.9442e8</td><td>1.1168e10</td></tr><tr><td>2019</td><td>3</td><td>&quot;Scotland&quot;</td><td>3</td><td>&quot;TA&quot;</td><td>&quot;Class A Trunk road&quot;</td><td>2952.5</td><td>1834.6</td><td>4.6182e6</td><td>5.0551e7</td><td>5.0029e9</td><td>5.4978e7</td><td>1.0908e9</td><td>5.3404e8</td><td>6.7333e9</td></tr><tr><td>2019</td><td>10</td><td>&quot;West Midlands&quot;</td><td>2</td><td>&quot;PM&quot;</td><td>&quot;M or Class A Principal Motorwa…</td><td>3.8</td><td>2.36</td><td>0.0</td><td>244706.1747</td><td>6.6101e7</td><td>554004.4764</td><td>9.8363e6</td><td>3.8045e6</td><td>8.0540e7</td></tr><tr><td>2019</td><td>6</td><td>&quot;London&quot;</td><td>3</td><td>&quot;TA&quot;</td><td>&quot;Class A Trunk road&quot;</td><td>1.6</td><td>0.99</td><td>17228.75221</td><td>108747.2274</td><td>9.9819e6</td><td>53357.73582</td><td>1.9339e6</td><td>1.0513e6</td><td>1.3129e7</td></tr><tr><td>&hellip;</td><td>&hellip;</td><td>&hellip;</td><td>&hellip;</td><td>&hellip;</td><td>&hellip;</td><td>&hellip;</td><td>&hellip;</td><td>&hellip;</td><td>&hellip;</td><td>&hellip;</td><td>&hellip;</td><td>&hellip;</td><td>&hellip;</td><td>&hellip;</td></tr><tr><td>1993</td><td>10</td><td>&quot;West Midlands&quot;</td><td>6</td><td>&quot;MCU&quot;</td><td>&quot;Class C and Unclassified road&quot;</td><td>25448.5</td><td>15812.96</td><td>1.4356e8</td><td>6.4690e7</td><td>6.4591e9</td><td>1.2638e8</td><td>7.4767e8</td><td>1.3853e8</td><td>7.5364e9</td></tr><tr><td>1993</td><td>8</td><td>&quot;Yorkshire and The Humber&quot;</td><td>1</td><td>&quot;TM&quot;</td><td>&quot;M or Class A Trunk Motorway&quot;</td><td>333.613</td><td>207.3</td><td>0.0</td><td>8.2478e6</td><td>2.6984e9</td><td>2.0992e7</td><td>4.0916e8</td><td>7.1612e8</td><td>3.8529e9</td></tr><tr><td>1993</td><td>5</td><td>&quot;North West&quot;</td><td>4</td><td>&quot;PA&quot;</td><td>&quot;Class A Principal road&quot;</td><td>3128.239</td><td>1943.8</td><td>5.2013e7</td><td>6.7200e7</td><td>7.1435e9</td><td>1.3459e8</td><td>8.0394e8</td><td>3.4877e8</td><td>8.4980e9</td></tr><tr><td>1993</td><td>7</td><td>&quot;East of England&quot;</td><td>6</td><td>&quot;MCU&quot;</td><td>&quot;Class C and Unclassified road&quot;</td><td>31339.1</td><td>19473.21</td><td>2.9363e8</td><td>1.0163e8</td><td>7.2600e9</td><td>1.1302e8</td><td>8.7713e8</td><td>1.5851e8</td><td>8.5102e9</td></tr><tr><td>1993</td><td>10</td><td>&quot;West Midlands&quot;</td><td>2</td><td>&quot;PM&quot;</td><td>&quot;M or Class A Principal Motorwa…</td><td>6.895</td><td>4.28</td><td>0.0</td><td>710829.3814</td><td>1.1892e8</td><td>1.7175e6</td><td>1.6948e7</td><td>8.1157e6</td><td>1.4641e8</td></tr></tbody></table></div>"
      ],
      "text/plain": [
       "shape: (1_645, 15)\n",
       "┌──────┬───────────┬─────────────┬─────────────┬───┬────────────┬──────────┬──────────┬────────────┐\n",
       "│ year ┆ region_id ┆ region_name ┆ road_catego ┆ … ┆ buses_and_ ┆ lgvs     ┆ all_hgvs ┆ all_motor_ │\n",
       "│ ---  ┆ ---       ┆ ---         ┆ ry_id       ┆   ┆ coaches    ┆ ---      ┆ ---      ┆ vehicles   │\n",
       "│ i64  ┆ i64       ┆ str         ┆ ---         ┆   ┆ ---        ┆ f64      ┆ f64      ┆ ---        │\n",
       "│      ┆           ┆             ┆ i64         ┆   ┆ f64        ┆          ┆          ┆ f64        │\n",
       "╞══════╪═══════════╪═════════════╪═════════════╪═══╪════════════╪══════════╪══════════╪════════════╡\n",
       "│ 2019 ┆ 1         ┆ South West  ┆ 4           ┆ … ┆ 6.7184e7   ┆ 1.6010e9 ┆ 3.8365e8 ┆ 1.0683e10  │\n",
       "│ 2019 ┆ 5         ┆ North West  ┆ 4           ┆ … ┆ 9.0102e7   ┆ 1.4527e9 ┆ 3.9442e8 ┆ 1.1168e10  │\n",
       "│ 2019 ┆ 3         ┆ Scotland    ┆ 3           ┆ … ┆ 5.4978e7   ┆ 1.0908e9 ┆ 5.3404e8 ┆ 6.7333e9   │\n",
       "│ 2019 ┆ 10        ┆ West        ┆ 2           ┆ … ┆ 554004.476 ┆ 9.8363e6 ┆ 3.8045e6 ┆ 8.0540e7   │\n",
       "│      ┆           ┆ Midlands    ┆             ┆   ┆ 4          ┆          ┆          ┆            │\n",
       "│ 2019 ┆ 6         ┆ London      ┆ 3           ┆ … ┆ 53357.7358 ┆ 1.9339e6 ┆ 1.0513e6 ┆ 1.3129e7   │\n",
       "│      ┆           ┆             ┆             ┆   ┆ 2          ┆          ┆          ┆            │\n",
       "│ …    ┆ …         ┆ …           ┆ …           ┆ … ┆ …          ┆ …        ┆ …        ┆ …          │\n",
       "│ 1993 ┆ 10        ┆ West        ┆ 6           ┆ … ┆ 1.2638e8   ┆ 7.4767e8 ┆ 1.3853e8 ┆ 7.5364e9   │\n",
       "│      ┆           ┆ Midlands    ┆             ┆   ┆            ┆          ┆          ┆            │\n",
       "│ 1993 ┆ 8         ┆ Yorkshire   ┆ 1           ┆ … ┆ 2.0992e7   ┆ 4.0916e8 ┆ 7.1612e8 ┆ 3.8529e9   │\n",
       "│      ┆           ┆ and The     ┆             ┆   ┆            ┆          ┆          ┆            │\n",
       "│      ┆           ┆ Humber      ┆             ┆   ┆            ┆          ┆          ┆            │\n",
       "│ 1993 ┆ 5         ┆ North West  ┆ 4           ┆ … ┆ 1.3459e8   ┆ 8.0394e8 ┆ 3.4877e8 ┆ 8.4980e9   │\n",
       "│ 1993 ┆ 7         ┆ East of     ┆ 6           ┆ … ┆ 1.1302e8   ┆ 8.7713e8 ┆ 1.5851e8 ┆ 8.5102e9   │\n",
       "│      ┆           ┆ England     ┆             ┆   ┆            ┆          ┆          ┆            │\n",
       "│ 1993 ┆ 10        ┆ West        ┆ 2           ┆ … ┆ 1.7175e6   ┆ 1.6948e7 ┆ 8.1157e6 ┆ 1.4641e8   │\n",
       "│      ┆           ┆ Midlands    ┆             ┆   ┆            ┆          ┆          ┆            │\n",
       "└──────┴───────────┴─────────────┴─────────────┴───┴────────────┴──────────┴──────────┴────────────┘"
      ]
     },
     "execution_count": 19,
     "metadata": {},
     "output_type": "execute_result"
    }
   ],
   "source": [
    "region_traffic = pl.read_csv(data_path / \"region_traffic.csv\")\n",
    "region_traffic"
   ]
  },
  {
   "cell_type": "code",
   "execution_count": 20,
   "metadata": {},
   "outputs": [
    {
     "data": {
      "text/html": [
       "<div><style>\n",
       ".dataframe > thead > tr,\n",
       ".dataframe > tbody > tr {\n",
       "  text-align: right;\n",
       "  white-space: pre-wrap;\n",
       "}\n",
       "</style>\n",
       "<small>shape: (9, 16)</small><table border=\"1\" class=\"dataframe\"><thead><tr><th>statistic</th><th>year</th><th>region_id</th><th>region_name</th><th>road_category_id</th><th>road_category_name</th><th>road_category_description</th><th>total_link_length_km</th><th>total_link_length_miles</th><th>pedal_cycles</th><th>two_wheeled_motor_vehicles</th><th>cars_and_taxis</th><th>buses_and_coaches</th><th>lgvs</th><th>all_hgvs</th><th>all_motor_vehicles</th></tr><tr><td>str</td><td>f64</td><td>f64</td><td>str</td><td>f64</td><td>str</td><td>str</td><td>f64</td><td>f64</td><td>f64</td><td>f64</td><td>f64</td><td>f64</td><td>f64</td><td>f64</td><td>f64</td></tr></thead><tbody><tr><td>&quot;count&quot;</td><td>1645.0</td><td>1645.0</td><td>&quot;1645&quot;</td><td>1645.0</td><td>&quot;1645&quot;</td><td>&quot;1645&quot;</td><td>1645.0</td><td>1645.0</td><td>1645.0</td><td>1645.0</td><td>1645.0</td><td>1645.0</td><td>1645.0</td><td>1645.0</td><td>1645.0</td></tr><tr><td>&quot;null_count&quot;</td><td>0.0</td><td>0.0</td><td>&quot;0&quot;</td><td>0.0</td><td>&quot;0&quot;</td><td>&quot;0&quot;</td><td>0.0</td><td>0.0</td><td>0.0</td><td>0.0</td><td>0.0</td><td>0.0</td><td>0.0</td><td>0.0</td><td>0.0</td></tr><tr><td>&quot;mean&quot;</td><td>2006.221277</td><td>6.159878</td><td>null</td><td>3.617021</td><td>null</td><td>null</td><td>6436.125958</td><td>3999.2231</td><td>4.6761e7</td><td>4.7573e7</td><td>3.9883e9</td><td>4.9492e7</td><td>6.4320e8</td><td>2.7748e8</td><td>5.0060e9</td></tr><tr><td>&quot;std&quot;</td><td>7.879856</td><td>3.184603</td><td>null</td><td>1.72514</td><td>null</td><td>null</td><td>11138.14722</td><td>6920.923798</td><td>8.4151e7</td><td>4.9942e7</td><td>3.0123e9</td><td>4.7215e7</td><td>4.9214e8</td><td>2.9297e8</td><td>3.7137e9</td></tr><tr><td>&quot;min&quot;</td><td>1993.0</td><td>1.0</td><td>&quot;East Midlands&quot;</td><td>1.0</td><td>&quot;MB&quot;</td><td>&quot;Class A Principal road&quot;</td><td>0.0</td><td>0.0</td><td>0.0</td><td>0.0</td><td>0.0</td><td>0.0</td><td>0.0</td><td>0.0</td><td>0.0</td></tr><tr><td>&quot;25%&quot;</td><td>1999.0</td><td>3.0</td><td>null</td><td>2.0</td><td>null</td><td>null</td><td>363.59</td><td>225.92</td><td>0.0</td><td>1.4060e7</td><td>1.6824e9</td><td>1.6010e7</td><td>2.80724459e8</td><td>6.4134e7</td><td>2.1580e9</td></tr><tr><td>&quot;50%&quot;</td><td>2006.0</td><td>6.0</td><td>null</td><td>4.0</td><td>null</td><td>null</td><td>1719.0</td><td>1068.14</td><td>1.1277e7</td><td>3.0244e7</td><td>3.3276e9</td><td>2.9735e7</td><td>5.35315029e8</td><td>1.6107e8</td><td>4.1871e9</td></tr><tr><td>&quot;75%&quot;</td><td>2013.0</td><td>9.0</td><td>null</td><td>5.0</td><td>null</td><td>null</td><td>3693.82</td><td>2295.23</td><td>3.9456e7</td><td>6.5982e7</td><td>5.9464e9</td><td>8.1546e7</td><td>9.4591e8</td><td>4.0942e8</td><td>7.4934e9</td></tr><tr><td>&quot;max&quot;</td><td>2019.0</td><td>11.0</td><td>&quot;Yorkshire and The Humber&quot;</td><td>6.0</td><td>&quot;TM&quot;</td><td>&quot;M or Class A Trunk Motorway&quot;</td><td>41795.09</td><td>25970.26</td><td>4.6659e8</td><td>3.2640e8</td><td>1.3184e10</td><td>2.6874e8</td><td>2.5024e9</td><td>1.3863e9</td><td>1.5905e10</td></tr></tbody></table></div>"
      ],
      "text/plain": [
       "shape: (9, 16)\n",
       "┌───────────┬───────────┬───────────┬───────────┬───┬───────────┬───────────┬──────────┬───────────┐\n",
       "│ statistic ┆ year      ┆ region_id ┆ region_na ┆ … ┆ buses_and ┆ lgvs      ┆ all_hgvs ┆ all_motor │\n",
       "│ ---       ┆ ---       ┆ ---       ┆ me        ┆   ┆ _coaches  ┆ ---       ┆ ---      ┆ _vehicles │\n",
       "│ str       ┆ f64       ┆ f64       ┆ ---       ┆   ┆ ---       ┆ f64       ┆ f64      ┆ ---       │\n",
       "│           ┆           ┆           ┆ str       ┆   ┆ f64       ┆           ┆          ┆ f64       │\n",
       "╞═══════════╪═══════════╪═══════════╪═══════════╪═══╪═══════════╪═══════════╪══════════╪═══════════╡\n",
       "│ count     ┆ 1645.0    ┆ 1645.0    ┆ 1645      ┆ … ┆ 1645.0    ┆ 1645.0    ┆ 1645.0   ┆ 1645.0    │\n",
       "│ null_coun ┆ 0.0       ┆ 0.0       ┆ 0         ┆ … ┆ 0.0       ┆ 0.0       ┆ 0.0      ┆ 0.0       │\n",
       "│ t         ┆           ┆           ┆           ┆   ┆           ┆           ┆          ┆           │\n",
       "│ mean      ┆ 2006.2212 ┆ 6.159878  ┆ null      ┆ … ┆ 4.9492e7  ┆ 6.4320e8  ┆ 2.7748e8 ┆ 5.0060e9  │\n",
       "│           ┆ 77        ┆           ┆           ┆   ┆           ┆           ┆          ┆           │\n",
       "│ std       ┆ 7.879856  ┆ 3.184603  ┆ null      ┆ … ┆ 4.7215e7  ┆ 4.9214e8  ┆ 2.9297e8 ┆ 3.7137e9  │\n",
       "│ min       ┆ 1993.0    ┆ 1.0       ┆ East      ┆ … ┆ 0.0       ┆ 0.0       ┆ 0.0      ┆ 0.0       │\n",
       "│           ┆           ┆           ┆ Midlands  ┆   ┆           ┆           ┆          ┆           │\n",
       "│ 25%       ┆ 1999.0    ┆ 3.0       ┆ null      ┆ … ┆ 1.6010e7  ┆ 2.8072445 ┆ 6.4134e7 ┆ 2.1580e9  │\n",
       "│           ┆           ┆           ┆           ┆   ┆           ┆ 9e8       ┆          ┆           │\n",
       "│ 50%       ┆ 2006.0    ┆ 6.0       ┆ null      ┆ … ┆ 2.9735e7  ┆ 5.3531502 ┆ 1.6107e8 ┆ 4.1871e9  │\n",
       "│           ┆           ┆           ┆           ┆   ┆           ┆ 9e8       ┆          ┆           │\n",
       "│ 75%       ┆ 2013.0    ┆ 9.0       ┆ null      ┆ … ┆ 8.1546e7  ┆ 9.4591e8  ┆ 4.0942e8 ┆ 7.4934e9  │\n",
       "│ max       ┆ 2019.0    ┆ 11.0      ┆ Yorkshire ┆ … ┆ 2.6874e8  ┆ 2.5024e9  ┆ 1.3863e9 ┆ 1.5905e10 │\n",
       "│           ┆           ┆           ┆ and The   ┆   ┆           ┆           ┆          ┆           │\n",
       "│           ┆           ┆           ┆ Humber    ┆   ┆           ┆           ┆          ┆           │\n",
       "└───────────┴───────────┴───────────┴───────────┴───┴───────────┴───────────┴──────────┴───────────┘"
      ]
     },
     "execution_count": 20,
     "metadata": {},
     "output_type": "execute_result"
    }
   ],
   "source": [
    "region_traffic.describe()"
   ]
  }
 ],
 "metadata": {
  "kernelspec": {
   "display_name": ".venv",
   "language": "python",
   "name": "python3"
  },
  "language_info": {
   "codemirror_mode": {
    "name": "ipython",
    "version": 3
   },
   "file_extension": ".py",
   "mimetype": "text/x-python",
   "name": "python",
   "nbconvert_exporter": "python",
   "pygments_lexer": "ipython3",
   "version": "3.10.7"
  }
 },
 "nbformat": 4,
 "nbformat_minor": 2
}
