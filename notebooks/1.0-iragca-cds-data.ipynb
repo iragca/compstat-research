{
 "cells": [
  {
   "cell_type": "markdown",
   "metadata": {},
   "source": [
    "# Data Download"
   ]
  },
  {
   "cell_type": "code",
   "execution_count": null,
   "metadata": {},
   "outputs": [],
   "source": [
    "from pathlib import Path\n",
    "\n",
    "import cdsapi\n",
    "from loguru import logger\n",
    "from tqdm import tqdm\n",
    "\n",
    "from compstat_research.config import INTERIM_DATA_DIR\n",
    "\n",
    "currentPath = Path()\n",
    "savePath = INTERIM_DATA_DIR / \"cds\" / \"era5\" / \"multivars-ph\"\n",
    "\n",
    "if not savePath.exists():\n",
    "    savePath.mkdir(parents=True)\n",
    "    \n",
    "YEARS = range(1940, 1980)\n",
    "MONTHS = range(1, 13)\n",
    "\n",
    "logger.add(\"1.0-iragca-cds-data.log\", rotation=\"500 MB\", retention=\"7 days\", compression=\"zip\")\n",
    "logger.info(f\"Starting download of ERA5 data from {YEARS[0]} to {YEARS[-1]}.\")\n",
    "for year in tqdm(YEARS, desc=\"Downloading data\", unit=\"year\"):\n",
    "    for month in MONTHS:\n",
    "        try:\n",
    "            dataset = \"derived-era5-single-levels-daily-statistics\"\n",
    "\n",
    "            request = {\n",
    "                \"product_type\": \"reanalysis\",\n",
    "                \"variable\": [\n",
    "                    \"2m_dewpoint_temperature\",\n",
    "                    \"2m_temperature\",    \n",
    "                    \"sea_surface_temperature\",\n",
    "                    \"total_precipitation\",\n",
    "                    \"surface_net_solar_radiation\",\n",
    "                    \"total_cloud_cover\"\n",
    "            ],\n",
    "            \"year\": f\"{year}\",\n",
    "            \"month\": [f\"{month:02d}\"],\n",
    "            \"day\": [\n",
    "                \"01\", \"02\", \"03\",\n",
    "                \"04\", \"05\", \"06\",\n",
    "                \"07\", \"08\", \"09\",\n",
    "                \"10\", \"11\", \"12\",\n",
    "                \"13\", \"14\", \"15\",\n",
    "                \"16\", \"17\", \"18\",\n",
    "                \"19\", \"20\", \"21\",\n",
    "                \"22\", \"23\", \"24\",\n",
    "                \"25\", \"26\", \"27\",\n",
    "                \"28\", \"29\", \"30\",\n",
    "                \"31\"\n",
    "            ],\n",
    "            \"daily_statistic\": \"daily_mean\",\n",
    "            \"time_zone\": \"utc+00:00\",\n",
    "            \"frequency\": \"6_hourly\",\n",
    "            \"area\": [20, 120, 5, 130]\n",
    "            }\n",
    "            try:\n",
    "                client = cdsapi.Client()\n",
    "                client.retrieve(dataset, request).download()\n",
    "            except Exception as e:\n",
    "                logger.error(f\"Error downloading data for year {year} and month {month}. Error: {e}\")\n",
    "                continue\n",
    "            else:\n",
    "                logger.info(f\"Downloaded data for year {year} and month {month}.\")\n",
    "\n",
    "            for file in currentPath.iterdir():\n",
    "                if file.is_file() and file.suffix == \".zip\":\n",
    "                    file.rename(savePath / f\"{year}-{month:02d}-{file.name}\")\n",
    "                    logger.success(f\"Moved file {file.name} to {savePath}.\")\n",
    "\n",
    "        except Exception as e:\n",
    "            logger.error(f\"Error: {e}\")\n",
    "            continue"
   ]
  },
  {
   "cell_type": "code",
   "execution_count": 57,
   "metadata": {},
   "outputs": [
    {
     "name": "stderr",
     "output_type": "stream",
     "text": [
      "2025-03-02 13:11:01,276 INFO [2024-09-26T00:00:00] Watch our [Forum](https://forum.ecmwf.int/) for Announcements, news and other discussed topics.\n",
      "2025-03-02 13:11:01,277 WARNING [2024-06-16T00:00:00] CDS API syntax is changed and some keys or parameter names may have also changed. To avoid requests failing, please use the \"Show API request code\" tool on the dataset Download Form to check you are using the correct syntax for your API request.\n",
      "2025-03-02 13:11:03,486 WARNING [2025-02-12T00:00:00] Requests for non-consecutive date ranges combined with non-UTC time-zones may contain undersampled data points for the dates before and after the gap in the date range. See known-issues table on documentation tab for more details.\n",
      "2025-03-02 13:11:03,487 INFO Request ID is 88412f5b-2cb7-46f4-a469-8fb7a3e659c8\n",
      "2025-03-02 13:11:04,878 INFO status has been updated to accepted\n",
      "2025-03-02 13:11:08,070 INFO status has been updated to running\n",
      "2025-03-02 13:12:24,677 INFO status has been updated to successful\n",
      "                                                                                       "
     ]
    },
    {
     "name": "stdout",
     "output_type": "stream",
     "text": [
      "\u001b[32m2025-03-02 13:12:28.471\u001b[0m | \u001b[1mINFO    \u001b[0m | \u001b[36m__main__\u001b[0m:\u001b[36m<module>\u001b[0m:\u001b[36m58\u001b[0m - \u001b[1mMoved file c1d17a5ddc0470b8c2088ed52c289a92.zip to D:\\Documents\\3 Production Save Files\\1 Cloned repositories\\compstat-research\\data\\interim\\cds\\era5\\multivars-ph.\u001b[0m\n",
      "\u001b[32m2025-03-02 13:12:28.471\u001b[0m | \u001b[32m\u001b[1mSUCCESS \u001b[0m | \u001b[36m__main__\u001b[0m:\u001b[36m<module>\u001b[0m:\u001b[36m62\u001b[0m - \u001b[32m\u001b[1mDownloaded data for year 2013 month 2.\u001b[0m\n"
     ]
    },
    {
     "name": "stderr",
     "output_type": "stream",
     "text": [
      "\r"
     ]
    }
   ],
   "source": [
    "# Custom download\n",
    "from pathlib import Path\n",
    "\n",
    "import cdsapi\n",
    "from loguru import logger\n",
    "from tqdm import tqdm\n",
    "\n",
    "from compstat_research.config import INTERIM_DATA_DIR\n",
    "\n",
    "currentPath = Path()\n",
    "savePath = INTERIM_DATA_DIR / \"cds\" / \"era5\" / \"multivars-ph\"\n",
    "\n",
    "if not savePath.exists():\n",
    "    savePath.mkdir(parents=True)\n",
    "\n",
    "try:\n",
    "    customYear = 2013\n",
    "    customMonth = 2\n",
    "    dataset = \"derived-era5-single-levels-daily-statistics\"\n",
    "\n",
    "    request = {\n",
    "        \"product_type\": \"reanalysis\",\n",
    "        \"variable\": [\n",
    "            \"2m_dewpoint_temperature\",\n",
    "            \"2m_temperature\",    \n",
    "            \"sea_surface_temperature\",\n",
    "            \"total_precipitation\",\n",
    "            \"surface_net_solar_radiation\",\n",
    "            \"total_cloud_cover\"\n",
    "    ],\n",
    "    \"year\": f\"{customYear}\",\n",
    "    \"month\": [f\"{customMonth:02d}\"],\n",
    "    \"day\": [\n",
    "        \"01\", \"02\", \"03\",\n",
    "        \"04\", \"05\", \"06\",\n",
    "        \"07\", \"08\", \"09\",\n",
    "        \"10\", \"11\", \"12\",\n",
    "        \"13\", \"14\", \"15\",\n",
    "        \"16\", \"17\", \"18\",\n",
    "        \"19\", \"20\", \"21\",\n",
    "        \"22\", \"23\", \"24\",\n",
    "        \"25\", \"26\", \"27\",\n",
    "        \"28\", \"29\", \"30\",\n",
    "        \"31\"\n",
    "    ],\n",
    "    \"daily_statistic\": \"daily_mean\",\n",
    "    \"time_zone\": \"utc+00:00\",\n",
    "    \"frequency\": \"6_hourly\",\n",
    "    \"area\": [20, 120, 5, 130]\n",
    "    }\n",
    "\n",
    "    client = cdsapi.Client()\n",
    "    client.retrieve(dataset, request).download()\n",
    "\n",
    "    for file in currentPath.iterdir():\n",
    "        if file.is_file() and file.suffix == \".zip\":\n",
    "            file.rename(savePath / f\"{customYear}-{customMonth:02d}-{file.name}\")\n",
    "            logger.info(f\"Moved file {file.name} to {savePath}.\")\n",
    "except Exception as e:\n",
    "    logger.error(f\"Error downloading data for year {customYear}. Error: {e}\")\n",
    "else:\n",
    "    logger.success(f\"Downloaded data for year {customYear} month {customMonth}.\")"
   ]
  },
  {
   "cell_type": "code",
   "execution_count": 58,
   "metadata": {},
   "outputs": [
    {
     "name": "stderr",
     "output_type": "stream",
     "text": [
      "Checking missing files: 100%|██████████| 85/85 [00:00<00:00, 292.16year/s]\n"
     ]
    }
   ],
   "source": [
    "# check missing files\n",
    "YEARS = range(1940, 2025)\n",
    "MONTHS = range(1, 13)\n",
    "SAVE_PATH = INTERIM_DATA_DIR / \"cds\" / \"era5\" / \"multivars-ph\"\n",
    "\n",
    "files = []\n",
    "\n",
    "for file in SAVE_PATH.iterdir():\n",
    "    if file.is_file() and file.suffix == \".zip\":\n",
    "        files.append(file)\n",
    "\n",
    "for year in tqdm(YEARS, desc=\"Checking missing files\", unit=\"year\"):\n",
    "    for month in MONTHS:\n",
    "        if not any(f\"{year}-{month:02d}\" in file.name for file in files):\n",
    "            logger.error(f\"Missing file for year {year} and month {month}.\")\n",
    "        else:\n",
    "            continue  "
   ]
  },
  {
   "cell_type": "code",
   "execution_count": 59,
   "metadata": {},
   "outputs": [],
   "source": [
    "# check duplicates\n",
    "SAVE_PATH = INTERIM_DATA_DIR / \"cds\" / \"era5\" / \"multivars-ph\"\n",
    "files = []\n",
    "\n",
    "for file in SAVE_PATH.iterdir():\n",
    "    if file.is_file() and file.suffix == \".zip\":\n",
    "        files.append(file.name[:7])\n",
    "\n",
    "for file in files:\n",
    "    if files.count(file) > 1:\n",
    "        logger.error(f\"Duplicate file {file}.\")"
   ]
  },
  {
   "cell_type": "markdown",
   "metadata": {},
   "source": [
    "##  Data Aggregation"
   ]
  },
  {
   "cell_type": "code",
   "execution_count": 1,
   "metadata": {},
   "outputs": [
    {
     "name": "stderr",
     "output_type": "stream",
     "text": [
      "\u001b[32m2025-02-09 19:30:03.112\u001b[0m | \u001b[1mINFO    \u001b[0m | \u001b[36mcompstat_research.config\u001b[0m:\u001b[36m<module>\u001b[0m:\u001b[36m11\u001b[0m - \u001b[1mPROJ_ROOT path is: D:\\Documents\\3 Production Save Files\\1 Cloned repositories\\compstat-research\u001b[0m\n"
     ]
    }
   ],
   "source": [
    "from pathlib import Path\n",
    "\n",
    "import polars as pl\n",
    "import xarray as xr\n",
    "from loguru import logger\n",
    "from tqdm import tqdm\n",
    "\n",
    "from compstat_research.config import INTERIM_DATA_DIR, PROCESSED_DATA_DIR"
   ]
  },
  {
   "cell_type": "code",
   "execution_count": null,
   "metadata": {},
   "outputs": [
    {
     "name": "stdout",
     "output_type": "stream",
     "text": [
      "\u001b[32m2025-02-09 19:33:23.611\u001b[0m | \u001b[1mINFO    \u001b[0m | \u001b[36m__main__\u001b[0m:\u001b[36m<module>\u001b[0m:\u001b[36m11\u001b[0m - \u001b[1mMoved file 11376002cd7f0ebab274a02b3e7b87af.nc to D:\\Documents\\3 Production Save Files\\1 Cloned repositories\\compstat-research\\data\\interim\\cds\\era5\\2m-temperature.\u001b[0m\n",
      "\u001b[32m2025-02-09 19:33:23.616\u001b[0m | \u001b[1mINFO    \u001b[0m | \u001b[36m__main__\u001b[0m:\u001b[36m<module>\u001b[0m:\u001b[36m11\u001b[0m - \u001b[1mMoved file 13f1e53413d59f05a4f701f874e5d0f9.nc to D:\\Documents\\3 Production Save Files\\1 Cloned repositories\\compstat-research\\data\\interim\\cds\\era5\\2m-temperature.\u001b[0m\n",
      "\u001b[32m2025-02-09 19:33:23.616\u001b[0m | \u001b[1mINFO    \u001b[0m | \u001b[36m__main__\u001b[0m:\u001b[36m<module>\u001b[0m:\u001b[36m11\u001b[0m - \u001b[1mMoved file 150f29fa89d81a023d34470043f577a5.nc to D:\\Documents\\3 Production Save Files\\1 Cloned repositories\\compstat-research\\data\\interim\\cds\\era5\\2m-temperature.\u001b[0m\n",
      "\u001b[32m2025-02-09 19:33:23.617\u001b[0m | \u001b[1mINFO    \u001b[0m | \u001b[36m__main__\u001b[0m:\u001b[36m<module>\u001b[0m:\u001b[36m11\u001b[0m - \u001b[1mMoved file 17e15151c2663f11efac6b8fcb6090ff.nc to D:\\Documents\\3 Production Save Files\\1 Cloned repositories\\compstat-research\\data\\interim\\cds\\era5\\2m-temperature.\u001b[0m\n",
      "\u001b[32m2025-02-09 19:33:23.618\u001b[0m | \u001b[1mINFO    \u001b[0m | \u001b[36m__main__\u001b[0m:\u001b[36m<module>\u001b[0m:\u001b[36m11\u001b[0m - \u001b[1mMoved file 18364ada71922ea5af598ad68de48859.nc to D:\\Documents\\3 Production Save Files\\1 Cloned repositories\\compstat-research\\data\\interim\\cds\\era5\\2m-temperature.\u001b[0m\n",
      "\u001b[32m2025-02-09 19:33:23.619\u001b[0m | \u001b[1mINFO    \u001b[0m | \u001b[36m__main__\u001b[0m:\u001b[36m<module>\u001b[0m:\u001b[36m11\u001b[0m - \u001b[1mMoved file 1ae1e6ff688ec11dda4d66cbea7b2485.nc to D:\\Documents\\3 Production Save Files\\1 Cloned repositories\\compstat-research\\data\\interim\\cds\\era5\\2m-temperature.\u001b[0m\n",
      "\u001b[32m2025-02-09 19:33:23.620\u001b[0m | \u001b[1mINFO    \u001b[0m | \u001b[36m__main__\u001b[0m:\u001b[36m<module>\u001b[0m:\u001b[36m11\u001b[0m - \u001b[1mMoved file 1b0bfea3d5fe9e1af914a3035da6389f.nc to D:\\Documents\\3 Production Save Files\\1 Cloned repositories\\compstat-research\\data\\interim\\cds\\era5\\2m-temperature.\u001b[0m\n",
      "\u001b[32m2025-02-09 19:33:23.620\u001b[0m | \u001b[1mINFO    \u001b[0m | \u001b[36m__main__\u001b[0m:\u001b[36m<module>\u001b[0m:\u001b[36m11\u001b[0m - \u001b[1mMoved file 1c0a23142c5dfefabea2b4fb5fe8960d.nc to D:\\Documents\\3 Production Save Files\\1 Cloned repositories\\compstat-research\\data\\interim\\cds\\era5\\2m-temperature.\u001b[0m\n",
      "\u001b[32m2025-02-09 19:33:23.621\u001b[0m | \u001b[1mINFO    \u001b[0m | \u001b[36m__main__\u001b[0m:\u001b[36m<module>\u001b[0m:\u001b[36m11\u001b[0m - \u001b[1mMoved file 1dd85d092226669daf795ba7442ea4c1.nc to D:\\Documents\\3 Production Save Files\\1 Cloned repositories\\compstat-research\\data\\interim\\cds\\era5\\2m-temperature.\u001b[0m\n",
      "\u001b[32m2025-02-09 19:33:23.622\u001b[0m | \u001b[1mINFO    \u001b[0m | \u001b[36m__main__\u001b[0m:\u001b[36m<module>\u001b[0m:\u001b[36m11\u001b[0m - \u001b[1mMoved file 20c06b927c589bae81c79eced9d8c498.nc to D:\\Documents\\3 Production Save Files\\1 Cloned repositories\\compstat-research\\data\\interim\\cds\\era5\\2m-temperature.\u001b[0m\n",
      "\u001b[32m2025-02-09 19:33:23.622\u001b[0m | \u001b[1mINFO    \u001b[0m | \u001b[36m__main__\u001b[0m:\u001b[36m<module>\u001b[0m:\u001b[36m11\u001b[0m - \u001b[1mMoved file 23079395a3d9bde7efe2285d694b8ec9.nc to D:\\Documents\\3 Production Save Files\\1 Cloned repositories\\compstat-research\\data\\interim\\cds\\era5\\2m-temperature.\u001b[0m\n",
      "\u001b[32m2025-02-09 19:33:23.623\u001b[0m | \u001b[1mINFO    \u001b[0m | \u001b[36m__main__\u001b[0m:\u001b[36m<module>\u001b[0m:\u001b[36m11\u001b[0m - \u001b[1mMoved file 2597210d9172eec0da7be8be03256d84.nc to D:\\Documents\\3 Production Save Files\\1 Cloned repositories\\compstat-research\\data\\interim\\cds\\era5\\2m-temperature.\u001b[0m\n",
      "\u001b[32m2025-02-09 19:33:23.624\u001b[0m | \u001b[1mINFO    \u001b[0m | \u001b[36m__main__\u001b[0m:\u001b[36m<module>\u001b[0m:\u001b[36m11\u001b[0m - \u001b[1mMoved file 29e0a2356a44c14ce2aa28a6700bae49.nc to D:\\Documents\\3 Production Save Files\\1 Cloned repositories\\compstat-research\\data\\interim\\cds\\era5\\2m-temperature.\u001b[0m\n",
      "\u001b[32m2025-02-09 19:33:23.624\u001b[0m | \u001b[1mINFO    \u001b[0m | \u001b[36m__main__\u001b[0m:\u001b[36m<module>\u001b[0m:\u001b[36m11\u001b[0m - \u001b[1mMoved file 2d1bb5ae5790a7e50441a9edef728b49.nc to D:\\Documents\\3 Production Save Files\\1 Cloned repositories\\compstat-research\\data\\interim\\cds\\era5\\2m-temperature.\u001b[0m\n",
      "\u001b[32m2025-02-09 19:33:23.661\u001b[0m | \u001b[1mINFO    \u001b[0m | \u001b[36m__main__\u001b[0m:\u001b[36m<module>\u001b[0m:\u001b[36m11\u001b[0m - \u001b[1mMoved file 34e0bda374bed0537d474fca1b2ad0a4.nc to D:\\Documents\\3 Production Save Files\\1 Cloned repositories\\compstat-research\\data\\interim\\cds\\era5\\2m-temperature.\u001b[0m\n",
      "\u001b[32m2025-02-09 19:33:23.662\u001b[0m | \u001b[1mINFO    \u001b[0m | \u001b[36m__main__\u001b[0m:\u001b[36m<module>\u001b[0m:\u001b[36m11\u001b[0m - \u001b[1mMoved file 34e30322fe97015f7722561d87b67c89.nc to D:\\Documents\\3 Production Save Files\\1 Cloned repositories\\compstat-research\\data\\interim\\cds\\era5\\2m-temperature.\u001b[0m\n",
      "\u001b[32m2025-02-09 19:33:23.663\u001b[0m | \u001b[1mINFO    \u001b[0m | \u001b[36m__main__\u001b[0m:\u001b[36m<module>\u001b[0m:\u001b[36m11\u001b[0m - \u001b[1mMoved file 39cdb4dbf857a02b41bd22e8dedd0d65.nc to D:\\Documents\\3 Production Save Files\\1 Cloned repositories\\compstat-research\\data\\interim\\cds\\era5\\2m-temperature.\u001b[0m\n",
      "\u001b[32m2025-02-09 19:33:23.663\u001b[0m | \u001b[1mINFO    \u001b[0m | \u001b[36m__main__\u001b[0m:\u001b[36m<module>\u001b[0m:\u001b[36m11\u001b[0m - \u001b[1mMoved file 3b3411636a810ddabd82ecb7df452808.nc to D:\\Documents\\3 Production Save Files\\1 Cloned repositories\\compstat-research\\data\\interim\\cds\\era5\\2m-temperature.\u001b[0m\n",
      "\u001b[32m2025-02-09 19:33:23.664\u001b[0m | \u001b[1mINFO    \u001b[0m | \u001b[36m__main__\u001b[0m:\u001b[36m<module>\u001b[0m:\u001b[36m11\u001b[0m - \u001b[1mMoved file 3be9cf807dab7baa8ffba2379e27f920.nc to D:\\Documents\\3 Production Save Files\\1 Cloned repositories\\compstat-research\\data\\interim\\cds\\era5\\2m-temperature.\u001b[0m\n",
      "\u001b[32m2025-02-09 19:33:23.665\u001b[0m | \u001b[1mINFO    \u001b[0m | \u001b[36m__main__\u001b[0m:\u001b[36m<module>\u001b[0m:\u001b[36m11\u001b[0m - \u001b[1mMoved file 3c2d89bc1d0e8d18174bb540a2bed5db.nc to D:\\Documents\\3 Production Save Files\\1 Cloned repositories\\compstat-research\\data\\interim\\cds\\era5\\2m-temperature.\u001b[0m\n",
      "\u001b[32m2025-02-09 19:33:23.665\u001b[0m | \u001b[1mINFO    \u001b[0m | \u001b[36m__main__\u001b[0m:\u001b[36m<module>\u001b[0m:\u001b[36m11\u001b[0m - \u001b[1mMoved file 3dbc4e00e10fa3e9e7955336b4aaace6.nc to D:\\Documents\\3 Production Save Files\\1 Cloned repositories\\compstat-research\\data\\interim\\cds\\era5\\2m-temperature.\u001b[0m\n",
      "\u001b[32m2025-02-09 19:33:23.666\u001b[0m | \u001b[1mINFO    \u001b[0m | \u001b[36m__main__\u001b[0m:\u001b[36m<module>\u001b[0m:\u001b[36m11\u001b[0m - \u001b[1mMoved file 43291431144f99a267d70c5a7562a468.nc to D:\\Documents\\3 Production Save Files\\1 Cloned repositories\\compstat-research\\data\\interim\\cds\\era5\\2m-temperature.\u001b[0m\n",
      "\u001b[32m2025-02-09 19:33:23.667\u001b[0m | \u001b[1mINFO    \u001b[0m | \u001b[36m__main__\u001b[0m:\u001b[36m<module>\u001b[0m:\u001b[36m11\u001b[0m - \u001b[1mMoved file 440620ea9109dc889b315a9cab6434a2.nc to D:\\Documents\\3 Production Save Files\\1 Cloned repositories\\compstat-research\\data\\interim\\cds\\era5\\2m-temperature.\u001b[0m\n",
      "\u001b[32m2025-02-09 19:33:23.668\u001b[0m | \u001b[1mINFO    \u001b[0m | \u001b[36m__main__\u001b[0m:\u001b[36m<module>\u001b[0m:\u001b[36m11\u001b[0m - \u001b[1mMoved file 44bd1f55a3e65facd22f01c67ad876d2.nc to D:\\Documents\\3 Production Save Files\\1 Cloned repositories\\compstat-research\\data\\interim\\cds\\era5\\2m-temperature.\u001b[0m\n",
      "\u001b[32m2025-02-09 19:33:23.669\u001b[0m | \u001b[1mINFO    \u001b[0m | \u001b[36m__main__\u001b[0m:\u001b[36m<module>\u001b[0m:\u001b[36m11\u001b[0m - \u001b[1mMoved file 44e6da8e60b7c640eaffe910fee52a3f.nc to D:\\Documents\\3 Production Save Files\\1 Cloned repositories\\compstat-research\\data\\interim\\cds\\era5\\2m-temperature.\u001b[0m\n",
      "\u001b[32m2025-02-09 19:33:23.670\u001b[0m | \u001b[1mINFO    \u001b[0m | \u001b[36m__main__\u001b[0m:\u001b[36m<module>\u001b[0m:\u001b[36m11\u001b[0m - \u001b[1mMoved file 453f76f4ba509c29d43127f014f881c9.nc to D:\\Documents\\3 Production Save Files\\1 Cloned repositories\\compstat-research\\data\\interim\\cds\\era5\\2m-temperature.\u001b[0m\n",
      "\u001b[32m2025-02-09 19:33:23.671\u001b[0m | \u001b[1mINFO    \u001b[0m | \u001b[36m__main__\u001b[0m:\u001b[36m<module>\u001b[0m:\u001b[36m11\u001b[0m - \u001b[1mMoved file 47064d1bb4b74d45724eb485930c4a3b.nc to D:\\Documents\\3 Production Save Files\\1 Cloned repositories\\compstat-research\\data\\interim\\cds\\era5\\2m-temperature.\u001b[0m\n",
      "\u001b[32m2025-02-09 19:33:23.671\u001b[0m | \u001b[1mINFO    \u001b[0m | \u001b[36m__main__\u001b[0m:\u001b[36m<module>\u001b[0m:\u001b[36m11\u001b[0m - \u001b[1mMoved file 490aaf747751d551de47fbb97d268bfd.nc to D:\\Documents\\3 Production Save Files\\1 Cloned repositories\\compstat-research\\data\\interim\\cds\\era5\\2m-temperature.\u001b[0m\n",
      "\u001b[32m2025-02-09 19:33:23.672\u001b[0m | \u001b[1mINFO    \u001b[0m | \u001b[36m__main__\u001b[0m:\u001b[36m<module>\u001b[0m:\u001b[36m11\u001b[0m - \u001b[1mMoved file 4abd6f1ebe342da0f7999503adba50da.nc to D:\\Documents\\3 Production Save Files\\1 Cloned repositories\\compstat-research\\data\\interim\\cds\\era5\\2m-temperature.\u001b[0m\n",
      "\u001b[32m2025-02-09 19:33:23.673\u001b[0m | \u001b[1mINFO    \u001b[0m | \u001b[36m__main__\u001b[0m:\u001b[36m<module>\u001b[0m:\u001b[36m11\u001b[0m - \u001b[1mMoved file 4e2e247d27d2bb20e97e47c125e9dd7f.nc to D:\\Documents\\3 Production Save Files\\1 Cloned repositories\\compstat-research\\data\\interim\\cds\\era5\\2m-temperature.\u001b[0m\n",
      "\u001b[32m2025-02-09 19:33:23.674\u001b[0m | \u001b[1mINFO    \u001b[0m | \u001b[36m__main__\u001b[0m:\u001b[36m<module>\u001b[0m:\u001b[36m11\u001b[0m - \u001b[1mMoved file 538986b35d9bbedf5993582055fdadde.nc to D:\\Documents\\3 Production Save Files\\1 Cloned repositories\\compstat-research\\data\\interim\\cds\\era5\\2m-temperature.\u001b[0m\n",
      "\u001b[32m2025-02-09 19:33:23.674\u001b[0m | \u001b[1mINFO    \u001b[0m | \u001b[36m__main__\u001b[0m:\u001b[36m<module>\u001b[0m:\u001b[36m11\u001b[0m - \u001b[1mMoved file 56a90f640b87474e7b157113778aa7c0.nc to D:\\Documents\\3 Production Save Files\\1 Cloned repositories\\compstat-research\\data\\interim\\cds\\era5\\2m-temperature.\u001b[0m\n",
      "\u001b[32m2025-02-09 19:33:23.675\u001b[0m | \u001b[1mINFO    \u001b[0m | \u001b[36m__main__\u001b[0m:\u001b[36m<module>\u001b[0m:\u001b[36m11\u001b[0m - \u001b[1mMoved file 57907dd5c539dfcef29a71dbd192821a.nc to D:\\Documents\\3 Production Save Files\\1 Cloned repositories\\compstat-research\\data\\interim\\cds\\era5\\2m-temperature.\u001b[0m\n",
      "\u001b[32m2025-02-09 19:33:23.676\u001b[0m | \u001b[1mINFO    \u001b[0m | \u001b[36m__main__\u001b[0m:\u001b[36m<module>\u001b[0m:\u001b[36m11\u001b[0m - \u001b[1mMoved file 5ce25fe37fe15f5b9f679f97560a06fe.nc to D:\\Documents\\3 Production Save Files\\1 Cloned repositories\\compstat-research\\data\\interim\\cds\\era5\\2m-temperature.\u001b[0m\n",
      "\u001b[32m2025-02-09 19:33:23.676\u001b[0m | \u001b[1mINFO    \u001b[0m | \u001b[36m__main__\u001b[0m:\u001b[36m<module>\u001b[0m:\u001b[36m11\u001b[0m - \u001b[1mMoved file 5da67a40b2934a3d934064600b3cf1c6.nc to D:\\Documents\\3 Production Save Files\\1 Cloned repositories\\compstat-research\\data\\interim\\cds\\era5\\2m-temperature.\u001b[0m\n",
      "\u001b[32m2025-02-09 19:33:23.677\u001b[0m | \u001b[1mINFO    \u001b[0m | \u001b[36m__main__\u001b[0m:\u001b[36m<module>\u001b[0m:\u001b[36m11\u001b[0m - \u001b[1mMoved file 5ef4e7b8b5b9415a2b8e366d52f2fbdc.nc to D:\\Documents\\3 Production Save Files\\1 Cloned repositories\\compstat-research\\data\\interim\\cds\\era5\\2m-temperature.\u001b[0m\n",
      "\u001b[32m2025-02-09 19:33:23.678\u001b[0m | \u001b[1mINFO    \u001b[0m | \u001b[36m__main__\u001b[0m:\u001b[36m<module>\u001b[0m:\u001b[36m11\u001b[0m - \u001b[1mMoved file 5f7262bdcd99f0fda5a75319004f325c.nc to D:\\Documents\\3 Production Save Files\\1 Cloned repositories\\compstat-research\\data\\interim\\cds\\era5\\2m-temperature.\u001b[0m\n",
      "\u001b[32m2025-02-09 19:33:23.678\u001b[0m | \u001b[1mINFO    \u001b[0m | \u001b[36m__main__\u001b[0m:\u001b[36m<module>\u001b[0m:\u001b[36m11\u001b[0m - \u001b[1mMoved file 6065a8d2868a682601200cde536efb17.nc to D:\\Documents\\3 Production Save Files\\1 Cloned repositories\\compstat-research\\data\\interim\\cds\\era5\\2m-temperature.\u001b[0m\n",
      "\u001b[32m2025-02-09 19:33:23.679\u001b[0m | \u001b[1mINFO    \u001b[0m | \u001b[36m__main__\u001b[0m:\u001b[36m<module>\u001b[0m:\u001b[36m11\u001b[0m - \u001b[1mMoved file 67427a96b663f41a634553161d6d3672.nc to D:\\Documents\\3 Production Save Files\\1 Cloned repositories\\compstat-research\\data\\interim\\cds\\era5\\2m-temperature.\u001b[0m\n",
      "\u001b[32m2025-02-09 19:33:23.680\u001b[0m | \u001b[1mINFO    \u001b[0m | \u001b[36m__main__\u001b[0m:\u001b[36m<module>\u001b[0m:\u001b[36m11\u001b[0m - \u001b[1mMoved file 6bf08f2c1b48507028d88e527d3caa89.nc to D:\\Documents\\3 Production Save Files\\1 Cloned repositories\\compstat-research\\data\\interim\\cds\\era5\\2m-temperature.\u001b[0m\n",
      "\u001b[32m2025-02-09 19:33:23.681\u001b[0m | \u001b[1mINFO    \u001b[0m | \u001b[36m__main__\u001b[0m:\u001b[36m<module>\u001b[0m:\u001b[36m11\u001b[0m - \u001b[1mMoved file 6d67c4ab5800745ce6a64703dc41dccf.nc to D:\\Documents\\3 Production Save Files\\1 Cloned repositories\\compstat-research\\data\\interim\\cds\\era5\\2m-temperature.\u001b[0m\n",
      "\u001b[32m2025-02-09 19:33:23.681\u001b[0m | \u001b[1mINFO    \u001b[0m | \u001b[36m__main__\u001b[0m:\u001b[36m<module>\u001b[0m:\u001b[36m11\u001b[0m - \u001b[1mMoved file 6eeeea7009f2da176bbae565ed43e25f.nc to D:\\Documents\\3 Production Save Files\\1 Cloned repositories\\compstat-research\\data\\interim\\cds\\era5\\2m-temperature.\u001b[0m\n",
      "\u001b[32m2025-02-09 19:33:23.682\u001b[0m | \u001b[1mINFO    \u001b[0m | \u001b[36m__main__\u001b[0m:\u001b[36m<module>\u001b[0m:\u001b[36m11\u001b[0m - \u001b[1mMoved file 72e1d7774535789ba4034df77a36f90e.nc to D:\\Documents\\3 Production Save Files\\1 Cloned repositories\\compstat-research\\data\\interim\\cds\\era5\\2m-temperature.\u001b[0m\n",
      "\u001b[32m2025-02-09 19:33:23.682\u001b[0m | \u001b[1mINFO    \u001b[0m | \u001b[36m__main__\u001b[0m:\u001b[36m<module>\u001b[0m:\u001b[36m11\u001b[0m - \u001b[1mMoved file 74cc68b950ab2f3b59b02175a9e961a9.nc to D:\\Documents\\3 Production Save Files\\1 Cloned repositories\\compstat-research\\data\\interim\\cds\\era5\\2m-temperature.\u001b[0m\n",
      "\u001b[32m2025-02-09 19:33:23.683\u001b[0m | \u001b[1mINFO    \u001b[0m | \u001b[36m__main__\u001b[0m:\u001b[36m<module>\u001b[0m:\u001b[36m11\u001b[0m - \u001b[1mMoved file 76ce8becfcc3932d2e6d5912cf597da1.nc to D:\\Documents\\3 Production Save Files\\1 Cloned repositories\\compstat-research\\data\\interim\\cds\\era5\\2m-temperature.\u001b[0m\n",
      "\u001b[32m2025-02-09 19:33:23.684\u001b[0m | \u001b[1mINFO    \u001b[0m | \u001b[36m__main__\u001b[0m:\u001b[36m<module>\u001b[0m:\u001b[36m11\u001b[0m - \u001b[1mMoved file 7acc123ef621085534ce8f9226a9199e.nc to D:\\Documents\\3 Production Save Files\\1 Cloned repositories\\compstat-research\\data\\interim\\cds\\era5\\2m-temperature.\u001b[0m\n",
      "\u001b[32m2025-02-09 19:33:23.685\u001b[0m | \u001b[1mINFO    \u001b[0m | \u001b[36m__main__\u001b[0m:\u001b[36m<module>\u001b[0m:\u001b[36m11\u001b[0m - \u001b[1mMoved file 7bd5d25a609595ae7fd2fbfa04fc520f.nc to D:\\Documents\\3 Production Save Files\\1 Cloned repositories\\compstat-research\\data\\interim\\cds\\era5\\2m-temperature.\u001b[0m\n",
      "\u001b[32m2025-02-09 19:33:23.685\u001b[0m | \u001b[1mINFO    \u001b[0m | \u001b[36m__main__\u001b[0m:\u001b[36m<module>\u001b[0m:\u001b[36m11\u001b[0m - \u001b[1mMoved file 7f4cc2a75037e81a3a883c47ce43f983.nc to D:\\Documents\\3 Production Save Files\\1 Cloned repositories\\compstat-research\\data\\interim\\cds\\era5\\2m-temperature.\u001b[0m\n",
      "\u001b[32m2025-02-09 19:33:23.686\u001b[0m | \u001b[1mINFO    \u001b[0m | \u001b[36m__main__\u001b[0m:\u001b[36m<module>\u001b[0m:\u001b[36m11\u001b[0m - \u001b[1mMoved file 84c18043e34e9b05c613ff606029fa88.nc to D:\\Documents\\3 Production Save Files\\1 Cloned repositories\\compstat-research\\data\\interim\\cds\\era5\\2m-temperature.\u001b[0m\n",
      "\u001b[32m2025-02-09 19:33:23.687\u001b[0m | \u001b[1mINFO    \u001b[0m | \u001b[36m__main__\u001b[0m:\u001b[36m<module>\u001b[0m:\u001b[36m11\u001b[0m - \u001b[1mMoved file 8a4afe8431c7fc28936857cad2419152.nc to D:\\Documents\\3 Production Save Files\\1 Cloned repositories\\compstat-research\\data\\interim\\cds\\era5\\2m-temperature.\u001b[0m\n",
      "\u001b[32m2025-02-09 19:33:23.687\u001b[0m | \u001b[1mINFO    \u001b[0m | \u001b[36m__main__\u001b[0m:\u001b[36m<module>\u001b[0m:\u001b[36m11\u001b[0m - \u001b[1mMoved file 8c27be8f7d5b114c8563135fb481aecc.nc to D:\\Documents\\3 Production Save Files\\1 Cloned repositories\\compstat-research\\data\\interim\\cds\\era5\\2m-temperature.\u001b[0m\n",
      "\u001b[32m2025-02-09 19:33:23.688\u001b[0m | \u001b[1mINFO    \u001b[0m | \u001b[36m__main__\u001b[0m:\u001b[36m<module>\u001b[0m:\u001b[36m11\u001b[0m - \u001b[1mMoved file 90cdb79e0c8fe48cc7f197a5f22d5c77.nc to D:\\Documents\\3 Production Save Files\\1 Cloned repositories\\compstat-research\\data\\interim\\cds\\era5\\2m-temperature.\u001b[0m\n",
      "\u001b[32m2025-02-09 19:33:23.689\u001b[0m | \u001b[1mINFO    \u001b[0m | \u001b[36m__main__\u001b[0m:\u001b[36m<module>\u001b[0m:\u001b[36m11\u001b[0m - \u001b[1mMoved file 91979c0c59b64744121e2544d8e71a98.nc to D:\\Documents\\3 Production Save Files\\1 Cloned repositories\\compstat-research\\data\\interim\\cds\\era5\\2m-temperature.\u001b[0m\n",
      "\u001b[32m2025-02-09 19:33:23.689\u001b[0m | \u001b[1mINFO    \u001b[0m | \u001b[36m__main__\u001b[0m:\u001b[36m<module>\u001b[0m:\u001b[36m11\u001b[0m - \u001b[1mMoved file 9199f0cd16a75a856b53229f9ac2ac1b.nc to D:\\Documents\\3 Production Save Files\\1 Cloned repositories\\compstat-research\\data\\interim\\cds\\era5\\2m-temperature.\u001b[0m\n",
      "\u001b[32m2025-02-09 19:33:23.690\u001b[0m | \u001b[1mINFO    \u001b[0m | \u001b[36m__main__\u001b[0m:\u001b[36m<module>\u001b[0m:\u001b[36m11\u001b[0m - \u001b[1mMoved file 981eaccd3735c9c0cdae7cce728aa667.nc to D:\\Documents\\3 Production Save Files\\1 Cloned repositories\\compstat-research\\data\\interim\\cds\\era5\\2m-temperature.\u001b[0m\n",
      "\u001b[32m2025-02-09 19:33:23.690\u001b[0m | \u001b[1mINFO    \u001b[0m | \u001b[36m__main__\u001b[0m:\u001b[36m<module>\u001b[0m:\u001b[36m11\u001b[0m - \u001b[1mMoved file 9843adc7774ae06aff65080e74719346.nc to D:\\Documents\\3 Production Save Files\\1 Cloned repositories\\compstat-research\\data\\interim\\cds\\era5\\2m-temperature.\u001b[0m\n",
      "\u001b[32m2025-02-09 19:33:23.691\u001b[0m | \u001b[1mINFO    \u001b[0m | \u001b[36m__main__\u001b[0m:\u001b[36m<module>\u001b[0m:\u001b[36m11\u001b[0m - \u001b[1mMoved file 98ff3cce4353bbface54939c70c7b72e.nc to D:\\Documents\\3 Production Save Files\\1 Cloned repositories\\compstat-research\\data\\interim\\cds\\era5\\2m-temperature.\u001b[0m\n",
      "\u001b[32m2025-02-09 19:33:23.692\u001b[0m | \u001b[1mINFO    \u001b[0m | \u001b[36m__main__\u001b[0m:\u001b[36m<module>\u001b[0m:\u001b[36m11\u001b[0m - \u001b[1mMoved file 99a6cc9cbaee8a9bf8912cee5d509024.nc to D:\\Documents\\3 Production Save Files\\1 Cloned repositories\\compstat-research\\data\\interim\\cds\\era5\\2m-temperature.\u001b[0m\n",
      "\u001b[32m2025-02-09 19:33:23.692\u001b[0m | \u001b[1mINFO    \u001b[0m | \u001b[36m__main__\u001b[0m:\u001b[36m<module>\u001b[0m:\u001b[36m11\u001b[0m - \u001b[1mMoved file 9f5fa5e241ddffca9f03860c221a7f3b.nc to D:\\Documents\\3 Production Save Files\\1 Cloned repositories\\compstat-research\\data\\interim\\cds\\era5\\2m-temperature.\u001b[0m\n",
      "\u001b[32m2025-02-09 19:33:23.693\u001b[0m | \u001b[1mINFO    \u001b[0m | \u001b[36m__main__\u001b[0m:\u001b[36m<module>\u001b[0m:\u001b[36m11\u001b[0m - \u001b[1mMoved file a19da303ad26510f4158b79cbfa2b295.nc to D:\\Documents\\3 Production Save Files\\1 Cloned repositories\\compstat-research\\data\\interim\\cds\\era5\\2m-temperature.\u001b[0m\n",
      "\u001b[32m2025-02-09 19:33:23.693\u001b[0m | \u001b[1mINFO    \u001b[0m | \u001b[36m__main__\u001b[0m:\u001b[36m<module>\u001b[0m:\u001b[36m11\u001b[0m - \u001b[1mMoved file ae92a55222fb76edb458ad70a90866a0.nc to D:\\Documents\\3 Production Save Files\\1 Cloned repositories\\compstat-research\\data\\interim\\cds\\era5\\2m-temperature.\u001b[0m\n",
      "\u001b[32m2025-02-09 19:33:23.695\u001b[0m | \u001b[1mINFO    \u001b[0m | \u001b[36m__main__\u001b[0m:\u001b[36m<module>\u001b[0m:\u001b[36m11\u001b[0m - \u001b[1mMoved file b4c6c3b5ff167aca8d5fff7905338108.nc to D:\\Documents\\3 Production Save Files\\1 Cloned repositories\\compstat-research\\data\\interim\\cds\\era5\\2m-temperature.\u001b[0m\n",
      "\u001b[32m2025-02-09 19:33:23.714\u001b[0m | \u001b[1mINFO    \u001b[0m | \u001b[36m__main__\u001b[0m:\u001b[36m<module>\u001b[0m:\u001b[36m11\u001b[0m - \u001b[1mMoved file b9674fb675e49538f337d7b2bc25673e.nc to D:\\Documents\\3 Production Save Files\\1 Cloned repositories\\compstat-research\\data\\interim\\cds\\era5\\2m-temperature.\u001b[0m\n",
      "\u001b[32m2025-02-09 19:33:23.715\u001b[0m | \u001b[1mINFO    \u001b[0m | \u001b[36m__main__\u001b[0m:\u001b[36m<module>\u001b[0m:\u001b[36m11\u001b[0m - \u001b[1mMoved file bbf496bf073ed3020689456e03cb39c8.nc to D:\\Documents\\3 Production Save Files\\1 Cloned repositories\\compstat-research\\data\\interim\\cds\\era5\\2m-temperature.\u001b[0m\n",
      "\u001b[32m2025-02-09 19:33:23.716\u001b[0m | \u001b[1mINFO    \u001b[0m | \u001b[36m__main__\u001b[0m:\u001b[36m<module>\u001b[0m:\u001b[36m11\u001b[0m - \u001b[1mMoved file bd6a08517592dfde2cc25770da7b125c.nc to D:\\Documents\\3 Production Save Files\\1 Cloned repositories\\compstat-research\\data\\interim\\cds\\era5\\2m-temperature.\u001b[0m\n",
      "\u001b[32m2025-02-09 19:33:23.717\u001b[0m | \u001b[1mINFO    \u001b[0m | \u001b[36m__main__\u001b[0m:\u001b[36m<module>\u001b[0m:\u001b[36m11\u001b[0m - \u001b[1mMoved file bf93a68b5d600b14eced12a737345222.nc to D:\\Documents\\3 Production Save Files\\1 Cloned repositories\\compstat-research\\data\\interim\\cds\\era5\\2m-temperature.\u001b[0m\n",
      "\u001b[32m2025-02-09 19:33:23.718\u001b[0m | \u001b[1mINFO    \u001b[0m | \u001b[36m__main__\u001b[0m:\u001b[36m<module>\u001b[0m:\u001b[36m11\u001b[0m - \u001b[1mMoved file bff459f62568a2f4adbbf3e6d659503b.nc to D:\\Documents\\3 Production Save Files\\1 Cloned repositories\\compstat-research\\data\\interim\\cds\\era5\\2m-temperature.\u001b[0m\n",
      "\u001b[32m2025-02-09 19:33:23.718\u001b[0m | \u001b[1mINFO    \u001b[0m | \u001b[36m__main__\u001b[0m:\u001b[36m<module>\u001b[0m:\u001b[36m11\u001b[0m - \u001b[1mMoved file c23c5787b9117f7c77b24a6ff55cda96.nc to D:\\Documents\\3 Production Save Files\\1 Cloned repositories\\compstat-research\\data\\interim\\cds\\era5\\2m-temperature.\u001b[0m\n",
      "\u001b[32m2025-02-09 19:33:23.719\u001b[0m | \u001b[1mINFO    \u001b[0m | \u001b[36m__main__\u001b[0m:\u001b[36m<module>\u001b[0m:\u001b[36m11\u001b[0m - \u001b[1mMoved file c678b1b49048e31c4ae456cbefee57ec.nc to D:\\Documents\\3 Production Save Files\\1 Cloned repositories\\compstat-research\\data\\interim\\cds\\era5\\2m-temperature.\u001b[0m\n",
      "\u001b[32m2025-02-09 19:33:23.720\u001b[0m | \u001b[1mINFO    \u001b[0m | \u001b[36m__main__\u001b[0m:\u001b[36m<module>\u001b[0m:\u001b[36m11\u001b[0m - \u001b[1mMoved file cba691de8bacec0ce69ec10d185eb9b3.nc to D:\\Documents\\3 Production Save Files\\1 Cloned repositories\\compstat-research\\data\\interim\\cds\\era5\\2m-temperature.\u001b[0m\n",
      "\u001b[32m2025-02-09 19:33:23.721\u001b[0m | \u001b[1mINFO    \u001b[0m | \u001b[36m__main__\u001b[0m:\u001b[36m<module>\u001b[0m:\u001b[36m11\u001b[0m - \u001b[1mMoved file d01951af620d948f61272af942c933c8.nc to D:\\Documents\\3 Production Save Files\\1 Cloned repositories\\compstat-research\\data\\interim\\cds\\era5\\2m-temperature.\u001b[0m\n",
      "\u001b[32m2025-02-09 19:33:23.721\u001b[0m | \u001b[1mINFO    \u001b[0m | \u001b[36m__main__\u001b[0m:\u001b[36m<module>\u001b[0m:\u001b[36m11\u001b[0m - \u001b[1mMoved file d14e2c5142c483230191741215e1e43.nc to D:\\Documents\\3 Production Save Files\\1 Cloned repositories\\compstat-research\\data\\interim\\cds\\era5\\2m-temperature.\u001b[0m\n",
      "\u001b[32m2025-02-09 19:33:23.722\u001b[0m | \u001b[1mINFO    \u001b[0m | \u001b[36m__main__\u001b[0m:\u001b[36m<module>\u001b[0m:\u001b[36m11\u001b[0m - \u001b[1mMoved file d37cef0fd088babfaeb6faed201d882d.nc to D:\\Documents\\3 Production Save Files\\1 Cloned repositories\\compstat-research\\data\\interim\\cds\\era5\\2m-temperature.\u001b[0m\n",
      "\u001b[32m2025-02-09 19:33:23.722\u001b[0m | \u001b[1mINFO    \u001b[0m | \u001b[36m__main__\u001b[0m:\u001b[36m<module>\u001b[0m:\u001b[36m11\u001b[0m - \u001b[1mMoved file d43672bcf34b4d69491aa2f10a475d44.nc to D:\\Documents\\3 Production Save Files\\1 Cloned repositories\\compstat-research\\data\\interim\\cds\\era5\\2m-temperature.\u001b[0m\n",
      "\u001b[32m2025-02-09 19:33:23.723\u001b[0m | \u001b[1mINFO    \u001b[0m | \u001b[36m__main__\u001b[0m:\u001b[36m<module>\u001b[0m:\u001b[36m11\u001b[0m - \u001b[1mMoved file d4530489ed74ba1b77bdb534ab220d.nc to D:\\Documents\\3 Production Save Files\\1 Cloned repositories\\compstat-research\\data\\interim\\cds\\era5\\2m-temperature.\u001b[0m\n",
      "\u001b[32m2025-02-09 19:33:23.723\u001b[0m | \u001b[1mINFO    \u001b[0m | \u001b[36m__main__\u001b[0m:\u001b[36m<module>\u001b[0m:\u001b[36m11\u001b[0m - \u001b[1mMoved file d62c5f4bf48923e90b2f837f7bae0e9b.nc to D:\\Documents\\3 Production Save Files\\1 Cloned repositories\\compstat-research\\data\\interim\\cds\\era5\\2m-temperature.\u001b[0m\n",
      "\u001b[32m2025-02-09 19:33:23.724\u001b[0m | \u001b[1mINFO    \u001b[0m | \u001b[36m__main__\u001b[0m:\u001b[36m<module>\u001b[0m:\u001b[36m11\u001b[0m - \u001b[1mMoved file d8bccf6e4bad7057382f53916990507e.nc to D:\\Documents\\3 Production Save Files\\1 Cloned repositories\\compstat-research\\data\\interim\\cds\\era5\\2m-temperature.\u001b[0m\n",
      "\u001b[32m2025-02-09 19:33:23.725\u001b[0m | \u001b[1mINFO    \u001b[0m | \u001b[36m__main__\u001b[0m:\u001b[36m<module>\u001b[0m:\u001b[36m11\u001b[0m - \u001b[1mMoved file dd479f6a3719deef4e6645dbc2d5fff1.nc to D:\\Documents\\3 Production Save Files\\1 Cloned repositories\\compstat-research\\data\\interim\\cds\\era5\\2m-temperature.\u001b[0m\n",
      "\u001b[32m2025-02-09 19:33:23.725\u001b[0m | \u001b[1mINFO    \u001b[0m | \u001b[36m__main__\u001b[0m:\u001b[36m<module>\u001b[0m:\u001b[36m11\u001b[0m - \u001b[1mMoved file e2ecf10d16432b60fcca98b20ca22d10.nc to D:\\Documents\\3 Production Save Files\\1 Cloned repositories\\compstat-research\\data\\interim\\cds\\era5\\2m-temperature.\u001b[0m\n",
      "\u001b[32m2025-02-09 19:33:23.726\u001b[0m | \u001b[1mINFO    \u001b[0m | \u001b[36m__main__\u001b[0m:\u001b[36m<module>\u001b[0m:\u001b[36m11\u001b[0m - \u001b[1mMoved file ea5f9cc94676d8b5db714068a882e307.nc to D:\\Documents\\3 Production Save Files\\1 Cloned repositories\\compstat-research\\data\\interim\\cds\\era5\\2m-temperature.\u001b[0m\n",
      "\u001b[32m2025-02-09 19:33:23.726\u001b[0m | \u001b[1mINFO    \u001b[0m | \u001b[36m__main__\u001b[0m:\u001b[36m<module>\u001b[0m:\u001b[36m11\u001b[0m - \u001b[1mMoved file ee66dc9d181cc72a7af8dc2fd6dfaff1.nc to D:\\Documents\\3 Production Save Files\\1 Cloned repositories\\compstat-research\\data\\interim\\cds\\era5\\2m-temperature.\u001b[0m\n",
      "\u001b[32m2025-02-09 19:33:23.727\u001b[0m | \u001b[1mINFO    \u001b[0m | \u001b[36m__main__\u001b[0m:\u001b[36m<module>\u001b[0m:\u001b[36m11\u001b[0m - \u001b[1mMoved file ef707b96bd214d7aa139169152faebaf.nc to D:\\Documents\\3 Production Save Files\\1 Cloned repositories\\compstat-research\\data\\interim\\cds\\era5\\2m-temperature.\u001b[0m\n",
      "\u001b[32m2025-02-09 19:33:23.727\u001b[0m | \u001b[1mINFO    \u001b[0m | \u001b[36m__main__\u001b[0m:\u001b[36m<module>\u001b[0m:\u001b[36m11\u001b[0m - \u001b[1mMoved file f781169dfb9bd0c2d91d90bd26d7ee46.nc to D:\\Documents\\3 Production Save Files\\1 Cloned repositories\\compstat-research\\data\\interim\\cds\\era5\\2m-temperature.\u001b[0m\n",
      "\u001b[32m2025-02-09 19:33:23.728\u001b[0m | \u001b[1mINFO    \u001b[0m | \u001b[36m__main__\u001b[0m:\u001b[36m<module>\u001b[0m:\u001b[36m11\u001b[0m - \u001b[1mMoved file f95ebcf482c5912958602ba1aaae7bcf.nc to D:\\Documents\\3 Production Save Files\\1 Cloned repositories\\compstat-research\\data\\interim\\cds\\era5\\2m-temperature.\u001b[0m\n",
      "\u001b[32m2025-02-09 19:33:23.745\u001b[0m | \u001b[1mINFO    \u001b[0m | \u001b[36m__main__\u001b[0m:\u001b[36m<module>\u001b[0m:\u001b[36m11\u001b[0m - \u001b[1mMoved file fa43d2af97b5aee4ab6a09373b81f51e.nc to D:\\Documents\\3 Production Save Files\\1 Cloned repositories\\compstat-research\\data\\interim\\cds\\era5\\2m-temperature.\u001b[0m\n"
     ]
    }
   ],
   "source": [
    "currentPath = Path()\n",
    "savePath = INTERIM_DATA_DIR / \"cds\" / \"era5\" / \"2m-temperature\"\n",
    "\n",
    "if not savePath.exists():\n",
    "    savePath.mkdir(parents=True)\n",
    "\n",
    "logger.add(\"1.0-iragca-cds-data.log\", rotation=\"500 MB\", retention=\"7 days\", compression=\"zip\")\n",
    "for file in currentPath.iterdir():\n",
    "    if file.is_file() and file.suffix == \".nc\":\n",
    "        file.rename(savePath / file.name)\n",
    "        logger.info(f\"Moved file {file.name} to {savePath}.\")"
   ]
  },
  {
   "cell_type": "code",
   "execution_count": 15,
   "metadata": {},
   "outputs": [
    {
     "name": "stderr",
     "output_type": "stream",
     "text": [
      "\u001b[32m2025-02-08 21:12:37.187\u001b[0m | \u001b[1mINFO    \u001b[0m | \u001b[36m__main__\u001b[0m:\u001b[36m<module>\u001b[0m:\u001b[36m8\u001b[0m - \u001b[1mReading file 11376002cd7f0ebab274a02b3e7b87af.nc\u001b[0m\n",
      "\u001b[32m2025-02-08 21:12:37.719\u001b[0m | \u001b[1mINFO    \u001b[0m | \u001b[36m__main__\u001b[0m:\u001b[36m<module>\u001b[0m:\u001b[36m11\u001b[0m - \u001b[1mFile 11376002cd7f0ebab274a02b3e7b87af.nc read successfully.\u001b[0m\n",
      "\u001b[32m2025-02-08 21:12:37.721\u001b[0m | \u001b[1mINFO    \u001b[0m | \u001b[36m__main__\u001b[0m:\u001b[36m<module>\u001b[0m:\u001b[36m8\u001b[0m - \u001b[1mReading file 13f1e53413d59f05a4f701f874e5d0f9.nc\u001b[0m\n",
      "\u001b[32m2025-02-08 21:12:37.869\u001b[0m | \u001b[1mINFO    \u001b[0m | \u001b[36m__main__\u001b[0m:\u001b[36m<module>\u001b[0m:\u001b[36m11\u001b[0m - \u001b[1mFile 13f1e53413d59f05a4f701f874e5d0f9.nc read successfully.\u001b[0m\n",
      "\u001b[32m2025-02-08 21:12:37.870\u001b[0m | \u001b[1mINFO    \u001b[0m | \u001b[36m__main__\u001b[0m:\u001b[36m<module>\u001b[0m:\u001b[36m8\u001b[0m - \u001b[1mReading file 150f29fa89d81a023d34470043f577a5.nc\u001b[0m\n",
      "\u001b[32m2025-02-08 21:12:38.020\u001b[0m | \u001b[1mINFO    \u001b[0m | \u001b[36m__main__\u001b[0m:\u001b[36m<module>\u001b[0m:\u001b[36m11\u001b[0m - \u001b[1mFile 150f29fa89d81a023d34470043f577a5.nc read successfully.\u001b[0m\n",
      "\u001b[32m2025-02-08 21:12:38.022\u001b[0m | \u001b[1mINFO    \u001b[0m | \u001b[36m__main__\u001b[0m:\u001b[36m<module>\u001b[0m:\u001b[36m8\u001b[0m - \u001b[1mReading file 17e15151c2663f11efac6b8fcb6090ff.nc\u001b[0m\n",
      "\u001b[32m2025-02-08 21:12:38.243\u001b[0m | \u001b[1mINFO    \u001b[0m | \u001b[36m__main__\u001b[0m:\u001b[36m<module>\u001b[0m:\u001b[36m11\u001b[0m - \u001b[1mFile 17e15151c2663f11efac6b8fcb6090ff.nc read successfully.\u001b[0m\n",
      "\u001b[32m2025-02-08 21:12:38.244\u001b[0m | \u001b[1mINFO    \u001b[0m | \u001b[36m__main__\u001b[0m:\u001b[36m<module>\u001b[0m:\u001b[36m8\u001b[0m - \u001b[1mReading file 18364ada71922ea5af598ad68de48859.nc\u001b[0m\n",
      "\u001b[32m2025-02-08 21:12:38.384\u001b[0m | \u001b[1mINFO    \u001b[0m | \u001b[36m__main__\u001b[0m:\u001b[36m<module>\u001b[0m:\u001b[36m11\u001b[0m - \u001b[1mFile 18364ada71922ea5af598ad68de48859.nc read successfully.\u001b[0m\n",
      "\u001b[32m2025-02-08 21:12:38.385\u001b[0m | \u001b[1mINFO    \u001b[0m | \u001b[36m__main__\u001b[0m:\u001b[36m<module>\u001b[0m:\u001b[36m8\u001b[0m - \u001b[1mReading file 1ae1e6ff688ec11dda4d66cbea7b2485.nc\u001b[0m\n",
      "\u001b[32m2025-02-08 21:12:38.507\u001b[0m | \u001b[1mINFO    \u001b[0m | \u001b[36m__main__\u001b[0m:\u001b[36m<module>\u001b[0m:\u001b[36m11\u001b[0m - \u001b[1mFile 1ae1e6ff688ec11dda4d66cbea7b2485.nc read successfully.\u001b[0m\n",
      "\u001b[32m2025-02-08 21:12:38.508\u001b[0m | \u001b[1mINFO    \u001b[0m | \u001b[36m__main__\u001b[0m:\u001b[36m<module>\u001b[0m:\u001b[36m8\u001b[0m - \u001b[1mReading file 1b0bfea3d5fe9e1af914a3035da6389f.nc\u001b[0m\n",
      "\u001b[32m2025-02-08 21:12:38.621\u001b[0m | \u001b[1mINFO    \u001b[0m | \u001b[36m__main__\u001b[0m:\u001b[36m<module>\u001b[0m:\u001b[36m11\u001b[0m - \u001b[1mFile 1b0bfea3d5fe9e1af914a3035da6389f.nc read successfully.\u001b[0m\n",
      "\u001b[32m2025-02-08 21:12:38.622\u001b[0m | \u001b[1mINFO    \u001b[0m | \u001b[36m__main__\u001b[0m:\u001b[36m<module>\u001b[0m:\u001b[36m8\u001b[0m - \u001b[1mReading file 1c0a23142c5dfefabea2b4fb5fe8960d.nc\u001b[0m\n",
      "\u001b[32m2025-02-08 21:12:38.735\u001b[0m | \u001b[1mINFO    \u001b[0m | \u001b[36m__main__\u001b[0m:\u001b[36m<module>\u001b[0m:\u001b[36m11\u001b[0m - \u001b[1mFile 1c0a23142c5dfefabea2b4fb5fe8960d.nc read successfully.\u001b[0m\n",
      "\u001b[32m2025-02-08 21:12:38.737\u001b[0m | \u001b[1mINFO    \u001b[0m | \u001b[36m__main__\u001b[0m:\u001b[36m<module>\u001b[0m:\u001b[36m8\u001b[0m - \u001b[1mReading file 1dd85d092226669daf795ba7442ea4c1.nc\u001b[0m\n",
      "\u001b[32m2025-02-08 21:12:38.852\u001b[0m | \u001b[1mINFO    \u001b[0m | \u001b[36m__main__\u001b[0m:\u001b[36m<module>\u001b[0m:\u001b[36m11\u001b[0m - \u001b[1mFile 1dd85d092226669daf795ba7442ea4c1.nc read successfully.\u001b[0m\n",
      "\u001b[32m2025-02-08 21:12:38.853\u001b[0m | \u001b[1mINFO    \u001b[0m | \u001b[36m__main__\u001b[0m:\u001b[36m<module>\u001b[0m:\u001b[36m8\u001b[0m - \u001b[1mReading file 20c06b927c589bae81c79eced9d8c498.nc\u001b[0m\n",
      "\u001b[32m2025-02-08 21:12:38.969\u001b[0m | \u001b[1mINFO    \u001b[0m | \u001b[36m__main__\u001b[0m:\u001b[36m<module>\u001b[0m:\u001b[36m11\u001b[0m - \u001b[1mFile 20c06b927c589bae81c79eced9d8c498.nc read successfully.\u001b[0m\n",
      "\u001b[32m2025-02-08 21:12:38.970\u001b[0m | \u001b[1mINFO    \u001b[0m | \u001b[36m__main__\u001b[0m:\u001b[36m<module>\u001b[0m:\u001b[36m8\u001b[0m - \u001b[1mReading file 23079395a3d9bde7efe2285d694b8ec9.nc\u001b[0m\n",
      "\u001b[32m2025-02-08 21:12:39.082\u001b[0m | \u001b[1mINFO    \u001b[0m | \u001b[36m__main__\u001b[0m:\u001b[36m<module>\u001b[0m:\u001b[36m11\u001b[0m - \u001b[1mFile 23079395a3d9bde7efe2285d694b8ec9.nc read successfully.\u001b[0m\n",
      "\u001b[32m2025-02-08 21:12:39.083\u001b[0m | \u001b[1mINFO    \u001b[0m | \u001b[36m__main__\u001b[0m:\u001b[36m<module>\u001b[0m:\u001b[36m8\u001b[0m - \u001b[1mReading file 2597210d9172eec0da7be8be03256d84.nc\u001b[0m\n",
      "\u001b[32m2025-02-08 21:12:39.197\u001b[0m | \u001b[1mINFO    \u001b[0m | \u001b[36m__main__\u001b[0m:\u001b[36m<module>\u001b[0m:\u001b[36m11\u001b[0m - \u001b[1mFile 2597210d9172eec0da7be8be03256d84.nc read successfully.\u001b[0m\n",
      "\u001b[32m2025-02-08 21:12:39.199\u001b[0m | \u001b[1mINFO    \u001b[0m | \u001b[36m__main__\u001b[0m:\u001b[36m<module>\u001b[0m:\u001b[36m8\u001b[0m - \u001b[1mReading file 29e0a2356a44c14ce2aa28a6700bae49.nc\u001b[0m\n",
      "\u001b[32m2025-02-08 21:12:39.312\u001b[0m | \u001b[1mINFO    \u001b[0m | \u001b[36m__main__\u001b[0m:\u001b[36m<module>\u001b[0m:\u001b[36m11\u001b[0m - \u001b[1mFile 29e0a2356a44c14ce2aa28a6700bae49.nc read successfully.\u001b[0m\n",
      "\u001b[32m2025-02-08 21:12:39.313\u001b[0m | \u001b[1mINFO    \u001b[0m | \u001b[36m__main__\u001b[0m:\u001b[36m<module>\u001b[0m:\u001b[36m8\u001b[0m - \u001b[1mReading file 2d1bb5ae5790a7e50441a9edef728b49.nc\u001b[0m\n",
      "\u001b[32m2025-02-08 21:12:39.425\u001b[0m | \u001b[1mINFO    \u001b[0m | \u001b[36m__main__\u001b[0m:\u001b[36m<module>\u001b[0m:\u001b[36m11\u001b[0m - \u001b[1mFile 2d1bb5ae5790a7e50441a9edef728b49.nc read successfully.\u001b[0m\n",
      "\u001b[32m2025-02-08 21:12:39.426\u001b[0m | \u001b[1mINFO    \u001b[0m | \u001b[36m__main__\u001b[0m:\u001b[36m<module>\u001b[0m:\u001b[36m8\u001b[0m - \u001b[1mReading file 34e0bda374bed0537d474fca1b2ad0a4.nc\u001b[0m\n",
      "\u001b[32m2025-02-08 21:12:39.536\u001b[0m | \u001b[1mINFO    \u001b[0m | \u001b[36m__main__\u001b[0m:\u001b[36m<module>\u001b[0m:\u001b[36m11\u001b[0m - \u001b[1mFile 34e0bda374bed0537d474fca1b2ad0a4.nc read successfully.\u001b[0m\n",
      "\u001b[32m2025-02-08 21:12:39.537\u001b[0m | \u001b[1mINFO    \u001b[0m | \u001b[36m__main__\u001b[0m:\u001b[36m<module>\u001b[0m:\u001b[36m8\u001b[0m - \u001b[1mReading file 34e30322fe97015f7722561d87b67c89.nc\u001b[0m\n",
      "\u001b[32m2025-02-08 21:12:39.654\u001b[0m | \u001b[1mINFO    \u001b[0m | \u001b[36m__main__\u001b[0m:\u001b[36m<module>\u001b[0m:\u001b[36m11\u001b[0m - \u001b[1mFile 34e30322fe97015f7722561d87b67c89.nc read successfully.\u001b[0m\n",
      "\u001b[32m2025-02-08 21:12:39.655\u001b[0m | \u001b[1mINFO    \u001b[0m | \u001b[36m__main__\u001b[0m:\u001b[36m<module>\u001b[0m:\u001b[36m8\u001b[0m - \u001b[1mReading file 39cdb4dbf857a02b41bd22e8dedd0d65.nc\u001b[0m\n",
      "\u001b[32m2025-02-08 21:12:39.771\u001b[0m | \u001b[1mINFO    \u001b[0m | \u001b[36m__main__\u001b[0m:\u001b[36m<module>\u001b[0m:\u001b[36m11\u001b[0m - \u001b[1mFile 39cdb4dbf857a02b41bd22e8dedd0d65.nc read successfully.\u001b[0m\n",
      "\u001b[32m2025-02-08 21:12:39.772\u001b[0m | \u001b[1mINFO    \u001b[0m | \u001b[36m__main__\u001b[0m:\u001b[36m<module>\u001b[0m:\u001b[36m8\u001b[0m - \u001b[1mReading file 3b3411636a810ddabd82ecb7df452808.nc\u001b[0m\n",
      "\u001b[32m2025-02-08 21:12:39.902\u001b[0m | \u001b[1mINFO    \u001b[0m | \u001b[36m__main__\u001b[0m:\u001b[36m<module>\u001b[0m:\u001b[36m11\u001b[0m - \u001b[1mFile 3b3411636a810ddabd82ecb7df452808.nc read successfully.\u001b[0m\n",
      "\u001b[32m2025-02-08 21:12:39.903\u001b[0m | \u001b[1mINFO    \u001b[0m | \u001b[36m__main__\u001b[0m:\u001b[36m<module>\u001b[0m:\u001b[36m8\u001b[0m - \u001b[1mReading file 3be9cf807dab7baa8ffba2379e27f920.nc\u001b[0m\n",
      "\u001b[32m2025-02-08 21:12:40.028\u001b[0m | \u001b[1mINFO    \u001b[0m | \u001b[36m__main__\u001b[0m:\u001b[36m<module>\u001b[0m:\u001b[36m11\u001b[0m - \u001b[1mFile 3be9cf807dab7baa8ffba2379e27f920.nc read successfully.\u001b[0m\n",
      "\u001b[32m2025-02-08 21:12:40.029\u001b[0m | \u001b[1mINFO    \u001b[0m | \u001b[36m__main__\u001b[0m:\u001b[36m<module>\u001b[0m:\u001b[36m8\u001b[0m - \u001b[1mReading file 3c2d89bc1d0e8d18174bb540a2bed5db.nc\u001b[0m\n",
      "\u001b[32m2025-02-08 21:12:40.148\u001b[0m | \u001b[1mINFO    \u001b[0m | \u001b[36m__main__\u001b[0m:\u001b[36m<module>\u001b[0m:\u001b[36m11\u001b[0m - \u001b[1mFile 3c2d89bc1d0e8d18174bb540a2bed5db.nc read successfully.\u001b[0m\n",
      "\u001b[32m2025-02-08 21:12:40.149\u001b[0m | \u001b[1mINFO    \u001b[0m | \u001b[36m__main__\u001b[0m:\u001b[36m<module>\u001b[0m:\u001b[36m8\u001b[0m - \u001b[1mReading file 3dbc4e00e10fa3e9e7955336b4aaace6.nc\u001b[0m\n",
      "\u001b[32m2025-02-08 21:12:40.285\u001b[0m | \u001b[1mINFO    \u001b[0m | \u001b[36m__main__\u001b[0m:\u001b[36m<module>\u001b[0m:\u001b[36m11\u001b[0m - \u001b[1mFile 3dbc4e00e10fa3e9e7955336b4aaace6.nc read successfully.\u001b[0m\n",
      "\u001b[32m2025-02-08 21:12:40.286\u001b[0m | \u001b[1mINFO    \u001b[0m | \u001b[36m__main__\u001b[0m:\u001b[36m<module>\u001b[0m:\u001b[36m8\u001b[0m - \u001b[1mReading file 43291431144f99a267d70c5a7562a468.nc\u001b[0m\n",
      "\u001b[32m2025-02-08 21:12:40.403\u001b[0m | \u001b[1mINFO    \u001b[0m | \u001b[36m__main__\u001b[0m:\u001b[36m<module>\u001b[0m:\u001b[36m11\u001b[0m - \u001b[1mFile 43291431144f99a267d70c5a7562a468.nc read successfully.\u001b[0m\n",
      "\u001b[32m2025-02-08 21:12:40.404\u001b[0m | \u001b[1mINFO    \u001b[0m | \u001b[36m__main__\u001b[0m:\u001b[36m<module>\u001b[0m:\u001b[36m8\u001b[0m - \u001b[1mReading file 440620ea9109dc889b315a9cab6434a2.nc\u001b[0m\n",
      "\u001b[32m2025-02-08 21:12:40.523\u001b[0m | \u001b[1mINFO    \u001b[0m | \u001b[36m__main__\u001b[0m:\u001b[36m<module>\u001b[0m:\u001b[36m11\u001b[0m - \u001b[1mFile 440620ea9109dc889b315a9cab6434a2.nc read successfully.\u001b[0m\n",
      "\u001b[32m2025-02-08 21:12:40.524\u001b[0m | \u001b[1mINFO    \u001b[0m | \u001b[36m__main__\u001b[0m:\u001b[36m<module>\u001b[0m:\u001b[36m8\u001b[0m - \u001b[1mReading file 44bd1f55a3e65facd22f01c67ad876d2.nc\u001b[0m\n",
      "\u001b[32m2025-02-08 21:12:40.642\u001b[0m | \u001b[1mINFO    \u001b[0m | \u001b[36m__main__\u001b[0m:\u001b[36m<module>\u001b[0m:\u001b[36m11\u001b[0m - \u001b[1mFile 44bd1f55a3e65facd22f01c67ad876d2.nc read successfully.\u001b[0m\n",
      "\u001b[32m2025-02-08 21:12:40.643\u001b[0m | \u001b[1mINFO    \u001b[0m | \u001b[36m__main__\u001b[0m:\u001b[36m<module>\u001b[0m:\u001b[36m8\u001b[0m - \u001b[1mReading file 44e6da8e60b7c640eaffe910fee52a3f.nc\u001b[0m\n",
      "\u001b[32m2025-02-08 21:12:40.751\u001b[0m | \u001b[1mINFO    \u001b[0m | \u001b[36m__main__\u001b[0m:\u001b[36m<module>\u001b[0m:\u001b[36m11\u001b[0m - \u001b[1mFile 44e6da8e60b7c640eaffe910fee52a3f.nc read successfully.\u001b[0m\n",
      "\u001b[32m2025-02-08 21:12:40.752\u001b[0m | \u001b[1mINFO    \u001b[0m | \u001b[36m__main__\u001b[0m:\u001b[36m<module>\u001b[0m:\u001b[36m8\u001b[0m - \u001b[1mReading file 453f76f4ba509c29d43127f014f881c9.nc\u001b[0m\n",
      "\u001b[32m2025-02-08 21:12:40.860\u001b[0m | \u001b[1mINFO    \u001b[0m | \u001b[36m__main__\u001b[0m:\u001b[36m<module>\u001b[0m:\u001b[36m11\u001b[0m - \u001b[1mFile 453f76f4ba509c29d43127f014f881c9.nc read successfully.\u001b[0m\n",
      "\u001b[32m2025-02-08 21:12:40.862\u001b[0m | \u001b[1mINFO    \u001b[0m | \u001b[36m__main__\u001b[0m:\u001b[36m<module>\u001b[0m:\u001b[36m8\u001b[0m - \u001b[1mReading file 47064d1bb4b74d45724eb485930c4a3b.nc\u001b[0m\n",
      "\u001b[32m2025-02-08 21:12:40.972\u001b[0m | \u001b[1mINFO    \u001b[0m | \u001b[36m__main__\u001b[0m:\u001b[36m<module>\u001b[0m:\u001b[36m11\u001b[0m - \u001b[1mFile 47064d1bb4b74d45724eb485930c4a3b.nc read successfully.\u001b[0m\n",
      "\u001b[32m2025-02-08 21:12:40.974\u001b[0m | \u001b[1mINFO    \u001b[0m | \u001b[36m__main__\u001b[0m:\u001b[36m<module>\u001b[0m:\u001b[36m8\u001b[0m - \u001b[1mReading file 490aaf747751d551de47fbb97d268bfd.nc\u001b[0m\n",
      "\u001b[32m2025-02-08 21:12:41.083\u001b[0m | \u001b[1mINFO    \u001b[0m | \u001b[36m__main__\u001b[0m:\u001b[36m<module>\u001b[0m:\u001b[36m11\u001b[0m - \u001b[1mFile 490aaf747751d551de47fbb97d268bfd.nc read successfully.\u001b[0m\n",
      "\u001b[32m2025-02-08 21:12:41.084\u001b[0m | \u001b[1mINFO    \u001b[0m | \u001b[36m__main__\u001b[0m:\u001b[36m<module>\u001b[0m:\u001b[36m8\u001b[0m - \u001b[1mReading file 4abd6f1ebe342da0f7999503adba50da.nc\u001b[0m\n",
      "\u001b[32m2025-02-08 21:12:41.193\u001b[0m | \u001b[1mINFO    \u001b[0m | \u001b[36m__main__\u001b[0m:\u001b[36m<module>\u001b[0m:\u001b[36m11\u001b[0m - \u001b[1mFile 4abd6f1ebe342da0f7999503adba50da.nc read successfully.\u001b[0m\n",
      "\u001b[32m2025-02-08 21:12:41.195\u001b[0m | \u001b[1mINFO    \u001b[0m | \u001b[36m__main__\u001b[0m:\u001b[36m<module>\u001b[0m:\u001b[36m8\u001b[0m - \u001b[1mReading file 4e2e247d27d2bb20e97e47c125e9dd7f.nc\u001b[0m\n",
      "\u001b[32m2025-02-08 21:12:41.309\u001b[0m | \u001b[1mINFO    \u001b[0m | \u001b[36m__main__\u001b[0m:\u001b[36m<module>\u001b[0m:\u001b[36m11\u001b[0m - \u001b[1mFile 4e2e247d27d2bb20e97e47c125e9dd7f.nc read successfully.\u001b[0m\n",
      "\u001b[32m2025-02-08 21:12:41.311\u001b[0m | \u001b[1mINFO    \u001b[0m | \u001b[36m__main__\u001b[0m:\u001b[36m<module>\u001b[0m:\u001b[36m8\u001b[0m - \u001b[1mReading file 538986b35d9bbedf5993582055fdadde.nc\u001b[0m\n",
      "\u001b[32m2025-02-08 21:12:41.423\u001b[0m | \u001b[1mINFO    \u001b[0m | \u001b[36m__main__\u001b[0m:\u001b[36m<module>\u001b[0m:\u001b[36m11\u001b[0m - \u001b[1mFile 538986b35d9bbedf5993582055fdadde.nc read successfully.\u001b[0m\n",
      "\u001b[32m2025-02-08 21:12:41.424\u001b[0m | \u001b[1mINFO    \u001b[0m | \u001b[36m__main__\u001b[0m:\u001b[36m<module>\u001b[0m:\u001b[36m8\u001b[0m - \u001b[1mReading file 56a90f640b87474e7b157113778aa7c0.nc\u001b[0m\n",
      "\u001b[32m2025-02-08 21:12:41.536\u001b[0m | \u001b[1mINFO    \u001b[0m | \u001b[36m__main__\u001b[0m:\u001b[36m<module>\u001b[0m:\u001b[36m11\u001b[0m - \u001b[1mFile 56a90f640b87474e7b157113778aa7c0.nc read successfully.\u001b[0m\n",
      "\u001b[32m2025-02-08 21:12:41.537\u001b[0m | \u001b[1mINFO    \u001b[0m | \u001b[36m__main__\u001b[0m:\u001b[36m<module>\u001b[0m:\u001b[36m8\u001b[0m - \u001b[1mReading file 57907dd5c539dfcef29a71dbd192821a.nc\u001b[0m\n",
      "\u001b[32m2025-02-08 21:12:41.663\u001b[0m | \u001b[1mINFO    \u001b[0m | \u001b[36m__main__\u001b[0m:\u001b[36m<module>\u001b[0m:\u001b[36m11\u001b[0m - \u001b[1mFile 57907dd5c539dfcef29a71dbd192821a.nc read successfully.\u001b[0m\n",
      "\u001b[32m2025-02-08 21:12:41.664\u001b[0m | \u001b[1mINFO    \u001b[0m | \u001b[36m__main__\u001b[0m:\u001b[36m<module>\u001b[0m:\u001b[36m8\u001b[0m - \u001b[1mReading file 5ce25fe37fe15f5b9f679f97560a06fe.nc\u001b[0m\n",
      "\u001b[32m2025-02-08 21:12:41.773\u001b[0m | \u001b[1mINFO    \u001b[0m | \u001b[36m__main__\u001b[0m:\u001b[36m<module>\u001b[0m:\u001b[36m11\u001b[0m - \u001b[1mFile 5ce25fe37fe15f5b9f679f97560a06fe.nc read successfully.\u001b[0m\n",
      "\u001b[32m2025-02-08 21:12:41.774\u001b[0m | \u001b[1mINFO    \u001b[0m | \u001b[36m__main__\u001b[0m:\u001b[36m<module>\u001b[0m:\u001b[36m8\u001b[0m - \u001b[1mReading file 5da67a40b2934a3d934064600b3cf1c6.nc\u001b[0m\n",
      "\u001b[32m2025-02-08 21:12:41.882\u001b[0m | \u001b[1mINFO    \u001b[0m | \u001b[36m__main__\u001b[0m:\u001b[36m<module>\u001b[0m:\u001b[36m11\u001b[0m - \u001b[1mFile 5da67a40b2934a3d934064600b3cf1c6.nc read successfully.\u001b[0m\n",
      "\u001b[32m2025-02-08 21:12:41.883\u001b[0m | \u001b[1mINFO    \u001b[0m | \u001b[36m__main__\u001b[0m:\u001b[36m<module>\u001b[0m:\u001b[36m8\u001b[0m - \u001b[1mReading file 5ef4e7b8b5b9415a2b8e366d52f2fbdc.nc\u001b[0m\n",
      "\u001b[32m2025-02-08 21:12:41.992\u001b[0m | \u001b[1mINFO    \u001b[0m | \u001b[36m__main__\u001b[0m:\u001b[36m<module>\u001b[0m:\u001b[36m11\u001b[0m - \u001b[1mFile 5ef4e7b8b5b9415a2b8e366d52f2fbdc.nc read successfully.\u001b[0m\n",
      "\u001b[32m2025-02-08 21:12:41.993\u001b[0m | \u001b[1mINFO    \u001b[0m | \u001b[36m__main__\u001b[0m:\u001b[36m<module>\u001b[0m:\u001b[36m8\u001b[0m - \u001b[1mReading file 5f7262bdcd99f0fda5a75319004f325c.nc\u001b[0m\n",
      "\u001b[32m2025-02-08 21:12:42.118\u001b[0m | \u001b[1mINFO    \u001b[0m | \u001b[36m__main__\u001b[0m:\u001b[36m<module>\u001b[0m:\u001b[36m11\u001b[0m - \u001b[1mFile 5f7262bdcd99f0fda5a75319004f325c.nc read successfully.\u001b[0m\n",
      "\u001b[32m2025-02-08 21:12:42.119\u001b[0m | \u001b[1mINFO    \u001b[0m | \u001b[36m__main__\u001b[0m:\u001b[36m<module>\u001b[0m:\u001b[36m8\u001b[0m - \u001b[1mReading file 6065a8d2868a682601200cde536efb17.nc\u001b[0m\n",
      "\u001b[32m2025-02-08 21:12:42.234\u001b[0m | \u001b[1mINFO    \u001b[0m | \u001b[36m__main__\u001b[0m:\u001b[36m<module>\u001b[0m:\u001b[36m11\u001b[0m - \u001b[1mFile 6065a8d2868a682601200cde536efb17.nc read successfully.\u001b[0m\n",
      "\u001b[32m2025-02-08 21:12:42.235\u001b[0m | \u001b[1mINFO    \u001b[0m | \u001b[36m__main__\u001b[0m:\u001b[36m<module>\u001b[0m:\u001b[36m8\u001b[0m - \u001b[1mReading file 67427a96b663f41a634553161d6d3672.nc\u001b[0m\n",
      "\u001b[32m2025-02-08 21:12:42.347\u001b[0m | \u001b[1mINFO    \u001b[0m | \u001b[36m__main__\u001b[0m:\u001b[36m<module>\u001b[0m:\u001b[36m11\u001b[0m - \u001b[1mFile 67427a96b663f41a634553161d6d3672.nc read successfully.\u001b[0m\n",
      "\u001b[32m2025-02-08 21:12:42.348\u001b[0m | \u001b[1mINFO    \u001b[0m | \u001b[36m__main__\u001b[0m:\u001b[36m<module>\u001b[0m:\u001b[36m8\u001b[0m - \u001b[1mReading file 6bf08f2c1b48507028d88e527d3caa89.nc\u001b[0m\n",
      "\u001b[32m2025-02-08 21:12:42.466\u001b[0m | \u001b[1mINFO    \u001b[0m | \u001b[36m__main__\u001b[0m:\u001b[36m<module>\u001b[0m:\u001b[36m11\u001b[0m - \u001b[1mFile 6bf08f2c1b48507028d88e527d3caa89.nc read successfully.\u001b[0m\n",
      "\u001b[32m2025-02-08 21:12:42.467\u001b[0m | \u001b[1mINFO    \u001b[0m | \u001b[36m__main__\u001b[0m:\u001b[36m<module>\u001b[0m:\u001b[36m8\u001b[0m - \u001b[1mReading file 6d67c4ab5800745ce6a64703dc41dccf.nc\u001b[0m\n",
      "\u001b[32m2025-02-08 21:12:42.585\u001b[0m | \u001b[1mINFO    \u001b[0m | \u001b[36m__main__\u001b[0m:\u001b[36m<module>\u001b[0m:\u001b[36m11\u001b[0m - \u001b[1mFile 6d67c4ab5800745ce6a64703dc41dccf.nc read successfully.\u001b[0m\n",
      "\u001b[32m2025-02-08 21:12:42.586\u001b[0m | \u001b[1mINFO    \u001b[0m | \u001b[36m__main__\u001b[0m:\u001b[36m<module>\u001b[0m:\u001b[36m8\u001b[0m - \u001b[1mReading file 6eeeea7009f2da176bbae565ed43e25f.nc\u001b[0m\n",
      "\u001b[32m2025-02-08 21:12:42.698\u001b[0m | \u001b[1mINFO    \u001b[0m | \u001b[36m__main__\u001b[0m:\u001b[36m<module>\u001b[0m:\u001b[36m11\u001b[0m - \u001b[1mFile 6eeeea7009f2da176bbae565ed43e25f.nc read successfully.\u001b[0m\n",
      "\u001b[32m2025-02-08 21:12:42.699\u001b[0m | \u001b[1mINFO    \u001b[0m | \u001b[36m__main__\u001b[0m:\u001b[36m<module>\u001b[0m:\u001b[36m8\u001b[0m - \u001b[1mReading file 72e1d7774535789ba4034df77a36f90e.nc\u001b[0m\n",
      "\u001b[32m2025-02-08 21:12:42.818\u001b[0m | \u001b[1mINFO    \u001b[0m | \u001b[36m__main__\u001b[0m:\u001b[36m<module>\u001b[0m:\u001b[36m11\u001b[0m - \u001b[1mFile 72e1d7774535789ba4034df77a36f90e.nc read successfully.\u001b[0m\n",
      "\u001b[32m2025-02-08 21:12:42.820\u001b[0m | \u001b[1mINFO    \u001b[0m | \u001b[36m__main__\u001b[0m:\u001b[36m<module>\u001b[0m:\u001b[36m8\u001b[0m - \u001b[1mReading file 74cc68b950ab2f3b59b02175a9e961a9.nc\u001b[0m\n",
      "\u001b[32m2025-02-08 21:12:42.943\u001b[0m | \u001b[1mINFO    \u001b[0m | \u001b[36m__main__\u001b[0m:\u001b[36m<module>\u001b[0m:\u001b[36m11\u001b[0m - \u001b[1mFile 74cc68b950ab2f3b59b02175a9e961a9.nc read successfully.\u001b[0m\n",
      "\u001b[32m2025-02-08 21:12:42.944\u001b[0m | \u001b[1mINFO    \u001b[0m | \u001b[36m__main__\u001b[0m:\u001b[36m<module>\u001b[0m:\u001b[36m8\u001b[0m - \u001b[1mReading file 76ce8becfcc3932d2e6d5912cf597da1.nc\u001b[0m\n",
      "\u001b[32m2025-02-08 21:12:43.055\u001b[0m | \u001b[1mINFO    \u001b[0m | \u001b[36m__main__\u001b[0m:\u001b[36m<module>\u001b[0m:\u001b[36m11\u001b[0m - \u001b[1mFile 76ce8becfcc3932d2e6d5912cf597da1.nc read successfully.\u001b[0m\n",
      "\u001b[32m2025-02-08 21:12:43.057\u001b[0m | \u001b[1mINFO    \u001b[0m | \u001b[36m__main__\u001b[0m:\u001b[36m<module>\u001b[0m:\u001b[36m8\u001b[0m - \u001b[1mReading file 7acc123ef621085534ce8f9226a9199e.nc\u001b[0m\n",
      "\u001b[32m2025-02-08 21:12:43.170\u001b[0m | \u001b[1mINFO    \u001b[0m | \u001b[36m__main__\u001b[0m:\u001b[36m<module>\u001b[0m:\u001b[36m11\u001b[0m - \u001b[1mFile 7acc123ef621085534ce8f9226a9199e.nc read successfully.\u001b[0m\n",
      "\u001b[32m2025-02-08 21:12:43.171\u001b[0m | \u001b[1mINFO    \u001b[0m | \u001b[36m__main__\u001b[0m:\u001b[36m<module>\u001b[0m:\u001b[36m8\u001b[0m - \u001b[1mReading file 7bd5d25a609595ae7fd2fbfa04fc520f.nc\u001b[0m\n",
      "\u001b[32m2025-02-08 21:12:43.276\u001b[0m | \u001b[1mINFO    \u001b[0m | \u001b[36m__main__\u001b[0m:\u001b[36m<module>\u001b[0m:\u001b[36m11\u001b[0m - \u001b[1mFile 7bd5d25a609595ae7fd2fbfa04fc520f.nc read successfully.\u001b[0m\n",
      "\u001b[32m2025-02-08 21:12:43.277\u001b[0m | \u001b[1mINFO    \u001b[0m | \u001b[36m__main__\u001b[0m:\u001b[36m<module>\u001b[0m:\u001b[36m8\u001b[0m - \u001b[1mReading file 7f4cc2a75037e81a3a883c47ce43f983.nc\u001b[0m\n",
      "\u001b[32m2025-02-08 21:12:43.390\u001b[0m | \u001b[1mINFO    \u001b[0m | \u001b[36m__main__\u001b[0m:\u001b[36m<module>\u001b[0m:\u001b[36m11\u001b[0m - \u001b[1mFile 7f4cc2a75037e81a3a883c47ce43f983.nc read successfully.\u001b[0m\n",
      "\u001b[32m2025-02-08 21:12:43.391\u001b[0m | \u001b[1mINFO    \u001b[0m | \u001b[36m__main__\u001b[0m:\u001b[36m<module>\u001b[0m:\u001b[36m8\u001b[0m - \u001b[1mReading file 84c18043e34e9b05c613ff606029fa88.nc\u001b[0m\n",
      "\u001b[32m2025-02-08 21:12:43.503\u001b[0m | \u001b[1mINFO    \u001b[0m | \u001b[36m__main__\u001b[0m:\u001b[36m<module>\u001b[0m:\u001b[36m11\u001b[0m - \u001b[1mFile 84c18043e34e9b05c613ff606029fa88.nc read successfully.\u001b[0m\n",
      "\u001b[32m2025-02-08 21:12:43.505\u001b[0m | \u001b[1mINFO    \u001b[0m | \u001b[36m__main__\u001b[0m:\u001b[36m<module>\u001b[0m:\u001b[36m8\u001b[0m - \u001b[1mReading file 8a4afe8431c7fc28936857cad2419152.nc\u001b[0m\n",
      "\u001b[32m2025-02-08 21:12:43.617\u001b[0m | \u001b[1mINFO    \u001b[0m | \u001b[36m__main__\u001b[0m:\u001b[36m<module>\u001b[0m:\u001b[36m11\u001b[0m - \u001b[1mFile 8a4afe8431c7fc28936857cad2419152.nc read successfully.\u001b[0m\n",
      "\u001b[32m2025-02-08 21:12:43.618\u001b[0m | \u001b[1mINFO    \u001b[0m | \u001b[36m__main__\u001b[0m:\u001b[36m<module>\u001b[0m:\u001b[36m8\u001b[0m - \u001b[1mReading file 8c27be8f7d5b114c8563135fb481aecc.nc\u001b[0m\n",
      "\u001b[32m2025-02-08 21:12:43.729\u001b[0m | \u001b[1mINFO    \u001b[0m | \u001b[36m__main__\u001b[0m:\u001b[36m<module>\u001b[0m:\u001b[36m11\u001b[0m - \u001b[1mFile 8c27be8f7d5b114c8563135fb481aecc.nc read successfully.\u001b[0m\n",
      "\u001b[32m2025-02-08 21:12:43.730\u001b[0m | \u001b[1mINFO    \u001b[0m | \u001b[36m__main__\u001b[0m:\u001b[36m<module>\u001b[0m:\u001b[36m8\u001b[0m - \u001b[1mReading file 90cdb79e0c8fe48cc7f197a5f22d5c77.nc\u001b[0m\n",
      "\u001b[32m2025-02-08 21:12:43.836\u001b[0m | \u001b[1mINFO    \u001b[0m | \u001b[36m__main__\u001b[0m:\u001b[36m<module>\u001b[0m:\u001b[36m11\u001b[0m - \u001b[1mFile 90cdb79e0c8fe48cc7f197a5f22d5c77.nc read successfully.\u001b[0m\n",
      "\u001b[32m2025-02-08 21:12:43.837\u001b[0m | \u001b[1mINFO    \u001b[0m | \u001b[36m__main__\u001b[0m:\u001b[36m<module>\u001b[0m:\u001b[36m8\u001b[0m - \u001b[1mReading file 91979c0c59b64744121e2544d8e71a98.nc\u001b[0m\n",
      "\u001b[32m2025-02-08 21:12:43.947\u001b[0m | \u001b[1mINFO    \u001b[0m | \u001b[36m__main__\u001b[0m:\u001b[36m<module>\u001b[0m:\u001b[36m11\u001b[0m - \u001b[1mFile 91979c0c59b64744121e2544d8e71a98.nc read successfully.\u001b[0m\n",
      "\u001b[32m2025-02-08 21:12:43.948\u001b[0m | \u001b[1mINFO    \u001b[0m | \u001b[36m__main__\u001b[0m:\u001b[36m<module>\u001b[0m:\u001b[36m8\u001b[0m - \u001b[1mReading file 9199f0cd16a75a856b53229f9ac2ac1b.nc\u001b[0m\n",
      "\u001b[32m2025-02-08 21:12:44.054\u001b[0m | \u001b[1mINFO    \u001b[0m | \u001b[36m__main__\u001b[0m:\u001b[36m<module>\u001b[0m:\u001b[36m11\u001b[0m - \u001b[1mFile 9199f0cd16a75a856b53229f9ac2ac1b.nc read successfully.\u001b[0m\n",
      "\u001b[32m2025-02-08 21:12:44.055\u001b[0m | \u001b[1mINFO    \u001b[0m | \u001b[36m__main__\u001b[0m:\u001b[36m<module>\u001b[0m:\u001b[36m8\u001b[0m - \u001b[1mReading file 981eaccd3735c9c0cdae7cce728aa667.nc\u001b[0m\n",
      "\u001b[32m2025-02-08 21:12:44.158\u001b[0m | \u001b[1mINFO    \u001b[0m | \u001b[36m__main__\u001b[0m:\u001b[36m<module>\u001b[0m:\u001b[36m11\u001b[0m - \u001b[1mFile 981eaccd3735c9c0cdae7cce728aa667.nc read successfully.\u001b[0m\n",
      "\u001b[32m2025-02-08 21:12:44.160\u001b[0m | \u001b[1mINFO    \u001b[0m | \u001b[36m__main__\u001b[0m:\u001b[36m<module>\u001b[0m:\u001b[36m8\u001b[0m - \u001b[1mReading file 9843adc7774ae06aff65080e74719346.nc\u001b[0m\n",
      "\u001b[32m2025-02-08 21:12:44.279\u001b[0m | \u001b[1mINFO    \u001b[0m | \u001b[36m__main__\u001b[0m:\u001b[36m<module>\u001b[0m:\u001b[36m11\u001b[0m - \u001b[1mFile 9843adc7774ae06aff65080e74719346.nc read successfully.\u001b[0m\n",
      "\u001b[32m2025-02-08 21:12:44.281\u001b[0m | \u001b[1mINFO    \u001b[0m | \u001b[36m__main__\u001b[0m:\u001b[36m<module>\u001b[0m:\u001b[36m8\u001b[0m - \u001b[1mReading file 98ff3cce4353bbface54939c70c7b72e.nc\u001b[0m\n",
      "\u001b[32m2025-02-08 21:12:44.414\u001b[0m | \u001b[1mINFO    \u001b[0m | \u001b[36m__main__\u001b[0m:\u001b[36m<module>\u001b[0m:\u001b[36m11\u001b[0m - \u001b[1mFile 98ff3cce4353bbface54939c70c7b72e.nc read successfully.\u001b[0m\n",
      "\u001b[32m2025-02-08 21:12:44.415\u001b[0m | \u001b[1mINFO    \u001b[0m | \u001b[36m__main__\u001b[0m:\u001b[36m<module>\u001b[0m:\u001b[36m8\u001b[0m - \u001b[1mReading file 99a6cc9cbaee8a9bf8912cee5d509024.nc\u001b[0m\n",
      "\u001b[32m2025-02-08 21:12:44.527\u001b[0m | \u001b[1mINFO    \u001b[0m | \u001b[36m__main__\u001b[0m:\u001b[36m<module>\u001b[0m:\u001b[36m11\u001b[0m - \u001b[1mFile 99a6cc9cbaee8a9bf8912cee5d509024.nc read successfully.\u001b[0m\n",
      "\u001b[32m2025-02-08 21:12:44.528\u001b[0m | \u001b[1mINFO    \u001b[0m | \u001b[36m__main__\u001b[0m:\u001b[36m<module>\u001b[0m:\u001b[36m8\u001b[0m - \u001b[1mReading file 9f5fa5e241ddffca9f03860c221a7f3b.nc\u001b[0m\n",
      "\u001b[32m2025-02-08 21:12:44.656\u001b[0m | \u001b[1mINFO    \u001b[0m | \u001b[36m__main__\u001b[0m:\u001b[36m<module>\u001b[0m:\u001b[36m11\u001b[0m - \u001b[1mFile 9f5fa5e241ddffca9f03860c221a7f3b.nc read successfully.\u001b[0m\n",
      "\u001b[32m2025-02-08 21:12:44.657\u001b[0m | \u001b[1mINFO    \u001b[0m | \u001b[36m__main__\u001b[0m:\u001b[36m<module>\u001b[0m:\u001b[36m8\u001b[0m - \u001b[1mReading file a19da303ad26510f4158b79cbfa2b295.nc\u001b[0m\n",
      "\u001b[32m2025-02-08 21:12:44.767\u001b[0m | \u001b[1mINFO    \u001b[0m | \u001b[36m__main__\u001b[0m:\u001b[36m<module>\u001b[0m:\u001b[36m11\u001b[0m - \u001b[1mFile a19da303ad26510f4158b79cbfa2b295.nc read successfully.\u001b[0m\n",
      "\u001b[32m2025-02-08 21:12:44.768\u001b[0m | \u001b[1mINFO    \u001b[0m | \u001b[36m__main__\u001b[0m:\u001b[36m<module>\u001b[0m:\u001b[36m8\u001b[0m - \u001b[1mReading file ae92a55222fb76edb458ad70a90866a0.nc\u001b[0m\n",
      "\u001b[32m2025-02-08 21:12:44.877\u001b[0m | \u001b[1mINFO    \u001b[0m | \u001b[36m__main__\u001b[0m:\u001b[36m<module>\u001b[0m:\u001b[36m11\u001b[0m - \u001b[1mFile ae92a55222fb76edb458ad70a90866a0.nc read successfully.\u001b[0m\n",
      "\u001b[32m2025-02-08 21:12:44.879\u001b[0m | \u001b[1mINFO    \u001b[0m | \u001b[36m__main__\u001b[0m:\u001b[36m<module>\u001b[0m:\u001b[36m8\u001b[0m - \u001b[1mReading file b4c6c3b5ff167aca8d5fff7905338108.nc\u001b[0m\n",
      "\u001b[32m2025-02-08 21:12:45.000\u001b[0m | \u001b[1mINFO    \u001b[0m | \u001b[36m__main__\u001b[0m:\u001b[36m<module>\u001b[0m:\u001b[36m11\u001b[0m - \u001b[1mFile b4c6c3b5ff167aca8d5fff7905338108.nc read successfully.\u001b[0m\n",
      "\u001b[32m2025-02-08 21:12:45.001\u001b[0m | \u001b[1mINFO    \u001b[0m | \u001b[36m__main__\u001b[0m:\u001b[36m<module>\u001b[0m:\u001b[36m8\u001b[0m - \u001b[1mReading file b9674fb675e49538f337d7b2bc25673e.nc\u001b[0m\n",
      "\u001b[32m2025-02-08 21:12:45.119\u001b[0m | \u001b[1mINFO    \u001b[0m | \u001b[36m__main__\u001b[0m:\u001b[36m<module>\u001b[0m:\u001b[36m11\u001b[0m - \u001b[1mFile b9674fb675e49538f337d7b2bc25673e.nc read successfully.\u001b[0m\n",
      "\u001b[32m2025-02-08 21:12:45.120\u001b[0m | \u001b[1mINFO    \u001b[0m | \u001b[36m__main__\u001b[0m:\u001b[36m<module>\u001b[0m:\u001b[36m8\u001b[0m - \u001b[1mReading file bbf496bf073ed3020689456e03cb39c8.nc\u001b[0m\n",
      "\u001b[32m2025-02-08 21:12:45.229\u001b[0m | \u001b[1mINFO    \u001b[0m | \u001b[36m__main__\u001b[0m:\u001b[36m<module>\u001b[0m:\u001b[36m11\u001b[0m - \u001b[1mFile bbf496bf073ed3020689456e03cb39c8.nc read successfully.\u001b[0m\n",
      "\u001b[32m2025-02-08 21:12:45.230\u001b[0m | \u001b[1mINFO    \u001b[0m | \u001b[36m__main__\u001b[0m:\u001b[36m<module>\u001b[0m:\u001b[36m8\u001b[0m - \u001b[1mReading file bd6a08517592dfde2cc25770da7b125c.nc\u001b[0m\n",
      "\u001b[32m2025-02-08 21:12:45.336\u001b[0m | \u001b[1mINFO    \u001b[0m | \u001b[36m__main__\u001b[0m:\u001b[36m<module>\u001b[0m:\u001b[36m11\u001b[0m - \u001b[1mFile bd6a08517592dfde2cc25770da7b125c.nc read successfully.\u001b[0m\n",
      "\u001b[32m2025-02-08 21:12:45.337\u001b[0m | \u001b[1mINFO    \u001b[0m | \u001b[36m__main__\u001b[0m:\u001b[36m<module>\u001b[0m:\u001b[36m8\u001b[0m - \u001b[1mReading file bf93a68b5d600b14eced12a737345222.nc\u001b[0m\n",
      "\u001b[32m2025-02-08 21:12:45.445\u001b[0m | \u001b[1mINFO    \u001b[0m | \u001b[36m__main__\u001b[0m:\u001b[36m<module>\u001b[0m:\u001b[36m11\u001b[0m - \u001b[1mFile bf93a68b5d600b14eced12a737345222.nc read successfully.\u001b[0m\n",
      "\u001b[32m2025-02-08 21:12:45.447\u001b[0m | \u001b[1mINFO    \u001b[0m | \u001b[36m__main__\u001b[0m:\u001b[36m<module>\u001b[0m:\u001b[36m8\u001b[0m - \u001b[1mReading file bff459f62568a2f4adbbf3e6d659503b.nc\u001b[0m\n",
      "\u001b[32m2025-02-08 21:12:45.555\u001b[0m | \u001b[1mINFO    \u001b[0m | \u001b[36m__main__\u001b[0m:\u001b[36m<module>\u001b[0m:\u001b[36m11\u001b[0m - \u001b[1mFile bff459f62568a2f4adbbf3e6d659503b.nc read successfully.\u001b[0m\n",
      "\u001b[32m2025-02-08 21:12:45.556\u001b[0m | \u001b[1mINFO    \u001b[0m | \u001b[36m__main__\u001b[0m:\u001b[36m<module>\u001b[0m:\u001b[36m8\u001b[0m - \u001b[1mReading file c23c5787b9117f7c77b24a6ff55cda96.nc\u001b[0m\n",
      "\u001b[32m2025-02-08 21:12:45.665\u001b[0m | \u001b[1mINFO    \u001b[0m | \u001b[36m__main__\u001b[0m:\u001b[36m<module>\u001b[0m:\u001b[36m11\u001b[0m - \u001b[1mFile c23c5787b9117f7c77b24a6ff55cda96.nc read successfully.\u001b[0m\n",
      "\u001b[32m2025-02-08 21:12:45.666\u001b[0m | \u001b[1mINFO    \u001b[0m | \u001b[36m__main__\u001b[0m:\u001b[36m<module>\u001b[0m:\u001b[36m8\u001b[0m - \u001b[1mReading file c678b1b49048e31c4ae456cbefee57ec.nc\u001b[0m\n",
      "\u001b[32m2025-02-08 21:12:45.772\u001b[0m | \u001b[1mINFO    \u001b[0m | \u001b[36m__main__\u001b[0m:\u001b[36m<module>\u001b[0m:\u001b[36m11\u001b[0m - \u001b[1mFile c678b1b49048e31c4ae456cbefee57ec.nc read successfully.\u001b[0m\n",
      "\u001b[32m2025-02-08 21:12:45.774\u001b[0m | \u001b[1mINFO    \u001b[0m | \u001b[36m__main__\u001b[0m:\u001b[36m<module>\u001b[0m:\u001b[36m8\u001b[0m - \u001b[1mReading file cba691de8bacec0ce69ec10d185eb9b3.nc\u001b[0m\n",
      "\u001b[32m2025-02-08 21:12:45.887\u001b[0m | \u001b[1mINFO    \u001b[0m | \u001b[36m__main__\u001b[0m:\u001b[36m<module>\u001b[0m:\u001b[36m11\u001b[0m - \u001b[1mFile cba691de8bacec0ce69ec10d185eb9b3.nc read successfully.\u001b[0m\n",
      "\u001b[32m2025-02-08 21:12:45.888\u001b[0m | \u001b[1mINFO    \u001b[0m | \u001b[36m__main__\u001b[0m:\u001b[36m<module>\u001b[0m:\u001b[36m8\u001b[0m - \u001b[1mReading file d01951af620d948f61272af942c933c8.nc\u001b[0m\n",
      "\u001b[32m2025-02-08 21:12:45.998\u001b[0m | \u001b[1mINFO    \u001b[0m | \u001b[36m__main__\u001b[0m:\u001b[36m<module>\u001b[0m:\u001b[36m11\u001b[0m - \u001b[1mFile d01951af620d948f61272af942c933c8.nc read successfully.\u001b[0m\n",
      "\u001b[32m2025-02-08 21:12:45.999\u001b[0m | \u001b[1mINFO    \u001b[0m | \u001b[36m__main__\u001b[0m:\u001b[36m<module>\u001b[0m:\u001b[36m8\u001b[0m - \u001b[1mReading file d14e2c5142c483230191741215e1e43.nc\u001b[0m\n",
      "\u001b[32m2025-02-08 21:12:46.113\u001b[0m | \u001b[1mINFO    \u001b[0m | \u001b[36m__main__\u001b[0m:\u001b[36m<module>\u001b[0m:\u001b[36m11\u001b[0m - \u001b[1mFile d14e2c5142c483230191741215e1e43.nc read successfully.\u001b[0m\n",
      "\u001b[32m2025-02-08 21:12:46.114\u001b[0m | \u001b[1mINFO    \u001b[0m | \u001b[36m__main__\u001b[0m:\u001b[36m<module>\u001b[0m:\u001b[36m8\u001b[0m - \u001b[1mReading file d37cef0fd088babfaeb6faed201d882d.nc\u001b[0m\n",
      "\u001b[32m2025-02-08 21:12:46.221\u001b[0m | \u001b[1mINFO    \u001b[0m | \u001b[36m__main__\u001b[0m:\u001b[36m<module>\u001b[0m:\u001b[36m11\u001b[0m - \u001b[1mFile d37cef0fd088babfaeb6faed201d882d.nc read successfully.\u001b[0m\n",
      "\u001b[32m2025-02-08 21:12:46.222\u001b[0m | \u001b[1mINFO    \u001b[0m | \u001b[36m__main__\u001b[0m:\u001b[36m<module>\u001b[0m:\u001b[36m8\u001b[0m - \u001b[1mReading file d43672bcf34b4d69491aa2f10a475d44.nc\u001b[0m\n",
      "\u001b[32m2025-02-08 21:12:46.332\u001b[0m | \u001b[1mINFO    \u001b[0m | \u001b[36m__main__\u001b[0m:\u001b[36m<module>\u001b[0m:\u001b[36m11\u001b[0m - \u001b[1mFile d43672bcf34b4d69491aa2f10a475d44.nc read successfully.\u001b[0m\n",
      "\u001b[32m2025-02-08 21:12:46.333\u001b[0m | \u001b[1mINFO    \u001b[0m | \u001b[36m__main__\u001b[0m:\u001b[36m<module>\u001b[0m:\u001b[36m8\u001b[0m - \u001b[1mReading file d4530489ed74ba1b77bdb534ab220d.nc\u001b[0m\n",
      "\u001b[32m2025-02-08 21:12:46.446\u001b[0m | \u001b[1mINFO    \u001b[0m | \u001b[36m__main__\u001b[0m:\u001b[36m<module>\u001b[0m:\u001b[36m11\u001b[0m - \u001b[1mFile d4530489ed74ba1b77bdb534ab220d.nc read successfully.\u001b[0m\n",
      "\u001b[32m2025-02-08 21:12:46.447\u001b[0m | \u001b[1mINFO    \u001b[0m | \u001b[36m__main__\u001b[0m:\u001b[36m<module>\u001b[0m:\u001b[36m8\u001b[0m - \u001b[1mReading file d62c5f4bf48923e90b2f837f7bae0e9b.nc\u001b[0m\n",
      "\u001b[32m2025-02-08 21:12:46.554\u001b[0m | \u001b[1mINFO    \u001b[0m | \u001b[36m__main__\u001b[0m:\u001b[36m<module>\u001b[0m:\u001b[36m11\u001b[0m - \u001b[1mFile d62c5f4bf48923e90b2f837f7bae0e9b.nc read successfully.\u001b[0m\n",
      "\u001b[32m2025-02-08 21:12:46.555\u001b[0m | \u001b[1mINFO    \u001b[0m | \u001b[36m__main__\u001b[0m:\u001b[36m<module>\u001b[0m:\u001b[36m8\u001b[0m - \u001b[1mReading file d8bccf6e4bad7057382f53916990507e.nc\u001b[0m\n",
      "\u001b[32m2025-02-08 21:12:46.671\u001b[0m | \u001b[1mINFO    \u001b[0m | \u001b[36m__main__\u001b[0m:\u001b[36m<module>\u001b[0m:\u001b[36m11\u001b[0m - \u001b[1mFile d8bccf6e4bad7057382f53916990507e.nc read successfully.\u001b[0m\n",
      "\u001b[32m2025-02-08 21:12:46.672\u001b[0m | \u001b[1mINFO    \u001b[0m | \u001b[36m__main__\u001b[0m:\u001b[36m<module>\u001b[0m:\u001b[36m8\u001b[0m - \u001b[1mReading file dd479f6a3719deef4e6645dbc2d5fff1.nc\u001b[0m\n",
      "\u001b[32m2025-02-08 21:12:46.781\u001b[0m | \u001b[1mINFO    \u001b[0m | \u001b[36m__main__\u001b[0m:\u001b[36m<module>\u001b[0m:\u001b[36m11\u001b[0m - \u001b[1mFile dd479f6a3719deef4e6645dbc2d5fff1.nc read successfully.\u001b[0m\n",
      "\u001b[32m2025-02-08 21:12:46.782\u001b[0m | \u001b[1mINFO    \u001b[0m | \u001b[36m__main__\u001b[0m:\u001b[36m<module>\u001b[0m:\u001b[36m8\u001b[0m - \u001b[1mReading file e2ecf10d16432b60fcca98b20ca22d10.nc\u001b[0m\n",
      "\u001b[32m2025-02-08 21:12:46.891\u001b[0m | \u001b[1mINFO    \u001b[0m | \u001b[36m__main__\u001b[0m:\u001b[36m<module>\u001b[0m:\u001b[36m11\u001b[0m - \u001b[1mFile e2ecf10d16432b60fcca98b20ca22d10.nc read successfully.\u001b[0m\n",
      "\u001b[32m2025-02-08 21:12:46.892\u001b[0m | \u001b[1mINFO    \u001b[0m | \u001b[36m__main__\u001b[0m:\u001b[36m<module>\u001b[0m:\u001b[36m8\u001b[0m - \u001b[1mReading file ea5f9cc94676d8b5db714068a882e307.nc\u001b[0m\n",
      "\u001b[32m2025-02-08 21:12:46.998\u001b[0m | \u001b[1mINFO    \u001b[0m | \u001b[36m__main__\u001b[0m:\u001b[36m<module>\u001b[0m:\u001b[36m11\u001b[0m - \u001b[1mFile ea5f9cc94676d8b5db714068a882e307.nc read successfully.\u001b[0m\n",
      "\u001b[32m2025-02-08 21:12:46.999\u001b[0m | \u001b[1mINFO    \u001b[0m | \u001b[36m__main__\u001b[0m:\u001b[36m<module>\u001b[0m:\u001b[36m8\u001b[0m - \u001b[1mReading file ee66dc9d181cc72a7af8dc2fd6dfaff1.nc\u001b[0m\n",
      "\u001b[32m2025-02-08 21:12:47.112\u001b[0m | \u001b[1mINFO    \u001b[0m | \u001b[36m__main__\u001b[0m:\u001b[36m<module>\u001b[0m:\u001b[36m11\u001b[0m - \u001b[1mFile ee66dc9d181cc72a7af8dc2fd6dfaff1.nc read successfully.\u001b[0m\n",
      "\u001b[32m2025-02-08 21:12:47.113\u001b[0m | \u001b[1mINFO    \u001b[0m | \u001b[36m__main__\u001b[0m:\u001b[36m<module>\u001b[0m:\u001b[36m8\u001b[0m - \u001b[1mReading file ef707b96bd214d7aa139169152faebaf.nc\u001b[0m\n",
      "\u001b[32m2025-02-08 21:12:47.222\u001b[0m | \u001b[1mINFO    \u001b[0m | \u001b[36m__main__\u001b[0m:\u001b[36m<module>\u001b[0m:\u001b[36m11\u001b[0m - \u001b[1mFile ef707b96bd214d7aa139169152faebaf.nc read successfully.\u001b[0m\n",
      "\u001b[32m2025-02-08 21:12:47.224\u001b[0m | \u001b[1mINFO    \u001b[0m | \u001b[36m__main__\u001b[0m:\u001b[36m<module>\u001b[0m:\u001b[36m8\u001b[0m - \u001b[1mReading file f781169dfb9bd0c2d91d90bd26d7ee46.nc\u001b[0m\n",
      "\u001b[32m2025-02-08 21:12:47.334\u001b[0m | \u001b[1mINFO    \u001b[0m | \u001b[36m__main__\u001b[0m:\u001b[36m<module>\u001b[0m:\u001b[36m11\u001b[0m - \u001b[1mFile f781169dfb9bd0c2d91d90bd26d7ee46.nc read successfully.\u001b[0m\n",
      "\u001b[32m2025-02-08 21:12:47.335\u001b[0m | \u001b[1mINFO    \u001b[0m | \u001b[36m__main__\u001b[0m:\u001b[36m<module>\u001b[0m:\u001b[36m8\u001b[0m - \u001b[1mReading file f95ebcf482c5912958602ba1aaae7bcf.nc\u001b[0m\n",
      "\u001b[32m2025-02-08 21:12:47.462\u001b[0m | \u001b[1mINFO    \u001b[0m | \u001b[36m__main__\u001b[0m:\u001b[36m<module>\u001b[0m:\u001b[36m11\u001b[0m - \u001b[1mFile f95ebcf482c5912958602ba1aaae7bcf.nc read successfully.\u001b[0m\n",
      "\u001b[32m2025-02-08 21:12:47.463\u001b[0m | \u001b[1mINFO    \u001b[0m | \u001b[36m__main__\u001b[0m:\u001b[36m<module>\u001b[0m:\u001b[36m8\u001b[0m - \u001b[1mReading file fa43d2af97b5aee4ab6a09373b81f51e.nc\u001b[0m\n",
      "\u001b[32m2025-02-08 21:12:47.568\u001b[0m | \u001b[1mINFO    \u001b[0m | \u001b[36m__main__\u001b[0m:\u001b[36m<module>\u001b[0m:\u001b[36m11\u001b[0m - \u001b[1mFile fa43d2af97b5aee4ab6a09373b81f51e.nc read successfully.\u001b[0m\n"
     ]
    }
   ],
   "source": [
    "# Concatenate all files into a single DataFrame\n",
    "currentPath = Path()\n",
    "df = pl.DataFrame()\n",
    "logger.add(\"1.0-iragca-cds-data.log\", rotation=\"500 MB\", retention=\"7 days\", compression=\"zip\")\n",
    "\n",
    "for file in currentPath.iterdir():\n",
    "    try:\n",
    "        if file.suffix == \".nc\":\n",
    "            logger.info(f\"Reading file {file}\")\n",
    "            current_df = xr.open_dataset(file)\n",
    "            df = pl.concat([df, pl.DataFrame(current_df.to_dataframe().reset_index())], how=\"vertical\")\n",
    "            logger.info(f\"File {file} read successfully.\")\n",
    "    except Exception as e:\n",
    "        logger.error(f\"Error reading file {file}. Error: {e}\")\n",
    "        continue\n",
    "        "
   ]
  },
  {
   "cell_type": "code",
   "execution_count": 21,
   "metadata": {},
   "outputs": [
    {
     "data": {
      "text/html": [
       "<div><style>\n",
       ".dataframe > thead > tr,\n",
       ".dataframe > tbody > tr {\n",
       "  text-align: right;\n",
       "  white-space: pre-wrap;\n",
       "}\n",
       "</style>\n",
       "<small>shape: (115_522_166, 5)</small><table border=\"1\" class=\"dataframe\"><thead><tr><th>valid_time</th><th>latitude</th><th>longitude</th><th>t2m</th><th>number</th></tr><tr><td>datetime[ns]</td><td>f64</td><td>f64</td><td>f32</td><td>i64</td></tr></thead><tbody><tr><td>1940-01-02 00:00:00</td><td>20.0</td><td>115.0</td><td>292.075531</td><td>0</td></tr><tr><td>1940-01-02 00:00:00</td><td>20.0</td><td>115.25</td><td>292.206451</td><td>0</td></tr><tr><td>1940-01-02 00:00:00</td><td>20.0</td><td>115.5</td><td>292.347656</td><td>0</td></tr><tr><td>1940-01-02 00:00:00</td><td>20.0</td><td>115.75</td><td>292.450195</td><td>0</td></tr><tr><td>1940-01-02 00:00:00</td><td>20.0</td><td>116.0</td><td>292.558685</td><td>0</td></tr><tr><td>&hellip;</td><td>&hellip;</td><td>&hellip;</td><td>&hellip;</td><td>&hellip;</td></tr><tr><td>2024-12-31 00:00:00</td><td>5.0</td><td>129.0</td><td>300.950104</td><td>0</td></tr><tr><td>2024-12-31 00:00:00</td><td>5.0</td><td>129.25</td><td>300.983002</td><td>0</td></tr><tr><td>2024-12-31 00:00:00</td><td>5.0</td><td>129.5</td><td>301.038422</td><td>0</td></tr><tr><td>2024-12-31 00:00:00</td><td>5.0</td><td>129.75</td><td>301.02774</td><td>0</td></tr><tr><td>2024-12-31 00:00:00</td><td>5.0</td><td>130.0</td><td>301.012939</td><td>0</td></tr></tbody></table></div>"
      ],
      "text/plain": [
       "shape: (115_522_166, 5)\n",
       "┌─────────────────────┬──────────┬───────────┬────────────┬────────┐\n",
       "│ valid_time          ┆ latitude ┆ longitude ┆ t2m        ┆ number │\n",
       "│ ---                 ┆ ---      ┆ ---       ┆ ---        ┆ ---    │\n",
       "│ datetime[ns]        ┆ f64      ┆ f64       ┆ f32        ┆ i64    │\n",
       "╞═════════════════════╪══════════╪═══════════╪════════════╪════════╡\n",
       "│ 1940-01-02 00:00:00 ┆ 20.0     ┆ 115.0     ┆ 292.075531 ┆ 0      │\n",
       "│ 1940-01-02 00:00:00 ┆ 20.0     ┆ 115.25    ┆ 292.206451 ┆ 0      │\n",
       "│ 1940-01-02 00:00:00 ┆ 20.0     ┆ 115.5     ┆ 292.347656 ┆ 0      │\n",
       "│ 1940-01-02 00:00:00 ┆ 20.0     ┆ 115.75    ┆ 292.450195 ┆ 0      │\n",
       "│ 1940-01-02 00:00:00 ┆ 20.0     ┆ 116.0     ┆ 292.558685 ┆ 0      │\n",
       "│ …                   ┆ …        ┆ …         ┆ …          ┆ …      │\n",
       "│ 2024-12-31 00:00:00 ┆ 5.0      ┆ 129.0     ┆ 300.950104 ┆ 0      │\n",
       "│ 2024-12-31 00:00:00 ┆ 5.0      ┆ 129.25    ┆ 300.983002 ┆ 0      │\n",
       "│ 2024-12-31 00:00:00 ┆ 5.0      ┆ 129.5     ┆ 301.038422 ┆ 0      │\n",
       "│ 2024-12-31 00:00:00 ┆ 5.0      ┆ 129.75    ┆ 301.02774  ┆ 0      │\n",
       "│ 2024-12-31 00:00:00 ┆ 5.0      ┆ 130.0     ┆ 301.012939 ┆ 0      │\n",
       "└─────────────────────┴──────────┴───────────┴────────────┴────────┘"
      ]
     },
     "execution_count": 21,
     "metadata": {},
     "output_type": "execute_result"
    }
   ],
   "source": [
    "df = df.sort(\"valid_time\")\n",
    "df"
   ]
  },
  {
   "cell_type": "code",
   "execution_count": 24,
   "metadata": {},
   "outputs": [
    {
     "data": {
      "text/html": [
       "<div><style>\n",
       ".dataframe > thead > tr,\n",
       ".dataframe > tbody > tr {\n",
       "  text-align: right;\n",
       "  white-space: pre-wrap;\n",
       "}\n",
       "</style>\n",
       "<small>shape: (115_522_166, 4)</small><table border=\"1\" class=\"dataframe\"><thead><tr><th>valid_time</th><th>latitude</th><th>longitude</th><th>t2m</th></tr><tr><td>datetime[ns]</td><td>f64</td><td>f64</td><td>f32</td></tr></thead><tbody><tr><td>1970-01-01 00:00:00</td><td>20.0</td><td>115.0</td><td>294.727814</td></tr><tr><td>1970-01-01 00:00:00</td><td>20.0</td><td>115.25</td><td>294.821075</td></tr><tr><td>1970-01-01 00:00:00</td><td>20.0</td><td>115.5</td><td>294.898224</td></tr><tr><td>1970-01-01 00:00:00</td><td>20.0</td><td>115.75</td><td>294.938843</td></tr><tr><td>1970-01-01 00:00:00</td><td>20.0</td><td>116.0</td><td>294.978729</td></tr><tr><td>&hellip;</td><td>&hellip;</td><td>&hellip;</td><td>&hellip;</td></tr><tr><td>1964-12-31 00:00:00</td><td>5.0</td><td>129.0</td><td>299.857208</td></tr><tr><td>1964-12-31 00:00:00</td><td>5.0</td><td>129.25</td><td>299.905792</td></tr><tr><td>1964-12-31 00:00:00</td><td>5.0</td><td>129.5</td><td>299.953064</td></tr><tr><td>1964-12-31 00:00:00</td><td>5.0</td><td>129.75</td><td>299.986664</td></tr><tr><td>1964-12-31 00:00:00</td><td>5.0</td><td>130.0</td><td>299.935577</td></tr></tbody></table></div>"
      ],
      "text/plain": [
       "shape: (115_522_166, 4)\n",
       "┌─────────────────────┬──────────┬───────────┬────────────┐\n",
       "│ valid_time          ┆ latitude ┆ longitude ┆ t2m        │\n",
       "│ ---                 ┆ ---      ┆ ---       ┆ ---        │\n",
       "│ datetime[ns]        ┆ f64      ┆ f64       ┆ f32        │\n",
       "╞═════════════════════╪══════════╪═══════════╪════════════╡\n",
       "│ 1970-01-01 00:00:00 ┆ 20.0     ┆ 115.0     ┆ 294.727814 │\n",
       "│ 1970-01-01 00:00:00 ┆ 20.0     ┆ 115.25    ┆ 294.821075 │\n",
       "│ 1970-01-01 00:00:00 ┆ 20.0     ┆ 115.5     ┆ 294.898224 │\n",
       "│ 1970-01-01 00:00:00 ┆ 20.0     ┆ 115.75    ┆ 294.938843 │\n",
       "│ 1970-01-01 00:00:00 ┆ 20.0     ┆ 116.0     ┆ 294.978729 │\n",
       "│ …                   ┆ …        ┆ …         ┆ …          │\n",
       "│ 1964-12-31 00:00:00 ┆ 5.0      ┆ 129.0     ┆ 299.857208 │\n",
       "│ 1964-12-31 00:00:00 ┆ 5.0      ┆ 129.25    ┆ 299.905792 │\n",
       "│ 1964-12-31 00:00:00 ┆ 5.0      ┆ 129.5     ┆ 299.953064 │\n",
       "│ 1964-12-31 00:00:00 ┆ 5.0      ┆ 129.75    ┆ 299.986664 │\n",
       "│ 1964-12-31 00:00:00 ┆ 5.0      ┆ 130.0     ┆ 299.935577 │\n",
       "└─────────────────────┴──────────┴───────────┴────────────┘"
      ]
     },
     "execution_count": 24,
     "metadata": {},
     "output_type": "execute_result"
    }
   ],
   "source": [
    "df.drop_in_place('number')\n",
    "df"
   ]
  },
  {
   "cell_type": "code",
   "execution_count": 18,
   "metadata": {},
   "outputs": [
    {
     "data": {
      "text/plain": [
       "3966.138816833496"
      ]
     },
     "execution_count": 18,
     "metadata": {},
     "output_type": "execute_result"
    }
   ],
   "source": [
    "df.estimated_size() / (1024 * 1024) # megabytes"
   ]
  },
  {
   "cell_type": "code",
   "execution_count": 28,
   "metadata": {},
   "outputs": [
    {
     "ename": "",
     "evalue": "",
     "output_type": "error",
     "traceback": [
      "\u001b[1;31mThe Kernel crashed while executing code in the current cell or a previous cell. \n",
      "\u001b[1;31mPlease review the code in the cell(s) to identify a possible cause of the failure. \n",
      "\u001b[1;31mClick <a href='https://aka.ms/vscodeJupyterKernelCrash'>here</a> for more info. \n",
      "\u001b[1;31mView Jupyter <a href='command:jupyter.viewOutput'>log</a> for further details."
     ]
    }
   ],
   "source": [
    "# Save the files\n",
    "save_path = PROCESSED_DATA_DIR / \"cds\"\n",
    "\n",
    "if not save_path.exists():\n",
    "    save_path.mkdir(parents=True)\n",
    "\n",
    "df.write_parquet(save_path / \"era5-2m-temperature-1940-2024.parquet\")"
   ]
  },
  {
   "cell_type": "code",
   "execution_count": 1,
   "metadata": {},
   "outputs": [
    {
     "name": "stderr",
     "output_type": "stream",
     "text": [
      "\u001b[32m2025-02-16 17:32:30.533\u001b[0m | \u001b[1mINFO    \u001b[0m | \u001b[36mcompstat_research.config\u001b[0m:\u001b[36m<module>\u001b[0m:\u001b[36m11\u001b[0m - \u001b[1mPROJ_ROOT path is: D:\\Documents\\3 Production Save Files\\1 Cloned repositories\\compstat-research\u001b[0m\n"
     ]
    },
    {
     "name": "stdout",
     "output_type": "stream",
     "text": [
      "\u001b[32m2025-02-16 17:32:30.622\u001b[0m | \u001b[1mINFO    \u001b[0m | \u001b[36m__main__\u001b[0m:\u001b[36m<module>\u001b[0m:\u001b[36m16\u001b[0m - \u001b[1mStarting to process files in D:\\Documents\\3 Production Save Files\\1 Cloned repositories\\compstat-research\\data\\interim\\cds\\era5\\2m-temperature. Saving to D:\\Documents\\3 Production Save Files\\1 Cloned repositories\\compstat-research\\data\\processed\\cds\\era5\\2m-temperature\\global.\u001b[0m\n",
      "\u001b[32m2025-02-16 17:32:33.051\u001b[0m | \u001b[1mINFO    \u001b[0m | \u001b[36m__main__\u001b[0m:\u001b[36m<module>\u001b[0m:\u001b[36m22\u001b[0m - \u001b[1mProcessing file global-1959-b960eadc6b78cad5ce55f3e096ea783c.nc.\u001b[0m\n",
      "\u001b[32m2025-02-16 17:33:56.700\u001b[0m | \u001b[32m\u001b[1mSUCCESS \u001b[0m | \u001b[36m__main__\u001b[0m:\u001b[36m<module>\u001b[0m:\u001b[36m29\u001b[0m - \u001b[32m\u001b[1mSaved file global-1959-b960eadc6b78cad5ce55f3e096ea783c.nc to D:\\Documents\\3 Production Save Files\\1 Cloned repositories\\compstat-research\\data\\processed\\cds\\era5\\2m-temperature\\global.\u001b[0m\n",
      "\u001b[32m2025-02-16 17:34:02.656\u001b[0m | \u001b[1mINFO    \u001b[0m | \u001b[36m__main__\u001b[0m:\u001b[36m<module>\u001b[0m:\u001b[36m22\u001b[0m - \u001b[1mProcessing file global-1960-668e97e261d3ee5f5c36d6db56c5af70.nc.\u001b[0m\n",
      "\u001b[32m2025-02-16 17:35:45.710\u001b[0m | \u001b[32m\u001b[1mSUCCESS \u001b[0m | \u001b[36m__main__\u001b[0m:\u001b[36m<module>\u001b[0m:\u001b[36m29\u001b[0m - \u001b[32m\u001b[1mSaved file global-1960-668e97e261d3ee5f5c36d6db56c5af70.nc to D:\\Documents\\3 Production Save Files\\1 Cloned repositories\\compstat-research\\data\\processed\\cds\\era5\\2m-temperature\\global.\u001b[0m\n",
      "\u001b[32m2025-02-16 17:35:51.425\u001b[0m | \u001b[1mINFO    \u001b[0m | \u001b[36m__main__\u001b[0m:\u001b[36m<module>\u001b[0m:\u001b[36m22\u001b[0m - \u001b[1mProcessing file global-1961-8b9736efbf060724e9de2b27bdc0b043.nc.\u001b[0m\n",
      "\u001b[32m2025-02-16 17:37:16.520\u001b[0m | \u001b[32m\u001b[1mSUCCESS \u001b[0m | \u001b[36m__main__\u001b[0m:\u001b[36m<module>\u001b[0m:\u001b[36m29\u001b[0m - \u001b[32m\u001b[1mSaved file global-1961-8b9736efbf060724e9de2b27bdc0b043.nc to D:\\Documents\\3 Production Save Files\\1 Cloned repositories\\compstat-research\\data\\processed\\cds\\era5\\2m-temperature\\global.\u001b[0m\n",
      "\u001b[32m2025-02-16 17:37:22.746\u001b[0m | \u001b[1mINFO    \u001b[0m | \u001b[36m__main__\u001b[0m:\u001b[36m<module>\u001b[0m:\u001b[36m22\u001b[0m - \u001b[1mProcessing file global-1962-2cf53426e7cd4b25bafbe0c308c01f69.nc.\u001b[0m\n",
      "\u001b[32m2025-02-16 17:38:38.494\u001b[0m | \u001b[32m\u001b[1mSUCCESS \u001b[0m | \u001b[36m__main__\u001b[0m:\u001b[36m<module>\u001b[0m:\u001b[36m29\u001b[0m - \u001b[32m\u001b[1mSaved file global-1962-2cf53426e7cd4b25bafbe0c308c01f69.nc to D:\\Documents\\3 Production Save Files\\1 Cloned repositories\\compstat-research\\data\\processed\\cds\\era5\\2m-temperature\\global.\u001b[0m\n",
      "\u001b[32m2025-02-16 17:38:43.930\u001b[0m | \u001b[1mINFO    \u001b[0m | \u001b[36m__main__\u001b[0m:\u001b[36m<module>\u001b[0m:\u001b[36m22\u001b[0m - \u001b[1mProcessing file global-1963-5e652e87433a865080c7c3445881d552.nc.\u001b[0m\n",
      "\u001b[32m2025-02-16 17:40:02.552\u001b[0m | \u001b[32m\u001b[1mSUCCESS \u001b[0m | \u001b[36m__main__\u001b[0m:\u001b[36m<module>\u001b[0m:\u001b[36m29\u001b[0m - \u001b[32m\u001b[1mSaved file global-1963-5e652e87433a865080c7c3445881d552.nc to D:\\Documents\\3 Production Save Files\\1 Cloned repositories\\compstat-research\\data\\processed\\cds\\era5\\2m-temperature\\global.\u001b[0m\n",
      "\u001b[32m2025-02-16 17:40:07.872\u001b[0m | \u001b[1mINFO    \u001b[0m | \u001b[36m__main__\u001b[0m:\u001b[36m<module>\u001b[0m:\u001b[36m22\u001b[0m - \u001b[1mProcessing file global-1964-9919c870fc3b8b72c4137eb1191e44c1.nc.\u001b[0m\n",
      "\u001b[32m2025-02-16 17:41:32.353\u001b[0m | \u001b[32m\u001b[1mSUCCESS \u001b[0m | \u001b[36m__main__\u001b[0m:\u001b[36m<module>\u001b[0m:\u001b[36m29\u001b[0m - \u001b[32m\u001b[1mSaved file global-1964-9919c870fc3b8b72c4137eb1191e44c1.nc to D:\\Documents\\3 Production Save Files\\1 Cloned repositories\\compstat-research\\data\\processed\\cds\\era5\\2m-temperature\\global.\u001b[0m\n",
      "\u001b[32m2025-02-16 17:41:37.934\u001b[0m | \u001b[1mINFO    \u001b[0m | \u001b[36m__main__\u001b[0m:\u001b[36m<module>\u001b[0m:\u001b[36m22\u001b[0m - \u001b[1mProcessing file global-1965-4465dc07fcc464f0c69d126281627bd8.nc.\u001b[0m\n",
      "\u001b[32m2025-02-16 17:43:01.045\u001b[0m | \u001b[32m\u001b[1mSUCCESS \u001b[0m | \u001b[36m__main__\u001b[0m:\u001b[36m<module>\u001b[0m:\u001b[36m29\u001b[0m - \u001b[32m\u001b[1mSaved file global-1965-4465dc07fcc464f0c69d126281627bd8.nc to D:\\Documents\\3 Production Save Files\\1 Cloned repositories\\compstat-research\\data\\processed\\cds\\era5\\2m-temperature\\global.\u001b[0m\n",
      "\u001b[32m2025-02-16 17:43:06.594\u001b[0m | \u001b[1mINFO    \u001b[0m | \u001b[36m__main__\u001b[0m:\u001b[36m<module>\u001b[0m:\u001b[36m22\u001b[0m - \u001b[1mProcessing file global-1966-8ee882971c8f6581b9a93c3fe758f5f7.nc.\u001b[0m\n",
      "\u001b[32m2025-02-16 17:44:28.593\u001b[0m | \u001b[32m\u001b[1mSUCCESS \u001b[0m | \u001b[36m__main__\u001b[0m:\u001b[36m<module>\u001b[0m:\u001b[36m29\u001b[0m - \u001b[32m\u001b[1mSaved file global-1966-8ee882971c8f6581b9a93c3fe758f5f7.nc to D:\\Documents\\3 Production Save Files\\1 Cloned repositories\\compstat-research\\data\\processed\\cds\\era5\\2m-temperature\\global.\u001b[0m\n",
      "\u001b[32m2025-02-16 17:44:33.989\u001b[0m | \u001b[1mINFO    \u001b[0m | \u001b[36m__main__\u001b[0m:\u001b[36m<module>\u001b[0m:\u001b[36m22\u001b[0m - \u001b[1mProcessing file global-1967-4689a984dcaed198031162d53a49ba7e.nc.\u001b[0m\n",
      "\u001b[32m2025-02-16 17:45:53.710\u001b[0m | \u001b[32m\u001b[1mSUCCESS \u001b[0m | \u001b[36m__main__\u001b[0m:\u001b[36m<module>\u001b[0m:\u001b[36m29\u001b[0m - \u001b[32m\u001b[1mSaved file global-1967-4689a984dcaed198031162d53a49ba7e.nc to D:\\Documents\\3 Production Save Files\\1 Cloned repositories\\compstat-research\\data\\processed\\cds\\era5\\2m-temperature\\global.\u001b[0m\n",
      "\u001b[32m2025-02-16 17:45:59.733\u001b[0m | \u001b[1mINFO    \u001b[0m | \u001b[36m__main__\u001b[0m:\u001b[36m<module>\u001b[0m:\u001b[36m22\u001b[0m - \u001b[1mProcessing file global-1968-5b401aebcfca986c81f4926b75b8fc15.nc.\u001b[0m\n",
      "\u001b[32m2025-02-16 17:47:14.651\u001b[0m | \u001b[32m\u001b[1mSUCCESS \u001b[0m | \u001b[36m__main__\u001b[0m:\u001b[36m<module>\u001b[0m:\u001b[36m29\u001b[0m - \u001b[32m\u001b[1mSaved file global-1968-5b401aebcfca986c81f4926b75b8fc15.nc to D:\\Documents\\3 Production Save Files\\1 Cloned repositories\\compstat-research\\data\\processed\\cds\\era5\\2m-temperature\\global.\u001b[0m\n",
      "\u001b[32m2025-02-16 17:47:19.983\u001b[0m | \u001b[1mINFO    \u001b[0m | \u001b[36m__main__\u001b[0m:\u001b[36m<module>\u001b[0m:\u001b[36m22\u001b[0m - \u001b[1mProcessing file global-1969-c2935d1774e70ad415eae8fdad3b35ae.nc.\u001b[0m\n",
      "\u001b[32m2025-02-16 17:48:52.405\u001b[0m | \u001b[32m\u001b[1mSUCCESS \u001b[0m | \u001b[36m__main__\u001b[0m:\u001b[36m<module>\u001b[0m:\u001b[36m29\u001b[0m - \u001b[32m\u001b[1mSaved file global-1969-c2935d1774e70ad415eae8fdad3b35ae.nc to D:\\Documents\\3 Production Save Files\\1 Cloned repositories\\compstat-research\\data\\processed\\cds\\era5\\2m-temperature\\global.\u001b[0m\n",
      "\u001b[32m2025-02-16 17:48:57.770\u001b[0m | \u001b[1mINFO    \u001b[0m | \u001b[36m__main__\u001b[0m:\u001b[36m<module>\u001b[0m:\u001b[36m22\u001b[0m - \u001b[1mProcessing file global-1970-ce00c80ce5228b1aff38a47f9664b587.nc.\u001b[0m\n",
      "\u001b[32m2025-02-16 17:50:10.094\u001b[0m | \u001b[32m\u001b[1mSUCCESS \u001b[0m | \u001b[36m__main__\u001b[0m:\u001b[36m<module>\u001b[0m:\u001b[36m29\u001b[0m - \u001b[32m\u001b[1mSaved file global-1970-ce00c80ce5228b1aff38a47f9664b587.nc to D:\\Documents\\3 Production Save Files\\1 Cloned repositories\\compstat-research\\data\\processed\\cds\\era5\\2m-temperature\\global.\u001b[0m\n",
      "\u001b[32m2025-02-16 17:50:15.451\u001b[0m | \u001b[1mINFO    \u001b[0m | \u001b[36m__main__\u001b[0m:\u001b[36m<module>\u001b[0m:\u001b[36m22\u001b[0m - \u001b[1mProcessing file global-1971-5ba1ed0759ddb6d28e4dfd034c9840ec.nc.\u001b[0m\n",
      "\u001b[32m2025-02-16 17:51:36.592\u001b[0m | \u001b[32m\u001b[1mSUCCESS \u001b[0m | \u001b[36m__main__\u001b[0m:\u001b[36m<module>\u001b[0m:\u001b[36m29\u001b[0m - \u001b[32m\u001b[1mSaved file global-1971-5ba1ed0759ddb6d28e4dfd034c9840ec.nc to D:\\Documents\\3 Production Save Files\\1 Cloned repositories\\compstat-research\\data\\processed\\cds\\era5\\2m-temperature\\global.\u001b[0m\n",
      "\u001b[32m2025-02-16 17:51:41.635\u001b[0m | \u001b[1mINFO    \u001b[0m | \u001b[36m__main__\u001b[0m:\u001b[36m<module>\u001b[0m:\u001b[36m22\u001b[0m - \u001b[1mProcessing file global-1972-6899f57c4429bee701a13ebc35afe6ac.nc.\u001b[0m\n",
      "\u001b[32m2025-02-16 17:53:20.800\u001b[0m | \u001b[32m\u001b[1mSUCCESS \u001b[0m | \u001b[36m__main__\u001b[0m:\u001b[36m<module>\u001b[0m:\u001b[36m29\u001b[0m - \u001b[32m\u001b[1mSaved file global-1972-6899f57c4429bee701a13ebc35afe6ac.nc to D:\\Documents\\3 Production Save Files\\1 Cloned repositories\\compstat-research\\data\\processed\\cds\\era5\\2m-temperature\\global.\u001b[0m\n",
      "\u001b[32m2025-02-16 17:53:28.641\u001b[0m | \u001b[1mINFO    \u001b[0m | \u001b[36m__main__\u001b[0m:\u001b[36m<module>\u001b[0m:\u001b[36m22\u001b[0m - \u001b[1mProcessing file global-1973-a5217000efb3e0a2cfd7fafbfea30044.nc.\u001b[0m\n",
      "\u001b[32m2025-02-16 17:54:42.613\u001b[0m | \u001b[32m\u001b[1mSUCCESS \u001b[0m | \u001b[36m__main__\u001b[0m:\u001b[36m<module>\u001b[0m:\u001b[36m29\u001b[0m - \u001b[32m\u001b[1mSaved file global-1973-a5217000efb3e0a2cfd7fafbfea30044.nc to D:\\Documents\\3 Production Save Files\\1 Cloned repositories\\compstat-research\\data\\processed\\cds\\era5\\2m-temperature\\global.\u001b[0m\n",
      "\u001b[32m2025-02-16 17:54:47.718\u001b[0m | \u001b[1mINFO    \u001b[0m | \u001b[36m__main__\u001b[0m:\u001b[36m<module>\u001b[0m:\u001b[36m22\u001b[0m - \u001b[1mProcessing file global-1974-32261e1720eef74caeefd15888fec830.nc.\u001b[0m\n",
      "\u001b[32m2025-02-16 17:56:03.106\u001b[0m | \u001b[32m\u001b[1mSUCCESS \u001b[0m | \u001b[36m__main__\u001b[0m:\u001b[36m<module>\u001b[0m:\u001b[36m29\u001b[0m - \u001b[32m\u001b[1mSaved file global-1974-32261e1720eef74caeefd15888fec830.nc to D:\\Documents\\3 Production Save Files\\1 Cloned repositories\\compstat-research\\data\\processed\\cds\\era5\\2m-temperature\\global.\u001b[0m\n",
      "\u001b[32m2025-02-16 17:56:08.117\u001b[0m | \u001b[1mINFO    \u001b[0m | \u001b[36m__main__\u001b[0m:\u001b[36m<module>\u001b[0m:\u001b[36m22\u001b[0m - \u001b[1mProcessing file global-1975-3ef34be419013be25a641a3d32739adb.nc.\u001b[0m\n",
      "\u001b[32m2025-02-16 17:57:22.925\u001b[0m | \u001b[32m\u001b[1mSUCCESS \u001b[0m | \u001b[36m__main__\u001b[0m:\u001b[36m<module>\u001b[0m:\u001b[36m29\u001b[0m - \u001b[32m\u001b[1mSaved file global-1975-3ef34be419013be25a641a3d32739adb.nc to D:\\Documents\\3 Production Save Files\\1 Cloned repositories\\compstat-research\\data\\processed\\cds\\era5\\2m-temperature\\global.\u001b[0m\n",
      "\u001b[32m2025-02-16 17:57:27.835\u001b[0m | \u001b[1mINFO    \u001b[0m | \u001b[36m__main__\u001b[0m:\u001b[36m<module>\u001b[0m:\u001b[36m22\u001b[0m - \u001b[1mProcessing file global-1976-a9eef3ab3541d67cd8921650ebfa727e.nc.\u001b[0m\n",
      "\u001b[32m2025-02-16 17:58:41.944\u001b[0m | \u001b[32m\u001b[1mSUCCESS \u001b[0m | \u001b[36m__main__\u001b[0m:\u001b[36m<module>\u001b[0m:\u001b[36m29\u001b[0m - \u001b[32m\u001b[1mSaved file global-1976-a9eef3ab3541d67cd8921650ebfa727e.nc to D:\\Documents\\3 Production Save Files\\1 Cloned repositories\\compstat-research\\data\\processed\\cds\\era5\\2m-temperature\\global.\u001b[0m\n",
      "\u001b[32m2025-02-16 17:58:46.910\u001b[0m | \u001b[1mINFO    \u001b[0m | \u001b[36m__main__\u001b[0m:\u001b[36m<module>\u001b[0m:\u001b[36m22\u001b[0m - \u001b[1mProcessing file global-1977-c64588caae5dc6abb7957ef330980e46.nc.\u001b[0m\n",
      "\u001b[32m2025-02-16 18:00:04.575\u001b[0m | \u001b[32m\u001b[1mSUCCESS \u001b[0m | \u001b[36m__main__\u001b[0m:\u001b[36m<module>\u001b[0m:\u001b[36m29\u001b[0m - \u001b[32m\u001b[1mSaved file global-1977-c64588caae5dc6abb7957ef330980e46.nc to D:\\Documents\\3 Production Save Files\\1 Cloned repositories\\compstat-research\\data\\processed\\cds\\era5\\2m-temperature\\global.\u001b[0m\n",
      "\u001b[32m2025-02-16 18:00:09.415\u001b[0m | \u001b[1mINFO    \u001b[0m | \u001b[36m__main__\u001b[0m:\u001b[36m<module>\u001b[0m:\u001b[36m22\u001b[0m - \u001b[1mProcessing file global-1978-c4618d2caf3b3cd4445772d27d384c64.nc.\u001b[0m\n",
      "\u001b[32m2025-02-16 18:01:28.290\u001b[0m | \u001b[32m\u001b[1mSUCCESS \u001b[0m | \u001b[36m__main__\u001b[0m:\u001b[36m<module>\u001b[0m:\u001b[36m29\u001b[0m - \u001b[32m\u001b[1mSaved file global-1978-c4618d2caf3b3cd4445772d27d384c64.nc to D:\\Documents\\3 Production Save Files\\1 Cloned repositories\\compstat-research\\data\\processed\\cds\\era5\\2m-temperature\\global.\u001b[0m\n",
      "\u001b[32m2025-02-16 18:01:33.315\u001b[0m | \u001b[1mINFO    \u001b[0m | \u001b[36m__main__\u001b[0m:\u001b[36m<module>\u001b[0m:\u001b[36m22\u001b[0m - \u001b[1mProcessing file global-1979-855de7a56b7dd8e859a38ef7e9000ca8.nc.\u001b[0m\n",
      "\u001b[32m2025-02-16 18:02:53.331\u001b[0m | \u001b[32m\u001b[1mSUCCESS \u001b[0m | \u001b[36m__main__\u001b[0m:\u001b[36m<module>\u001b[0m:\u001b[36m29\u001b[0m - \u001b[32m\u001b[1mSaved file global-1979-855de7a56b7dd8e859a38ef7e9000ca8.nc to D:\\Documents\\3 Production Save Files\\1 Cloned repositories\\compstat-research\\data\\processed\\cds\\era5\\2m-temperature\\global.\u001b[0m\n",
      "\u001b[32m2025-02-16 18:02:58.256\u001b[0m | \u001b[1mINFO    \u001b[0m | \u001b[36m__main__\u001b[0m:\u001b[36m<module>\u001b[0m:\u001b[36m22\u001b[0m - \u001b[1mProcessing file global-1980-b1c5de6b6e265bc6c82b4cefda75c485.nc.\u001b[0m\n",
      "\u001b[32m2025-02-16 18:04:16.971\u001b[0m | \u001b[32m\u001b[1mSUCCESS \u001b[0m | \u001b[36m__main__\u001b[0m:\u001b[36m<module>\u001b[0m:\u001b[36m29\u001b[0m - \u001b[32m\u001b[1mSaved file global-1980-b1c5de6b6e265bc6c82b4cefda75c485.nc to D:\\Documents\\3 Production Save Files\\1 Cloned repositories\\compstat-research\\data\\processed\\cds\\era5\\2m-temperature\\global.\u001b[0m\n",
      "\u001b[32m2025-02-16 18:04:22.103\u001b[0m | \u001b[1mINFO    \u001b[0m | \u001b[36m__main__\u001b[0m:\u001b[36m<module>\u001b[0m:\u001b[36m22\u001b[0m - \u001b[1mProcessing file global-1981-4105b91f3d7ef0291fc41aad6a49ebfc.nc.\u001b[0m\n",
      "\u001b[32m2025-02-16 18:05:42.123\u001b[0m | \u001b[32m\u001b[1mSUCCESS \u001b[0m | \u001b[36m__main__\u001b[0m:\u001b[36m<module>\u001b[0m:\u001b[36m29\u001b[0m - \u001b[32m\u001b[1mSaved file global-1981-4105b91f3d7ef0291fc41aad6a49ebfc.nc to D:\\Documents\\3 Production Save Files\\1 Cloned repositories\\compstat-research\\data\\processed\\cds\\era5\\2m-temperature\\global.\u001b[0m\n",
      "\u001b[32m2025-02-16 18:05:47.457\u001b[0m | \u001b[1mINFO    \u001b[0m | \u001b[36m__main__\u001b[0m:\u001b[36m<module>\u001b[0m:\u001b[36m22\u001b[0m - \u001b[1mProcessing file global-1982-67f54bb9d15bd6c5eec299da46b77768.nc.\u001b[0m\n",
      "\u001b[32m2025-02-16 18:07:10.387\u001b[0m | \u001b[32m\u001b[1mSUCCESS \u001b[0m | \u001b[36m__main__\u001b[0m:\u001b[36m<module>\u001b[0m:\u001b[36m29\u001b[0m - \u001b[32m\u001b[1mSaved file global-1982-67f54bb9d15bd6c5eec299da46b77768.nc to D:\\Documents\\3 Production Save Files\\1 Cloned repositories\\compstat-research\\data\\processed\\cds\\era5\\2m-temperature\\global.\u001b[0m\n",
      "\u001b[32m2025-02-16 18:07:16.910\u001b[0m | \u001b[1mINFO    \u001b[0m | \u001b[36m__main__\u001b[0m:\u001b[36m<module>\u001b[0m:\u001b[36m22\u001b[0m - \u001b[1mProcessing file global-1983-c5b8dbd9568160bb767fdea1bc7096b9.nc.\u001b[0m\n",
      "\u001b[32m2025-02-16 18:08:32.366\u001b[0m | \u001b[32m\u001b[1mSUCCESS \u001b[0m | \u001b[36m__main__\u001b[0m:\u001b[36m<module>\u001b[0m:\u001b[36m29\u001b[0m - \u001b[32m\u001b[1mSaved file global-1983-c5b8dbd9568160bb767fdea1bc7096b9.nc to D:\\Documents\\3 Production Save Files\\1 Cloned repositories\\compstat-research\\data\\processed\\cds\\era5\\2m-temperature\\global.\u001b[0m\n",
      "\u001b[32m2025-02-16 18:08:37.609\u001b[0m | \u001b[1mINFO    \u001b[0m | \u001b[36m__main__\u001b[0m:\u001b[36m<module>\u001b[0m:\u001b[36m22\u001b[0m - \u001b[1mProcessing file global-1984-34abe4d02211ca03cac817db8fe94907.nc.\u001b[0m\n",
      "\u001b[32m2025-02-16 18:09:56.001\u001b[0m | \u001b[32m\u001b[1mSUCCESS \u001b[0m | \u001b[36m__main__\u001b[0m:\u001b[36m<module>\u001b[0m:\u001b[36m29\u001b[0m - \u001b[32m\u001b[1mSaved file global-1984-34abe4d02211ca03cac817db8fe94907.nc to D:\\Documents\\3 Production Save Files\\1 Cloned repositories\\compstat-research\\data\\processed\\cds\\era5\\2m-temperature\\global.\u001b[0m\n",
      "\u001b[32m2025-02-16 18:10:02.575\u001b[0m | \u001b[1mINFO    \u001b[0m | \u001b[36m__main__\u001b[0m:\u001b[36m<module>\u001b[0m:\u001b[36m22\u001b[0m - \u001b[1mProcessing file global-1985-b0b288be6469a2fd281dce976657d1c7.nc.\u001b[0m\n",
      "\u001b[32m2025-02-16 18:11:17.691\u001b[0m | \u001b[32m\u001b[1mSUCCESS \u001b[0m | \u001b[36m__main__\u001b[0m:\u001b[36m<module>\u001b[0m:\u001b[36m29\u001b[0m - \u001b[32m\u001b[1mSaved file global-1985-b0b288be6469a2fd281dce976657d1c7.nc to D:\\Documents\\3 Production Save Files\\1 Cloned repositories\\compstat-research\\data\\processed\\cds\\era5\\2m-temperature\\global.\u001b[0m\n",
      "\u001b[32m2025-02-16 18:11:22.974\u001b[0m | \u001b[1mINFO    \u001b[0m | \u001b[36m__main__\u001b[0m:\u001b[36m<module>\u001b[0m:\u001b[36m22\u001b[0m - \u001b[1mProcessing file global-1986-d35e28b9b614812bf083fba3ea1b973b.nc.\u001b[0m\n",
      "\u001b[32m2025-02-16 18:12:37.279\u001b[0m | \u001b[32m\u001b[1mSUCCESS \u001b[0m | \u001b[36m__main__\u001b[0m:\u001b[36m<module>\u001b[0m:\u001b[36m29\u001b[0m - \u001b[32m\u001b[1mSaved file global-1986-d35e28b9b614812bf083fba3ea1b973b.nc to D:\\Documents\\3 Production Save Files\\1 Cloned repositories\\compstat-research\\data\\processed\\cds\\era5\\2m-temperature\\global.\u001b[0m\n",
      "\u001b[32m2025-02-16 18:12:42.547\u001b[0m | \u001b[1mINFO    \u001b[0m | \u001b[36m__main__\u001b[0m:\u001b[36m<module>\u001b[0m:\u001b[36m22\u001b[0m - \u001b[1mProcessing file global-1987-23f4c26fc88578819a91ee69676cc339.nc.\u001b[0m\n",
      "\u001b[32m2025-02-16 18:13:58.221\u001b[0m | \u001b[32m\u001b[1mSUCCESS \u001b[0m | \u001b[36m__main__\u001b[0m:\u001b[36m<module>\u001b[0m:\u001b[36m29\u001b[0m - \u001b[32m\u001b[1mSaved file global-1987-23f4c26fc88578819a91ee69676cc339.nc to D:\\Documents\\3 Production Save Files\\1 Cloned repositories\\compstat-research\\data\\processed\\cds\\era5\\2m-temperature\\global.\u001b[0m\n",
      "\u001b[32m2025-02-16 18:14:03.629\u001b[0m | \u001b[1mINFO    \u001b[0m | \u001b[36m__main__\u001b[0m:\u001b[36m<module>\u001b[0m:\u001b[36m22\u001b[0m - \u001b[1mProcessing file global-1988-66191ce6f3d4cb0af46322c6b6d9c43c.nc.\u001b[0m\n",
      "\u001b[32m2025-02-16 18:15:20.319\u001b[0m | \u001b[32m\u001b[1mSUCCESS \u001b[0m | \u001b[36m__main__\u001b[0m:\u001b[36m<module>\u001b[0m:\u001b[36m29\u001b[0m - \u001b[32m\u001b[1mSaved file global-1988-66191ce6f3d4cb0af46322c6b6d9c43c.nc to D:\\Documents\\3 Production Save Files\\1 Cloned repositories\\compstat-research\\data\\processed\\cds\\era5\\2m-temperature\\global.\u001b[0m\n",
      "\u001b[32m2025-02-16 18:15:25.667\u001b[0m | \u001b[1mINFO    \u001b[0m | \u001b[36m__main__\u001b[0m:\u001b[36m<module>\u001b[0m:\u001b[36m22\u001b[0m - \u001b[1mProcessing file global-1989-7ba150caa9ed1f3f811795e2a7632138.nc.\u001b[0m\n",
      "\u001b[32m2025-02-16 18:16:51.137\u001b[0m | \u001b[32m\u001b[1mSUCCESS \u001b[0m | \u001b[36m__main__\u001b[0m:\u001b[36m<module>\u001b[0m:\u001b[36m29\u001b[0m - \u001b[32m\u001b[1mSaved file global-1989-7ba150caa9ed1f3f811795e2a7632138.nc to D:\\Documents\\3 Production Save Files\\1 Cloned repositories\\compstat-research\\data\\processed\\cds\\era5\\2m-temperature\\global.\u001b[0m\n",
      "\u001b[32m2025-02-16 18:16:56.481\u001b[0m | \u001b[1mINFO    \u001b[0m | \u001b[36m__main__\u001b[0m:\u001b[36m<module>\u001b[0m:\u001b[36m22\u001b[0m - \u001b[1mProcessing file global-1990-9a5362f6da93ee7dfe903f0619ccc0ce.nc.\u001b[0m\n",
      "\u001b[32m2025-02-16 18:18:12.571\u001b[0m | \u001b[32m\u001b[1mSUCCESS \u001b[0m | \u001b[36m__main__\u001b[0m:\u001b[36m<module>\u001b[0m:\u001b[36m29\u001b[0m - \u001b[32m\u001b[1mSaved file global-1990-9a5362f6da93ee7dfe903f0619ccc0ce.nc to D:\\Documents\\3 Production Save Files\\1 Cloned repositories\\compstat-research\\data\\processed\\cds\\era5\\2m-temperature\\global.\u001b[0m\n",
      "\u001b[32m2025-02-16 18:18:17.907\u001b[0m | \u001b[1mINFO    \u001b[0m | \u001b[36m__main__\u001b[0m:\u001b[36m<module>\u001b[0m:\u001b[36m22\u001b[0m - \u001b[1mProcessing file global-1991-6350a1e731c1e65640710c27574b564.nc.\u001b[0m\n",
      "\u001b[32m2025-02-16 18:19:37.224\u001b[0m | \u001b[32m\u001b[1mSUCCESS \u001b[0m | \u001b[36m__main__\u001b[0m:\u001b[36m<module>\u001b[0m:\u001b[36m29\u001b[0m - \u001b[32m\u001b[1mSaved file global-1991-6350a1e731c1e65640710c27574b564.nc to D:\\Documents\\3 Production Save Files\\1 Cloned repositories\\compstat-research\\data\\processed\\cds\\era5\\2m-temperature\\global.\u001b[0m\n",
      "\u001b[32m2025-02-16 18:19:42.486\u001b[0m | \u001b[1mINFO    \u001b[0m | \u001b[36m__main__\u001b[0m:\u001b[36m<module>\u001b[0m:\u001b[36m22\u001b[0m - \u001b[1mProcessing file global-1992-3da0f7afc24d0898721ca900fe670d4c.nc.\u001b[0m\n",
      "\u001b[32m2025-02-16 18:21:01.165\u001b[0m | \u001b[32m\u001b[1mSUCCESS \u001b[0m | \u001b[36m__main__\u001b[0m:\u001b[36m<module>\u001b[0m:\u001b[36m29\u001b[0m - \u001b[32m\u001b[1mSaved file global-1992-3da0f7afc24d0898721ca900fe670d4c.nc to D:\\Documents\\3 Production Save Files\\1 Cloned repositories\\compstat-research\\data\\processed\\cds\\era5\\2m-temperature\\global.\u001b[0m\n",
      "\u001b[32m2025-02-16 18:21:06.498\u001b[0m | \u001b[1mINFO    \u001b[0m | \u001b[36m__main__\u001b[0m:\u001b[36m<module>\u001b[0m:\u001b[36m22\u001b[0m - \u001b[1mProcessing file global-1993-a41a067b6a5e0db169ca87cb5d3c6ad6.nc.\u001b[0m\n",
      "\u001b[32m2025-02-16 18:22:27.505\u001b[0m | \u001b[32m\u001b[1mSUCCESS \u001b[0m | \u001b[36m__main__\u001b[0m:\u001b[36m<module>\u001b[0m:\u001b[36m29\u001b[0m - \u001b[32m\u001b[1mSaved file global-1993-a41a067b6a5e0db169ca87cb5d3c6ad6.nc to D:\\Documents\\3 Production Save Files\\1 Cloned repositories\\compstat-research\\data\\processed\\cds\\era5\\2m-temperature\\global.\u001b[0m\n",
      "\u001b[32m2025-02-16 18:22:32.704\u001b[0m | \u001b[1mINFO    \u001b[0m | \u001b[36m__main__\u001b[0m:\u001b[36m<module>\u001b[0m:\u001b[36m22\u001b[0m - \u001b[1mProcessing file global-1994-9f5a091fc9878c91ca3e8d1690a422db.nc.\u001b[0m\n",
      "\u001b[32m2025-02-16 18:23:48.206\u001b[0m | \u001b[32m\u001b[1mSUCCESS \u001b[0m | \u001b[36m__main__\u001b[0m:\u001b[36m<module>\u001b[0m:\u001b[36m29\u001b[0m - \u001b[32m\u001b[1mSaved file global-1994-9f5a091fc9878c91ca3e8d1690a422db.nc to D:\\Documents\\3 Production Save Files\\1 Cloned repositories\\compstat-research\\data\\processed\\cds\\era5\\2m-temperature\\global.\u001b[0m\n",
      "\u001b[32m2025-02-16 18:23:53.542\u001b[0m | \u001b[1mINFO    \u001b[0m | \u001b[36m__main__\u001b[0m:\u001b[36m<module>\u001b[0m:\u001b[36m22\u001b[0m - \u001b[1mProcessing file global-1995-9cdd9b769066cdabe6e1de575d8095de.nc.\u001b[0m\n",
      "\u001b[32m2025-02-16 18:25:16.850\u001b[0m | \u001b[32m\u001b[1mSUCCESS \u001b[0m | \u001b[36m__main__\u001b[0m:\u001b[36m<module>\u001b[0m:\u001b[36m29\u001b[0m - \u001b[32m\u001b[1mSaved file global-1995-9cdd9b769066cdabe6e1de575d8095de.nc to D:\\Documents\\3 Production Save Files\\1 Cloned repositories\\compstat-research\\data\\processed\\cds\\era5\\2m-temperature\\global.\u001b[0m\n",
      "\u001b[32m2025-02-16 18:25:21.870\u001b[0m | \u001b[1mINFO    \u001b[0m | \u001b[36m__main__\u001b[0m:\u001b[36m<module>\u001b[0m:\u001b[36m22\u001b[0m - \u001b[1mProcessing file global-1996-85bba01c22d99f710d13297174ec3a2a.nc.\u001b[0m\n",
      "\u001b[32m2025-02-16 18:26:46.597\u001b[0m | \u001b[32m\u001b[1mSUCCESS \u001b[0m | \u001b[36m__main__\u001b[0m:\u001b[36m<module>\u001b[0m:\u001b[36m29\u001b[0m - \u001b[32m\u001b[1mSaved file global-1996-85bba01c22d99f710d13297174ec3a2a.nc to D:\\Documents\\3 Production Save Files\\1 Cloned repositories\\compstat-research\\data\\processed\\cds\\era5\\2m-temperature\\global.\u001b[0m\n",
      "\u001b[32m2025-02-16 18:26:51.717\u001b[0m | \u001b[1mINFO    \u001b[0m | \u001b[36m__main__\u001b[0m:\u001b[36m<module>\u001b[0m:\u001b[36m22\u001b[0m - \u001b[1mProcessing file global-1997-30e107b9b006b86263892b58282748db.nc.\u001b[0m\n",
      "\u001b[32m2025-02-16 18:28:09.199\u001b[0m | \u001b[32m\u001b[1mSUCCESS \u001b[0m | \u001b[36m__main__\u001b[0m:\u001b[36m<module>\u001b[0m:\u001b[36m29\u001b[0m - \u001b[32m\u001b[1mSaved file global-1997-30e107b9b006b86263892b58282748db.nc to D:\\Documents\\3 Production Save Files\\1 Cloned repositories\\compstat-research\\data\\processed\\cds\\era5\\2m-temperature\\global.\u001b[0m\n",
      "\u001b[32m2025-02-16 18:28:14.354\u001b[0m | \u001b[1mINFO    \u001b[0m | \u001b[36m__main__\u001b[0m:\u001b[36m<module>\u001b[0m:\u001b[36m22\u001b[0m - \u001b[1mProcessing file global-1998-3554bfd0f6f90b99b93da0da9459749b.nc.\u001b[0m\n",
      "\u001b[32m2025-02-16 18:29:33.754\u001b[0m | \u001b[32m\u001b[1mSUCCESS \u001b[0m | \u001b[36m__main__\u001b[0m:\u001b[36m<module>\u001b[0m:\u001b[36m29\u001b[0m - \u001b[32m\u001b[1mSaved file global-1998-3554bfd0f6f90b99b93da0da9459749b.nc to D:\\Documents\\3 Production Save Files\\1 Cloned repositories\\compstat-research\\data\\processed\\cds\\era5\\2m-temperature\\global.\u001b[0m\n",
      "\u001b[32m2025-02-16 18:29:39.784\u001b[0m | \u001b[1mINFO    \u001b[0m | \u001b[36m__main__\u001b[0m:\u001b[36m<module>\u001b[0m:\u001b[36m22\u001b[0m - \u001b[1mProcessing file global-1999-778232cfa4bfa69b44af3e8e2a5838c5.nc.\u001b[0m\n",
      "\u001b[32m2025-02-16 18:31:01.110\u001b[0m | \u001b[32m\u001b[1mSUCCESS \u001b[0m | \u001b[36m__main__\u001b[0m:\u001b[36m<module>\u001b[0m:\u001b[36m29\u001b[0m - \u001b[32m\u001b[1mSaved file global-1999-778232cfa4bfa69b44af3e8e2a5838c5.nc to D:\\Documents\\3 Production Save Files\\1 Cloned repositories\\compstat-research\\data\\processed\\cds\\era5\\2m-temperature\\global.\u001b[0m\n",
      "\u001b[32m2025-02-16 18:31:06.395\u001b[0m | \u001b[1mINFO    \u001b[0m | \u001b[36m__main__\u001b[0m:\u001b[36m<module>\u001b[0m:\u001b[36m22\u001b[0m - \u001b[1mProcessing file global-2000-fcc7209ea4214109a1e6a5ded3cac9ba.nc.\u001b[0m\n",
      "\u001b[32m2025-02-16 18:32:28.842\u001b[0m | \u001b[32m\u001b[1mSUCCESS \u001b[0m | \u001b[36m__main__\u001b[0m:\u001b[36m<module>\u001b[0m:\u001b[36m29\u001b[0m - \u001b[32m\u001b[1mSaved file global-2000-fcc7209ea4214109a1e6a5ded3cac9ba.nc to D:\\Documents\\3 Production Save Files\\1 Cloned repositories\\compstat-research\\data\\processed\\cds\\era5\\2m-temperature\\global.\u001b[0m\n",
      "\u001b[32m2025-02-16 18:32:35.291\u001b[0m | \u001b[1mINFO    \u001b[0m | \u001b[36m__main__\u001b[0m:\u001b[36m<module>\u001b[0m:\u001b[36m22\u001b[0m - \u001b[1mProcessing file global-2001-88e7468e9c6c18c82f140658821fef12.nc.\u001b[0m\n",
      "\u001b[32m2025-02-16 18:33:50.010\u001b[0m | \u001b[32m\u001b[1mSUCCESS \u001b[0m | \u001b[36m__main__\u001b[0m:\u001b[36m<module>\u001b[0m:\u001b[36m29\u001b[0m - \u001b[32m\u001b[1mSaved file global-2001-88e7468e9c6c18c82f140658821fef12.nc to D:\\Documents\\3 Production Save Files\\1 Cloned repositories\\compstat-research\\data\\processed\\cds\\era5\\2m-temperature\\global.\u001b[0m\n",
      "\u001b[32m2025-02-16 18:33:55.405\u001b[0m | \u001b[1mINFO    \u001b[0m | \u001b[36m__main__\u001b[0m:\u001b[36m<module>\u001b[0m:\u001b[36m22\u001b[0m - \u001b[1mProcessing file global-2002-efa58e3c009c813f7ff985dbc04abc7.nc.\u001b[0m\n",
      "\u001b[32m2025-02-16 18:35:12.187\u001b[0m | \u001b[32m\u001b[1mSUCCESS \u001b[0m | \u001b[36m__main__\u001b[0m:\u001b[36m<module>\u001b[0m:\u001b[36m29\u001b[0m - \u001b[32m\u001b[1mSaved file global-2002-efa58e3c009c813f7ff985dbc04abc7.nc to D:\\Documents\\3 Production Save Files\\1 Cloned repositories\\compstat-research\\data\\processed\\cds\\era5\\2m-temperature\\global.\u001b[0m\n",
      "\u001b[32m2025-02-16 18:35:17.413\u001b[0m | \u001b[1mINFO    \u001b[0m | \u001b[36m__main__\u001b[0m:\u001b[36m<module>\u001b[0m:\u001b[36m22\u001b[0m - \u001b[1mProcessing file global-2003-8c3dc5a1e26249db4b6ebd16fd4e8498.nc.\u001b[0m\n",
      "\u001b[32m2025-02-16 18:36:35.345\u001b[0m | \u001b[32m\u001b[1mSUCCESS \u001b[0m | \u001b[36m__main__\u001b[0m:\u001b[36m<module>\u001b[0m:\u001b[36m29\u001b[0m - \u001b[32m\u001b[1mSaved file global-2003-8c3dc5a1e26249db4b6ebd16fd4e8498.nc to D:\\Documents\\3 Production Save Files\\1 Cloned repositories\\compstat-research\\data\\processed\\cds\\era5\\2m-temperature\\global.\u001b[0m\n",
      "\u001b[32m2025-02-16 18:36:40.595\u001b[0m | \u001b[1mINFO    \u001b[0m | \u001b[36m__main__\u001b[0m:\u001b[36m<module>\u001b[0m:\u001b[36m22\u001b[0m - \u001b[1mProcessing file global-2004-612c3752ad9e185b32a6cdb8fc9cf98c.nc.\u001b[0m\n",
      "\u001b[32m2025-02-16 18:38:03.926\u001b[0m | \u001b[32m\u001b[1mSUCCESS \u001b[0m | \u001b[36m__main__\u001b[0m:\u001b[36m<module>\u001b[0m:\u001b[36m29\u001b[0m - \u001b[32m\u001b[1mSaved file global-2004-612c3752ad9e185b32a6cdb8fc9cf98c.nc to D:\\Documents\\3 Production Save Files\\1 Cloned repositories\\compstat-research\\data\\processed\\cds\\era5\\2m-temperature\\global.\u001b[0m\n",
      "\u001b[32m2025-02-16 18:38:09.087\u001b[0m | \u001b[1mINFO    \u001b[0m | \u001b[36m__main__\u001b[0m:\u001b[36m<module>\u001b[0m:\u001b[36m22\u001b[0m - \u001b[1mProcessing file global-2005-9288e1c0025f6643916f802b95adb8e6.nc.\u001b[0m\n",
      "\u001b[32m2025-02-16 18:39:29.621\u001b[0m | \u001b[32m\u001b[1mSUCCESS \u001b[0m | \u001b[36m__main__\u001b[0m:\u001b[36m<module>\u001b[0m:\u001b[36m29\u001b[0m - \u001b[32m\u001b[1mSaved file global-2005-9288e1c0025f6643916f802b95adb8e6.nc to D:\\Documents\\3 Production Save Files\\1 Cloned repositories\\compstat-research\\data\\processed\\cds\\era5\\2m-temperature\\global.\u001b[0m\n",
      "\u001b[32m2025-02-16 18:39:34.749\u001b[0m | \u001b[1mINFO    \u001b[0m | \u001b[36m__main__\u001b[0m:\u001b[36m<module>\u001b[0m:\u001b[36m22\u001b[0m - \u001b[1mProcessing file global-2006-db87d845b80d7f787b3c950f7c989316.nc.\u001b[0m\n",
      "\u001b[32m2025-02-16 18:40:57.090\u001b[0m | \u001b[32m\u001b[1mSUCCESS \u001b[0m | \u001b[36m__main__\u001b[0m:\u001b[36m<module>\u001b[0m:\u001b[36m29\u001b[0m - \u001b[32m\u001b[1mSaved file global-2006-db87d845b80d7f787b3c950f7c989316.nc to D:\\Documents\\3 Production Save Files\\1 Cloned repositories\\compstat-research\\data\\processed\\cds\\era5\\2m-temperature\\global.\u001b[0m\n",
      "\u001b[32m2025-02-16 18:41:02.331\u001b[0m | \u001b[1mINFO    \u001b[0m | \u001b[36m__main__\u001b[0m:\u001b[36m<module>\u001b[0m:\u001b[36m22\u001b[0m - \u001b[1mProcessing file global-2007-6954171548fa84227703db653fd4de86.nc.\u001b[0m\n",
      "\u001b[32m2025-02-16 18:42:18.852\u001b[0m | \u001b[32m\u001b[1mSUCCESS \u001b[0m | \u001b[36m__main__\u001b[0m:\u001b[36m<module>\u001b[0m:\u001b[36m29\u001b[0m - \u001b[32m\u001b[1mSaved file global-2007-6954171548fa84227703db653fd4de86.nc to D:\\Documents\\3 Production Save Files\\1 Cloned repositories\\compstat-research\\data\\processed\\cds\\era5\\2m-temperature\\global.\u001b[0m\n",
      "\u001b[32m2025-02-16 18:42:23.973\u001b[0m | \u001b[1mINFO    \u001b[0m | \u001b[36m__main__\u001b[0m:\u001b[36m<module>\u001b[0m:\u001b[36m22\u001b[0m - \u001b[1mProcessing file global-2008-61a78481bb3711e710532f5ccd3485cc.nc.\u001b[0m\n",
      "\u001b[32m2025-02-16 18:43:40.131\u001b[0m | \u001b[32m\u001b[1mSUCCESS \u001b[0m | \u001b[36m__main__\u001b[0m:\u001b[36m<module>\u001b[0m:\u001b[36m29\u001b[0m - \u001b[32m\u001b[1mSaved file global-2008-61a78481bb3711e710532f5ccd3485cc.nc to D:\\Documents\\3 Production Save Files\\1 Cloned repositories\\compstat-research\\data\\processed\\cds\\era5\\2m-temperature\\global.\u001b[0m\n",
      "\u001b[32m2025-02-16 18:43:45.328\u001b[0m | \u001b[1mINFO    \u001b[0m | \u001b[36m__main__\u001b[0m:\u001b[36m<module>\u001b[0m:\u001b[36m22\u001b[0m - \u001b[1mProcessing file global-2009-ac4b01f8da9f8c4dc3ac65a35e75ee2b.nc.\u001b[0m\n",
      "\u001b[32m2025-02-16 18:45:06.190\u001b[0m | \u001b[32m\u001b[1mSUCCESS \u001b[0m | \u001b[36m__main__\u001b[0m:\u001b[36m<module>\u001b[0m:\u001b[36m29\u001b[0m - \u001b[32m\u001b[1mSaved file global-2009-ac4b01f8da9f8c4dc3ac65a35e75ee2b.nc to D:\\Documents\\3 Production Save Files\\1 Cloned repositories\\compstat-research\\data\\processed\\cds\\era5\\2m-temperature\\global.\u001b[0m\n",
      "\u001b[32m2025-02-16 18:45:11.281\u001b[0m | \u001b[1mINFO    \u001b[0m | \u001b[36m__main__\u001b[0m:\u001b[36m<module>\u001b[0m:\u001b[36m22\u001b[0m - \u001b[1mProcessing file global-2010-66942a31b50a21523dcf6fdd0d43dde3.nc.\u001b[0m\n",
      "\u001b[32m2025-02-16 18:46:25.032\u001b[0m | \u001b[32m\u001b[1mSUCCESS \u001b[0m | \u001b[36m__main__\u001b[0m:\u001b[36m<module>\u001b[0m:\u001b[36m29\u001b[0m - \u001b[32m\u001b[1mSaved file global-2010-66942a31b50a21523dcf6fdd0d43dde3.nc to D:\\Documents\\3 Production Save Files\\1 Cloned repositories\\compstat-research\\data\\processed\\cds\\era5\\2m-temperature\\global.\u001b[0m\n",
      "\u001b[32m2025-02-16 18:46:30.167\u001b[0m | \u001b[1mINFO    \u001b[0m | \u001b[36m__main__\u001b[0m:\u001b[36m<module>\u001b[0m:\u001b[36m22\u001b[0m - \u001b[1mProcessing file global-2011-f991487104e8160b267dc549790b50c5.nc.\u001b[0m\n",
      "\u001b[32m2025-02-16 18:47:43.419\u001b[0m | \u001b[32m\u001b[1mSUCCESS \u001b[0m | \u001b[36m__main__\u001b[0m:\u001b[36m<module>\u001b[0m:\u001b[36m29\u001b[0m - \u001b[32m\u001b[1mSaved file global-2011-f991487104e8160b267dc549790b50c5.nc to D:\\Documents\\3 Production Save Files\\1 Cloned repositories\\compstat-research\\data\\processed\\cds\\era5\\2m-temperature\\global.\u001b[0m\n",
      "\u001b[32m2025-02-16 18:47:48.544\u001b[0m | \u001b[1mINFO    \u001b[0m | \u001b[36m__main__\u001b[0m:\u001b[36m<module>\u001b[0m:\u001b[36m22\u001b[0m - \u001b[1mProcessing file global-2012-7e0e5d140eacf762bdb90038553036a7.nc.\u001b[0m\n",
      "\u001b[32m2025-02-16 18:49:05.287\u001b[0m | \u001b[32m\u001b[1mSUCCESS \u001b[0m | \u001b[36m__main__\u001b[0m:\u001b[36m<module>\u001b[0m:\u001b[36m29\u001b[0m - \u001b[32m\u001b[1mSaved file global-2012-7e0e5d140eacf762bdb90038553036a7.nc to D:\\Documents\\3 Production Save Files\\1 Cloned repositories\\compstat-research\\data\\processed\\cds\\era5\\2m-temperature\\global.\u001b[0m\n",
      "\u001b[32m2025-02-16 18:49:10.500\u001b[0m | \u001b[1mINFO    \u001b[0m | \u001b[36m__main__\u001b[0m:\u001b[36m<module>\u001b[0m:\u001b[36m22\u001b[0m - \u001b[1mProcessing file global-2013-e19b2952bbfa8aead79415bd4c541e9f.nc.\u001b[0m\n",
      "\u001b[32m2025-02-16 18:50:24.134\u001b[0m | \u001b[32m\u001b[1mSUCCESS \u001b[0m | \u001b[36m__main__\u001b[0m:\u001b[36m<module>\u001b[0m:\u001b[36m29\u001b[0m - \u001b[32m\u001b[1mSaved file global-2013-e19b2952bbfa8aead79415bd4c541e9f.nc to D:\\Documents\\3 Production Save Files\\1 Cloned repositories\\compstat-research\\data\\processed\\cds\\era5\\2m-temperature\\global.\u001b[0m\n",
      "\u001b[32m2025-02-16 18:50:29.304\u001b[0m | \u001b[1mINFO    \u001b[0m | \u001b[36m__main__\u001b[0m:\u001b[36m<module>\u001b[0m:\u001b[36m22\u001b[0m - \u001b[1mProcessing file global-2014-b33ef1dc2b5fa5e2c72ea554451d032c.nc.\u001b[0m\n",
      "\u001b[32m2025-02-16 18:51:42.085\u001b[0m | \u001b[32m\u001b[1mSUCCESS \u001b[0m | \u001b[36m__main__\u001b[0m:\u001b[36m<module>\u001b[0m:\u001b[36m29\u001b[0m - \u001b[32m\u001b[1mSaved file global-2014-b33ef1dc2b5fa5e2c72ea554451d032c.nc to D:\\Documents\\3 Production Save Files\\1 Cloned repositories\\compstat-research\\data\\processed\\cds\\era5\\2m-temperature\\global.\u001b[0m\n",
      "\u001b[32m2025-02-16 18:51:47.308\u001b[0m | \u001b[1mINFO    \u001b[0m | \u001b[36m__main__\u001b[0m:\u001b[36m<module>\u001b[0m:\u001b[36m22\u001b[0m - \u001b[1mProcessing file global-2015-ab167f440ac9e6c6d97d676ac77be3a1.nc.\u001b[0m\n",
      "\u001b[32m2025-02-16 18:52:59.109\u001b[0m | \u001b[32m\u001b[1mSUCCESS \u001b[0m | \u001b[36m__main__\u001b[0m:\u001b[36m<module>\u001b[0m:\u001b[36m29\u001b[0m - \u001b[32m\u001b[1mSaved file global-2015-ab167f440ac9e6c6d97d676ac77be3a1.nc to D:\\Documents\\3 Production Save Files\\1 Cloned repositories\\compstat-research\\data\\processed\\cds\\era5\\2m-temperature\\global.\u001b[0m\n",
      "\u001b[32m2025-02-16 18:53:04.242\u001b[0m | \u001b[1mINFO    \u001b[0m | \u001b[36m__main__\u001b[0m:\u001b[36m<module>\u001b[0m:\u001b[36m22\u001b[0m - \u001b[1mProcessing file global-2016-330980adec940fd51ff6d1e106d6bc91.nc.\u001b[0m\n",
      "\u001b[32m2025-02-16 18:54:19.497\u001b[0m | \u001b[32m\u001b[1mSUCCESS \u001b[0m | \u001b[36m__main__\u001b[0m:\u001b[36m<module>\u001b[0m:\u001b[36m29\u001b[0m - \u001b[32m\u001b[1mSaved file global-2016-330980adec940fd51ff6d1e106d6bc91.nc to D:\\Documents\\3 Production Save Files\\1 Cloned repositories\\compstat-research\\data\\processed\\cds\\era5\\2m-temperature\\global.\u001b[0m\n",
      "\u001b[32m2025-02-16 18:54:24.624\u001b[0m | \u001b[1mINFO    \u001b[0m | \u001b[36m__main__\u001b[0m:\u001b[36m<module>\u001b[0m:\u001b[36m22\u001b[0m - \u001b[1mProcessing file global-2017-3e584a7ef0569534c28c2a39231975bf.nc.\u001b[0m\n",
      "\u001b[32m2025-02-16 18:55:37.580\u001b[0m | \u001b[32m\u001b[1mSUCCESS \u001b[0m | \u001b[36m__main__\u001b[0m:\u001b[36m<module>\u001b[0m:\u001b[36m29\u001b[0m - \u001b[32m\u001b[1mSaved file global-2017-3e584a7ef0569534c28c2a39231975bf.nc to D:\\Documents\\3 Production Save Files\\1 Cloned repositories\\compstat-research\\data\\processed\\cds\\era5\\2m-temperature\\global.\u001b[0m\n",
      "\u001b[32m2025-02-16 18:55:42.716\u001b[0m | \u001b[1mINFO    \u001b[0m | \u001b[36m__main__\u001b[0m:\u001b[36m<module>\u001b[0m:\u001b[36m22\u001b[0m - \u001b[1mProcessing file global-2018-e925f0c5a9d5ae998f27249ea4a7b666.nc.\u001b[0m\n",
      "\u001b[32m2025-02-16 18:56:55.424\u001b[0m | \u001b[32m\u001b[1mSUCCESS \u001b[0m | \u001b[36m__main__\u001b[0m:\u001b[36m<module>\u001b[0m:\u001b[36m29\u001b[0m - \u001b[32m\u001b[1mSaved file global-2018-e925f0c5a9d5ae998f27249ea4a7b666.nc to D:\\Documents\\3 Production Save Files\\1 Cloned repositories\\compstat-research\\data\\processed\\cds\\era5\\2m-temperature\\global.\u001b[0m\n",
      "\u001b[32m2025-02-16 18:57:00.653\u001b[0m | \u001b[1mINFO    \u001b[0m | \u001b[36m__main__\u001b[0m:\u001b[36m<module>\u001b[0m:\u001b[36m22\u001b[0m - \u001b[1mProcessing file global-2019-5cdbae60c87f2ff4474c675308afaa6e.nc.\u001b[0m\n",
      "\u001b[32m2025-02-16 18:58:15.259\u001b[0m | \u001b[32m\u001b[1mSUCCESS \u001b[0m | \u001b[36m__main__\u001b[0m:\u001b[36m<module>\u001b[0m:\u001b[36m29\u001b[0m - \u001b[32m\u001b[1mSaved file global-2019-5cdbae60c87f2ff4474c675308afaa6e.nc to D:\\Documents\\3 Production Save Files\\1 Cloned repositories\\compstat-research\\data\\processed\\cds\\era5\\2m-temperature\\global.\u001b[0m\n",
      "\u001b[32m2025-02-16 18:58:20.461\u001b[0m | \u001b[1mINFO    \u001b[0m | \u001b[36m__main__\u001b[0m:\u001b[36m<module>\u001b[0m:\u001b[36m22\u001b[0m - \u001b[1mProcessing file global-2020-67f550101b701f2ef812235ef7a39899.nc.\u001b[0m\n",
      "\u001b[32m2025-02-16 18:59:36.929\u001b[0m | \u001b[32m\u001b[1mSUCCESS \u001b[0m | \u001b[36m__main__\u001b[0m:\u001b[36m<module>\u001b[0m:\u001b[36m29\u001b[0m - \u001b[32m\u001b[1mSaved file global-2020-67f550101b701f2ef812235ef7a39899.nc to D:\\Documents\\3 Production Save Files\\1 Cloned repositories\\compstat-research\\data\\processed\\cds\\era5\\2m-temperature\\global.\u001b[0m\n",
      "\u001b[32m2025-02-16 18:59:42.079\u001b[0m | \u001b[1mINFO    \u001b[0m | \u001b[36m__main__\u001b[0m:\u001b[36m<module>\u001b[0m:\u001b[36m22\u001b[0m - \u001b[1mProcessing file global-2021-f600d0ad40dc2b8269b6f43f2351b6b8.nc.\u001b[0m\n",
      "\u001b[32m2025-02-16 19:00:58.178\u001b[0m | \u001b[32m\u001b[1mSUCCESS \u001b[0m | \u001b[36m__main__\u001b[0m:\u001b[36m<module>\u001b[0m:\u001b[36m29\u001b[0m - \u001b[32m\u001b[1mSaved file global-2021-f600d0ad40dc2b8269b6f43f2351b6b8.nc to D:\\Documents\\3 Production Save Files\\1 Cloned repositories\\compstat-research\\data\\processed\\cds\\era5\\2m-temperature\\global.\u001b[0m\n",
      "\u001b[32m2025-02-16 19:01:03.387\u001b[0m | \u001b[1mINFO    \u001b[0m | \u001b[36m__main__\u001b[0m:\u001b[36m<module>\u001b[0m:\u001b[36m22\u001b[0m - \u001b[1mProcessing file global-2022-f1580e79dd2982be7d770536c097a899.nc.\u001b[0m\n",
      "\u001b[32m2025-02-16 19:02:19.859\u001b[0m | \u001b[32m\u001b[1mSUCCESS \u001b[0m | \u001b[36m__main__\u001b[0m:\u001b[36m<module>\u001b[0m:\u001b[36m29\u001b[0m - \u001b[32m\u001b[1mSaved file global-2022-f1580e79dd2982be7d770536c097a899.nc to D:\\Documents\\3 Production Save Files\\1 Cloned repositories\\compstat-research\\data\\processed\\cds\\era5\\2m-temperature\\global.\u001b[0m\n",
      "\u001b[32m2025-02-16 19:02:24.981\u001b[0m | \u001b[1mINFO    \u001b[0m | \u001b[36m__main__\u001b[0m:\u001b[36m<module>\u001b[0m:\u001b[36m22\u001b[0m - \u001b[1mProcessing file global-2023-4df1664a1ac1c628e790466714035da3.nc.\u001b[0m\n",
      "\u001b[32m2025-02-16 19:03:37.854\u001b[0m | \u001b[32m\u001b[1mSUCCESS \u001b[0m | \u001b[36m__main__\u001b[0m:\u001b[36m<module>\u001b[0m:\u001b[36m29\u001b[0m - \u001b[32m\u001b[1mSaved file global-2023-4df1664a1ac1c628e790466714035da3.nc to D:\\Documents\\3 Production Save Files\\1 Cloned repositories\\compstat-research\\data\\processed\\cds\\era5\\2m-temperature\\global.\u001b[0m\n",
      "\u001b[32m2025-02-16 19:03:42.995\u001b[0m | \u001b[1mINFO    \u001b[0m | \u001b[36m__main__\u001b[0m:\u001b[36m<module>\u001b[0m:\u001b[36m22\u001b[0m - \u001b[1mProcessing file global-2024-e2a241c1f72491e3288cb5e866aeaf54.nc.\u001b[0m\n",
      "\u001b[32m2025-02-16 19:04:58.252\u001b[0m | \u001b[32m\u001b[1mSUCCESS \u001b[0m | \u001b[36m__main__\u001b[0m:\u001b[36m<module>\u001b[0m:\u001b[36m29\u001b[0m - \u001b[32m\u001b[1mSaved file global-2024-e2a241c1f72491e3288cb5e866aeaf54.nc to D:\\Documents\\3 Production Save Files\\1 Cloned repositories\\compstat-research\\data\\processed\\cds\\era5\\2m-temperature\\global.\u001b[0m\n"
     ]
    }
   ],
   "source": [
    "%reset -f\n",
    "import gc\n",
    "\n",
    "import xarray as xr\n",
    "from loguru import logger\n",
    "\n",
    "from compstat_research.config import INTERIM_DATA_DIR, PROCESSED_DATA_DIR\n",
    "\n",
    "data_path = INTERIM_DATA_DIR / \"cds\" / \"era5\" / \"2m-temperature\"\n",
    "save_path = INTERIM_DATA_DIR / \"cds\" / \"era5\" / \"2m-temperature\" / \"global\"\n",
    "\n",
    "if not save_path.exists():\n",
    "    save_path.mkdir(parents=True)\n",
    "\n",
    "logger.add(\"1.0-iragca-cds-data.log\", rotation=\"500 MB\", retention=\"7 days\", compression=\"zip\")\n",
    "logger.info(f\"Starting to process files in {data_path}. Saving to {save_path}.\")\n",
    "\n",
    "for year in range(1959, 2025):\n",
    "    for file in data_path.iterdir():\n",
    "        try:\n",
    "            if (file.suffix == \".nc\") and (file.name.startswith(f\"global-{year}\")):\n",
    "                logger.info(f\"Processing file {file.name}.\")\n",
    "                current_df = (\n",
    "                    xr.open_dataset(file)\n",
    "                    .to_dataframe()\n",
    "                    .reset_index()\n",
    "                )\n",
    "                current_df.to_parquet(save_path / f\"{file.stem}.parquet\", engine=\"pyarrow\")\n",
    "                logger.success(f\"Saved file {file.name} to {save_path}.\")\n",
    "                del current_df\n",
    "        except Exception as e:\n",
    "            logger.error(f\"Error processing file {file.name}. Error: {e}\")\n",
    "        finally:\n",
    "            gc.collect()"
   ]
  },
  {
   "cell_type": "code",
   "execution_count": 5,
   "metadata": {},
   "outputs": [
    {
     "name": "stdout",
     "output_type": "stream",
     "text": [
      "\u001b[32m2025-02-16 09:16:48.451\u001b[0m | \u001b[1mINFO    \u001b[0m | \u001b[36m__main__\u001b[0m:\u001b[36m<module>\u001b[0m:\u001b[36m21\u001b[0m - \u001b[1mOpening xarray dataset.\u001b[0m\n",
      "\u001b[32m2025-02-16 09:16:48.510\u001b[0m | \u001b[32m\u001b[1mSUCCESS \u001b[0m | \u001b[36m__main__\u001b[0m:\u001b[36m<module>\u001b[0m:\u001b[36m23\u001b[0m - \u001b[32m\u001b[1mXarray dataset opened successfully.\u001b[0m\n",
      "\u001b[32m2025-02-16 09:16:48.510\u001b[0m | \u001b[1mINFO    \u001b[0m | \u001b[36m__main__\u001b[0m:\u001b[36m<module>\u001b[0m:\u001b[36m25\u001b[0m - \u001b[1mConverting xarray to polars DataFrame.\u001b[0m\n",
      "\u001b[32m2025-02-16 09:17:57.501\u001b[0m | \u001b[32m\u001b[1mSUCCESS \u001b[0m | \u001b[36m__main__\u001b[0m:\u001b[36m<module>\u001b[0m:\u001b[36m28\u001b[0m - \u001b[32m\u001b[1mSaved file to parquet successfully.\u001b[0m\n"
     ]
    }
   ],
   "source": [
    "%reset -f\n",
    "import gc\n",
    "\n",
    "import polars as pl\n",
    "import xarray as xr\n",
    "from IPython.display import clear_output\n",
    "from loguru import logger\n",
    "\n",
    "from compstat_research.config import INTERIM_DATA_DIR, PROCESSED_DATA_DIR\n",
    "\n",
    "data_path = INTERIM_DATA_DIR / \"cds\" / \"era5\" / \"2m-temperature\"\n",
    "save_path = PROCESSED_DATA_DIR / \"cds\" / \"era5\" / \"2m-temperature\" / \"global\"\n",
    "file = data_path / \"global-1941-8637bf174e20f8fe4de25c68d1abca34.nc\"\n",
    "\n",
    "if not save_path.exists():\n",
    "    save_path.mkdir(parents=True)\n",
    "\n",
    "gc.collect()\n",
    "clear_output(wait=True)\n",
    "\n",
    "logger.info(\"Opening xarray dataset.\")\n",
    "data = xr.open_dataset(file)\n",
    "logger.success(\"Xarray dataset opened successfully.\")\n",
    "\n",
    "logger.info(\"Converting xarray to polars DataFrame.\")\n",
    "pl_data = data.to_dataframe().reset_index()\n",
    "pl_data.to_parquet(save_path / f\"{file.stem}.parquet\")\n",
    "logger.success(\"Saved file to parquet successfully.\")\n",
    "del pl_data"
   ]
  },
  {
   "cell_type": "code",
   "execution_count": null,
   "metadata": {},
   "outputs": [],
   "source": [
    "# del current_df\n",
    "import gc\n",
    "\n",
    "from IPython.display import clear_output\n",
    "\n",
    "gc.collect()\n",
    "clear_output(wait=True)"
   ]
  },
  {
   "cell_type": "markdown",
   "metadata": {},
   "source": [
    "## Database Insertion"
   ]
  },
  {
   "cell_type": "code",
   "execution_count": null,
   "metadata": {},
   "outputs": [
    {
     "name": "stderr",
     "output_type": "stream",
     "text": [
      "\u001b[32m2025-02-16 19:45:53.554\u001b[0m | \u001b[1mINFO    \u001b[0m | \u001b[36mcompstat_research.config\u001b[0m:\u001b[36m<module>\u001b[0m:\u001b[36m11\u001b[0m - \u001b[1mPROJ_ROOT path is: D:\\Documents\\3 Production Save Files\\1 Cloned repositories\\compstat-research\u001b[0m\n"
     ]
    },
    {
     "name": "stdout",
     "output_type": "stream",
     "text": [
      "\u001b[32m2025-02-16 19:45:53.640\u001b[0m | \u001b[1mINFO    \u001b[0m | \u001b[36m__main__\u001b[0m:\u001b[36m<module>\u001b[0m:\u001b[36m8\u001b[0m - \u001b[1mConnecting to DuckDB.\u001b[0m\n",
      "\u001b[32m2025-02-16 19:45:54.322\u001b[0m | \u001b[32m\u001b[1mSUCCESS \u001b[0m | \u001b[36m__main__\u001b[0m:\u001b[36m<module>\u001b[0m:\u001b[36m11\u001b[0m - \u001b[32m\u001b[1mConnected to DuckDB.\u001b[0m\n",
      "\u001b[32m2025-02-16 19:45:54.322\u001b[0m | \u001b[1mINFO    \u001b[0m | \u001b[36m__main__\u001b[0m:\u001b[36m<module>\u001b[0m:\u001b[36m13\u001b[0m - \u001b[1mCreating temperature table.\u001b[0m\n",
      "\u001b[32m2025-02-16 19:45:54.414\u001b[0m | \u001b[32m\u001b[1mSUCCESS \u001b[0m | \u001b[36m__main__\u001b[0m:\u001b[36m<module>\u001b[0m:\u001b[36m23\u001b[0m - \u001b[32m\u001b[1mTemperature table created successfully.\u001b[0m\n",
      "\u001b[32m2025-02-16 19:45:54.414\u001b[0m | \u001b[1mINFO    \u001b[0m | \u001b[36m__main__\u001b[0m:\u001b[36m<module>\u001b[0m:\u001b[36m25\u001b[0m - \u001b[1mReading data from parquet file.\u001b[0m\n",
      "\u001b[32m2025-02-16 19:46:03.048\u001b[0m | \u001b[32m\u001b[1mSUCCESS \u001b[0m | \u001b[36m__main__\u001b[0m:\u001b[36m<module>\u001b[0m:\u001b[36m27\u001b[0m - \u001b[32m\u001b[1mData read successfully.\u001b[0m\n",
      "\u001b[32m2025-02-16 19:46:03.048\u001b[0m | \u001b[1mINFO    \u001b[0m | \u001b[36m__main__\u001b[0m:\u001b[36m<module>\u001b[0m:\u001b[36m29\u001b[0m - \u001b[1mInserting data into temperature table.\u001b[0m\n"
     ]
    },
    {
     "data": {
      "application/vnd.jupyter.widget-view+json": {
       "model_id": "947ddf8d6d33405a809cf0f49575baf2",
       "version_major": 2,
       "version_minor": 0
      },
      "text/plain": [
       "FloatProgress(value=0.0, layout=Layout(width='auto'), style=ProgressStyle(bar_color='black'))"
      ]
     },
     "metadata": {},
     "output_type": "display_data"
    },
    {
     "name": "stdout",
     "output_type": "stream",
     "text": [
      "\u001b[32m2025-02-16 19:46:37.711\u001b[0m | \u001b[32m\u001b[1mSUCCESS \u001b[0m | \u001b[36m__main__\u001b[0m:\u001b[36m<module>\u001b[0m:\u001b[36m31\u001b[0m - \u001b[32m\u001b[1mData inserted successfully.\u001b[0m\n",
      "\u001b[32m2025-02-16 19:46:37.713\u001b[0m | \u001b[1mINFO    \u001b[0m | \u001b[36m__main__\u001b[0m:\u001b[36m<module>\u001b[0m:\u001b[36m34\u001b[0m - \u001b[1mQuerying data from temperature table.\u001b[0m\n",
      "\u001b[32m2025-02-16 19:46:37.793\u001b[0m | \u001b[32m\u001b[1mSUCCESS \u001b[0m | \u001b[36m__main__\u001b[0m:\u001b[36m<module>\u001b[0m:\u001b[36m36\u001b[0m - \u001b[32m\u001b[1mData queried successfully.\u001b[0m\n",
      "\u001b[32m2025-02-16 19:46:38.190\u001b[0m | \u001b[32m\u001b[1mSUCCESS \u001b[0m | \u001b[36m__main__\u001b[0m:\u001b[36m<module>\u001b[0m:\u001b[36m40\u001b[0m - \u001b[32m\u001b[1mConnection closed successfully.\u001b[0m\n"
     ]
    }
   ],
   "source": [
    "import duckdb\n",
    "import polars as pl\n",
    "from loguru import logger\n",
    "\n",
    "from compstat_research.config import PROCESSED_DATA_DIR, INTERIM_DATA_DIR\n",
    "\n",
    "logger.info(\"Connecting to DuckDB.\")\n",
    "save_path = INTERIM_DATA_DIR / \"cds\" / \"era5\" / \"2m-temperature\" / \"global\" / \"parquet\"\n",
    "db_path = PROCESSED_DATA_DIR / \"cds\" / \"era5\" / \"2m-temperature\" / \"global\"\n",
    "conn = duckdb.connect(db_path / \"era5-2m-temperature-global.duckdb\")\n",
    "logger.success(\"Connected to DuckDB.\")\n",
    "\n",
    "logger.info(\"Creating temperature table.\")\n",
    "TEMPERATURE_TABLE = \"\"\"\n",
    "CREATE OR REPLACE TABLE temperature (\n",
    "    valid_time TIMESTAMP,\n",
    "    latitude FLOAT,\n",
    "    longitude FLOAT,\n",
    "    t2m FLOAT\n",
    "  );\n",
    "\"\"\"\n",
    "conn.sql(TEMPERATURE_TABLE)\n",
    "logger.success(\"Temperature table created successfully.\")\n",
    "\n",
    "logger.info(\"Reading data from parquet file.\")\n",
    "data = pl.read_parquet(save_path / \"global-1940-13a2f5ed69a607563a645692f808895.parquet\", columns=[\"valid_time\", \"latitude\", \"longitude\", \"t2m\"])\n",
    "logger.success(\"Data read successfully.\")\n",
    "\n",
    "logger.info(\"Inserting data into temperature table.\")\n",
    "conn.sql(\"INSERT INTO temperature SELECT * FROM data\")\n",
    "logger.success(\"Data inserted successfully.\")\n",
    "del data\n",
    "\n",
    "logger.info(\"Querying data from temperature table.\")\n",
    "conn.sql(\"SELECT * FROM temperature LIMIT 10\")\n",
    "logger.success(\"Data queried successfully.\")\n",
    "\n",
    "conn.commit()\n",
    "conn.close()\n",
    "logger.success(\"Connection closed successfully.\")"
   ]
  },
  {
   "cell_type": "code",
   "execution_count": 10,
   "metadata": {},
   "outputs": [
    {
     "name": "stdout",
     "output_type": "stream",
     "text": [
      "┌─────────────────────┬──────────┬───────────┬──────────┐\n",
      "│     valid_time      │ latitude │ longitude │   t2m    │\n",
      "│      timestamp      │  float   │   float   │  float   │\n",
      "├─────────────────────┼──────────┼───────────┼──────────┤\n",
      "│ 1940-01-02 00:00:00 │     90.0 │       0.0 │ 248.6584 │\n",
      "│ 1940-01-02 00:00:00 │     90.0 │      0.25 │ 248.6584 │\n",
      "│ 1940-01-02 00:00:00 │     90.0 │       0.5 │ 248.6584 │\n",
      "│ 1940-01-02 00:00:00 │     90.0 │      0.75 │ 248.6584 │\n",
      "│ 1940-01-02 00:00:00 │     90.0 │       1.0 │ 248.6584 │\n",
      "│ 1940-01-02 00:00:00 │     90.0 │      1.25 │ 248.6584 │\n",
      "│ 1940-01-02 00:00:00 │     90.0 │       1.5 │ 248.6584 │\n",
      "│ 1940-01-02 00:00:00 │     90.0 │      1.75 │ 248.6584 │\n",
      "│ 1940-01-02 00:00:00 │     90.0 │       2.0 │ 248.6584 │\n",
      "│ 1940-01-02 00:00:00 │     90.0 │      2.25 │ 248.6584 │\n",
      "│          ·          │       ·  │        ·  │     ·    │\n",
      "│          ·          │       ·  │        ·  │     ·    │\n",
      "│          ·          │       ·  │        ·  │     ·    │\n",
      "│ 1940-01-02 00:00:00 │     90.0 │      10.0 │ 248.6584 │\n",
      "│ 1940-01-02 00:00:00 │     90.0 │     10.25 │ 248.6584 │\n",
      "│ 1940-01-02 00:00:00 │     90.0 │      10.5 │ 248.6584 │\n",
      "│ 1940-01-02 00:00:00 │     90.0 │     10.75 │ 248.6584 │\n",
      "│ 1940-01-02 00:00:00 │     90.0 │      11.0 │ 248.6584 │\n",
      "│ 1940-01-02 00:00:00 │     90.0 │     11.25 │ 248.6584 │\n",
      "│ 1940-01-02 00:00:00 │     90.0 │      11.5 │ 248.6584 │\n",
      "│ 1940-01-02 00:00:00 │     90.0 │     11.75 │ 248.6584 │\n",
      "│ 1940-01-02 00:00:00 │     90.0 │      12.0 │ 248.6584 │\n",
      "│ 1940-01-02 00:00:00 │     90.0 │     12.25 │ 248.6584 │\n",
      "├─────────────────────┴──────────┴───────────┴──────────┤\n",
      "│ 50 rows (20 shown)                          4 columns │\n",
      "└───────────────────────────────────────────────────────┘\n",
      "\n"
     ]
    }
   ],
   "source": [
    "conn = duckdb.connect(save_path / \"era5-2m-temperature-global.duckdb\")\n",
    "\n",
    "print(conn.sql(\"SELECT * FROM temperature LIMIT 50\"))\n",
    "conn.close()"
   ]
  },
  {
   "cell_type": "code",
   "execution_count": 1,
   "metadata": {},
   "outputs": [
    {
     "name": "stderr",
     "output_type": "stream",
     "text": [
      "\u001b[32m2025-02-16 20:33:36.801\u001b[0m | \u001b[1mINFO    \u001b[0m | \u001b[36mcompstat_research.config\u001b[0m:\u001b[36m<module>\u001b[0m:\u001b[36m11\u001b[0m - \u001b[1mPROJ_ROOT path is: D:\\Documents\\3 Production Save Files\\1 Cloned repositories\\compstat-research\u001b[0m\n"
     ]
    },
    {
     "name": "stdout",
     "output_type": "stream",
     "text": [
      "\u001b[32m2025-02-16 20:33:36.810\u001b[0m | \u001b[1mINFO    \u001b[0m | \u001b[36m__main__\u001b[0m:\u001b[36m<module>\u001b[0m:\u001b[36m11\u001b[0m - \u001b[1mConnecting to DuckDB.\u001b[0m\n",
      "\u001b[32m2025-02-16 20:33:36.827\u001b[0m | \u001b[32m\u001b[1mSUCCESS \u001b[0m | \u001b[36m__main__\u001b[0m:\u001b[36m<module>\u001b[0m:\u001b[36m14\u001b[0m - \u001b[32m\u001b[1mConnected to DuckDB.\u001b[0m\n",
      "\u001b[32m2025-02-16 20:33:36.827\u001b[0m | \u001b[1mINFO    \u001b[0m | \u001b[36m__main__\u001b[0m:\u001b[36m<module>\u001b[0m:\u001b[36m16\u001b[0m - \u001b[1mCreating temperature table.\u001b[0m\n",
      "\u001b[32m2025-02-16 20:33:37.437\u001b[0m | \u001b[32m\u001b[1mSUCCESS \u001b[0m | \u001b[36m__main__\u001b[0m:\u001b[36m<module>\u001b[0m:\u001b[36m26\u001b[0m - \u001b[32m\u001b[1mTemperature table created successfully.\u001b[0m\n"
     ]
    }
   ],
   "source": [
    "# Run this script to create the temperature table (OR RESET THE TABLE!)\n",
    "# in a duckdb database from all parquet files\n",
    "# in the save path.\n",
    "\n",
    "import duckdb\n",
    "import polars as pl\n",
    "from loguru import logger\n",
    "\n",
    "from compstat_research.config import PROCESSED_DATA_DIR\n",
    "\n",
    "logger.info(\"Connecting to DuckDB.\")\n",
    "save_path = PROCESSED_DATA_DIR / \"cds\" / \"era5\" / \"2m-temperature\" / \"global\"\n",
    "conn = duckdb.connect(save_path / \"era5-2m-temperature-global.duckdb\")\n",
    "logger.success(\"Connected to DuckDB.\")\n",
    "\n",
    "logger.info(\"Creating temperature table.\")\n",
    "TEMPERATURE_TABLE = \"\"\"\n",
    "CREATE OR REPLACE TABLE temperature (\n",
    "    valid_time TIMESTAMP,\n",
    "    latitude FLOAT,\n",
    "    longitude FLOAT,\n",
    "    t2m FLOAT\n",
    "  );\n",
    "\"\"\"\n",
    "conn.sql(TEMPERATURE_TABLE)\n",
    "logger.success(\"Temperature table created successfully.\")\n",
    "conn.close()"
   ]
  },
  {
   "cell_type": "markdown",
   "metadata": {},
   "source": [
    "This script is used to insert data into the \n",
    "temperature table in a duckdb database from \n",
    "all parquet files in the save path.\n"
   ]
  },
  {
   "cell_type": "code",
   "execution_count": 1,
   "metadata": {},
   "outputs": [
    {
     "name": "stderr",
     "output_type": "stream",
     "text": [
      "\u001b[32m2025-02-16 20:34:17.127\u001b[0m | \u001b[1mINFO    \u001b[0m | \u001b[36mcompstat_research.config\u001b[0m:\u001b[36m<module>\u001b[0m:\u001b[36m11\u001b[0m - \u001b[1mPROJ_ROOT path is: D:\\Documents\\3 Production Save Files\\1 Cloned repositories\\compstat-research\u001b[0m\n"
     ]
    },
    {
     "name": "stdout",
     "output_type": "stream",
     "text": [
      "\u001b[32m2025-02-16 20:34:17.141\u001b[0m | \u001b[1mINFO    \u001b[0m | \u001b[36m__main__\u001b[0m:\u001b[36m<module>\u001b[0m:\u001b[36m17\u001b[0m - \u001b[1mConnecting to DuckDB.\u001b[0m\n",
      "\u001b[32m2025-02-16 20:34:17.175\u001b[0m | \u001b[32m\u001b[1mSUCCESS \u001b[0m | \u001b[36m__main__\u001b[0m:\u001b[36m<module>\u001b[0m:\u001b[36m20\u001b[0m - \u001b[32m\u001b[1mConnected to DuckDB.\u001b[0m\n",
      "\u001b[32m2025-02-16 20:34:17.175\u001b[0m | \u001b[1mINFO    \u001b[0m | \u001b[36m__main__\u001b[0m:\u001b[36m<module>\u001b[0m:\u001b[36m23\u001b[0m - \u001b[1mReading data from parquet file global-1940-13a2f5ed69a607563a645692f808895.parquet.\u001b[0m\n",
      "\u001b[32m2025-02-16 20:34:19.572\u001b[0m | \u001b[32m\u001b[1mSUCCESS \u001b[0m | \u001b[36m__main__\u001b[0m:\u001b[36m<module>\u001b[0m:\u001b[36m31\u001b[0m - \u001b[32m\u001b[1mData read successfully.\u001b[0m\n",
      "\u001b[32m2025-02-16 20:34:19.573\u001b[0m | \u001b[1mINFO    \u001b[0m | \u001b[36m__main__\u001b[0m:\u001b[36m<module>\u001b[0m:\u001b[36m34\u001b[0m - \u001b[1mInserting data into temperature table.\u001b[0m\n"
     ]
    },
    {
     "data": {
      "application/vnd.jupyter.widget-view+json": {
       "model_id": "8323fdc4f2da4efb8c7e163d8b8269a4",
       "version_major": 2,
       "version_minor": 0
      },
      "text/plain": [
       "FloatProgress(value=0.0, layout=Layout(width='auto'), style=ProgressStyle(bar_color='black'))"
      ]
     },
     "metadata": {},
     "output_type": "display_data"
    },
    {
     "name": "stdout",
     "output_type": "stream",
     "text": [
      "\u001b[32m2025-02-16 20:34:39.730\u001b[0m | \u001b[32m\u001b[1mSUCCESS \u001b[0m | \u001b[36m__main__\u001b[0m:\u001b[36m<module>\u001b[0m:\u001b[36m36\u001b[0m - \u001b[32m\u001b[1mData inserted successfully.\u001b[0m\n",
      "\u001b[32m2025-02-16 20:34:39.738\u001b[0m | \u001b[1mINFO    \u001b[0m | \u001b[36m__main__\u001b[0m:\u001b[36m<module>\u001b[0m:\u001b[36m42\u001b[0m - \u001b[1mQuerying data from temperature table.\u001b[0m\n",
      "\u001b[32m2025-02-16 20:34:39.738\u001b[0m | \u001b[32m\u001b[1mSUCCESS \u001b[0m | \u001b[36m__main__\u001b[0m:\u001b[36m<module>\u001b[0m:\u001b[36m44\u001b[0m - \u001b[32m\u001b[1mData queried successfully.\u001b[0m\n",
      "\u001b[32m2025-02-16 20:34:40.071\u001b[0m | \u001b[32m\u001b[1mSUCCESS \u001b[0m | \u001b[36m__main__\u001b[0m:\u001b[36m<module>\u001b[0m:\u001b[36m49\u001b[0m - \u001b[32m\u001b[1mConnection closed successfully.\u001b[0m\n",
      "\u001b[32m2025-02-16 20:34:40.072\u001b[0m | \u001b[1mINFO    \u001b[0m | \u001b[36m__main__\u001b[0m:\u001b[36m<module>\u001b[0m:\u001b[36m17\u001b[0m - \u001b[1mConnecting to DuckDB.\u001b[0m\n",
      "\u001b[32m2025-02-16 20:34:40.098\u001b[0m | \u001b[32m\u001b[1mSUCCESS \u001b[0m | \u001b[36m__main__\u001b[0m:\u001b[36m<module>\u001b[0m:\u001b[36m20\u001b[0m - \u001b[32m\u001b[1mConnected to DuckDB.\u001b[0m\n",
      "\u001b[32m2025-02-16 20:34:40.098\u001b[0m | \u001b[1mINFO    \u001b[0m | \u001b[36m__main__\u001b[0m:\u001b[36m<module>\u001b[0m:\u001b[36m23\u001b[0m - \u001b[1mReading data from parquet file global-1941-8637bf174e20f8fe4de25c68d1abca34.parquet.\u001b[0m\n",
      "\u001b[32m2025-02-16 20:34:41.833\u001b[0m | \u001b[32m\u001b[1mSUCCESS \u001b[0m | \u001b[36m__main__\u001b[0m:\u001b[36m<module>\u001b[0m:\u001b[36m31\u001b[0m - \u001b[32m\u001b[1mData read successfully.\u001b[0m\n",
      "\u001b[32m2025-02-16 20:34:41.834\u001b[0m | \u001b[1mINFO    \u001b[0m | \u001b[36m__main__\u001b[0m:\u001b[36m<module>\u001b[0m:\u001b[36m34\u001b[0m - \u001b[1mInserting data into temperature table.\u001b[0m\n"
     ]
    },
    {
     "data": {
      "application/vnd.jupyter.widget-view+json": {
       "model_id": "e71e617163584a93a636dad6b1514448",
       "version_major": 2,
       "version_minor": 0
      },
      "text/plain": [
       "FloatProgress(value=0.0, layout=Layout(width='auto'), style=ProgressStyle(bar_color='black'))"
      ]
     },
     "metadata": {},
     "output_type": "display_data"
    },
    {
     "name": "stdout",
     "output_type": "stream",
     "text": [
      "\u001b[32m2025-02-16 20:35:17.893\u001b[0m | \u001b[32m\u001b[1mSUCCESS \u001b[0m | \u001b[36m__main__\u001b[0m:\u001b[36m<module>\u001b[0m:\u001b[36m36\u001b[0m - \u001b[32m\u001b[1mData inserted successfully.\u001b[0m\n",
      "\u001b[32m2025-02-16 20:35:17.901\u001b[0m | \u001b[1mINFO    \u001b[0m | \u001b[36m__main__\u001b[0m:\u001b[36m<module>\u001b[0m:\u001b[36m42\u001b[0m - \u001b[1mQuerying data from temperature table.\u001b[0m\n",
      "\u001b[32m2025-02-16 20:35:17.901\u001b[0m | \u001b[32m\u001b[1mSUCCESS \u001b[0m | \u001b[36m__main__\u001b[0m:\u001b[36m<module>\u001b[0m:\u001b[36m44\u001b[0m - \u001b[32m\u001b[1mData queried successfully.\u001b[0m\n",
      "\u001b[32m2025-02-16 20:35:18.417\u001b[0m | \u001b[32m\u001b[1mSUCCESS \u001b[0m | \u001b[36m__main__\u001b[0m:\u001b[36m<module>\u001b[0m:\u001b[36m49\u001b[0m - \u001b[32m\u001b[1mConnection closed successfully.\u001b[0m\n",
      "\u001b[32m2025-02-16 20:35:18.418\u001b[0m | \u001b[1mINFO    \u001b[0m | \u001b[36m__main__\u001b[0m:\u001b[36m<module>\u001b[0m:\u001b[36m17\u001b[0m - \u001b[1mConnecting to DuckDB.\u001b[0m\n",
      "\u001b[32m2025-02-16 20:35:18.442\u001b[0m | \u001b[32m\u001b[1mSUCCESS \u001b[0m | \u001b[36m__main__\u001b[0m:\u001b[36m<module>\u001b[0m:\u001b[36m20\u001b[0m - \u001b[32m\u001b[1mConnected to DuckDB.\u001b[0m\n",
      "\u001b[32m2025-02-16 20:35:18.442\u001b[0m | \u001b[1mINFO    \u001b[0m | \u001b[36m__main__\u001b[0m:\u001b[36m<module>\u001b[0m:\u001b[36m23\u001b[0m - \u001b[1mReading data from parquet file global-1942-eb70c65941c4e31671ecb46947961807.parquet.\u001b[0m\n",
      "\u001b[32m2025-02-16 20:35:30.456\u001b[0m | \u001b[32m\u001b[1mSUCCESS \u001b[0m | \u001b[36m__main__\u001b[0m:\u001b[36m<module>\u001b[0m:\u001b[36m31\u001b[0m - \u001b[32m\u001b[1mData read successfully.\u001b[0m\n",
      "\u001b[32m2025-02-16 20:35:30.457\u001b[0m | \u001b[1mINFO    \u001b[0m | \u001b[36m__main__\u001b[0m:\u001b[36m<module>\u001b[0m:\u001b[36m34\u001b[0m - \u001b[1mInserting data into temperature table.\u001b[0m\n"
     ]
    },
    {
     "data": {
      "application/vnd.jupyter.widget-view+json": {
       "model_id": "4790b84b0290475d885f96da2cf7f821",
       "version_major": 2,
       "version_minor": 0
      },
      "text/plain": [
       "FloatProgress(value=0.0, layout=Layout(width='auto'), style=ProgressStyle(bar_color='black'))"
      ]
     },
     "metadata": {},
     "output_type": "display_data"
    },
    {
     "name": "stdout",
     "output_type": "stream",
     "text": [
      "\u001b[32m2025-02-16 20:35:47.840\u001b[0m | \u001b[32m\u001b[1mSUCCESS \u001b[0m | \u001b[36m__main__\u001b[0m:\u001b[36m<module>\u001b[0m:\u001b[36m36\u001b[0m - \u001b[32m\u001b[1mData inserted successfully.\u001b[0m\n",
      "\u001b[32m2025-02-16 20:35:47.847\u001b[0m | \u001b[1mINFO    \u001b[0m | \u001b[36m__main__\u001b[0m:\u001b[36m<module>\u001b[0m:\u001b[36m42\u001b[0m - \u001b[1mQuerying data from temperature table.\u001b[0m\n",
      "\u001b[32m2025-02-16 20:35:47.847\u001b[0m | \u001b[32m\u001b[1mSUCCESS \u001b[0m | \u001b[36m__main__\u001b[0m:\u001b[36m<module>\u001b[0m:\u001b[36m44\u001b[0m - \u001b[32m\u001b[1mData queried successfully.\u001b[0m\n",
      "\u001b[32m2025-02-16 20:35:48.435\u001b[0m | \u001b[32m\u001b[1mSUCCESS \u001b[0m | \u001b[36m__main__\u001b[0m:\u001b[36m<module>\u001b[0m:\u001b[36m49\u001b[0m - \u001b[32m\u001b[1mConnection closed successfully.\u001b[0m\n",
      "\u001b[32m2025-02-16 20:35:48.436\u001b[0m | \u001b[1mINFO    \u001b[0m | \u001b[36m__main__\u001b[0m:\u001b[36m<module>\u001b[0m:\u001b[36m17\u001b[0m - \u001b[1mConnecting to DuckDB.\u001b[0m\n",
      "\u001b[32m2025-02-16 20:35:48.457\u001b[0m | \u001b[32m\u001b[1mSUCCESS \u001b[0m | \u001b[36m__main__\u001b[0m:\u001b[36m<module>\u001b[0m:\u001b[36m20\u001b[0m - \u001b[32m\u001b[1mConnected to DuckDB.\u001b[0m\n",
      "\u001b[32m2025-02-16 20:35:48.457\u001b[0m | \u001b[1mINFO    \u001b[0m | \u001b[36m__main__\u001b[0m:\u001b[36m<module>\u001b[0m:\u001b[36m23\u001b[0m - \u001b[1mReading data from parquet file global-1943-a4c082123c434cdf27c447e2e3860dc2.parquet.\u001b[0m\n",
      "\u001b[32m2025-02-16 20:36:04.868\u001b[0m | \u001b[32m\u001b[1mSUCCESS \u001b[0m | \u001b[36m__main__\u001b[0m:\u001b[36m<module>\u001b[0m:\u001b[36m31\u001b[0m - \u001b[32m\u001b[1mData read successfully.\u001b[0m\n",
      "\u001b[32m2025-02-16 20:36:04.868\u001b[0m | \u001b[1mINFO    \u001b[0m | \u001b[36m__main__\u001b[0m:\u001b[36m<module>\u001b[0m:\u001b[36m34\u001b[0m - \u001b[1mInserting data into temperature table.\u001b[0m\n"
     ]
    },
    {
     "data": {
      "application/vnd.jupyter.widget-view+json": {
       "model_id": "f657daf6e2eb4bf6a0c0237ddf08fbcb",
       "version_major": 2,
       "version_minor": 0
      },
      "text/plain": [
       "FloatProgress(value=0.0, layout=Layout(width='auto'), style=ProgressStyle(bar_color='black'))"
      ]
     },
     "metadata": {},
     "output_type": "display_data"
    },
    {
     "name": "stdout",
     "output_type": "stream",
     "text": [
      "\u001b[32m2025-02-16 20:36:25.645\u001b[0m | \u001b[32m\u001b[1mSUCCESS \u001b[0m | \u001b[36m__main__\u001b[0m:\u001b[36m<module>\u001b[0m:\u001b[36m36\u001b[0m - \u001b[32m\u001b[1mData inserted successfully.\u001b[0m\n",
      "\u001b[32m2025-02-16 20:36:25.653\u001b[0m | \u001b[1mINFO    \u001b[0m | \u001b[36m__main__\u001b[0m:\u001b[36m<module>\u001b[0m:\u001b[36m42\u001b[0m - \u001b[1mQuerying data from temperature table.\u001b[0m\n",
      "\u001b[32m2025-02-16 20:36:25.653\u001b[0m | \u001b[32m\u001b[1mSUCCESS \u001b[0m | \u001b[36m__main__\u001b[0m:\u001b[36m<module>\u001b[0m:\u001b[36m44\u001b[0m - \u001b[32m\u001b[1mData queried successfully.\u001b[0m\n",
      "\u001b[32m2025-02-16 20:36:26.337\u001b[0m | \u001b[32m\u001b[1mSUCCESS \u001b[0m | \u001b[36m__main__\u001b[0m:\u001b[36m<module>\u001b[0m:\u001b[36m49\u001b[0m - \u001b[32m\u001b[1mConnection closed successfully.\u001b[0m\n",
      "\u001b[32m2025-02-16 20:36:26.338\u001b[0m | \u001b[1mINFO    \u001b[0m | \u001b[36m__main__\u001b[0m:\u001b[36m<module>\u001b[0m:\u001b[36m17\u001b[0m - \u001b[1mConnecting to DuckDB.\u001b[0m\n",
      "\u001b[32m2025-02-16 20:36:26.359\u001b[0m | \u001b[32m\u001b[1mSUCCESS \u001b[0m | \u001b[36m__main__\u001b[0m:\u001b[36m<module>\u001b[0m:\u001b[36m20\u001b[0m - \u001b[32m\u001b[1mConnected to DuckDB.\u001b[0m\n",
      "\u001b[32m2025-02-16 20:36:26.360\u001b[0m | \u001b[1mINFO    \u001b[0m | \u001b[36m__main__\u001b[0m:\u001b[36m<module>\u001b[0m:\u001b[36m23\u001b[0m - \u001b[1mReading data from parquet file global-1944-3de3928192c2b0bef5899b6f69ec2292.parquet.\u001b[0m\n",
      "\u001b[32m2025-02-16 20:36:43.002\u001b[0m | \u001b[32m\u001b[1mSUCCESS \u001b[0m | \u001b[36m__main__\u001b[0m:\u001b[36m<module>\u001b[0m:\u001b[36m31\u001b[0m - \u001b[32m\u001b[1mData read successfully.\u001b[0m\n",
      "\u001b[32m2025-02-16 20:36:43.003\u001b[0m | \u001b[1mINFO    \u001b[0m | \u001b[36m__main__\u001b[0m:\u001b[36m<module>\u001b[0m:\u001b[36m34\u001b[0m - \u001b[1mInserting data into temperature table.\u001b[0m\n"
     ]
    },
    {
     "data": {
      "application/vnd.jupyter.widget-view+json": {
       "model_id": "30d2a3bd1c70404ca1b72c8adf9744b1",
       "version_major": 2,
       "version_minor": 0
      },
      "text/plain": [
       "FloatProgress(value=0.0, layout=Layout(width='auto'), style=ProgressStyle(bar_color='black'))"
      ]
     },
     "metadata": {},
     "output_type": "display_data"
    },
    {
     "name": "stdout",
     "output_type": "stream",
     "text": [
      "\u001b[32m2025-02-16 20:37:02.634\u001b[0m | \u001b[32m\u001b[1mSUCCESS \u001b[0m | \u001b[36m__main__\u001b[0m:\u001b[36m<module>\u001b[0m:\u001b[36m36\u001b[0m - \u001b[32m\u001b[1mData inserted successfully.\u001b[0m\n",
      "\u001b[32m2025-02-16 20:37:02.642\u001b[0m | \u001b[1mINFO    \u001b[0m | \u001b[36m__main__\u001b[0m:\u001b[36m<module>\u001b[0m:\u001b[36m42\u001b[0m - \u001b[1mQuerying data from temperature table.\u001b[0m\n",
      "\u001b[32m2025-02-16 20:37:02.642\u001b[0m | \u001b[32m\u001b[1mSUCCESS \u001b[0m | \u001b[36m__main__\u001b[0m:\u001b[36m<module>\u001b[0m:\u001b[36m44\u001b[0m - \u001b[32m\u001b[1mData queried successfully.\u001b[0m\n",
      "\u001b[32m2025-02-16 20:37:03.478\u001b[0m | \u001b[32m\u001b[1mSUCCESS \u001b[0m | \u001b[36m__main__\u001b[0m:\u001b[36m<module>\u001b[0m:\u001b[36m49\u001b[0m - \u001b[32m\u001b[1mConnection closed successfully.\u001b[0m\n",
      "\u001b[32m2025-02-16 20:37:03.479\u001b[0m | \u001b[1mINFO    \u001b[0m | \u001b[36m__main__\u001b[0m:\u001b[36m<module>\u001b[0m:\u001b[36m17\u001b[0m - \u001b[1mConnecting to DuckDB.\u001b[0m\n",
      "\u001b[32m2025-02-16 20:37:03.500\u001b[0m | \u001b[32m\u001b[1mSUCCESS \u001b[0m | \u001b[36m__main__\u001b[0m:\u001b[36m<module>\u001b[0m:\u001b[36m20\u001b[0m - \u001b[32m\u001b[1mConnected to DuckDB.\u001b[0m\n",
      "\u001b[32m2025-02-16 20:37:03.501\u001b[0m | \u001b[1mINFO    \u001b[0m | \u001b[36m__main__\u001b[0m:\u001b[36m<module>\u001b[0m:\u001b[36m23\u001b[0m - \u001b[1mReading data from parquet file global-1945-895bc540c9edfd63f76578fd30499923.parquet.\u001b[0m\n",
      "\u001b[32m2025-02-16 20:37:18.304\u001b[0m | \u001b[32m\u001b[1mSUCCESS \u001b[0m | \u001b[36m__main__\u001b[0m:\u001b[36m<module>\u001b[0m:\u001b[36m31\u001b[0m - \u001b[32m\u001b[1mData read successfully.\u001b[0m\n",
      "\u001b[32m2025-02-16 20:37:18.305\u001b[0m | \u001b[1mINFO    \u001b[0m | \u001b[36m__main__\u001b[0m:\u001b[36m<module>\u001b[0m:\u001b[36m34\u001b[0m - \u001b[1mInserting data into temperature table.\u001b[0m\n"
     ]
    },
    {
     "data": {
      "application/vnd.jupyter.widget-view+json": {
       "model_id": "cf11664eaf0a4960b78a3e324a3e3b5e",
       "version_major": 2,
       "version_minor": 0
      },
      "text/plain": [
       "FloatProgress(value=0.0, layout=Layout(width='auto'), style=ProgressStyle(bar_color='black'))"
      ]
     },
     "metadata": {},
     "output_type": "display_data"
    },
    {
     "name": "stdout",
     "output_type": "stream",
     "text": [
      "\u001b[32m2025-02-16 20:37:42.498\u001b[0m | \u001b[32m\u001b[1mSUCCESS \u001b[0m | \u001b[36m__main__\u001b[0m:\u001b[36m<module>\u001b[0m:\u001b[36m36\u001b[0m - \u001b[32m\u001b[1mData inserted successfully.\u001b[0m\n",
      "\u001b[32m2025-02-16 20:37:42.506\u001b[0m | \u001b[1mINFO    \u001b[0m | \u001b[36m__main__\u001b[0m:\u001b[36m<module>\u001b[0m:\u001b[36m42\u001b[0m - \u001b[1mQuerying data from temperature table.\u001b[0m\n",
      "\u001b[32m2025-02-16 20:37:42.507\u001b[0m | \u001b[32m\u001b[1mSUCCESS \u001b[0m | \u001b[36m__main__\u001b[0m:\u001b[36m<module>\u001b[0m:\u001b[36m44\u001b[0m - \u001b[32m\u001b[1mData queried successfully.\u001b[0m\n",
      "\u001b[32m2025-02-16 20:37:43.526\u001b[0m | \u001b[32m\u001b[1mSUCCESS \u001b[0m | \u001b[36m__main__\u001b[0m:\u001b[36m<module>\u001b[0m:\u001b[36m49\u001b[0m - \u001b[32m\u001b[1mConnection closed successfully.\u001b[0m\n",
      "\u001b[32m2025-02-16 20:37:43.527\u001b[0m | \u001b[1mINFO    \u001b[0m | \u001b[36m__main__\u001b[0m:\u001b[36m<module>\u001b[0m:\u001b[36m17\u001b[0m - \u001b[1mConnecting to DuckDB.\u001b[0m\n",
      "\u001b[32m2025-02-16 20:37:43.551\u001b[0m | \u001b[32m\u001b[1mSUCCESS \u001b[0m | \u001b[36m__main__\u001b[0m:\u001b[36m<module>\u001b[0m:\u001b[36m20\u001b[0m - \u001b[32m\u001b[1mConnected to DuckDB.\u001b[0m\n",
      "\u001b[32m2025-02-16 20:37:43.552\u001b[0m | \u001b[1mINFO    \u001b[0m | \u001b[36m__main__\u001b[0m:\u001b[36m<module>\u001b[0m:\u001b[36m23\u001b[0m - \u001b[1mReading data from parquet file global-1946-4bf45c25b53f1481d71508ca65686fd8.parquet.\u001b[0m\n",
      "\u001b[32m2025-02-16 20:38:03.843\u001b[0m | \u001b[32m\u001b[1mSUCCESS \u001b[0m | \u001b[36m__main__\u001b[0m:\u001b[36m<module>\u001b[0m:\u001b[36m31\u001b[0m - \u001b[32m\u001b[1mData read successfully.\u001b[0m\n",
      "\u001b[32m2025-02-16 20:38:03.844\u001b[0m | \u001b[1mINFO    \u001b[0m | \u001b[36m__main__\u001b[0m:\u001b[36m<module>\u001b[0m:\u001b[36m34\u001b[0m - \u001b[1mInserting data into temperature table.\u001b[0m\n"
     ]
    },
    {
     "data": {
      "application/vnd.jupyter.widget-view+json": {
       "model_id": "6e16318a411846a19960fe5c46f846d9",
       "version_major": 2,
       "version_minor": 0
      },
      "text/plain": [
       "FloatProgress(value=0.0, layout=Layout(width='auto'), style=ProgressStyle(bar_color='black'))"
      ]
     },
     "metadata": {},
     "output_type": "display_data"
    },
    {
     "name": "stdout",
     "output_type": "stream",
     "text": [
      "\u001b[32m2025-02-16 20:38:29.878\u001b[0m | \u001b[32m\u001b[1mSUCCESS \u001b[0m | \u001b[36m__main__\u001b[0m:\u001b[36m<module>\u001b[0m:\u001b[36m36\u001b[0m - \u001b[32m\u001b[1mData inserted successfully.\u001b[0m\n",
      "\u001b[32m2025-02-16 20:38:29.886\u001b[0m | \u001b[1mINFO    \u001b[0m | \u001b[36m__main__\u001b[0m:\u001b[36m<module>\u001b[0m:\u001b[36m42\u001b[0m - \u001b[1mQuerying data from temperature table.\u001b[0m\n",
      "\u001b[32m2025-02-16 20:38:29.887\u001b[0m | \u001b[32m\u001b[1mSUCCESS \u001b[0m | \u001b[36m__main__\u001b[0m:\u001b[36m<module>\u001b[0m:\u001b[36m44\u001b[0m - \u001b[32m\u001b[1mData queried successfully.\u001b[0m\n",
      "\u001b[32m2025-02-16 20:38:31.023\u001b[0m | \u001b[32m\u001b[1mSUCCESS \u001b[0m | \u001b[36m__main__\u001b[0m:\u001b[36m<module>\u001b[0m:\u001b[36m49\u001b[0m - \u001b[32m\u001b[1mConnection closed successfully.\u001b[0m\n",
      "\u001b[32m2025-02-16 20:38:31.024\u001b[0m | \u001b[1mINFO    \u001b[0m | \u001b[36m__main__\u001b[0m:\u001b[36m<module>\u001b[0m:\u001b[36m17\u001b[0m - \u001b[1mConnecting to DuckDB.\u001b[0m\n",
      "\u001b[32m2025-02-16 20:38:31.105\u001b[0m | \u001b[32m\u001b[1mSUCCESS \u001b[0m | \u001b[36m__main__\u001b[0m:\u001b[36m<module>\u001b[0m:\u001b[36m20\u001b[0m - \u001b[32m\u001b[1mConnected to DuckDB.\u001b[0m\n",
      "\u001b[32m2025-02-16 20:38:31.105\u001b[0m | \u001b[1mINFO    \u001b[0m | \u001b[36m__main__\u001b[0m:\u001b[36m<module>\u001b[0m:\u001b[36m23\u001b[0m - \u001b[1mReading data from parquet file global-1947-2542ba5f8d59a945ff39017fd1e65f57.parquet.\u001b[0m\n",
      "\u001b[32m2025-02-16 20:38:49.048\u001b[0m | \u001b[32m\u001b[1mSUCCESS \u001b[0m | \u001b[36m__main__\u001b[0m:\u001b[36m<module>\u001b[0m:\u001b[36m31\u001b[0m - \u001b[32m\u001b[1mData read successfully.\u001b[0m\n",
      "\u001b[32m2025-02-16 20:38:49.049\u001b[0m | \u001b[1mINFO    \u001b[0m | \u001b[36m__main__\u001b[0m:\u001b[36m<module>\u001b[0m:\u001b[36m34\u001b[0m - \u001b[1mInserting data into temperature table.\u001b[0m\n"
     ]
    },
    {
     "data": {
      "application/vnd.jupyter.widget-view+json": {
       "model_id": "41ace625d2cf4e0c88dfa32ebd398ecc",
       "version_major": 2,
       "version_minor": 0
      },
      "text/plain": [
       "FloatProgress(value=0.0, layout=Layout(width='auto'), style=ProgressStyle(bar_color='black'))"
      ]
     },
     "metadata": {},
     "output_type": "display_data"
    },
    {
     "name": "stdout",
     "output_type": "stream",
     "text": [
      "\u001b[32m2025-02-16 20:39:18.617\u001b[0m | \u001b[32m\u001b[1mSUCCESS \u001b[0m | \u001b[36m__main__\u001b[0m:\u001b[36m<module>\u001b[0m:\u001b[36m36\u001b[0m - \u001b[32m\u001b[1mData inserted successfully.\u001b[0m\n",
      "\u001b[32m2025-02-16 20:39:18.625\u001b[0m | \u001b[1mINFO    \u001b[0m | \u001b[36m__main__\u001b[0m:\u001b[36m<module>\u001b[0m:\u001b[36m42\u001b[0m - \u001b[1mQuerying data from temperature table.\u001b[0m\n",
      "\u001b[32m2025-02-16 20:39:18.626\u001b[0m | \u001b[32m\u001b[1mSUCCESS \u001b[0m | \u001b[36m__main__\u001b[0m:\u001b[36m<module>\u001b[0m:\u001b[36m44\u001b[0m - \u001b[32m\u001b[1mData queried successfully.\u001b[0m\n",
      "\u001b[32m2025-02-16 20:39:19.931\u001b[0m | \u001b[32m\u001b[1mSUCCESS \u001b[0m | \u001b[36m__main__\u001b[0m:\u001b[36m<module>\u001b[0m:\u001b[36m49\u001b[0m - \u001b[32m\u001b[1mConnection closed successfully.\u001b[0m\n",
      "\u001b[32m2025-02-16 20:39:19.932\u001b[0m | \u001b[1mINFO    \u001b[0m | \u001b[36m__main__\u001b[0m:\u001b[36m<module>\u001b[0m:\u001b[36m17\u001b[0m - \u001b[1mConnecting to DuckDB.\u001b[0m\n",
      "\u001b[32m2025-02-16 20:39:20.368\u001b[0m | \u001b[32m\u001b[1mSUCCESS \u001b[0m | \u001b[36m__main__\u001b[0m:\u001b[36m<module>\u001b[0m:\u001b[36m20\u001b[0m - \u001b[32m\u001b[1mConnected to DuckDB.\u001b[0m\n",
      "\u001b[32m2025-02-16 20:39:20.368\u001b[0m | \u001b[1mINFO    \u001b[0m | \u001b[36m__main__\u001b[0m:\u001b[36m<module>\u001b[0m:\u001b[36m23\u001b[0m - \u001b[1mReading data from parquet file global-1948-d096602e074960d26d482cc7b22b5921.parquet.\u001b[0m\n",
      "\u001b[32m2025-02-16 20:39:38.982\u001b[0m | \u001b[32m\u001b[1mSUCCESS \u001b[0m | \u001b[36m__main__\u001b[0m:\u001b[36m<module>\u001b[0m:\u001b[36m31\u001b[0m - \u001b[32m\u001b[1mData read successfully.\u001b[0m\n",
      "\u001b[32m2025-02-16 20:39:38.983\u001b[0m | \u001b[1mINFO    \u001b[0m | \u001b[36m__main__\u001b[0m:\u001b[36m<module>\u001b[0m:\u001b[36m34\u001b[0m - \u001b[1mInserting data into temperature table.\u001b[0m\n"
     ]
    },
    {
     "data": {
      "application/vnd.jupyter.widget-view+json": {
       "model_id": "2cd29872e79a4a9c9cc5b684f0ffccc3",
       "version_major": 2,
       "version_minor": 0
      },
      "text/plain": [
       "FloatProgress(value=0.0, layout=Layout(width='auto'), style=ProgressStyle(bar_color='black'))"
      ]
     },
     "metadata": {},
     "output_type": "display_data"
    },
    {
     "name": "stdout",
     "output_type": "stream",
     "text": [
      "\u001b[32m2025-02-16 20:40:08.205\u001b[0m | \u001b[32m\u001b[1mSUCCESS \u001b[0m | \u001b[36m__main__\u001b[0m:\u001b[36m<module>\u001b[0m:\u001b[36m36\u001b[0m - \u001b[32m\u001b[1mData inserted successfully.\u001b[0m\n",
      "\u001b[32m2025-02-16 20:40:08.214\u001b[0m | \u001b[1mINFO    \u001b[0m | \u001b[36m__main__\u001b[0m:\u001b[36m<module>\u001b[0m:\u001b[36m42\u001b[0m - \u001b[1mQuerying data from temperature table.\u001b[0m\n",
      "\u001b[32m2025-02-16 20:40:08.215\u001b[0m | \u001b[32m\u001b[1mSUCCESS \u001b[0m | \u001b[36m__main__\u001b[0m:\u001b[36m<module>\u001b[0m:\u001b[36m44\u001b[0m - \u001b[32m\u001b[1mData queried successfully.\u001b[0m\n",
      "\u001b[32m2025-02-16 20:40:09.634\u001b[0m | \u001b[32m\u001b[1mSUCCESS \u001b[0m | \u001b[36m__main__\u001b[0m:\u001b[36m<module>\u001b[0m:\u001b[36m49\u001b[0m - \u001b[32m\u001b[1mConnection closed successfully.\u001b[0m\n",
      "\u001b[32m2025-02-16 20:40:09.635\u001b[0m | \u001b[1mINFO    \u001b[0m | \u001b[36m__main__\u001b[0m:\u001b[36m<module>\u001b[0m:\u001b[36m17\u001b[0m - \u001b[1mConnecting to DuckDB.\u001b[0m\n",
      "\u001b[32m2025-02-16 20:40:09.707\u001b[0m | \u001b[32m\u001b[1mSUCCESS \u001b[0m | \u001b[36m__main__\u001b[0m:\u001b[36m<module>\u001b[0m:\u001b[36m20\u001b[0m - \u001b[32m\u001b[1mConnected to DuckDB.\u001b[0m\n",
      "\u001b[32m2025-02-16 20:40:09.707\u001b[0m | \u001b[1mINFO    \u001b[0m | \u001b[36m__main__\u001b[0m:\u001b[36m<module>\u001b[0m:\u001b[36m23\u001b[0m - \u001b[1mReading data from parquet file global-1949-b6879a9b452c7c44b0ea6c102c1eccea.parquet.\u001b[0m\n",
      "\u001b[32m2025-02-16 20:40:26.719\u001b[0m | \u001b[32m\u001b[1mSUCCESS \u001b[0m | \u001b[36m__main__\u001b[0m:\u001b[36m<module>\u001b[0m:\u001b[36m31\u001b[0m - \u001b[32m\u001b[1mData read successfully.\u001b[0m\n",
      "\u001b[32m2025-02-16 20:40:26.719\u001b[0m | \u001b[1mINFO    \u001b[0m | \u001b[36m__main__\u001b[0m:\u001b[36m<module>\u001b[0m:\u001b[36m34\u001b[0m - \u001b[1mInserting data into temperature table.\u001b[0m\n"
     ]
    },
    {
     "data": {
      "application/vnd.jupyter.widget-view+json": {
       "model_id": "b010b1babeba41ada8292e44d843efe3",
       "version_major": 2,
       "version_minor": 0
      },
      "text/plain": [
       "FloatProgress(value=0.0, layout=Layout(width='auto'), style=ProgressStyle(bar_color='black'))"
      ]
     },
     "metadata": {},
     "output_type": "display_data"
    },
    {
     "name": "stdout",
     "output_type": "stream",
     "text": [
      "\u001b[32m2025-02-16 20:40:59.218\u001b[0m | \u001b[32m\u001b[1mSUCCESS \u001b[0m | \u001b[36m__main__\u001b[0m:\u001b[36m<module>\u001b[0m:\u001b[36m36\u001b[0m - \u001b[32m\u001b[1mData inserted successfully.\u001b[0m\n",
      "\u001b[32m2025-02-16 20:40:59.227\u001b[0m | \u001b[1mINFO    \u001b[0m | \u001b[36m__main__\u001b[0m:\u001b[36m<module>\u001b[0m:\u001b[36m42\u001b[0m - \u001b[1mQuerying data from temperature table.\u001b[0m\n",
      "\u001b[32m2025-02-16 20:40:59.227\u001b[0m | \u001b[32m\u001b[1mSUCCESS \u001b[0m | \u001b[36m__main__\u001b[0m:\u001b[36m<module>\u001b[0m:\u001b[36m44\u001b[0m - \u001b[32m\u001b[1mData queried successfully.\u001b[0m\n",
      "\u001b[32m2025-02-16 20:41:00.860\u001b[0m | \u001b[32m\u001b[1mSUCCESS \u001b[0m | \u001b[36m__main__\u001b[0m:\u001b[36m<module>\u001b[0m:\u001b[36m49\u001b[0m - \u001b[32m\u001b[1mConnection closed successfully.\u001b[0m\n",
      "\u001b[32m2025-02-16 20:41:00.861\u001b[0m | \u001b[1mINFO    \u001b[0m | \u001b[36m__main__\u001b[0m:\u001b[36m<module>\u001b[0m:\u001b[36m17\u001b[0m - \u001b[1mConnecting to DuckDB.\u001b[0m\n",
      "\u001b[32m2025-02-16 20:41:00.911\u001b[0m | \u001b[32m\u001b[1mSUCCESS \u001b[0m | \u001b[36m__main__\u001b[0m:\u001b[36m<module>\u001b[0m:\u001b[36m20\u001b[0m - \u001b[32m\u001b[1mConnected to DuckDB.\u001b[0m\n",
      "\u001b[32m2025-02-16 20:41:00.911\u001b[0m | \u001b[1mINFO    \u001b[0m | \u001b[36m__main__\u001b[0m:\u001b[36m<module>\u001b[0m:\u001b[36m23\u001b[0m - \u001b[1mReading data from parquet file global-1950-7d5afc5d4e658bef083ae9313f6c13f4.parquet.\u001b[0m\n",
      "\u001b[32m2025-02-16 20:41:14.739\u001b[0m | \u001b[32m\u001b[1mSUCCESS \u001b[0m | \u001b[36m__main__\u001b[0m:\u001b[36m<module>\u001b[0m:\u001b[36m31\u001b[0m - \u001b[32m\u001b[1mData read successfully.\u001b[0m\n",
      "\u001b[32m2025-02-16 20:41:14.739\u001b[0m | \u001b[1mINFO    \u001b[0m | \u001b[36m__main__\u001b[0m:\u001b[36m<module>\u001b[0m:\u001b[36m34\u001b[0m - \u001b[1mInserting data into temperature table.\u001b[0m\n"
     ]
    },
    {
     "data": {
      "application/vnd.jupyter.widget-view+json": {
       "model_id": "5c5e9c80ab10493f88285559b8ed1da8",
       "version_major": 2,
       "version_minor": 0
      },
      "text/plain": [
       "FloatProgress(value=0.0, layout=Layout(width='auto'), style=ProgressStyle(bar_color='black'))"
      ]
     },
     "metadata": {},
     "output_type": "display_data"
    },
    {
     "name": "stdout",
     "output_type": "stream",
     "text": [
      "\u001b[32m2025-02-16 20:41:51.831\u001b[0m | \u001b[32m\u001b[1mSUCCESS \u001b[0m | \u001b[36m__main__\u001b[0m:\u001b[36m<module>\u001b[0m:\u001b[36m36\u001b[0m - \u001b[32m\u001b[1mData inserted successfully.\u001b[0m\n",
      "\u001b[32m2025-02-16 20:41:51.840\u001b[0m | \u001b[1mINFO    \u001b[0m | \u001b[36m__main__\u001b[0m:\u001b[36m<module>\u001b[0m:\u001b[36m42\u001b[0m - \u001b[1mQuerying data from temperature table.\u001b[0m\n",
      "\u001b[32m2025-02-16 20:41:51.840\u001b[0m | \u001b[32m\u001b[1mSUCCESS \u001b[0m | \u001b[36m__main__\u001b[0m:\u001b[36m<module>\u001b[0m:\u001b[36m44\u001b[0m - \u001b[32m\u001b[1mData queried successfully.\u001b[0m\n",
      "\u001b[32m2025-02-16 20:41:53.655\u001b[0m | \u001b[32m\u001b[1mSUCCESS \u001b[0m | \u001b[36m__main__\u001b[0m:\u001b[36m<module>\u001b[0m:\u001b[36m49\u001b[0m - \u001b[32m\u001b[1mConnection closed successfully.\u001b[0m\n",
      "\u001b[32m2025-02-16 20:41:53.656\u001b[0m | \u001b[1mINFO    \u001b[0m | \u001b[36m__main__\u001b[0m:\u001b[36m<module>\u001b[0m:\u001b[36m17\u001b[0m - \u001b[1mConnecting to DuckDB.\u001b[0m\n",
      "\u001b[32m2025-02-16 20:41:53.709\u001b[0m | \u001b[32m\u001b[1mSUCCESS \u001b[0m | \u001b[36m__main__\u001b[0m:\u001b[36m<module>\u001b[0m:\u001b[36m20\u001b[0m - \u001b[32m\u001b[1mConnected to DuckDB.\u001b[0m\n",
      "\u001b[32m2025-02-16 20:41:53.710\u001b[0m | \u001b[1mINFO    \u001b[0m | \u001b[36m__main__\u001b[0m:\u001b[36m<module>\u001b[0m:\u001b[36m23\u001b[0m - \u001b[1mReading data from parquet file global-1951-1bd4eaeebae140b8cccfd2d2a2648b6d.parquet.\u001b[0m\n",
      "\u001b[32m2025-02-16 20:42:06.636\u001b[0m | \u001b[32m\u001b[1mSUCCESS \u001b[0m | \u001b[36m__main__\u001b[0m:\u001b[36m<module>\u001b[0m:\u001b[36m31\u001b[0m - \u001b[32m\u001b[1mData read successfully.\u001b[0m\n",
      "\u001b[32m2025-02-16 20:42:06.637\u001b[0m | \u001b[1mINFO    \u001b[0m | \u001b[36m__main__\u001b[0m:\u001b[36m<module>\u001b[0m:\u001b[36m34\u001b[0m - \u001b[1mInserting data into temperature table.\u001b[0m\n"
     ]
    },
    {
     "data": {
      "application/vnd.jupyter.widget-view+json": {
       "model_id": "09d4f86ccd004efa94166070db29dc98",
       "version_major": 2,
       "version_minor": 0
      },
      "text/plain": [
       "FloatProgress(value=0.0, layout=Layout(width='auto'), style=ProgressStyle(bar_color='black'))"
      ]
     },
     "metadata": {},
     "output_type": "display_data"
    },
    {
     "name": "stdout",
     "output_type": "stream",
     "text": [
      "\u001b[32m2025-02-16 20:42:44.711\u001b[0m | \u001b[32m\u001b[1mSUCCESS \u001b[0m | \u001b[36m__main__\u001b[0m:\u001b[36m<module>\u001b[0m:\u001b[36m36\u001b[0m - \u001b[32m\u001b[1mData inserted successfully.\u001b[0m\n",
      "\u001b[32m2025-02-16 20:42:44.720\u001b[0m | \u001b[1mINFO    \u001b[0m | \u001b[36m__main__\u001b[0m:\u001b[36m<module>\u001b[0m:\u001b[36m42\u001b[0m - \u001b[1mQuerying data from temperature table.\u001b[0m\n",
      "\u001b[32m2025-02-16 20:42:44.720\u001b[0m | \u001b[32m\u001b[1mSUCCESS \u001b[0m | \u001b[36m__main__\u001b[0m:\u001b[36m<module>\u001b[0m:\u001b[36m44\u001b[0m - \u001b[32m\u001b[1mData queried successfully.\u001b[0m\n",
      "\u001b[32m2025-02-16 20:42:46.728\u001b[0m | \u001b[32m\u001b[1mSUCCESS \u001b[0m | \u001b[36m__main__\u001b[0m:\u001b[36m<module>\u001b[0m:\u001b[36m49\u001b[0m - \u001b[32m\u001b[1mConnection closed successfully.\u001b[0m\n",
      "\u001b[32m2025-02-16 20:42:46.729\u001b[0m | \u001b[1mINFO    \u001b[0m | \u001b[36m__main__\u001b[0m:\u001b[36m<module>\u001b[0m:\u001b[36m17\u001b[0m - \u001b[1mConnecting to DuckDB.\u001b[0m\n",
      "\u001b[32m2025-02-16 20:42:46.771\u001b[0m | \u001b[32m\u001b[1mSUCCESS \u001b[0m | \u001b[36m__main__\u001b[0m:\u001b[36m<module>\u001b[0m:\u001b[36m20\u001b[0m - \u001b[32m\u001b[1mConnected to DuckDB.\u001b[0m\n",
      "\u001b[32m2025-02-16 20:42:46.772\u001b[0m | \u001b[1mINFO    \u001b[0m | \u001b[36m__main__\u001b[0m:\u001b[36m<module>\u001b[0m:\u001b[36m23\u001b[0m - \u001b[1mReading data from parquet file global-1952-eb0d22e530a292651374272871620de5.parquet.\u001b[0m\n",
      "\u001b[32m2025-02-16 20:43:02.870\u001b[0m | \u001b[32m\u001b[1mSUCCESS \u001b[0m | \u001b[36m__main__\u001b[0m:\u001b[36m<module>\u001b[0m:\u001b[36m31\u001b[0m - \u001b[32m\u001b[1mData read successfully.\u001b[0m\n",
      "\u001b[32m2025-02-16 20:43:02.871\u001b[0m | \u001b[1mINFO    \u001b[0m | \u001b[36m__main__\u001b[0m:\u001b[36m<module>\u001b[0m:\u001b[36m34\u001b[0m - \u001b[1mInserting data into temperature table.\u001b[0m\n"
     ]
    },
    {
     "data": {
      "application/vnd.jupyter.widget-view+json": {
       "model_id": "2a07ce59b3f341518b912dda1fb364b4",
       "version_major": 2,
       "version_minor": 0
      },
      "text/plain": [
       "FloatProgress(value=0.0, layout=Layout(width='auto'), style=ProgressStyle(bar_color='black'))"
      ]
     },
     "metadata": {},
     "output_type": "display_data"
    },
    {
     "name": "stdout",
     "output_type": "stream",
     "text": [
      "\u001b[32m2025-02-16 20:43:42.625\u001b[0m | \u001b[32m\u001b[1mSUCCESS \u001b[0m | \u001b[36m__main__\u001b[0m:\u001b[36m<module>\u001b[0m:\u001b[36m36\u001b[0m - \u001b[32m\u001b[1mData inserted successfully.\u001b[0m\n",
      "\u001b[32m2025-02-16 20:43:42.633\u001b[0m | \u001b[1mINFO    \u001b[0m | \u001b[36m__main__\u001b[0m:\u001b[36m<module>\u001b[0m:\u001b[36m42\u001b[0m - \u001b[1mQuerying data from temperature table.\u001b[0m\n",
      "\u001b[32m2025-02-16 20:43:42.634\u001b[0m | \u001b[32m\u001b[1mSUCCESS \u001b[0m | \u001b[36m__main__\u001b[0m:\u001b[36m<module>\u001b[0m:\u001b[36m44\u001b[0m - \u001b[32m\u001b[1mData queried successfully.\u001b[0m\n",
      "\u001b[32m2025-02-16 20:43:44.825\u001b[0m | \u001b[32m\u001b[1mSUCCESS \u001b[0m | \u001b[36m__main__\u001b[0m:\u001b[36m<module>\u001b[0m:\u001b[36m49\u001b[0m - \u001b[32m\u001b[1mConnection closed successfully.\u001b[0m\n",
      "\u001b[32m2025-02-16 20:43:44.826\u001b[0m | \u001b[1mINFO    \u001b[0m | \u001b[36m__main__\u001b[0m:\u001b[36m<module>\u001b[0m:\u001b[36m17\u001b[0m - \u001b[1mConnecting to DuckDB.\u001b[0m\n",
      "\u001b[32m2025-02-16 20:43:44.868\u001b[0m | \u001b[32m\u001b[1mSUCCESS \u001b[0m | \u001b[36m__main__\u001b[0m:\u001b[36m<module>\u001b[0m:\u001b[36m20\u001b[0m - \u001b[32m\u001b[1mConnected to DuckDB.\u001b[0m\n",
      "\u001b[32m2025-02-16 20:43:44.868\u001b[0m | \u001b[1mINFO    \u001b[0m | \u001b[36m__main__\u001b[0m:\u001b[36m<module>\u001b[0m:\u001b[36m23\u001b[0m - \u001b[1mReading data from parquet file global-1953-bee7199cc34f2250c5555b79b7b8bbf9.parquet.\u001b[0m\n",
      "\u001b[32m2025-02-16 20:43:59.798\u001b[0m | \u001b[32m\u001b[1mSUCCESS \u001b[0m | \u001b[36m__main__\u001b[0m:\u001b[36m<module>\u001b[0m:\u001b[36m31\u001b[0m - \u001b[32m\u001b[1mData read successfully.\u001b[0m\n",
      "\u001b[32m2025-02-16 20:43:59.799\u001b[0m | \u001b[1mINFO    \u001b[0m | \u001b[36m__main__\u001b[0m:\u001b[36m<module>\u001b[0m:\u001b[36m34\u001b[0m - \u001b[1mInserting data into temperature table.\u001b[0m\n"
     ]
    },
    {
     "data": {
      "application/vnd.jupyter.widget-view+json": {
       "model_id": "16cc3c570695417991da54aa206946f0",
       "version_major": 2,
       "version_minor": 0
      },
      "text/plain": [
       "FloatProgress(value=0.0, layout=Layout(width='auto'), style=ProgressStyle(bar_color='black'))"
      ]
     },
     "metadata": {},
     "output_type": "display_data"
    },
    {
     "name": "stdout",
     "output_type": "stream",
     "text": [
      "\u001b[32m2025-02-16 20:44:41.695\u001b[0m | \u001b[32m\u001b[1mSUCCESS \u001b[0m | \u001b[36m__main__\u001b[0m:\u001b[36m<module>\u001b[0m:\u001b[36m36\u001b[0m - \u001b[32m\u001b[1mData inserted successfully.\u001b[0m\n",
      "\u001b[32m2025-02-16 20:44:41.704\u001b[0m | \u001b[1mINFO    \u001b[0m | \u001b[36m__main__\u001b[0m:\u001b[36m<module>\u001b[0m:\u001b[36m42\u001b[0m - \u001b[1mQuerying data from temperature table.\u001b[0m\n",
      "\u001b[32m2025-02-16 20:44:41.705\u001b[0m | \u001b[32m\u001b[1mSUCCESS \u001b[0m | \u001b[36m__main__\u001b[0m:\u001b[36m<module>\u001b[0m:\u001b[36m44\u001b[0m - \u001b[32m\u001b[1mData queried successfully.\u001b[0m\n",
      "\u001b[32m2025-02-16 20:44:44.010\u001b[0m | \u001b[32m\u001b[1mSUCCESS \u001b[0m | \u001b[36m__main__\u001b[0m:\u001b[36m<module>\u001b[0m:\u001b[36m49\u001b[0m - \u001b[32m\u001b[1mConnection closed successfully.\u001b[0m\n",
      "\u001b[32m2025-02-16 20:44:44.011\u001b[0m | \u001b[1mINFO    \u001b[0m | \u001b[36m__main__\u001b[0m:\u001b[36m<module>\u001b[0m:\u001b[36m17\u001b[0m - \u001b[1mConnecting to DuckDB.\u001b[0m\n",
      "\u001b[32m2025-02-16 20:44:44.065\u001b[0m | \u001b[32m\u001b[1mSUCCESS \u001b[0m | \u001b[36m__main__\u001b[0m:\u001b[36m<module>\u001b[0m:\u001b[36m20\u001b[0m - \u001b[32m\u001b[1mConnected to DuckDB.\u001b[0m\n",
      "\u001b[32m2025-02-16 20:44:44.065\u001b[0m | \u001b[1mINFO    \u001b[0m | \u001b[36m__main__\u001b[0m:\u001b[36m<module>\u001b[0m:\u001b[36m23\u001b[0m - \u001b[1mReading data from parquet file global-1954-af751add073abcc1f19379b0d0b7bb88.parquet.\u001b[0m\n",
      "\u001b[32m2025-02-16 20:44:59.500\u001b[0m | \u001b[32m\u001b[1mSUCCESS \u001b[0m | \u001b[36m__main__\u001b[0m:\u001b[36m<module>\u001b[0m:\u001b[36m31\u001b[0m - \u001b[32m\u001b[1mData read successfully.\u001b[0m\n",
      "\u001b[32m2025-02-16 20:44:59.501\u001b[0m | \u001b[1mINFO    \u001b[0m | \u001b[36m__main__\u001b[0m:\u001b[36m<module>\u001b[0m:\u001b[36m34\u001b[0m - \u001b[1mInserting data into temperature table.\u001b[0m\n"
     ]
    },
    {
     "data": {
      "application/vnd.jupyter.widget-view+json": {
       "model_id": "87d9b279f7e34bdea78823f303c9fd04",
       "version_major": 2,
       "version_minor": 0
      },
      "text/plain": [
       "FloatProgress(value=0.0, layout=Layout(width='auto'), style=ProgressStyle(bar_color='black'))"
      ]
     },
     "metadata": {},
     "output_type": "display_data"
    },
    {
     "name": "stdout",
     "output_type": "stream",
     "text": [
      "\u001b[32m2025-02-16 20:45:43.474\u001b[0m | \u001b[32m\u001b[1mSUCCESS \u001b[0m | \u001b[36m__main__\u001b[0m:\u001b[36m<module>\u001b[0m:\u001b[36m36\u001b[0m - \u001b[32m\u001b[1mData inserted successfully.\u001b[0m\n",
      "\u001b[32m2025-02-16 20:45:43.483\u001b[0m | \u001b[1mINFO    \u001b[0m | \u001b[36m__main__\u001b[0m:\u001b[36m<module>\u001b[0m:\u001b[36m42\u001b[0m - \u001b[1mQuerying data from temperature table.\u001b[0m\n",
      "\u001b[32m2025-02-16 20:45:43.483\u001b[0m | \u001b[32m\u001b[1mSUCCESS \u001b[0m | \u001b[36m__main__\u001b[0m:\u001b[36m<module>\u001b[0m:\u001b[36m44\u001b[0m - \u001b[32m\u001b[1mData queried successfully.\u001b[0m\n",
      "\u001b[32m2025-02-16 20:45:46.012\u001b[0m | \u001b[32m\u001b[1mSUCCESS \u001b[0m | \u001b[36m__main__\u001b[0m:\u001b[36m<module>\u001b[0m:\u001b[36m49\u001b[0m - \u001b[32m\u001b[1mConnection closed successfully.\u001b[0m\n",
      "\u001b[32m2025-02-16 20:45:46.013\u001b[0m | \u001b[1mINFO    \u001b[0m | \u001b[36m__main__\u001b[0m:\u001b[36m<module>\u001b[0m:\u001b[36m17\u001b[0m - \u001b[1mConnecting to DuckDB.\u001b[0m\n",
      "\u001b[32m2025-02-16 20:45:46.069\u001b[0m | \u001b[32m\u001b[1mSUCCESS \u001b[0m | \u001b[36m__main__\u001b[0m:\u001b[36m<module>\u001b[0m:\u001b[36m20\u001b[0m - \u001b[32m\u001b[1mConnected to DuckDB.\u001b[0m\n",
      "\u001b[32m2025-02-16 20:45:46.069\u001b[0m | \u001b[1mINFO    \u001b[0m | \u001b[36m__main__\u001b[0m:\u001b[36m<module>\u001b[0m:\u001b[36m23\u001b[0m - \u001b[1mReading data from parquet file global-1955-866e84a9b93adffff28e1c19a341fff9.parquet.\u001b[0m\n",
      "\u001b[32m2025-02-16 20:46:03.202\u001b[0m | \u001b[32m\u001b[1mSUCCESS \u001b[0m | \u001b[36m__main__\u001b[0m:\u001b[36m<module>\u001b[0m:\u001b[36m31\u001b[0m - \u001b[32m\u001b[1mData read successfully.\u001b[0m\n",
      "\u001b[32m2025-02-16 20:46:03.203\u001b[0m | \u001b[1mINFO    \u001b[0m | \u001b[36m__main__\u001b[0m:\u001b[36m<module>\u001b[0m:\u001b[36m34\u001b[0m - \u001b[1mInserting data into temperature table.\u001b[0m\n"
     ]
    },
    {
     "data": {
      "application/vnd.jupyter.widget-view+json": {
       "model_id": "27a909a8b01644309acdd4547866f11b",
       "version_major": 2,
       "version_minor": 0
      },
      "text/plain": [
       "FloatProgress(value=0.0, layout=Layout(width='auto'), style=ProgressStyle(bar_color='black'))"
      ]
     },
     "metadata": {},
     "output_type": "display_data"
    },
    {
     "name": "stdout",
     "output_type": "stream",
     "text": [
      "\u001b[32m2025-02-16 20:46:48.068\u001b[0m | \u001b[32m\u001b[1mSUCCESS \u001b[0m | \u001b[36m__main__\u001b[0m:\u001b[36m<module>\u001b[0m:\u001b[36m36\u001b[0m - \u001b[32m\u001b[1mData inserted successfully.\u001b[0m\n",
      "\u001b[32m2025-02-16 20:46:48.078\u001b[0m | \u001b[1mINFO    \u001b[0m | \u001b[36m__main__\u001b[0m:\u001b[36m<module>\u001b[0m:\u001b[36m42\u001b[0m - \u001b[1mQuerying data from temperature table.\u001b[0m\n",
      "\u001b[32m2025-02-16 20:46:48.079\u001b[0m | \u001b[32m\u001b[1mSUCCESS \u001b[0m | \u001b[36m__main__\u001b[0m:\u001b[36m<module>\u001b[0m:\u001b[36m44\u001b[0m - \u001b[32m\u001b[1mData queried successfully.\u001b[0m\n",
      "\u001b[32m2025-02-16 20:46:50.768\u001b[0m | \u001b[32m\u001b[1mSUCCESS \u001b[0m | \u001b[36m__main__\u001b[0m:\u001b[36m<module>\u001b[0m:\u001b[36m49\u001b[0m - \u001b[32m\u001b[1mConnection closed successfully.\u001b[0m\n",
      "\u001b[32m2025-02-16 20:46:50.769\u001b[0m | \u001b[1mINFO    \u001b[0m | \u001b[36m__main__\u001b[0m:\u001b[36m<module>\u001b[0m:\u001b[36m17\u001b[0m - \u001b[1mConnecting to DuckDB.\u001b[0m\n",
      "\u001b[32m2025-02-16 20:46:50.824\u001b[0m | \u001b[32m\u001b[1mSUCCESS \u001b[0m | \u001b[36m__main__\u001b[0m:\u001b[36m<module>\u001b[0m:\u001b[36m20\u001b[0m - \u001b[32m\u001b[1mConnected to DuckDB.\u001b[0m\n",
      "\u001b[32m2025-02-16 20:46:50.824\u001b[0m | \u001b[1mINFO    \u001b[0m | \u001b[36m__main__\u001b[0m:\u001b[36m<module>\u001b[0m:\u001b[36m23\u001b[0m - \u001b[1mReading data from parquet file global-1956-a87b178da2eef921d14ec7d9ffdd40db.parquet.\u001b[0m\n",
      "\u001b[32m2025-02-16 20:47:07.548\u001b[0m | \u001b[32m\u001b[1mSUCCESS \u001b[0m | \u001b[36m__main__\u001b[0m:\u001b[36m<module>\u001b[0m:\u001b[36m31\u001b[0m - \u001b[32m\u001b[1mData read successfully.\u001b[0m\n",
      "\u001b[32m2025-02-16 20:47:07.549\u001b[0m | \u001b[1mINFO    \u001b[0m | \u001b[36m__main__\u001b[0m:\u001b[36m<module>\u001b[0m:\u001b[36m34\u001b[0m - \u001b[1mInserting data into temperature table.\u001b[0m\n"
     ]
    },
    {
     "data": {
      "application/vnd.jupyter.widget-view+json": {
       "model_id": "d7b19bbc97fa4a179be5e717fb03edb9",
       "version_major": 2,
       "version_minor": 0
      },
      "text/plain": [
       "FloatProgress(value=0.0, layout=Layout(width='auto'), style=ProgressStyle(bar_color='black'))"
      ]
     },
     "metadata": {},
     "output_type": "display_data"
    },
    {
     "name": "stdout",
     "output_type": "stream",
     "text": [
      "\u001b[32m2025-02-16 20:47:54.331\u001b[0m | \u001b[32m\u001b[1mSUCCESS \u001b[0m | \u001b[36m__main__\u001b[0m:\u001b[36m<module>\u001b[0m:\u001b[36m36\u001b[0m - \u001b[32m\u001b[1mData inserted successfully.\u001b[0m\n",
      "\u001b[32m2025-02-16 20:47:54.339\u001b[0m | \u001b[1mINFO    \u001b[0m | \u001b[36m__main__\u001b[0m:\u001b[36m<module>\u001b[0m:\u001b[36m42\u001b[0m - \u001b[1mQuerying data from temperature table.\u001b[0m\n",
      "\u001b[32m2025-02-16 20:47:54.340\u001b[0m | \u001b[32m\u001b[1mSUCCESS \u001b[0m | \u001b[36m__main__\u001b[0m:\u001b[36m<module>\u001b[0m:\u001b[36m44\u001b[0m - \u001b[32m\u001b[1mData queried successfully.\u001b[0m\n",
      "\u001b[32m2025-02-16 20:47:57.173\u001b[0m | \u001b[32m\u001b[1mSUCCESS \u001b[0m | \u001b[36m__main__\u001b[0m:\u001b[36m<module>\u001b[0m:\u001b[36m49\u001b[0m - \u001b[32m\u001b[1mConnection closed successfully.\u001b[0m\n",
      "\u001b[32m2025-02-16 20:47:57.174\u001b[0m | \u001b[1mINFO    \u001b[0m | \u001b[36m__main__\u001b[0m:\u001b[36m<module>\u001b[0m:\u001b[36m17\u001b[0m - \u001b[1mConnecting to DuckDB.\u001b[0m\n",
      "\u001b[32m2025-02-16 20:47:57.219\u001b[0m | \u001b[32m\u001b[1mSUCCESS \u001b[0m | \u001b[36m__main__\u001b[0m:\u001b[36m<module>\u001b[0m:\u001b[36m20\u001b[0m - \u001b[32m\u001b[1mConnected to DuckDB.\u001b[0m\n",
      "\u001b[32m2025-02-16 20:47:57.219\u001b[0m | \u001b[1mINFO    \u001b[0m | \u001b[36m__main__\u001b[0m:\u001b[36m<module>\u001b[0m:\u001b[36m23\u001b[0m - \u001b[1mReading data from parquet file global-1957-aabc086941ce3a7d9ec36c04dab0e343.parquet.\u001b[0m\n",
      "\u001b[32m2025-02-16 20:48:15.992\u001b[0m | \u001b[32m\u001b[1mSUCCESS \u001b[0m | \u001b[36m__main__\u001b[0m:\u001b[36m<module>\u001b[0m:\u001b[36m31\u001b[0m - \u001b[32m\u001b[1mData read successfully.\u001b[0m\n",
      "\u001b[32m2025-02-16 20:48:15.993\u001b[0m | \u001b[1mINFO    \u001b[0m | \u001b[36m__main__\u001b[0m:\u001b[36m<module>\u001b[0m:\u001b[36m34\u001b[0m - \u001b[1mInserting data into temperature table.\u001b[0m\n"
     ]
    },
    {
     "data": {
      "application/vnd.jupyter.widget-view+json": {
       "model_id": "d6d500e7f8b1421babd8cb6452c00830",
       "version_major": 2,
       "version_minor": 0
      },
      "text/plain": [
       "FloatProgress(value=0.0, layout=Layout(width='auto'), style=ProgressStyle(bar_color='black'))"
      ]
     },
     "metadata": {},
     "output_type": "display_data"
    },
    {
     "name": "stdout",
     "output_type": "stream",
     "text": [
      "\u001b[32m2025-02-16 20:49:05.218\u001b[0m | \u001b[32m\u001b[1mSUCCESS \u001b[0m | \u001b[36m__main__\u001b[0m:\u001b[36m<module>\u001b[0m:\u001b[36m36\u001b[0m - \u001b[32m\u001b[1mData inserted successfully.\u001b[0m\n",
      "\u001b[32m2025-02-16 20:49:05.228\u001b[0m | \u001b[1mINFO    \u001b[0m | \u001b[36m__main__\u001b[0m:\u001b[36m<module>\u001b[0m:\u001b[36m42\u001b[0m - \u001b[1mQuerying data from temperature table.\u001b[0m\n",
      "\u001b[32m2025-02-16 20:49:05.229\u001b[0m | \u001b[32m\u001b[1mSUCCESS \u001b[0m | \u001b[36m__main__\u001b[0m:\u001b[36m<module>\u001b[0m:\u001b[36m44\u001b[0m - \u001b[32m\u001b[1mData queried successfully.\u001b[0m\n",
      "\u001b[32m2025-02-16 20:49:08.217\u001b[0m | \u001b[32m\u001b[1mSUCCESS \u001b[0m | \u001b[36m__main__\u001b[0m:\u001b[36m<module>\u001b[0m:\u001b[36m49\u001b[0m - \u001b[32m\u001b[1mConnection closed successfully.\u001b[0m\n",
      "\u001b[32m2025-02-16 20:49:08.218\u001b[0m | \u001b[1mINFO    \u001b[0m | \u001b[36m__main__\u001b[0m:\u001b[36m<module>\u001b[0m:\u001b[36m17\u001b[0m - \u001b[1mConnecting to DuckDB.\u001b[0m\n",
      "\u001b[32m2025-02-16 20:49:08.275\u001b[0m | \u001b[32m\u001b[1mSUCCESS \u001b[0m | \u001b[36m__main__\u001b[0m:\u001b[36m<module>\u001b[0m:\u001b[36m20\u001b[0m - \u001b[32m\u001b[1mConnected to DuckDB.\u001b[0m\n",
      "\u001b[32m2025-02-16 20:49:08.275\u001b[0m | \u001b[1mINFO    \u001b[0m | \u001b[36m__main__\u001b[0m:\u001b[36m<module>\u001b[0m:\u001b[36m23\u001b[0m - \u001b[1mReading data from parquet file global-1958-8cd487b11b15c83789dde566e0854fe1.parquet.\u001b[0m\n",
      "\u001b[32m2025-02-16 20:49:24.993\u001b[0m | \u001b[32m\u001b[1mSUCCESS \u001b[0m | \u001b[36m__main__\u001b[0m:\u001b[36m<module>\u001b[0m:\u001b[36m31\u001b[0m - \u001b[32m\u001b[1mData read successfully.\u001b[0m\n",
      "\u001b[32m2025-02-16 20:49:24.994\u001b[0m | \u001b[1mINFO    \u001b[0m | \u001b[36m__main__\u001b[0m:\u001b[36m<module>\u001b[0m:\u001b[36m34\u001b[0m - \u001b[1mInserting data into temperature table.\u001b[0m\n"
     ]
    },
    {
     "data": {
      "application/vnd.jupyter.widget-view+json": {
       "model_id": "dcd71a3905a84b5f9b4c6751fa735d2f",
       "version_major": 2,
       "version_minor": 0
      },
      "text/plain": [
       "FloatProgress(value=0.0, layout=Layout(width='auto'), style=ProgressStyle(bar_color='black'))"
      ]
     },
     "metadata": {},
     "output_type": "display_data"
    },
    {
     "name": "stdout",
     "output_type": "stream",
     "text": [
      "\u001b[32m2025-02-16 20:50:14.347\u001b[0m | \u001b[32m\u001b[1mSUCCESS \u001b[0m | \u001b[36m__main__\u001b[0m:\u001b[36m<module>\u001b[0m:\u001b[36m36\u001b[0m - \u001b[32m\u001b[1mData inserted successfully.\u001b[0m\n",
      "\u001b[32m2025-02-16 20:50:14.357\u001b[0m | \u001b[1mINFO    \u001b[0m | \u001b[36m__main__\u001b[0m:\u001b[36m<module>\u001b[0m:\u001b[36m42\u001b[0m - \u001b[1mQuerying data from temperature table.\u001b[0m\n",
      "\u001b[32m2025-02-16 20:50:14.357\u001b[0m | \u001b[32m\u001b[1mSUCCESS \u001b[0m | \u001b[36m__main__\u001b[0m:\u001b[36m<module>\u001b[0m:\u001b[36m44\u001b[0m - \u001b[32m\u001b[1mData queried successfully.\u001b[0m\n",
      "\u001b[32m2025-02-16 20:50:17.463\u001b[0m | \u001b[32m\u001b[1mSUCCESS \u001b[0m | \u001b[36m__main__\u001b[0m:\u001b[36m<module>\u001b[0m:\u001b[36m49\u001b[0m - \u001b[32m\u001b[1mConnection closed successfully.\u001b[0m\n",
      "\u001b[32m2025-02-16 20:50:17.464\u001b[0m | \u001b[1mINFO    \u001b[0m | \u001b[36m__main__\u001b[0m:\u001b[36m<module>\u001b[0m:\u001b[36m17\u001b[0m - \u001b[1mConnecting to DuckDB.\u001b[0m\n",
      "\u001b[32m2025-02-16 20:50:17.510\u001b[0m | \u001b[32m\u001b[1mSUCCESS \u001b[0m | \u001b[36m__main__\u001b[0m:\u001b[36m<module>\u001b[0m:\u001b[36m20\u001b[0m - \u001b[32m\u001b[1mConnected to DuckDB.\u001b[0m\n",
      "\u001b[32m2025-02-16 20:50:17.511\u001b[0m | \u001b[1mINFO    \u001b[0m | \u001b[36m__main__\u001b[0m:\u001b[36m<module>\u001b[0m:\u001b[36m23\u001b[0m - \u001b[1mReading data from parquet file global-1959-b960eadc6b78cad5ce55f3e096ea783c.parquet.\u001b[0m\n",
      "\u001b[32m2025-02-16 20:50:30.031\u001b[0m | \u001b[32m\u001b[1mSUCCESS \u001b[0m | \u001b[36m__main__\u001b[0m:\u001b[36m<module>\u001b[0m:\u001b[36m31\u001b[0m - \u001b[32m\u001b[1mData read successfully.\u001b[0m\n",
      "\u001b[32m2025-02-16 20:50:30.032\u001b[0m | \u001b[1mINFO    \u001b[0m | \u001b[36m__main__\u001b[0m:\u001b[36m<module>\u001b[0m:\u001b[36m34\u001b[0m - \u001b[1mInserting data into temperature table.\u001b[0m\n"
     ]
    },
    {
     "data": {
      "application/vnd.jupyter.widget-view+json": {
       "model_id": "edbf76662b534cae96ce1e55222b5b97",
       "version_major": 2,
       "version_minor": 0
      },
      "text/plain": [
       "FloatProgress(value=0.0, layout=Layout(width='auto'), style=ProgressStyle(bar_color='black'))"
      ]
     },
     "metadata": {},
     "output_type": "display_data"
    },
    {
     "name": "stdout",
     "output_type": "stream",
     "text": [
      "\u001b[32m2025-02-16 20:51:20.601\u001b[0m | \u001b[32m\u001b[1mSUCCESS \u001b[0m | \u001b[36m__main__\u001b[0m:\u001b[36m<module>\u001b[0m:\u001b[36m36\u001b[0m - \u001b[32m\u001b[1mData inserted successfully.\u001b[0m\n",
      "\u001b[32m2025-02-16 20:51:20.610\u001b[0m | \u001b[1mINFO    \u001b[0m | \u001b[36m__main__\u001b[0m:\u001b[36m<module>\u001b[0m:\u001b[36m42\u001b[0m - \u001b[1mQuerying data from temperature table.\u001b[0m\n",
      "\u001b[32m2025-02-16 20:51:20.610\u001b[0m | \u001b[32m\u001b[1mSUCCESS \u001b[0m | \u001b[36m__main__\u001b[0m:\u001b[36m<module>\u001b[0m:\u001b[36m44\u001b[0m - \u001b[32m\u001b[1mData queried successfully.\u001b[0m\n",
      "\u001b[32m2025-02-16 20:51:23.802\u001b[0m | \u001b[32m\u001b[1mSUCCESS \u001b[0m | \u001b[36m__main__\u001b[0m:\u001b[36m<module>\u001b[0m:\u001b[36m49\u001b[0m - \u001b[32m\u001b[1mConnection closed successfully.\u001b[0m\n",
      "\u001b[32m2025-02-16 20:51:23.803\u001b[0m | \u001b[1mINFO    \u001b[0m | \u001b[36m__main__\u001b[0m:\u001b[36m<module>\u001b[0m:\u001b[36m17\u001b[0m - \u001b[1mConnecting to DuckDB.\u001b[0m\n",
      "\u001b[32m2025-02-16 20:51:23.847\u001b[0m | \u001b[32m\u001b[1mSUCCESS \u001b[0m | \u001b[36m__main__\u001b[0m:\u001b[36m<module>\u001b[0m:\u001b[36m20\u001b[0m - \u001b[32m\u001b[1mConnected to DuckDB.\u001b[0m\n",
      "\u001b[32m2025-02-16 20:51:23.848\u001b[0m | \u001b[1mINFO    \u001b[0m | \u001b[36m__main__\u001b[0m:\u001b[36m<module>\u001b[0m:\u001b[36m23\u001b[0m - \u001b[1mReading data from parquet file global-1960-668e97e261d3ee5f5c36d6db56c5af70.parquet.\u001b[0m\n",
      "\u001b[32m2025-02-16 20:51:35.392\u001b[0m | \u001b[32m\u001b[1mSUCCESS \u001b[0m | \u001b[36m__main__\u001b[0m:\u001b[36m<module>\u001b[0m:\u001b[36m31\u001b[0m - \u001b[32m\u001b[1mData read successfully.\u001b[0m\n",
      "\u001b[32m2025-02-16 20:51:35.393\u001b[0m | \u001b[1mINFO    \u001b[0m | \u001b[36m__main__\u001b[0m:\u001b[36m<module>\u001b[0m:\u001b[36m34\u001b[0m - \u001b[1mInserting data into temperature table.\u001b[0m\n"
     ]
    },
    {
     "data": {
      "application/vnd.jupyter.widget-view+json": {
       "model_id": "f8ec1612e0f64e4e882a2db30c9847b8",
       "version_major": 2,
       "version_minor": 0
      },
      "text/plain": [
       "FloatProgress(value=0.0, layout=Layout(width='auto'), style=ProgressStyle(bar_color='black'))"
      ]
     },
     "metadata": {},
     "output_type": "display_data"
    },
    {
     "name": "stdout",
     "output_type": "stream",
     "text": [
      "\u001b[32m2025-02-16 20:52:27.012\u001b[0m | \u001b[32m\u001b[1mSUCCESS \u001b[0m | \u001b[36m__main__\u001b[0m:\u001b[36m<module>\u001b[0m:\u001b[36m36\u001b[0m - \u001b[32m\u001b[1mData inserted successfully.\u001b[0m\n",
      "\u001b[32m2025-02-16 20:52:27.021\u001b[0m | \u001b[1mINFO    \u001b[0m | \u001b[36m__main__\u001b[0m:\u001b[36m<module>\u001b[0m:\u001b[36m42\u001b[0m - \u001b[1mQuerying data from temperature table.\u001b[0m\n",
      "\u001b[32m2025-02-16 20:52:27.022\u001b[0m | \u001b[32m\u001b[1mSUCCESS \u001b[0m | \u001b[36m__main__\u001b[0m:\u001b[36m<module>\u001b[0m:\u001b[36m44\u001b[0m - \u001b[32m\u001b[1mData queried successfully.\u001b[0m\n",
      "\u001b[32m2025-02-16 20:52:30.371\u001b[0m | \u001b[32m\u001b[1mSUCCESS \u001b[0m | \u001b[36m__main__\u001b[0m:\u001b[36m<module>\u001b[0m:\u001b[36m49\u001b[0m - \u001b[32m\u001b[1mConnection closed successfully.\u001b[0m\n",
      "\u001b[32m2025-02-16 20:52:30.372\u001b[0m | \u001b[1mINFO    \u001b[0m | \u001b[36m__main__\u001b[0m:\u001b[36m<module>\u001b[0m:\u001b[36m17\u001b[0m - \u001b[1mConnecting to DuckDB.\u001b[0m\n",
      "\u001b[32m2025-02-16 20:52:30.430\u001b[0m | \u001b[32m\u001b[1mSUCCESS \u001b[0m | \u001b[36m__main__\u001b[0m:\u001b[36m<module>\u001b[0m:\u001b[36m20\u001b[0m - \u001b[32m\u001b[1mConnected to DuckDB.\u001b[0m\n",
      "\u001b[32m2025-02-16 20:52:30.430\u001b[0m | \u001b[1mINFO    \u001b[0m | \u001b[36m__main__\u001b[0m:\u001b[36m<module>\u001b[0m:\u001b[36m23\u001b[0m - \u001b[1mReading data from parquet file global-1961-8b9736efbf060724e9de2b27bdc0b043.parquet.\u001b[0m\n",
      "\u001b[32m2025-02-16 20:52:42.986\u001b[0m | \u001b[32m\u001b[1mSUCCESS \u001b[0m | \u001b[36m__main__\u001b[0m:\u001b[36m<module>\u001b[0m:\u001b[36m31\u001b[0m - \u001b[32m\u001b[1mData read successfully.\u001b[0m\n",
      "\u001b[32m2025-02-16 20:52:42.986\u001b[0m | \u001b[1mINFO    \u001b[0m | \u001b[36m__main__\u001b[0m:\u001b[36m<module>\u001b[0m:\u001b[36m34\u001b[0m - \u001b[1mInserting data into temperature table.\u001b[0m\n"
     ]
    },
    {
     "data": {
      "application/vnd.jupyter.widget-view+json": {
       "model_id": "16bc95c005e544dea99a692ad298431a",
       "version_major": 2,
       "version_minor": 0
      },
      "text/plain": [
       "FloatProgress(value=0.0, layout=Layout(width='auto'), style=ProgressStyle(bar_color='black'))"
      ]
     },
     "metadata": {},
     "output_type": "display_data"
    },
    {
     "name": "stdout",
     "output_type": "stream",
     "text": [
      "\u001b[32m2025-02-16 20:53:34.608\u001b[0m | \u001b[32m\u001b[1mSUCCESS \u001b[0m | \u001b[36m__main__\u001b[0m:\u001b[36m<module>\u001b[0m:\u001b[36m36\u001b[0m - \u001b[32m\u001b[1mData inserted successfully.\u001b[0m\n",
      "\u001b[32m2025-02-16 20:53:34.617\u001b[0m | \u001b[1mINFO    \u001b[0m | \u001b[36m__main__\u001b[0m:\u001b[36m<module>\u001b[0m:\u001b[36m42\u001b[0m - \u001b[1mQuerying data from temperature table.\u001b[0m\n",
      "\u001b[32m2025-02-16 20:53:34.618\u001b[0m | \u001b[32m\u001b[1mSUCCESS \u001b[0m | \u001b[36m__main__\u001b[0m:\u001b[36m<module>\u001b[0m:\u001b[36m44\u001b[0m - \u001b[32m\u001b[1mData queried successfully.\u001b[0m\n",
      "\u001b[32m2025-02-16 20:53:38.050\u001b[0m | \u001b[32m\u001b[1mSUCCESS \u001b[0m | \u001b[36m__main__\u001b[0m:\u001b[36m<module>\u001b[0m:\u001b[36m49\u001b[0m - \u001b[32m\u001b[1mConnection closed successfully.\u001b[0m\n",
      "\u001b[32m2025-02-16 20:53:38.051\u001b[0m | \u001b[1mINFO    \u001b[0m | \u001b[36m__main__\u001b[0m:\u001b[36m<module>\u001b[0m:\u001b[36m17\u001b[0m - \u001b[1mConnecting to DuckDB.\u001b[0m\n",
      "\u001b[32m2025-02-16 20:53:38.107\u001b[0m | \u001b[32m\u001b[1mSUCCESS \u001b[0m | \u001b[36m__main__\u001b[0m:\u001b[36m<module>\u001b[0m:\u001b[36m20\u001b[0m - \u001b[32m\u001b[1mConnected to DuckDB.\u001b[0m\n",
      "\u001b[32m2025-02-16 20:53:38.108\u001b[0m | \u001b[1mINFO    \u001b[0m | \u001b[36m__main__\u001b[0m:\u001b[36m<module>\u001b[0m:\u001b[36m23\u001b[0m - \u001b[1mReading data from parquet file global-1962-2cf53426e7cd4b25bafbe0c308c01f69.parquet.\u001b[0m\n",
      "\u001b[32m2025-02-16 20:53:51.776\u001b[0m | \u001b[32m\u001b[1mSUCCESS \u001b[0m | \u001b[36m__main__\u001b[0m:\u001b[36m<module>\u001b[0m:\u001b[36m31\u001b[0m - \u001b[32m\u001b[1mData read successfully.\u001b[0m\n",
      "\u001b[32m2025-02-16 20:53:51.777\u001b[0m | \u001b[1mINFO    \u001b[0m | \u001b[36m__main__\u001b[0m:\u001b[36m<module>\u001b[0m:\u001b[36m34\u001b[0m - \u001b[1mInserting data into temperature table.\u001b[0m\n"
     ]
    },
    {
     "data": {
      "application/vnd.jupyter.widget-view+json": {
       "model_id": "0999cd25656d4077abf270170a941258",
       "version_major": 2,
       "version_minor": 0
      },
      "text/plain": [
       "FloatProgress(value=0.0, layout=Layout(width='auto'), style=ProgressStyle(bar_color='black'))"
      ]
     },
     "metadata": {},
     "output_type": "display_data"
    },
    {
     "name": "stdout",
     "output_type": "stream",
     "text": [
      "\u001b[32m2025-02-16 20:54:44.936\u001b[0m | \u001b[32m\u001b[1mSUCCESS \u001b[0m | \u001b[36m__main__\u001b[0m:\u001b[36m<module>\u001b[0m:\u001b[36m36\u001b[0m - \u001b[32m\u001b[1mData inserted successfully.\u001b[0m\n",
      "\u001b[32m2025-02-16 20:54:44.946\u001b[0m | \u001b[1mINFO    \u001b[0m | \u001b[36m__main__\u001b[0m:\u001b[36m<module>\u001b[0m:\u001b[36m42\u001b[0m - \u001b[1mQuerying data from temperature table.\u001b[0m\n",
      "\u001b[32m2025-02-16 20:54:44.946\u001b[0m | \u001b[32m\u001b[1mSUCCESS \u001b[0m | \u001b[36m__main__\u001b[0m:\u001b[36m<module>\u001b[0m:\u001b[36m44\u001b[0m - \u001b[32m\u001b[1mData queried successfully.\u001b[0m\n",
      "\u001b[32m2025-02-16 20:54:48.436\u001b[0m | \u001b[32m\u001b[1mSUCCESS \u001b[0m | \u001b[36m__main__\u001b[0m:\u001b[36m<module>\u001b[0m:\u001b[36m49\u001b[0m - \u001b[32m\u001b[1mConnection closed successfully.\u001b[0m\n",
      "\u001b[32m2025-02-16 20:54:48.437\u001b[0m | \u001b[1mINFO    \u001b[0m | \u001b[36m__main__\u001b[0m:\u001b[36m<module>\u001b[0m:\u001b[36m17\u001b[0m - \u001b[1mConnecting to DuckDB.\u001b[0m\n",
      "\u001b[32m2025-02-16 20:54:48.495\u001b[0m | \u001b[32m\u001b[1mSUCCESS \u001b[0m | \u001b[36m__main__\u001b[0m:\u001b[36m<module>\u001b[0m:\u001b[36m20\u001b[0m - \u001b[32m\u001b[1mConnected to DuckDB.\u001b[0m\n",
      "\u001b[32m2025-02-16 20:54:48.495\u001b[0m | \u001b[1mINFO    \u001b[0m | \u001b[36m__main__\u001b[0m:\u001b[36m<module>\u001b[0m:\u001b[36m23\u001b[0m - \u001b[1mReading data from parquet file global-1963-5e652e87433a865080c7c3445881d552.parquet.\u001b[0m\n",
      "\u001b[32m2025-02-16 20:55:03.355\u001b[0m | \u001b[32m\u001b[1mSUCCESS \u001b[0m | \u001b[36m__main__\u001b[0m:\u001b[36m<module>\u001b[0m:\u001b[36m31\u001b[0m - \u001b[32m\u001b[1mData read successfully.\u001b[0m\n",
      "\u001b[32m2025-02-16 20:55:03.355\u001b[0m | \u001b[1mINFO    \u001b[0m | \u001b[36m__main__\u001b[0m:\u001b[36m<module>\u001b[0m:\u001b[36m34\u001b[0m - \u001b[1mInserting data into temperature table.\u001b[0m\n"
     ]
    },
    {
     "data": {
      "application/vnd.jupyter.widget-view+json": {
       "model_id": "b2c7beee6715440b8545b2c6da305f7e",
       "version_major": 2,
       "version_minor": 0
      },
      "text/plain": [
       "FloatProgress(value=0.0, layout=Layout(width='auto'), style=ProgressStyle(bar_color='black'))"
      ]
     },
     "metadata": {},
     "output_type": "display_data"
    },
    {
     "name": "stdout",
     "output_type": "stream",
     "text": [
      "\u001b[32m2025-02-16 20:55:58.123\u001b[0m | \u001b[32m\u001b[1mSUCCESS \u001b[0m | \u001b[36m__main__\u001b[0m:\u001b[36m<module>\u001b[0m:\u001b[36m36\u001b[0m - \u001b[32m\u001b[1mData inserted successfully.\u001b[0m\n",
      "\u001b[32m2025-02-16 20:55:58.133\u001b[0m | \u001b[1mINFO    \u001b[0m | \u001b[36m__main__\u001b[0m:\u001b[36m<module>\u001b[0m:\u001b[36m42\u001b[0m - \u001b[1mQuerying data from temperature table.\u001b[0m\n",
      "\u001b[32m2025-02-16 20:55:58.134\u001b[0m | \u001b[32m\u001b[1mSUCCESS \u001b[0m | \u001b[36m__main__\u001b[0m:\u001b[36m<module>\u001b[0m:\u001b[36m44\u001b[0m - \u001b[32m\u001b[1mData queried successfully.\u001b[0m\n",
      "\u001b[32m2025-02-16 20:56:01.861\u001b[0m | \u001b[32m\u001b[1mSUCCESS \u001b[0m | \u001b[36m__main__\u001b[0m:\u001b[36m<module>\u001b[0m:\u001b[36m49\u001b[0m - \u001b[32m\u001b[1mConnection closed successfully.\u001b[0m\n",
      "\u001b[32m2025-02-16 20:56:01.862\u001b[0m | \u001b[1mINFO    \u001b[0m | \u001b[36m__main__\u001b[0m:\u001b[36m<module>\u001b[0m:\u001b[36m17\u001b[0m - \u001b[1mConnecting to DuckDB.\u001b[0m\n",
      "\u001b[32m2025-02-16 20:56:01.924\u001b[0m | \u001b[32m\u001b[1mSUCCESS \u001b[0m | \u001b[36m__main__\u001b[0m:\u001b[36m<module>\u001b[0m:\u001b[36m20\u001b[0m - \u001b[32m\u001b[1mConnected to DuckDB.\u001b[0m\n",
      "\u001b[32m2025-02-16 20:56:01.924\u001b[0m | \u001b[1mINFO    \u001b[0m | \u001b[36m__main__\u001b[0m:\u001b[36m<module>\u001b[0m:\u001b[36m23\u001b[0m - \u001b[1mReading data from parquet file global-1964-9919c870fc3b8b72c4137eb1191e44c1.parquet.\u001b[0m\n",
      "\u001b[32m2025-02-16 20:56:13.515\u001b[0m | \u001b[32m\u001b[1mSUCCESS \u001b[0m | \u001b[36m__main__\u001b[0m:\u001b[36m<module>\u001b[0m:\u001b[36m31\u001b[0m - \u001b[32m\u001b[1mData read successfully.\u001b[0m\n",
      "\u001b[32m2025-02-16 20:56:13.515\u001b[0m | \u001b[1mINFO    \u001b[0m | \u001b[36m__main__\u001b[0m:\u001b[36m<module>\u001b[0m:\u001b[36m34\u001b[0m - \u001b[1mInserting data into temperature table.\u001b[0m\n"
     ]
    },
    {
     "data": {
      "application/vnd.jupyter.widget-view+json": {
       "model_id": "e91a639857034d739df46e2c1e8b5b70",
       "version_major": 2,
       "version_minor": 0
      },
      "text/plain": [
       "FloatProgress(value=0.0, layout=Layout(width='auto'), style=ProgressStyle(bar_color='black'))"
      ]
     },
     "metadata": {},
     "output_type": "display_data"
    },
    {
     "name": "stdout",
     "output_type": "stream",
     "text": [
      "\u001b[32m2025-02-16 20:57:07.952\u001b[0m | \u001b[32m\u001b[1mSUCCESS \u001b[0m | \u001b[36m__main__\u001b[0m:\u001b[36m<module>\u001b[0m:\u001b[36m36\u001b[0m - \u001b[32m\u001b[1mData inserted successfully.\u001b[0m\n",
      "\u001b[32m2025-02-16 20:57:07.961\u001b[0m | \u001b[1mINFO    \u001b[0m | \u001b[36m__main__\u001b[0m:\u001b[36m<module>\u001b[0m:\u001b[36m42\u001b[0m - \u001b[1mQuerying data from temperature table.\u001b[0m\n",
      "\u001b[32m2025-02-16 20:57:07.962\u001b[0m | \u001b[32m\u001b[1mSUCCESS \u001b[0m | \u001b[36m__main__\u001b[0m:\u001b[36m<module>\u001b[0m:\u001b[36m44\u001b[0m - \u001b[32m\u001b[1mData queried successfully.\u001b[0m\n",
      "\u001b[32m2025-02-16 20:57:11.739\u001b[0m | \u001b[32m\u001b[1mSUCCESS \u001b[0m | \u001b[36m__main__\u001b[0m:\u001b[36m<module>\u001b[0m:\u001b[36m49\u001b[0m - \u001b[32m\u001b[1mConnection closed successfully.\u001b[0m\n",
      "\u001b[32m2025-02-16 20:57:11.740\u001b[0m | \u001b[1mINFO    \u001b[0m | \u001b[36m__main__\u001b[0m:\u001b[36m<module>\u001b[0m:\u001b[36m17\u001b[0m - \u001b[1mConnecting to DuckDB.\u001b[0m\n",
      "\u001b[32m2025-02-16 20:57:11.786\u001b[0m | \u001b[32m\u001b[1mSUCCESS \u001b[0m | \u001b[36m__main__\u001b[0m:\u001b[36m<module>\u001b[0m:\u001b[36m20\u001b[0m - \u001b[32m\u001b[1mConnected to DuckDB.\u001b[0m\n",
      "\u001b[32m2025-02-16 20:57:11.786\u001b[0m | \u001b[1mINFO    \u001b[0m | \u001b[36m__main__\u001b[0m:\u001b[36m<module>\u001b[0m:\u001b[36m23\u001b[0m - \u001b[1mReading data from parquet file global-1965-4465dc07fcc464f0c69d126281627bd8.parquet.\u001b[0m\n",
      "\u001b[32m2025-02-16 20:57:25.121\u001b[0m | \u001b[32m\u001b[1mSUCCESS \u001b[0m | \u001b[36m__main__\u001b[0m:\u001b[36m<module>\u001b[0m:\u001b[36m31\u001b[0m - \u001b[32m\u001b[1mData read successfully.\u001b[0m\n",
      "\u001b[32m2025-02-16 20:57:25.122\u001b[0m | \u001b[1mINFO    \u001b[0m | \u001b[36m__main__\u001b[0m:\u001b[36m<module>\u001b[0m:\u001b[36m34\u001b[0m - \u001b[1mInserting data into temperature table.\u001b[0m\n"
     ]
    },
    {
     "data": {
      "application/vnd.jupyter.widget-view+json": {
       "model_id": "1c29cdefa0a943f38bf0c77d7dda5ccf",
       "version_major": 2,
       "version_minor": 0
      },
      "text/plain": [
       "FloatProgress(value=0.0, layout=Layout(width='auto'), style=ProgressStyle(bar_color='black'))"
      ]
     },
     "metadata": {},
     "output_type": "display_data"
    },
    {
     "name": "stdout",
     "output_type": "stream",
     "text": [
      "\u001b[32m2025-02-16 20:58:19.863\u001b[0m | \u001b[32m\u001b[1mSUCCESS \u001b[0m | \u001b[36m__main__\u001b[0m:\u001b[36m<module>\u001b[0m:\u001b[36m36\u001b[0m - \u001b[32m\u001b[1mData inserted successfully.\u001b[0m\n",
      "\u001b[32m2025-02-16 20:58:19.873\u001b[0m | \u001b[1mINFO    \u001b[0m | \u001b[36m__main__\u001b[0m:\u001b[36m<module>\u001b[0m:\u001b[36m42\u001b[0m - \u001b[1mQuerying data from temperature table.\u001b[0m\n",
      "\u001b[32m2025-02-16 20:58:19.873\u001b[0m | \u001b[32m\u001b[1mSUCCESS \u001b[0m | \u001b[36m__main__\u001b[0m:\u001b[36m<module>\u001b[0m:\u001b[36m44\u001b[0m - \u001b[32m\u001b[1mData queried successfully.\u001b[0m\n",
      "\u001b[32m2025-02-16 20:58:23.861\u001b[0m | \u001b[32m\u001b[1mSUCCESS \u001b[0m | \u001b[36m__main__\u001b[0m:\u001b[36m<module>\u001b[0m:\u001b[36m49\u001b[0m - \u001b[32m\u001b[1mConnection closed successfully.\u001b[0m\n",
      "\u001b[32m2025-02-16 20:58:23.862\u001b[0m | \u001b[1mINFO    \u001b[0m | \u001b[36m__main__\u001b[0m:\u001b[36m<module>\u001b[0m:\u001b[36m17\u001b[0m - \u001b[1mConnecting to DuckDB.\u001b[0m\n",
      "\u001b[32m2025-02-16 20:58:23.914\u001b[0m | \u001b[32m\u001b[1mSUCCESS \u001b[0m | \u001b[36m__main__\u001b[0m:\u001b[36m<module>\u001b[0m:\u001b[36m20\u001b[0m - \u001b[32m\u001b[1mConnected to DuckDB.\u001b[0m\n",
      "\u001b[32m2025-02-16 20:58:23.914\u001b[0m | \u001b[1mINFO    \u001b[0m | \u001b[36m__main__\u001b[0m:\u001b[36m<module>\u001b[0m:\u001b[36m23\u001b[0m - \u001b[1mReading data from parquet file global-1966-8ee882971c8f6581b9a93c3fe758f5f7.parquet.\u001b[0m\n",
      "\u001b[32m2025-02-16 20:58:37.989\u001b[0m | \u001b[32m\u001b[1mSUCCESS \u001b[0m | \u001b[36m__main__\u001b[0m:\u001b[36m<module>\u001b[0m:\u001b[36m31\u001b[0m - \u001b[32m\u001b[1mData read successfully.\u001b[0m\n",
      "\u001b[32m2025-02-16 20:58:37.990\u001b[0m | \u001b[1mINFO    \u001b[0m | \u001b[36m__main__\u001b[0m:\u001b[36m<module>\u001b[0m:\u001b[36m34\u001b[0m - \u001b[1mInserting data into temperature table.\u001b[0m\n"
     ]
    },
    {
     "data": {
      "application/vnd.jupyter.widget-view+json": {
       "model_id": "862b6d0fcc954ab1bf4742c75103ade8",
       "version_major": 2,
       "version_minor": 0
      },
      "text/plain": [
       "FloatProgress(value=0.0, layout=Layout(width='auto'), style=ProgressStyle(bar_color='black'))"
      ]
     },
     "metadata": {},
     "output_type": "display_data"
    },
    {
     "name": "stdout",
     "output_type": "stream",
     "text": [
      "\u001b[32m2025-02-16 20:59:33.249\u001b[0m | \u001b[32m\u001b[1mSUCCESS \u001b[0m | \u001b[36m__main__\u001b[0m:\u001b[36m<module>\u001b[0m:\u001b[36m36\u001b[0m - \u001b[32m\u001b[1mData inserted successfully.\u001b[0m\n",
      "\u001b[32m2025-02-16 20:59:33.258\u001b[0m | \u001b[1mINFO    \u001b[0m | \u001b[36m__main__\u001b[0m:\u001b[36m<module>\u001b[0m:\u001b[36m42\u001b[0m - \u001b[1mQuerying data from temperature table.\u001b[0m\n",
      "\u001b[32m2025-02-16 20:59:33.259\u001b[0m | \u001b[32m\u001b[1mSUCCESS \u001b[0m | \u001b[36m__main__\u001b[0m:\u001b[36m<module>\u001b[0m:\u001b[36m44\u001b[0m - \u001b[32m\u001b[1mData queried successfully.\u001b[0m\n",
      "\u001b[32m2025-02-16 20:59:37.500\u001b[0m | \u001b[32m\u001b[1mSUCCESS \u001b[0m | \u001b[36m__main__\u001b[0m:\u001b[36m<module>\u001b[0m:\u001b[36m49\u001b[0m - \u001b[32m\u001b[1mConnection closed successfully.\u001b[0m\n",
      "\u001b[32m2025-02-16 20:59:37.500\u001b[0m | \u001b[1mINFO    \u001b[0m | \u001b[36m__main__\u001b[0m:\u001b[36m<module>\u001b[0m:\u001b[36m17\u001b[0m - \u001b[1mConnecting to DuckDB.\u001b[0m\n",
      "\u001b[32m2025-02-16 20:59:37.551\u001b[0m | \u001b[32m\u001b[1mSUCCESS \u001b[0m | \u001b[36m__main__\u001b[0m:\u001b[36m<module>\u001b[0m:\u001b[36m20\u001b[0m - \u001b[32m\u001b[1mConnected to DuckDB.\u001b[0m\n",
      "\u001b[32m2025-02-16 20:59:37.551\u001b[0m | \u001b[1mINFO    \u001b[0m | \u001b[36m__main__\u001b[0m:\u001b[36m<module>\u001b[0m:\u001b[36m23\u001b[0m - \u001b[1mReading data from parquet file global-1967-4689a984dcaed198031162d53a49ba7e.parquet.\u001b[0m\n",
      "\u001b[32m2025-02-16 20:59:50.434\u001b[0m | \u001b[32m\u001b[1mSUCCESS \u001b[0m | \u001b[36m__main__\u001b[0m:\u001b[36m<module>\u001b[0m:\u001b[36m31\u001b[0m - \u001b[32m\u001b[1mData read successfully.\u001b[0m\n",
      "\u001b[32m2025-02-16 20:59:50.434\u001b[0m | \u001b[1mINFO    \u001b[0m | \u001b[36m__main__\u001b[0m:\u001b[36m<module>\u001b[0m:\u001b[36m34\u001b[0m - \u001b[1mInserting data into temperature table.\u001b[0m\n"
     ]
    },
    {
     "data": {
      "application/vnd.jupyter.widget-view+json": {
       "model_id": "fb8c9d5f453c4c41a15f558ec5092df9",
       "version_major": 2,
       "version_minor": 0
      },
      "text/plain": [
       "FloatProgress(value=0.0, layout=Layout(width='auto'), style=ProgressStyle(bar_color='black'))"
      ]
     },
     "metadata": {},
     "output_type": "display_data"
    },
    {
     "name": "stdout",
     "output_type": "stream",
     "text": [
      "\u001b[32m2025-02-16 21:00:48.113\u001b[0m | \u001b[32m\u001b[1mSUCCESS \u001b[0m | \u001b[36m__main__\u001b[0m:\u001b[36m<module>\u001b[0m:\u001b[36m36\u001b[0m - \u001b[32m\u001b[1mData inserted successfully.\u001b[0m\n",
      "\u001b[32m2025-02-16 21:00:48.121\u001b[0m | \u001b[1mINFO    \u001b[0m | \u001b[36m__main__\u001b[0m:\u001b[36m<module>\u001b[0m:\u001b[36m42\u001b[0m - \u001b[1mQuerying data from temperature table.\u001b[0m\n",
      "\u001b[32m2025-02-16 21:00:48.122\u001b[0m | \u001b[32m\u001b[1mSUCCESS \u001b[0m | \u001b[36m__main__\u001b[0m:\u001b[36m<module>\u001b[0m:\u001b[36m44\u001b[0m - \u001b[32m\u001b[1mData queried successfully.\u001b[0m\n",
      "\u001b[32m2025-02-16 21:00:52.404\u001b[0m | \u001b[32m\u001b[1mSUCCESS \u001b[0m | \u001b[36m__main__\u001b[0m:\u001b[36m<module>\u001b[0m:\u001b[36m49\u001b[0m - \u001b[32m\u001b[1mConnection closed successfully.\u001b[0m\n",
      "\u001b[32m2025-02-16 21:00:52.405\u001b[0m | \u001b[1mINFO    \u001b[0m | \u001b[36m__main__\u001b[0m:\u001b[36m<module>\u001b[0m:\u001b[36m17\u001b[0m - \u001b[1mConnecting to DuckDB.\u001b[0m\n",
      "\u001b[32m2025-02-16 21:00:52.463\u001b[0m | \u001b[32m\u001b[1mSUCCESS \u001b[0m | \u001b[36m__main__\u001b[0m:\u001b[36m<module>\u001b[0m:\u001b[36m20\u001b[0m - \u001b[32m\u001b[1mConnected to DuckDB.\u001b[0m\n",
      "\u001b[32m2025-02-16 21:00:52.463\u001b[0m | \u001b[1mINFO    \u001b[0m | \u001b[36m__main__\u001b[0m:\u001b[36m<module>\u001b[0m:\u001b[36m23\u001b[0m - \u001b[1mReading data from parquet file global-1968-5b401aebcfca986c81f4926b75b8fc15.parquet.\u001b[0m\n",
      "\u001b[32m2025-02-16 21:01:10.306\u001b[0m | \u001b[32m\u001b[1mSUCCESS \u001b[0m | \u001b[36m__main__\u001b[0m:\u001b[36m<module>\u001b[0m:\u001b[36m31\u001b[0m - \u001b[32m\u001b[1mData read successfully.\u001b[0m\n",
      "\u001b[32m2025-02-16 21:01:10.307\u001b[0m | \u001b[1mINFO    \u001b[0m | \u001b[36m__main__\u001b[0m:\u001b[36m<module>\u001b[0m:\u001b[36m34\u001b[0m - \u001b[1mInserting data into temperature table.\u001b[0m\n"
     ]
    },
    {
     "data": {
      "application/vnd.jupyter.widget-view+json": {
       "model_id": "46d729fdfe124f53b2763099ebf45879",
       "version_major": 2,
       "version_minor": 0
      },
      "text/plain": [
       "FloatProgress(value=0.0, layout=Layout(width='auto'), style=ProgressStyle(bar_color='black'))"
      ]
     },
     "metadata": {},
     "output_type": "display_data"
    },
    {
     "name": "stdout",
     "output_type": "stream",
     "text": [
      "\u001b[32m2025-02-16 21:02:10.447\u001b[0m | \u001b[32m\u001b[1mSUCCESS \u001b[0m | \u001b[36m__main__\u001b[0m:\u001b[36m<module>\u001b[0m:\u001b[36m36\u001b[0m - \u001b[32m\u001b[1mData inserted successfully.\u001b[0m\n",
      "\u001b[32m2025-02-16 21:02:10.458\u001b[0m | \u001b[1mINFO    \u001b[0m | \u001b[36m__main__\u001b[0m:\u001b[36m<module>\u001b[0m:\u001b[36m42\u001b[0m - \u001b[1mQuerying data from temperature table.\u001b[0m\n",
      "\u001b[32m2025-02-16 21:02:10.459\u001b[0m | \u001b[32m\u001b[1mSUCCESS \u001b[0m | \u001b[36m__main__\u001b[0m:\u001b[36m<module>\u001b[0m:\u001b[36m44\u001b[0m - \u001b[32m\u001b[1mData queried successfully.\u001b[0m\n",
      "\u001b[32m2025-02-16 21:02:14.959\u001b[0m | \u001b[32m\u001b[1mSUCCESS \u001b[0m | \u001b[36m__main__\u001b[0m:\u001b[36m<module>\u001b[0m:\u001b[36m49\u001b[0m - \u001b[32m\u001b[1mConnection closed successfully.\u001b[0m\n",
      "\u001b[32m2025-02-16 21:02:14.960\u001b[0m | \u001b[1mINFO    \u001b[0m | \u001b[36m__main__\u001b[0m:\u001b[36m<module>\u001b[0m:\u001b[36m17\u001b[0m - \u001b[1mConnecting to DuckDB.\u001b[0m\n",
      "\u001b[32m2025-02-16 21:02:15.027\u001b[0m | \u001b[32m\u001b[1mSUCCESS \u001b[0m | \u001b[36m__main__\u001b[0m:\u001b[36m<module>\u001b[0m:\u001b[36m20\u001b[0m - \u001b[32m\u001b[1mConnected to DuckDB.\u001b[0m\n",
      "\u001b[32m2025-02-16 21:02:15.028\u001b[0m | \u001b[1mINFO    \u001b[0m | \u001b[36m__main__\u001b[0m:\u001b[36m<module>\u001b[0m:\u001b[36m23\u001b[0m - \u001b[1mReading data from parquet file global-1969-c2935d1774e70ad415eae8fdad3b35ae.parquet.\u001b[0m\n",
      "\u001b[32m2025-02-16 21:02:31.196\u001b[0m | \u001b[32m\u001b[1mSUCCESS \u001b[0m | \u001b[36m__main__\u001b[0m:\u001b[36m<module>\u001b[0m:\u001b[36m31\u001b[0m - \u001b[32m\u001b[1mData read successfully.\u001b[0m\n",
      "\u001b[32m2025-02-16 21:02:31.197\u001b[0m | \u001b[1mINFO    \u001b[0m | \u001b[36m__main__\u001b[0m:\u001b[36m<module>\u001b[0m:\u001b[36m34\u001b[0m - \u001b[1mInserting data into temperature table.\u001b[0m\n"
     ]
    },
    {
     "data": {
      "application/vnd.jupyter.widget-view+json": {
       "model_id": "561823938ff34762bacb462ee48f50d5",
       "version_major": 2,
       "version_minor": 0
      },
      "text/plain": [
       "FloatProgress(value=0.0, layout=Layout(width='auto'), style=ProgressStyle(bar_color='black'))"
      ]
     },
     "metadata": {},
     "output_type": "display_data"
    },
    {
     "name": "stdout",
     "output_type": "stream",
     "text": [
      "\u001b[32m2025-02-16 21:03:31.633\u001b[0m | \u001b[32m\u001b[1mSUCCESS \u001b[0m | \u001b[36m__main__\u001b[0m:\u001b[36m<module>\u001b[0m:\u001b[36m36\u001b[0m - \u001b[32m\u001b[1mData inserted successfully.\u001b[0m\n",
      "\u001b[32m2025-02-16 21:03:31.643\u001b[0m | \u001b[1mINFO    \u001b[0m | \u001b[36m__main__\u001b[0m:\u001b[36m<module>\u001b[0m:\u001b[36m42\u001b[0m - \u001b[1mQuerying data from temperature table.\u001b[0m\n",
      "\u001b[32m2025-02-16 21:03:31.644\u001b[0m | \u001b[32m\u001b[1mSUCCESS \u001b[0m | \u001b[36m__main__\u001b[0m:\u001b[36m<module>\u001b[0m:\u001b[36m44\u001b[0m - \u001b[32m\u001b[1mData queried successfully.\u001b[0m\n",
      "\u001b[32m2025-02-16 21:03:36.343\u001b[0m | \u001b[32m\u001b[1mSUCCESS \u001b[0m | \u001b[36m__main__\u001b[0m:\u001b[36m<module>\u001b[0m:\u001b[36m49\u001b[0m - \u001b[32m\u001b[1mConnection closed successfully.\u001b[0m\n",
      "\u001b[32m2025-02-16 21:03:36.344\u001b[0m | \u001b[1mINFO    \u001b[0m | \u001b[36m__main__\u001b[0m:\u001b[36m<module>\u001b[0m:\u001b[36m17\u001b[0m - \u001b[1mConnecting to DuckDB.\u001b[0m\n",
      "\u001b[32m2025-02-16 21:03:36.395\u001b[0m | \u001b[32m\u001b[1mSUCCESS \u001b[0m | \u001b[36m__main__\u001b[0m:\u001b[36m<module>\u001b[0m:\u001b[36m20\u001b[0m - \u001b[32m\u001b[1mConnected to DuckDB.\u001b[0m\n",
      "\u001b[32m2025-02-16 21:03:36.395\u001b[0m | \u001b[1mINFO    \u001b[0m | \u001b[36m__main__\u001b[0m:\u001b[36m<module>\u001b[0m:\u001b[36m23\u001b[0m - \u001b[1mReading data from parquet file global-1970-ce00c80ce5228b1aff38a47f9664b587.parquet.\u001b[0m\n",
      "\u001b[32m2025-02-16 21:03:53.192\u001b[0m | \u001b[32m\u001b[1mSUCCESS \u001b[0m | \u001b[36m__main__\u001b[0m:\u001b[36m<module>\u001b[0m:\u001b[36m31\u001b[0m - \u001b[32m\u001b[1mData read successfully.\u001b[0m\n",
      "\u001b[32m2025-02-16 21:03:53.193\u001b[0m | \u001b[1mINFO    \u001b[0m | \u001b[36m__main__\u001b[0m:\u001b[36m<module>\u001b[0m:\u001b[36m34\u001b[0m - \u001b[1mInserting data into temperature table.\u001b[0m\n"
     ]
    },
    {
     "data": {
      "application/vnd.jupyter.widget-view+json": {
       "model_id": "19dc0cb0698742819877f3c2a2db6e37",
       "version_major": 2,
       "version_minor": 0
      },
      "text/plain": [
       "FloatProgress(value=0.0, layout=Layout(width='auto'), style=ProgressStyle(bar_color='black'))"
      ]
     },
     "metadata": {},
     "output_type": "display_data"
    },
    {
     "name": "stdout",
     "output_type": "stream",
     "text": [
      "\u001b[32m2025-02-16 21:04:53.261\u001b[0m | \u001b[32m\u001b[1mSUCCESS \u001b[0m | \u001b[36m__main__\u001b[0m:\u001b[36m<module>\u001b[0m:\u001b[36m36\u001b[0m - \u001b[32m\u001b[1mData inserted successfully.\u001b[0m\n",
      "\u001b[32m2025-02-16 21:04:53.271\u001b[0m | \u001b[1mINFO    \u001b[0m | \u001b[36m__main__\u001b[0m:\u001b[36m<module>\u001b[0m:\u001b[36m42\u001b[0m - \u001b[1mQuerying data from temperature table.\u001b[0m\n",
      "\u001b[32m2025-02-16 21:04:53.272\u001b[0m | \u001b[32m\u001b[1mSUCCESS \u001b[0m | \u001b[36m__main__\u001b[0m:\u001b[36m<module>\u001b[0m:\u001b[36m44\u001b[0m - \u001b[32m\u001b[1mData queried successfully.\u001b[0m\n",
      "\u001b[32m2025-02-16 21:04:58.125\u001b[0m | \u001b[32m\u001b[1mSUCCESS \u001b[0m | \u001b[36m__main__\u001b[0m:\u001b[36m<module>\u001b[0m:\u001b[36m49\u001b[0m - \u001b[32m\u001b[1mConnection closed successfully.\u001b[0m\n",
      "\u001b[32m2025-02-16 21:04:58.127\u001b[0m | \u001b[1mINFO    \u001b[0m | \u001b[36m__main__\u001b[0m:\u001b[36m<module>\u001b[0m:\u001b[36m17\u001b[0m - \u001b[1mConnecting to DuckDB.\u001b[0m\n",
      "\u001b[32m2025-02-16 21:04:58.244\u001b[0m | \u001b[32m\u001b[1mSUCCESS \u001b[0m | \u001b[36m__main__\u001b[0m:\u001b[36m<module>\u001b[0m:\u001b[36m20\u001b[0m - \u001b[32m\u001b[1mConnected to DuckDB.\u001b[0m\n",
      "\u001b[32m2025-02-16 21:04:58.244\u001b[0m | \u001b[1mINFO    \u001b[0m | \u001b[36m__main__\u001b[0m:\u001b[36m<module>\u001b[0m:\u001b[36m23\u001b[0m - \u001b[1mReading data from parquet file global-1971-5ba1ed0759ddb6d28e4dfd034c9840ec.parquet.\u001b[0m\n",
      "\u001b[32m2025-02-16 21:05:11.363\u001b[0m | \u001b[32m\u001b[1mSUCCESS \u001b[0m | \u001b[36m__main__\u001b[0m:\u001b[36m<module>\u001b[0m:\u001b[36m31\u001b[0m - \u001b[32m\u001b[1mData read successfully.\u001b[0m\n",
      "\u001b[32m2025-02-16 21:05:11.364\u001b[0m | \u001b[1mINFO    \u001b[0m | \u001b[36m__main__\u001b[0m:\u001b[36m<module>\u001b[0m:\u001b[36m34\u001b[0m - \u001b[1mInserting data into temperature table.\u001b[0m\n"
     ]
    },
    {
     "data": {
      "application/vnd.jupyter.widget-view+json": {
       "model_id": "994aab595cb74eb499ed39debaea084a",
       "version_major": 2,
       "version_minor": 0
      },
      "text/plain": [
       "FloatProgress(value=0.0, layout=Layout(width='auto'), style=ProgressStyle(bar_color='black'))"
      ]
     },
     "metadata": {},
     "output_type": "display_data"
    },
    {
     "name": "stdout",
     "output_type": "stream",
     "text": [
      "\u001b[32m2025-02-16 21:06:13.906\u001b[0m | \u001b[32m\u001b[1mSUCCESS \u001b[0m | \u001b[36m__main__\u001b[0m:\u001b[36m<module>\u001b[0m:\u001b[36m36\u001b[0m - \u001b[32m\u001b[1mData inserted successfully.\u001b[0m\n",
      "\u001b[32m2025-02-16 21:06:13.918\u001b[0m | \u001b[1mINFO    \u001b[0m | \u001b[36m__main__\u001b[0m:\u001b[36m<module>\u001b[0m:\u001b[36m42\u001b[0m - \u001b[1mQuerying data from temperature table.\u001b[0m\n",
      "\u001b[32m2025-02-16 21:06:13.918\u001b[0m | \u001b[32m\u001b[1mSUCCESS \u001b[0m | \u001b[36m__main__\u001b[0m:\u001b[36m<module>\u001b[0m:\u001b[36m44\u001b[0m - \u001b[32m\u001b[1mData queried successfully.\u001b[0m\n",
      "\u001b[32m2025-02-16 21:06:19.079\u001b[0m | \u001b[32m\u001b[1mSUCCESS \u001b[0m | \u001b[36m__main__\u001b[0m:\u001b[36m<module>\u001b[0m:\u001b[36m49\u001b[0m - \u001b[32m\u001b[1mConnection closed successfully.\u001b[0m\n",
      "\u001b[32m2025-02-16 21:06:19.080\u001b[0m | \u001b[1mINFO    \u001b[0m | \u001b[36m__main__\u001b[0m:\u001b[36m<module>\u001b[0m:\u001b[36m17\u001b[0m - \u001b[1mConnecting to DuckDB.\u001b[0m\n",
      "\u001b[32m2025-02-16 21:06:19.146\u001b[0m | \u001b[32m\u001b[1mSUCCESS \u001b[0m | \u001b[36m__main__\u001b[0m:\u001b[36m<module>\u001b[0m:\u001b[36m20\u001b[0m - \u001b[32m\u001b[1mConnected to DuckDB.\u001b[0m\n",
      "\u001b[32m2025-02-16 21:06:19.146\u001b[0m | \u001b[1mINFO    \u001b[0m | \u001b[36m__main__\u001b[0m:\u001b[36m<module>\u001b[0m:\u001b[36m23\u001b[0m - \u001b[1mReading data from parquet file global-1972-6899f57c4429bee701a13ebc35afe6ac.parquet.\u001b[0m\n",
      "\u001b[32m2025-02-16 21:06:34.345\u001b[0m | \u001b[32m\u001b[1mSUCCESS \u001b[0m | \u001b[36m__main__\u001b[0m:\u001b[36m<module>\u001b[0m:\u001b[36m31\u001b[0m - \u001b[32m\u001b[1mData read successfully.\u001b[0m\n",
      "\u001b[32m2025-02-16 21:06:34.345\u001b[0m | \u001b[1mINFO    \u001b[0m | \u001b[36m__main__\u001b[0m:\u001b[36m<module>\u001b[0m:\u001b[36m34\u001b[0m - \u001b[1mInserting data into temperature table.\u001b[0m\n"
     ]
    },
    {
     "data": {
      "application/vnd.jupyter.widget-view+json": {
       "model_id": "8429edff826f45028bc52adbb07f1428",
       "version_major": 2,
       "version_minor": 0
      },
      "text/plain": [
       "FloatProgress(value=0.0, layout=Layout(width='auto'), style=ProgressStyle(bar_color='black'))"
      ]
     },
     "metadata": {},
     "output_type": "display_data"
    },
    {
     "name": "stdout",
     "output_type": "stream",
     "text": [
      "\u001b[32m2025-02-16 21:07:34.743\u001b[0m | \u001b[32m\u001b[1mSUCCESS \u001b[0m | \u001b[36m__main__\u001b[0m:\u001b[36m<module>\u001b[0m:\u001b[36m36\u001b[0m - \u001b[32m\u001b[1mData inserted successfully.\u001b[0m\n",
      "\u001b[32m2025-02-16 21:07:34.753\u001b[0m | \u001b[1mINFO    \u001b[0m | \u001b[36m__main__\u001b[0m:\u001b[36m<module>\u001b[0m:\u001b[36m42\u001b[0m - \u001b[1mQuerying data from temperature table.\u001b[0m\n",
      "\u001b[32m2025-02-16 21:07:34.753\u001b[0m | \u001b[32m\u001b[1mSUCCESS \u001b[0m | \u001b[36m__main__\u001b[0m:\u001b[36m<module>\u001b[0m:\u001b[36m44\u001b[0m - \u001b[32m\u001b[1mData queried successfully.\u001b[0m\n",
      "\u001b[32m2025-02-16 21:07:39.897\u001b[0m | \u001b[32m\u001b[1mSUCCESS \u001b[0m | \u001b[36m__main__\u001b[0m:\u001b[36m<module>\u001b[0m:\u001b[36m49\u001b[0m - \u001b[32m\u001b[1mConnection closed successfully.\u001b[0m\n",
      "\u001b[32m2025-02-16 21:07:39.898\u001b[0m | \u001b[1mINFO    \u001b[0m | \u001b[36m__main__\u001b[0m:\u001b[36m<module>\u001b[0m:\u001b[36m17\u001b[0m - \u001b[1mConnecting to DuckDB.\u001b[0m\n",
      "\u001b[32m2025-02-16 21:07:39.956\u001b[0m | \u001b[32m\u001b[1mSUCCESS \u001b[0m | \u001b[36m__main__\u001b[0m:\u001b[36m<module>\u001b[0m:\u001b[36m20\u001b[0m - \u001b[32m\u001b[1mConnected to DuckDB.\u001b[0m\n",
      "\u001b[32m2025-02-16 21:07:39.956\u001b[0m | \u001b[1mINFO    \u001b[0m | \u001b[36m__main__\u001b[0m:\u001b[36m<module>\u001b[0m:\u001b[36m23\u001b[0m - \u001b[1mReading data from parquet file global-1973-a5217000efb3e0a2cfd7fafbfea30044.parquet.\u001b[0m\n",
      "\u001b[32m2025-02-16 21:07:54.519\u001b[0m | \u001b[32m\u001b[1mSUCCESS \u001b[0m | \u001b[36m__main__\u001b[0m:\u001b[36m<module>\u001b[0m:\u001b[36m31\u001b[0m - \u001b[32m\u001b[1mData read successfully.\u001b[0m\n",
      "\u001b[32m2025-02-16 21:07:54.520\u001b[0m | \u001b[1mINFO    \u001b[0m | \u001b[36m__main__\u001b[0m:\u001b[36m<module>\u001b[0m:\u001b[36m34\u001b[0m - \u001b[1mInserting data into temperature table.\u001b[0m\n"
     ]
    },
    {
     "data": {
      "application/vnd.jupyter.widget-view+json": {
       "model_id": "b0089a9d475b4a84a0a2a78884cc3884",
       "version_major": 2,
       "version_minor": 0
      },
      "text/plain": [
       "FloatProgress(value=0.0, layout=Layout(width='auto'), style=ProgressStyle(bar_color='black'))"
      ]
     },
     "metadata": {},
     "output_type": "display_data"
    },
    {
     "name": "stdout",
     "output_type": "stream",
     "text": [
      "\u001b[32m2025-02-16 21:08:59.744\u001b[0m | \u001b[32m\u001b[1mSUCCESS \u001b[0m | \u001b[36m__main__\u001b[0m:\u001b[36m<module>\u001b[0m:\u001b[36m36\u001b[0m - \u001b[32m\u001b[1mData inserted successfully.\u001b[0m\n",
      "\u001b[32m2025-02-16 21:08:59.753\u001b[0m | \u001b[1mINFO    \u001b[0m | \u001b[36m__main__\u001b[0m:\u001b[36m<module>\u001b[0m:\u001b[36m42\u001b[0m - \u001b[1mQuerying data from temperature table.\u001b[0m\n",
      "\u001b[32m2025-02-16 21:08:59.754\u001b[0m | \u001b[32m\u001b[1mSUCCESS \u001b[0m | \u001b[36m__main__\u001b[0m:\u001b[36m<module>\u001b[0m:\u001b[36m44\u001b[0m - \u001b[32m\u001b[1mData queried successfully.\u001b[0m\n",
      "\u001b[32m2025-02-16 21:09:04.956\u001b[0m | \u001b[32m\u001b[1mSUCCESS \u001b[0m | \u001b[36m__main__\u001b[0m:\u001b[36m<module>\u001b[0m:\u001b[36m49\u001b[0m - \u001b[32m\u001b[1mConnection closed successfully.\u001b[0m\n",
      "\u001b[32m2025-02-16 21:09:04.957\u001b[0m | \u001b[1mINFO    \u001b[0m | \u001b[36m__main__\u001b[0m:\u001b[36m<module>\u001b[0m:\u001b[36m17\u001b[0m - \u001b[1mConnecting to DuckDB.\u001b[0m\n",
      "\u001b[32m2025-02-16 21:09:05.025\u001b[0m | \u001b[32m\u001b[1mSUCCESS \u001b[0m | \u001b[36m__main__\u001b[0m:\u001b[36m<module>\u001b[0m:\u001b[36m20\u001b[0m - \u001b[32m\u001b[1mConnected to DuckDB.\u001b[0m\n",
      "\u001b[32m2025-02-16 21:09:05.026\u001b[0m | \u001b[1mINFO    \u001b[0m | \u001b[36m__main__\u001b[0m:\u001b[36m<module>\u001b[0m:\u001b[36m23\u001b[0m - \u001b[1mReading data from parquet file global-1974-32261e1720eef74caeefd15888fec830.parquet.\u001b[0m\n",
      "\u001b[32m2025-02-16 21:09:24.225\u001b[0m | \u001b[32m\u001b[1mSUCCESS \u001b[0m | \u001b[36m__main__\u001b[0m:\u001b[36m<module>\u001b[0m:\u001b[36m31\u001b[0m - \u001b[32m\u001b[1mData read successfully.\u001b[0m\n",
      "\u001b[32m2025-02-16 21:09:24.226\u001b[0m | \u001b[1mINFO    \u001b[0m | \u001b[36m__main__\u001b[0m:\u001b[36m<module>\u001b[0m:\u001b[36m34\u001b[0m - \u001b[1mInserting data into temperature table.\u001b[0m\n"
     ]
    },
    {
     "data": {
      "application/vnd.jupyter.widget-view+json": {
       "model_id": "3ca017bc08994adebca1f98b1fef9c02",
       "version_major": 2,
       "version_minor": 0
      },
      "text/plain": [
       "FloatProgress(value=0.0, layout=Layout(width='auto'), style=ProgressStyle(bar_color='black'))"
      ]
     },
     "metadata": {},
     "output_type": "display_data"
    },
    {
     "name": "stdout",
     "output_type": "stream",
     "text": [
      "\u001b[32m2025-02-16 21:10:29.055\u001b[0m | \u001b[32m\u001b[1mSUCCESS \u001b[0m | \u001b[36m__main__\u001b[0m:\u001b[36m<module>\u001b[0m:\u001b[36m36\u001b[0m - \u001b[32m\u001b[1mData inserted successfully.\u001b[0m\n",
      "\u001b[32m2025-02-16 21:10:29.065\u001b[0m | \u001b[1mINFO    \u001b[0m | \u001b[36m__main__\u001b[0m:\u001b[36m<module>\u001b[0m:\u001b[36m42\u001b[0m - \u001b[1mQuerying data from temperature table.\u001b[0m\n",
      "\u001b[32m2025-02-16 21:10:29.066\u001b[0m | \u001b[32m\u001b[1mSUCCESS \u001b[0m | \u001b[36m__main__\u001b[0m:\u001b[36m<module>\u001b[0m:\u001b[36m44\u001b[0m - \u001b[32m\u001b[1mData queried successfully.\u001b[0m\n",
      "\u001b[32m2025-02-16 21:10:34.426\u001b[0m | \u001b[32m\u001b[1mSUCCESS \u001b[0m | \u001b[36m__main__\u001b[0m:\u001b[36m<module>\u001b[0m:\u001b[36m49\u001b[0m - \u001b[32m\u001b[1mConnection closed successfully.\u001b[0m\n",
      "\u001b[32m2025-02-16 21:10:34.427\u001b[0m | \u001b[1mINFO    \u001b[0m | \u001b[36m__main__\u001b[0m:\u001b[36m<module>\u001b[0m:\u001b[36m17\u001b[0m - \u001b[1mConnecting to DuckDB.\u001b[0m\n",
      "\u001b[32m2025-02-16 21:10:34.602\u001b[0m | \u001b[32m\u001b[1mSUCCESS \u001b[0m | \u001b[36m__main__\u001b[0m:\u001b[36m<module>\u001b[0m:\u001b[36m20\u001b[0m - \u001b[32m\u001b[1mConnected to DuckDB.\u001b[0m\n",
      "\u001b[32m2025-02-16 21:10:34.602\u001b[0m | \u001b[1mINFO    \u001b[0m | \u001b[36m__main__\u001b[0m:\u001b[36m<module>\u001b[0m:\u001b[36m23\u001b[0m - \u001b[1mReading data from parquet file global-1975-3ef34be419013be25a641a3d32739adb.parquet.\u001b[0m\n",
      "\u001b[32m2025-02-16 21:10:47.978\u001b[0m | \u001b[32m\u001b[1mSUCCESS \u001b[0m | \u001b[36m__main__\u001b[0m:\u001b[36m<module>\u001b[0m:\u001b[36m31\u001b[0m - \u001b[32m\u001b[1mData read successfully.\u001b[0m\n",
      "\u001b[32m2025-02-16 21:10:47.978\u001b[0m | \u001b[1mINFO    \u001b[0m | \u001b[36m__main__\u001b[0m:\u001b[36m<module>\u001b[0m:\u001b[36m34\u001b[0m - \u001b[1mInserting data into temperature table.\u001b[0m\n"
     ]
    },
    {
     "data": {
      "application/vnd.jupyter.widget-view+json": {
       "model_id": "3a7d92ef1e9a4f9899bcf05d304393f6",
       "version_major": 2,
       "version_minor": 0
      },
      "text/plain": [
       "FloatProgress(value=0.0, layout=Layout(width='auto'), style=ProgressStyle(bar_color='black'))"
      ]
     },
     "metadata": {},
     "output_type": "display_data"
    },
    {
     "name": "stdout",
     "output_type": "stream",
     "text": [
      "\u001b[32m2025-02-16 21:11:53.315\u001b[0m | \u001b[32m\u001b[1mSUCCESS \u001b[0m | \u001b[36m__main__\u001b[0m:\u001b[36m<module>\u001b[0m:\u001b[36m36\u001b[0m - \u001b[32m\u001b[1mData inserted successfully.\u001b[0m\n",
      "\u001b[32m2025-02-16 21:11:53.326\u001b[0m | \u001b[1mINFO    \u001b[0m | \u001b[36m__main__\u001b[0m:\u001b[36m<module>\u001b[0m:\u001b[36m42\u001b[0m - \u001b[1mQuerying data from temperature table.\u001b[0m\n",
      "\u001b[32m2025-02-16 21:11:53.328\u001b[0m | \u001b[32m\u001b[1mSUCCESS \u001b[0m | \u001b[36m__main__\u001b[0m:\u001b[36m<module>\u001b[0m:\u001b[36m44\u001b[0m - \u001b[32m\u001b[1mData queried successfully.\u001b[0m\n",
      "\u001b[32m2025-02-16 21:11:58.852\u001b[0m | \u001b[32m\u001b[1mSUCCESS \u001b[0m | \u001b[36m__main__\u001b[0m:\u001b[36m<module>\u001b[0m:\u001b[36m49\u001b[0m - \u001b[32m\u001b[1mConnection closed successfully.\u001b[0m\n",
      "\u001b[32m2025-02-16 21:11:58.853\u001b[0m | \u001b[1mINFO    \u001b[0m | \u001b[36m__main__\u001b[0m:\u001b[36m<module>\u001b[0m:\u001b[36m17\u001b[0m - \u001b[1mConnecting to DuckDB.\u001b[0m\n",
      "\u001b[32m2025-02-16 21:11:58.972\u001b[0m | \u001b[32m\u001b[1mSUCCESS \u001b[0m | \u001b[36m__main__\u001b[0m:\u001b[36m<module>\u001b[0m:\u001b[36m20\u001b[0m - \u001b[32m\u001b[1mConnected to DuckDB.\u001b[0m\n",
      "\u001b[32m2025-02-16 21:11:58.973\u001b[0m | \u001b[1mINFO    \u001b[0m | \u001b[36m__main__\u001b[0m:\u001b[36m<module>\u001b[0m:\u001b[36m23\u001b[0m - \u001b[1mReading data from parquet file global-1976-a9eef3ab3541d67cd8921650ebfa727e.parquet.\u001b[0m\n",
      "\u001b[32m2025-02-16 21:12:15.332\u001b[0m | \u001b[32m\u001b[1mSUCCESS \u001b[0m | \u001b[36m__main__\u001b[0m:\u001b[36m<module>\u001b[0m:\u001b[36m31\u001b[0m - \u001b[32m\u001b[1mData read successfully.\u001b[0m\n",
      "\u001b[32m2025-02-16 21:12:15.333\u001b[0m | \u001b[1mINFO    \u001b[0m | \u001b[36m__main__\u001b[0m:\u001b[36m<module>\u001b[0m:\u001b[36m34\u001b[0m - \u001b[1mInserting data into temperature table.\u001b[0m\n"
     ]
    },
    {
     "data": {
      "application/vnd.jupyter.widget-view+json": {
       "model_id": "66b9b1c022fb45d3bfafa32b1a473dff",
       "version_major": 2,
       "version_minor": 0
      },
      "text/plain": [
       "FloatProgress(value=0.0, layout=Layout(width='auto'), style=ProgressStyle(bar_color='black'))"
      ]
     },
     "metadata": {},
     "output_type": "display_data"
    },
    {
     "name": "stdout",
     "output_type": "stream",
     "text": [
      "\u001b[32m2025-02-16 21:13:23.120\u001b[0m | \u001b[32m\u001b[1mSUCCESS \u001b[0m | \u001b[36m__main__\u001b[0m:\u001b[36m<module>\u001b[0m:\u001b[36m36\u001b[0m - \u001b[32m\u001b[1mData inserted successfully.\u001b[0m\n",
      "\u001b[32m2025-02-16 21:13:23.129\u001b[0m | \u001b[1mINFO    \u001b[0m | \u001b[36m__main__\u001b[0m:\u001b[36m<module>\u001b[0m:\u001b[36m42\u001b[0m - \u001b[1mQuerying data from temperature table.\u001b[0m\n",
      "\u001b[32m2025-02-16 21:13:23.130\u001b[0m | \u001b[32m\u001b[1mSUCCESS \u001b[0m | \u001b[36m__main__\u001b[0m:\u001b[36m<module>\u001b[0m:\u001b[36m44\u001b[0m - \u001b[32m\u001b[1mData queried successfully.\u001b[0m\n",
      "\u001b[32m2025-02-16 21:13:28.871\u001b[0m | \u001b[32m\u001b[1mSUCCESS \u001b[0m | \u001b[36m__main__\u001b[0m:\u001b[36m<module>\u001b[0m:\u001b[36m49\u001b[0m - \u001b[32m\u001b[1mConnection closed successfully.\u001b[0m\n",
      "\u001b[32m2025-02-16 21:13:28.872\u001b[0m | \u001b[1mINFO    \u001b[0m | \u001b[36m__main__\u001b[0m:\u001b[36m<module>\u001b[0m:\u001b[36m17\u001b[0m - \u001b[1mConnecting to DuckDB.\u001b[0m\n",
      "\u001b[32m2025-02-16 21:13:28.925\u001b[0m | \u001b[32m\u001b[1mSUCCESS \u001b[0m | \u001b[36m__main__\u001b[0m:\u001b[36m<module>\u001b[0m:\u001b[36m20\u001b[0m - \u001b[32m\u001b[1mConnected to DuckDB.\u001b[0m\n",
      "\u001b[32m2025-02-16 21:13:28.925\u001b[0m | \u001b[1mINFO    \u001b[0m | \u001b[36m__main__\u001b[0m:\u001b[36m<module>\u001b[0m:\u001b[36m23\u001b[0m - \u001b[1mReading data from parquet file global-1977-c64588caae5dc6abb7957ef330980e46.parquet.\u001b[0m\n",
      "\u001b[32m2025-02-16 21:13:48.915\u001b[0m | \u001b[32m\u001b[1mSUCCESS \u001b[0m | \u001b[36m__main__\u001b[0m:\u001b[36m<module>\u001b[0m:\u001b[36m31\u001b[0m - \u001b[32m\u001b[1mData read successfully.\u001b[0m\n",
      "\u001b[32m2025-02-16 21:13:48.915\u001b[0m | \u001b[1mINFO    \u001b[0m | \u001b[36m__main__\u001b[0m:\u001b[36m<module>\u001b[0m:\u001b[36m34\u001b[0m - \u001b[1mInserting data into temperature table.\u001b[0m\n"
     ]
    },
    {
     "data": {
      "application/vnd.jupyter.widget-view+json": {
       "model_id": "1a20f2117568423fb2728b0130bbabe9",
       "version_major": 2,
       "version_minor": 0
      },
      "text/plain": [
       "FloatProgress(value=0.0, layout=Layout(width='auto'), style=ProgressStyle(bar_color='black'))"
      ]
     },
     "metadata": {},
     "output_type": "display_data"
    },
    {
     "name": "stdout",
     "output_type": "stream",
     "text": [
      "\u001b[32m2025-02-16 21:14:54.504\u001b[0m | \u001b[32m\u001b[1mSUCCESS \u001b[0m | \u001b[36m__main__\u001b[0m:\u001b[36m<module>\u001b[0m:\u001b[36m36\u001b[0m - \u001b[32m\u001b[1mData inserted successfully.\u001b[0m\n",
      "\u001b[32m2025-02-16 21:14:54.514\u001b[0m | \u001b[1mINFO    \u001b[0m | \u001b[36m__main__\u001b[0m:\u001b[36m<module>\u001b[0m:\u001b[36m42\u001b[0m - \u001b[1mQuerying data from temperature table.\u001b[0m\n",
      "\u001b[32m2025-02-16 21:14:54.515\u001b[0m | \u001b[32m\u001b[1mSUCCESS \u001b[0m | \u001b[36m__main__\u001b[0m:\u001b[36m<module>\u001b[0m:\u001b[36m44\u001b[0m - \u001b[32m\u001b[1mData queried successfully.\u001b[0m\n",
      "\u001b[32m2025-02-16 21:15:00.365\u001b[0m | \u001b[32m\u001b[1mSUCCESS \u001b[0m | \u001b[36m__main__\u001b[0m:\u001b[36m<module>\u001b[0m:\u001b[36m49\u001b[0m - \u001b[32m\u001b[1mConnection closed successfully.\u001b[0m\n",
      "\u001b[32m2025-02-16 21:15:00.366\u001b[0m | \u001b[1mINFO    \u001b[0m | \u001b[36m__main__\u001b[0m:\u001b[36m<module>\u001b[0m:\u001b[36m17\u001b[0m - \u001b[1mConnecting to DuckDB.\u001b[0m\n",
      "\u001b[32m2025-02-16 21:15:00.435\u001b[0m | \u001b[32m\u001b[1mSUCCESS \u001b[0m | \u001b[36m__main__\u001b[0m:\u001b[36m<module>\u001b[0m:\u001b[36m20\u001b[0m - \u001b[32m\u001b[1mConnected to DuckDB.\u001b[0m\n",
      "\u001b[32m2025-02-16 21:15:00.435\u001b[0m | \u001b[1mINFO    \u001b[0m | \u001b[36m__main__\u001b[0m:\u001b[36m<module>\u001b[0m:\u001b[36m23\u001b[0m - \u001b[1mReading data from parquet file global-1978-c4618d2caf3b3cd4445772d27d384c64.parquet.\u001b[0m\n",
      "\u001b[32m2025-02-16 21:15:19.663\u001b[0m | \u001b[32m\u001b[1mSUCCESS \u001b[0m | \u001b[36m__main__\u001b[0m:\u001b[36m<module>\u001b[0m:\u001b[36m31\u001b[0m - \u001b[32m\u001b[1mData read successfully.\u001b[0m\n",
      "\u001b[32m2025-02-16 21:15:19.664\u001b[0m | \u001b[1mINFO    \u001b[0m | \u001b[36m__main__\u001b[0m:\u001b[36m<module>\u001b[0m:\u001b[36m34\u001b[0m - \u001b[1mInserting data into temperature table.\u001b[0m\n"
     ]
    },
    {
     "data": {
      "application/vnd.jupyter.widget-view+json": {
       "model_id": "d652b1d232e44dc5943c677593d4d229",
       "version_major": 2,
       "version_minor": 0
      },
      "text/plain": [
       "FloatProgress(value=0.0, layout=Layout(width='auto'), style=ProgressStyle(bar_color='black'))"
      ]
     },
     "metadata": {},
     "output_type": "display_data"
    },
    {
     "name": "stdout",
     "output_type": "stream",
     "text": [
      "\u001b[32m2025-02-16 21:16:27.371\u001b[0m | \u001b[32m\u001b[1mSUCCESS \u001b[0m | \u001b[36m__main__\u001b[0m:\u001b[36m<module>\u001b[0m:\u001b[36m36\u001b[0m - \u001b[32m\u001b[1mData inserted successfully.\u001b[0m\n",
      "\u001b[32m2025-02-16 21:16:27.382\u001b[0m | \u001b[1mINFO    \u001b[0m | \u001b[36m__main__\u001b[0m:\u001b[36m<module>\u001b[0m:\u001b[36m42\u001b[0m - \u001b[1mQuerying data from temperature table.\u001b[0m\n",
      "\u001b[32m2025-02-16 21:16:27.383\u001b[0m | \u001b[32m\u001b[1mSUCCESS \u001b[0m | \u001b[36m__main__\u001b[0m:\u001b[36m<module>\u001b[0m:\u001b[36m44\u001b[0m - \u001b[32m\u001b[1mData queried successfully.\u001b[0m\n",
      "\u001b[32m2025-02-16 21:16:33.411\u001b[0m | \u001b[32m\u001b[1mSUCCESS \u001b[0m | \u001b[36m__main__\u001b[0m:\u001b[36m<module>\u001b[0m:\u001b[36m49\u001b[0m - \u001b[32m\u001b[1mConnection closed successfully.\u001b[0m\n",
      "\u001b[32m2025-02-16 21:16:33.412\u001b[0m | \u001b[1mINFO    \u001b[0m | \u001b[36m__main__\u001b[0m:\u001b[36m<module>\u001b[0m:\u001b[36m17\u001b[0m - \u001b[1mConnecting to DuckDB.\u001b[0m\n",
      "\u001b[32m2025-02-16 21:16:33.486\u001b[0m | \u001b[32m\u001b[1mSUCCESS \u001b[0m | \u001b[36m__main__\u001b[0m:\u001b[36m<module>\u001b[0m:\u001b[36m20\u001b[0m - \u001b[32m\u001b[1mConnected to DuckDB.\u001b[0m\n",
      "\u001b[32m2025-02-16 21:16:33.486\u001b[0m | \u001b[1mINFO    \u001b[0m | \u001b[36m__main__\u001b[0m:\u001b[36m<module>\u001b[0m:\u001b[36m23\u001b[0m - \u001b[1mReading data from parquet file global-1979-855de7a56b7dd8e859a38ef7e9000ca8.parquet.\u001b[0m\n",
      "\u001b[32m2025-02-16 21:16:50.590\u001b[0m | \u001b[32m\u001b[1mSUCCESS \u001b[0m | \u001b[36m__main__\u001b[0m:\u001b[36m<module>\u001b[0m:\u001b[36m31\u001b[0m - \u001b[32m\u001b[1mData read successfully.\u001b[0m\n",
      "\u001b[32m2025-02-16 21:16:50.591\u001b[0m | \u001b[1mINFO    \u001b[0m | \u001b[36m__main__\u001b[0m:\u001b[36m<module>\u001b[0m:\u001b[36m34\u001b[0m - \u001b[1mInserting data into temperature table.\u001b[0m\n"
     ]
    },
    {
     "data": {
      "application/vnd.jupyter.widget-view+json": {
       "model_id": "d8c4003cd8f647cab8b9d9e1466d22e9",
       "version_major": 2,
       "version_minor": 0
      },
      "text/plain": [
       "FloatProgress(value=0.0, layout=Layout(width='auto'), style=ProgressStyle(bar_color='black'))"
      ]
     },
     "metadata": {},
     "output_type": "display_data"
    },
    {
     "name": "stdout",
     "output_type": "stream",
     "text": [
      "\u001b[32m2025-02-16 21:17:59.099\u001b[0m | \u001b[32m\u001b[1mSUCCESS \u001b[0m | \u001b[36m__main__\u001b[0m:\u001b[36m<module>\u001b[0m:\u001b[36m36\u001b[0m - \u001b[32m\u001b[1mData inserted successfully.\u001b[0m\n",
      "\u001b[32m2025-02-16 21:17:59.110\u001b[0m | \u001b[1mINFO    \u001b[0m | \u001b[36m__main__\u001b[0m:\u001b[36m<module>\u001b[0m:\u001b[36m42\u001b[0m - \u001b[1mQuerying data from temperature table.\u001b[0m\n",
      "\u001b[32m2025-02-16 21:17:59.111\u001b[0m | \u001b[32m\u001b[1mSUCCESS \u001b[0m | \u001b[36m__main__\u001b[0m:\u001b[36m<module>\u001b[0m:\u001b[36m44\u001b[0m - \u001b[32m\u001b[1mData queried successfully.\u001b[0m\n",
      "\u001b[32m2025-02-16 21:18:05.662\u001b[0m | \u001b[32m\u001b[1mSUCCESS \u001b[0m | \u001b[36m__main__\u001b[0m:\u001b[36m<module>\u001b[0m:\u001b[36m49\u001b[0m - \u001b[32m\u001b[1mConnection closed successfully.\u001b[0m\n",
      "\u001b[32m2025-02-16 21:18:05.663\u001b[0m | \u001b[1mINFO    \u001b[0m | \u001b[36m__main__\u001b[0m:\u001b[36m<module>\u001b[0m:\u001b[36m17\u001b[0m - \u001b[1mConnecting to DuckDB.\u001b[0m\n",
      "\u001b[32m2025-02-16 21:18:05.722\u001b[0m | \u001b[32m\u001b[1mSUCCESS \u001b[0m | \u001b[36m__main__\u001b[0m:\u001b[36m<module>\u001b[0m:\u001b[36m20\u001b[0m - \u001b[32m\u001b[1mConnected to DuckDB.\u001b[0m\n",
      "\u001b[32m2025-02-16 21:18:05.722\u001b[0m | \u001b[1mINFO    \u001b[0m | \u001b[36m__main__\u001b[0m:\u001b[36m<module>\u001b[0m:\u001b[36m23\u001b[0m - \u001b[1mReading data from parquet file global-1980-b1c5de6b6e265bc6c82b4cefda75c485.parquet.\u001b[0m\n",
      "\u001b[32m2025-02-16 21:18:19.957\u001b[0m | \u001b[32m\u001b[1mSUCCESS \u001b[0m | \u001b[36m__main__\u001b[0m:\u001b[36m<module>\u001b[0m:\u001b[36m31\u001b[0m - \u001b[32m\u001b[1mData read successfully.\u001b[0m\n",
      "\u001b[32m2025-02-16 21:18:19.958\u001b[0m | \u001b[1mINFO    \u001b[0m | \u001b[36m__main__\u001b[0m:\u001b[36m<module>\u001b[0m:\u001b[36m34\u001b[0m - \u001b[1mInserting data into temperature table.\u001b[0m\n"
     ]
    },
    {
     "data": {
      "application/vnd.jupyter.widget-view+json": {
       "model_id": "0b019b5302de41b19f59a60ce74c1ca4",
       "version_major": 2,
       "version_minor": 0
      },
      "text/plain": [
       "FloatProgress(value=0.0, layout=Layout(width='auto'), style=ProgressStyle(bar_color='black'))"
      ]
     },
     "metadata": {},
     "output_type": "display_data"
    },
    {
     "name": "stdout",
     "output_type": "stream",
     "text": [
      "\u001b[32m2025-02-16 21:19:24.984\u001b[0m | \u001b[32m\u001b[1mSUCCESS \u001b[0m | \u001b[36m__main__\u001b[0m:\u001b[36m<module>\u001b[0m:\u001b[36m36\u001b[0m - \u001b[32m\u001b[1mData inserted successfully.\u001b[0m\n",
      "\u001b[32m2025-02-16 21:19:24.994\u001b[0m | \u001b[1mINFO    \u001b[0m | \u001b[36m__main__\u001b[0m:\u001b[36m<module>\u001b[0m:\u001b[36m42\u001b[0m - \u001b[1mQuerying data from temperature table.\u001b[0m\n",
      "\u001b[32m2025-02-16 21:19:24.995\u001b[0m | \u001b[32m\u001b[1mSUCCESS \u001b[0m | \u001b[36m__main__\u001b[0m:\u001b[36m<module>\u001b[0m:\u001b[36m44\u001b[0m - \u001b[32m\u001b[1mData queried successfully.\u001b[0m\n",
      "\u001b[32m2025-02-16 21:19:31.160\u001b[0m | \u001b[32m\u001b[1mSUCCESS \u001b[0m | \u001b[36m__main__\u001b[0m:\u001b[36m<module>\u001b[0m:\u001b[36m49\u001b[0m - \u001b[32m\u001b[1mConnection closed successfully.\u001b[0m\n",
      "\u001b[32m2025-02-16 21:19:31.161\u001b[0m | \u001b[1mINFO    \u001b[0m | \u001b[36m__main__\u001b[0m:\u001b[36m<module>\u001b[0m:\u001b[36m17\u001b[0m - \u001b[1mConnecting to DuckDB.\u001b[0m\n",
      "\u001b[32m2025-02-16 21:19:31.243\u001b[0m | \u001b[32m\u001b[1mSUCCESS \u001b[0m | \u001b[36m__main__\u001b[0m:\u001b[36m<module>\u001b[0m:\u001b[36m20\u001b[0m - \u001b[32m\u001b[1mConnected to DuckDB.\u001b[0m\n",
      "\u001b[32m2025-02-16 21:19:31.243\u001b[0m | \u001b[1mINFO    \u001b[0m | \u001b[36m__main__\u001b[0m:\u001b[36m<module>\u001b[0m:\u001b[36m23\u001b[0m - \u001b[1mReading data from parquet file global-1981-4105b91f3d7ef0291fc41aad6a49ebfc.parquet.\u001b[0m\n",
      "\u001b[32m2025-02-16 21:19:49.717\u001b[0m | \u001b[32m\u001b[1mSUCCESS \u001b[0m | \u001b[36m__main__\u001b[0m:\u001b[36m<module>\u001b[0m:\u001b[36m31\u001b[0m - \u001b[32m\u001b[1mData read successfully.\u001b[0m\n",
      "\u001b[32m2025-02-16 21:19:49.718\u001b[0m | \u001b[1mINFO    \u001b[0m | \u001b[36m__main__\u001b[0m:\u001b[36m<module>\u001b[0m:\u001b[36m34\u001b[0m - \u001b[1mInserting data into temperature table.\u001b[0m\n"
     ]
    },
    {
     "data": {
      "application/vnd.jupyter.widget-view+json": {
       "model_id": "1821a4477b384440a73145969da6889f",
       "version_major": 2,
       "version_minor": 0
      },
      "text/plain": [
       "FloatProgress(value=0.0, layout=Layout(width='auto'), style=ProgressStyle(bar_color='black'))"
      ]
     },
     "metadata": {},
     "output_type": "display_data"
    },
    {
     "name": "stdout",
     "output_type": "stream",
     "text": [
      "\u001b[32m2025-02-16 21:20:54.568\u001b[0m | \u001b[32m\u001b[1mSUCCESS \u001b[0m | \u001b[36m__main__\u001b[0m:\u001b[36m<module>\u001b[0m:\u001b[36m36\u001b[0m - \u001b[32m\u001b[1mData inserted successfully.\u001b[0m\n",
      "\u001b[32m2025-02-16 21:20:54.579\u001b[0m | \u001b[1mINFO    \u001b[0m | \u001b[36m__main__\u001b[0m:\u001b[36m<module>\u001b[0m:\u001b[36m42\u001b[0m - \u001b[1mQuerying data from temperature table.\u001b[0m\n",
      "\u001b[32m2025-02-16 21:20:54.580\u001b[0m | \u001b[32m\u001b[1mSUCCESS \u001b[0m | \u001b[36m__main__\u001b[0m:\u001b[36m<module>\u001b[0m:\u001b[36m44\u001b[0m - \u001b[32m\u001b[1mData queried successfully.\u001b[0m\n",
      "\u001b[32m2025-02-16 21:21:00.451\u001b[0m | \u001b[32m\u001b[1mSUCCESS \u001b[0m | \u001b[36m__main__\u001b[0m:\u001b[36m<module>\u001b[0m:\u001b[36m49\u001b[0m - \u001b[32m\u001b[1mConnection closed successfully.\u001b[0m\n",
      "\u001b[32m2025-02-16 21:21:00.452\u001b[0m | \u001b[1mINFO    \u001b[0m | \u001b[36m__main__\u001b[0m:\u001b[36m<module>\u001b[0m:\u001b[36m17\u001b[0m - \u001b[1mConnecting to DuckDB.\u001b[0m\n",
      "\u001b[32m2025-02-16 21:21:00.589\u001b[0m | \u001b[32m\u001b[1mSUCCESS \u001b[0m | \u001b[36m__main__\u001b[0m:\u001b[36m<module>\u001b[0m:\u001b[36m20\u001b[0m - \u001b[32m\u001b[1mConnected to DuckDB.\u001b[0m\n",
      "\u001b[32m2025-02-16 21:21:00.589\u001b[0m | \u001b[1mINFO    \u001b[0m | \u001b[36m__main__\u001b[0m:\u001b[36m<module>\u001b[0m:\u001b[36m23\u001b[0m - \u001b[1mReading data from parquet file global-1982-67f54bb9d15bd6c5eec299da46b77768.parquet.\u001b[0m\n",
      "\u001b[32m2025-02-16 21:21:21.228\u001b[0m | \u001b[32m\u001b[1mSUCCESS \u001b[0m | \u001b[36m__main__\u001b[0m:\u001b[36m<module>\u001b[0m:\u001b[36m31\u001b[0m - \u001b[32m\u001b[1mData read successfully.\u001b[0m\n",
      "\u001b[32m2025-02-16 21:21:21.229\u001b[0m | \u001b[1mINFO    \u001b[0m | \u001b[36m__main__\u001b[0m:\u001b[36m<module>\u001b[0m:\u001b[36m34\u001b[0m - \u001b[1mInserting data into temperature table.\u001b[0m\n"
     ]
    },
    {
     "data": {
      "application/vnd.jupyter.widget-view+json": {
       "model_id": "a4ecdcd3a6bb437d8f8705ee94ccc829",
       "version_major": 2,
       "version_minor": 0
      },
      "text/plain": [
       "FloatProgress(value=0.0, layout=Layout(width='auto'), style=ProgressStyle(bar_color='black'))"
      ]
     },
     "metadata": {},
     "output_type": "display_data"
    },
    {
     "name": "stdout",
     "output_type": "stream",
     "text": [
      "\u001b[32m2025-02-16 21:22:24.479\u001b[0m | \u001b[32m\u001b[1mSUCCESS \u001b[0m | \u001b[36m__main__\u001b[0m:\u001b[36m<module>\u001b[0m:\u001b[36m36\u001b[0m - \u001b[32m\u001b[1mData inserted successfully.\u001b[0m\n",
      "\u001b[32m2025-02-16 21:22:24.491\u001b[0m | \u001b[1mINFO    \u001b[0m | \u001b[36m__main__\u001b[0m:\u001b[36m<module>\u001b[0m:\u001b[36m42\u001b[0m - \u001b[1mQuerying data from temperature table.\u001b[0m\n",
      "\u001b[32m2025-02-16 21:22:24.491\u001b[0m | \u001b[32m\u001b[1mSUCCESS \u001b[0m | \u001b[36m__main__\u001b[0m:\u001b[36m<module>\u001b[0m:\u001b[36m44\u001b[0m - \u001b[32m\u001b[1mData queried successfully.\u001b[0m\n",
      "\u001b[32m2025-02-16 21:22:30.374\u001b[0m | \u001b[32m\u001b[1mSUCCESS \u001b[0m | \u001b[36m__main__\u001b[0m:\u001b[36m<module>\u001b[0m:\u001b[36m49\u001b[0m - \u001b[32m\u001b[1mConnection closed successfully.\u001b[0m\n",
      "\u001b[32m2025-02-16 21:22:30.375\u001b[0m | \u001b[1mINFO    \u001b[0m | \u001b[36m__main__\u001b[0m:\u001b[36m<module>\u001b[0m:\u001b[36m17\u001b[0m - \u001b[1mConnecting to DuckDB.\u001b[0m\n",
      "\u001b[32m2025-02-16 21:22:30.453\u001b[0m | \u001b[32m\u001b[1mSUCCESS \u001b[0m | \u001b[36m__main__\u001b[0m:\u001b[36m<module>\u001b[0m:\u001b[36m20\u001b[0m - \u001b[32m\u001b[1mConnected to DuckDB.\u001b[0m\n",
      "\u001b[32m2025-02-16 21:22:30.453\u001b[0m | \u001b[1mINFO    \u001b[0m | \u001b[36m__main__\u001b[0m:\u001b[36m<module>\u001b[0m:\u001b[36m23\u001b[0m - \u001b[1mReading data from parquet file global-1983-c5b8dbd9568160bb767fdea1bc7096b9.parquet.\u001b[0m\n",
      "\u001b[32m2025-02-16 21:22:48.050\u001b[0m | \u001b[32m\u001b[1mSUCCESS \u001b[0m | \u001b[36m__main__\u001b[0m:\u001b[36m<module>\u001b[0m:\u001b[36m31\u001b[0m - \u001b[32m\u001b[1mData read successfully.\u001b[0m\n",
      "\u001b[32m2025-02-16 21:22:48.050\u001b[0m | \u001b[1mINFO    \u001b[0m | \u001b[36m__main__\u001b[0m:\u001b[36m<module>\u001b[0m:\u001b[36m34\u001b[0m - \u001b[1mInserting data into temperature table.\u001b[0m\n"
     ]
    },
    {
     "data": {
      "application/vnd.jupyter.widget-view+json": {
       "model_id": "1cab230cda664e4ab86c944ae0ced830",
       "version_major": 2,
       "version_minor": 0
      },
      "text/plain": [
       "FloatProgress(value=0.0, layout=Layout(width='auto'), style=ProgressStyle(bar_color='black'))"
      ]
     },
     "metadata": {},
     "output_type": "display_data"
    },
    {
     "name": "stdout",
     "output_type": "stream",
     "text": [
      "\u001b[32m2025-02-16 21:23:51.265\u001b[0m | \u001b[32m\u001b[1mSUCCESS \u001b[0m | \u001b[36m__main__\u001b[0m:\u001b[36m<module>\u001b[0m:\u001b[36m36\u001b[0m - \u001b[32m\u001b[1mData inserted successfully.\u001b[0m\n",
      "\u001b[32m2025-02-16 21:23:51.275\u001b[0m | \u001b[1mINFO    \u001b[0m | \u001b[36m__main__\u001b[0m:\u001b[36m<module>\u001b[0m:\u001b[36m42\u001b[0m - \u001b[1mQuerying data from temperature table.\u001b[0m\n",
      "\u001b[32m2025-02-16 21:23:51.276\u001b[0m | \u001b[32m\u001b[1mSUCCESS \u001b[0m | \u001b[36m__main__\u001b[0m:\u001b[36m<module>\u001b[0m:\u001b[36m44\u001b[0m - \u001b[32m\u001b[1mData queried successfully.\u001b[0m\n",
      "\u001b[32m2025-02-16 21:23:57.249\u001b[0m | \u001b[32m\u001b[1mSUCCESS \u001b[0m | \u001b[36m__main__\u001b[0m:\u001b[36m<module>\u001b[0m:\u001b[36m49\u001b[0m - \u001b[32m\u001b[1mConnection closed successfully.\u001b[0m\n",
      "\u001b[32m2025-02-16 21:23:57.250\u001b[0m | \u001b[1mINFO    \u001b[0m | \u001b[36m__main__\u001b[0m:\u001b[36m<module>\u001b[0m:\u001b[36m17\u001b[0m - \u001b[1mConnecting to DuckDB.\u001b[0m\n",
      "\u001b[32m2025-02-16 21:23:57.320\u001b[0m | \u001b[32m\u001b[1mSUCCESS \u001b[0m | \u001b[36m__main__\u001b[0m:\u001b[36m<module>\u001b[0m:\u001b[36m20\u001b[0m - \u001b[32m\u001b[1mConnected to DuckDB.\u001b[0m\n",
      "\u001b[32m2025-02-16 21:23:57.320\u001b[0m | \u001b[1mINFO    \u001b[0m | \u001b[36m__main__\u001b[0m:\u001b[36m<module>\u001b[0m:\u001b[36m23\u001b[0m - \u001b[1mReading data from parquet file global-1984-34abe4d02211ca03cac817db8fe94907.parquet.\u001b[0m\n",
      "\u001b[32m2025-02-16 21:24:15.451\u001b[0m | \u001b[32m\u001b[1mSUCCESS \u001b[0m | \u001b[36m__main__\u001b[0m:\u001b[36m<module>\u001b[0m:\u001b[36m31\u001b[0m - \u001b[32m\u001b[1mData read successfully.\u001b[0m\n",
      "\u001b[32m2025-02-16 21:24:15.452\u001b[0m | \u001b[1mINFO    \u001b[0m | \u001b[36m__main__\u001b[0m:\u001b[36m<module>\u001b[0m:\u001b[36m34\u001b[0m - \u001b[1mInserting data into temperature table.\u001b[0m\n"
     ]
    },
    {
     "data": {
      "application/vnd.jupyter.widget-view+json": {
       "model_id": "bbe5d99ee2ff467fb384a99a4d243542",
       "version_major": 2,
       "version_minor": 0
      },
      "text/plain": [
       "FloatProgress(value=0.0, layout=Layout(width='auto'), style=ProgressStyle(bar_color='black'))"
      ]
     },
     "metadata": {},
     "output_type": "display_data"
    },
    {
     "name": "stdout",
     "output_type": "stream",
     "text": [
      "\u001b[32m2025-02-16 21:25:20.176\u001b[0m | \u001b[32m\u001b[1mSUCCESS \u001b[0m | \u001b[36m__main__\u001b[0m:\u001b[36m<module>\u001b[0m:\u001b[36m36\u001b[0m - \u001b[32m\u001b[1mData inserted successfully.\u001b[0m\n",
      "\u001b[32m2025-02-16 21:25:20.185\u001b[0m | \u001b[1mINFO    \u001b[0m | \u001b[36m__main__\u001b[0m:\u001b[36m<module>\u001b[0m:\u001b[36m42\u001b[0m - \u001b[1mQuerying data from temperature table.\u001b[0m\n",
      "\u001b[32m2025-02-16 21:25:20.186\u001b[0m | \u001b[32m\u001b[1mSUCCESS \u001b[0m | \u001b[36m__main__\u001b[0m:\u001b[36m<module>\u001b[0m:\u001b[36m44\u001b[0m - \u001b[32m\u001b[1mData queried successfully.\u001b[0m\n",
      "\u001b[32m2025-02-16 21:25:26.563\u001b[0m | \u001b[32m\u001b[1mSUCCESS \u001b[0m | \u001b[36m__main__\u001b[0m:\u001b[36m<module>\u001b[0m:\u001b[36m49\u001b[0m - \u001b[32m\u001b[1mConnection closed successfully.\u001b[0m\n",
      "\u001b[32m2025-02-16 21:25:26.564\u001b[0m | \u001b[1mINFO    \u001b[0m | \u001b[36m__main__\u001b[0m:\u001b[36m<module>\u001b[0m:\u001b[36m17\u001b[0m - \u001b[1mConnecting to DuckDB.\u001b[0m\n",
      "\u001b[32m2025-02-16 21:25:26.743\u001b[0m | \u001b[32m\u001b[1mSUCCESS \u001b[0m | \u001b[36m__main__\u001b[0m:\u001b[36m<module>\u001b[0m:\u001b[36m20\u001b[0m - \u001b[32m\u001b[1mConnected to DuckDB.\u001b[0m\n",
      "\u001b[32m2025-02-16 21:25:26.743\u001b[0m | \u001b[1mINFO    \u001b[0m | \u001b[36m__main__\u001b[0m:\u001b[36m<module>\u001b[0m:\u001b[36m23\u001b[0m - \u001b[1mReading data from parquet file global-1985-b0b288be6469a2fd281dce976657d1c7.parquet.\u001b[0m\n",
      "\u001b[32m2025-02-16 21:26:00.676\u001b[0m | \u001b[32m\u001b[1mSUCCESS \u001b[0m | \u001b[36m__main__\u001b[0m:\u001b[36m<module>\u001b[0m:\u001b[36m31\u001b[0m - \u001b[32m\u001b[1mData read successfully.\u001b[0m\n",
      "\u001b[32m2025-02-16 21:26:00.676\u001b[0m | \u001b[1mINFO    \u001b[0m | \u001b[36m__main__\u001b[0m:\u001b[36m<module>\u001b[0m:\u001b[36m34\u001b[0m - \u001b[1mInserting data into temperature table.\u001b[0m\n"
     ]
    },
    {
     "data": {
      "application/vnd.jupyter.widget-view+json": {
       "model_id": "af958e3a4f224deaba4afcb517801ab8",
       "version_major": 2,
       "version_minor": 0
      },
      "text/plain": [
       "FloatProgress(value=0.0, layout=Layout(width='auto'), style=ProgressStyle(bar_color='black'))"
      ]
     },
     "metadata": {},
     "output_type": "display_data"
    },
    {
     "name": "stdout",
     "output_type": "stream",
     "text": [
      "\u001b[32m2025-02-16 21:27:10.735\u001b[0m | \u001b[32m\u001b[1mSUCCESS \u001b[0m | \u001b[36m__main__\u001b[0m:\u001b[36m<module>\u001b[0m:\u001b[36m36\u001b[0m - \u001b[32m\u001b[1mData inserted successfully.\u001b[0m\n",
      "\u001b[32m2025-02-16 21:27:10.747\u001b[0m | \u001b[1mINFO    \u001b[0m | \u001b[36m__main__\u001b[0m:\u001b[36m<module>\u001b[0m:\u001b[36m42\u001b[0m - \u001b[1mQuerying data from temperature table.\u001b[0m\n",
      "\u001b[32m2025-02-16 21:27:10.748\u001b[0m | \u001b[32m\u001b[1mSUCCESS \u001b[0m | \u001b[36m__main__\u001b[0m:\u001b[36m<module>\u001b[0m:\u001b[36m44\u001b[0m - \u001b[32m\u001b[1mData queried successfully.\u001b[0m\n",
      "\u001b[32m2025-02-16 21:27:17.466\u001b[0m | \u001b[32m\u001b[1mSUCCESS \u001b[0m | \u001b[36m__main__\u001b[0m:\u001b[36m<module>\u001b[0m:\u001b[36m49\u001b[0m - \u001b[32m\u001b[1mConnection closed successfully.\u001b[0m\n",
      "\u001b[32m2025-02-16 21:27:17.467\u001b[0m | \u001b[1mINFO    \u001b[0m | \u001b[36m__main__\u001b[0m:\u001b[36m<module>\u001b[0m:\u001b[36m17\u001b[0m - \u001b[1mConnecting to DuckDB.\u001b[0m\n",
      "\u001b[32m2025-02-16 21:27:17.533\u001b[0m | \u001b[32m\u001b[1mSUCCESS \u001b[0m | \u001b[36m__main__\u001b[0m:\u001b[36m<module>\u001b[0m:\u001b[36m20\u001b[0m - \u001b[32m\u001b[1mConnected to DuckDB.\u001b[0m\n",
      "\u001b[32m2025-02-16 21:27:17.534\u001b[0m | \u001b[1mINFO    \u001b[0m | \u001b[36m__main__\u001b[0m:\u001b[36m<module>\u001b[0m:\u001b[36m23\u001b[0m - \u001b[1mReading data from parquet file global-1986-d35e28b9b614812bf083fba3ea1b973b.parquet.\u001b[0m\n",
      "\u001b[32m2025-02-16 21:27:32.182\u001b[0m | \u001b[32m\u001b[1mSUCCESS \u001b[0m | \u001b[36m__main__\u001b[0m:\u001b[36m<module>\u001b[0m:\u001b[36m31\u001b[0m - \u001b[32m\u001b[1mData read successfully.\u001b[0m\n",
      "\u001b[32m2025-02-16 21:27:32.182\u001b[0m | \u001b[1mINFO    \u001b[0m | \u001b[36m__main__\u001b[0m:\u001b[36m<module>\u001b[0m:\u001b[36m34\u001b[0m - \u001b[1mInserting data into temperature table.\u001b[0m\n"
     ]
    },
    {
     "data": {
      "application/vnd.jupyter.widget-view+json": {
       "model_id": "7ed4ddcb2b394c0abba2ed515d163fd0",
       "version_major": 2,
       "version_minor": 0
      },
      "text/plain": [
       "FloatProgress(value=0.0, layout=Layout(width='auto'), style=ProgressStyle(bar_color='black'))"
      ]
     },
     "metadata": {},
     "output_type": "display_data"
    },
    {
     "name": "stdout",
     "output_type": "stream",
     "text": [
      "\u001b[32m2025-02-16 21:28:38.528\u001b[0m | \u001b[32m\u001b[1mSUCCESS \u001b[0m | \u001b[36m__main__\u001b[0m:\u001b[36m<module>\u001b[0m:\u001b[36m36\u001b[0m - \u001b[32m\u001b[1mData inserted successfully.\u001b[0m\n",
      "\u001b[32m2025-02-16 21:28:38.539\u001b[0m | \u001b[1mINFO    \u001b[0m | \u001b[36m__main__\u001b[0m:\u001b[36m<module>\u001b[0m:\u001b[36m42\u001b[0m - \u001b[1mQuerying data from temperature table.\u001b[0m\n",
      "\u001b[32m2025-02-16 21:28:38.540\u001b[0m | \u001b[32m\u001b[1mSUCCESS \u001b[0m | \u001b[36m__main__\u001b[0m:\u001b[36m<module>\u001b[0m:\u001b[36m44\u001b[0m - \u001b[32m\u001b[1mData queried successfully.\u001b[0m\n",
      "\u001b[32m2025-02-16 21:28:45.274\u001b[0m | \u001b[32m\u001b[1mSUCCESS \u001b[0m | \u001b[36m__main__\u001b[0m:\u001b[36m<module>\u001b[0m:\u001b[36m49\u001b[0m - \u001b[32m\u001b[1mConnection closed successfully.\u001b[0m\n",
      "\u001b[32m2025-02-16 21:28:45.275\u001b[0m | \u001b[1mINFO    \u001b[0m | \u001b[36m__main__\u001b[0m:\u001b[36m<module>\u001b[0m:\u001b[36m17\u001b[0m - \u001b[1mConnecting to DuckDB.\u001b[0m\n",
      "\u001b[32m2025-02-16 21:28:45.334\u001b[0m | \u001b[32m\u001b[1mSUCCESS \u001b[0m | \u001b[36m__main__\u001b[0m:\u001b[36m<module>\u001b[0m:\u001b[36m20\u001b[0m - \u001b[32m\u001b[1mConnected to DuckDB.\u001b[0m\n",
      "\u001b[32m2025-02-16 21:28:45.334\u001b[0m | \u001b[1mINFO    \u001b[0m | \u001b[36m__main__\u001b[0m:\u001b[36m<module>\u001b[0m:\u001b[36m23\u001b[0m - \u001b[1mReading data from parquet file global-1987-23f4c26fc88578819a91ee69676cc339.parquet.\u001b[0m\n",
      "\u001b[32m2025-02-16 21:29:00.640\u001b[0m | \u001b[32m\u001b[1mSUCCESS \u001b[0m | \u001b[36m__main__\u001b[0m:\u001b[36m<module>\u001b[0m:\u001b[36m31\u001b[0m - \u001b[32m\u001b[1mData read successfully.\u001b[0m\n",
      "\u001b[32m2025-02-16 21:29:00.641\u001b[0m | \u001b[1mINFO    \u001b[0m | \u001b[36m__main__\u001b[0m:\u001b[36m<module>\u001b[0m:\u001b[36m34\u001b[0m - \u001b[1mInserting data into temperature table.\u001b[0m\n"
     ]
    },
    {
     "data": {
      "application/vnd.jupyter.widget-view+json": {
       "model_id": "680989114e0440a38635166562aa8649",
       "version_major": 2,
       "version_minor": 0
      },
      "text/plain": [
       "FloatProgress(value=0.0, layout=Layout(width='auto'), style=ProgressStyle(bar_color='black'))"
      ]
     },
     "metadata": {},
     "output_type": "display_data"
    },
    {
     "name": "stdout",
     "output_type": "stream",
     "text": [
      "\u001b[32m2025-02-16 21:30:05.956\u001b[0m | \u001b[32m\u001b[1mSUCCESS \u001b[0m | \u001b[36m__main__\u001b[0m:\u001b[36m<module>\u001b[0m:\u001b[36m36\u001b[0m - \u001b[32m\u001b[1mData inserted successfully.\u001b[0m\n",
      "\u001b[32m2025-02-16 21:30:05.969\u001b[0m | \u001b[1mINFO    \u001b[0m | \u001b[36m__main__\u001b[0m:\u001b[36m<module>\u001b[0m:\u001b[36m42\u001b[0m - \u001b[1mQuerying data from temperature table.\u001b[0m\n",
      "\u001b[32m2025-02-16 21:30:05.969\u001b[0m | \u001b[32m\u001b[1mSUCCESS \u001b[0m | \u001b[36m__main__\u001b[0m:\u001b[36m<module>\u001b[0m:\u001b[36m44\u001b[0m - \u001b[32m\u001b[1mData queried successfully.\u001b[0m\n",
      "\u001b[32m2025-02-16 21:30:13.161\u001b[0m | \u001b[32m\u001b[1mSUCCESS \u001b[0m | \u001b[36m__main__\u001b[0m:\u001b[36m<module>\u001b[0m:\u001b[36m49\u001b[0m - \u001b[32m\u001b[1mConnection closed successfully.\u001b[0m\n",
      "\u001b[32m2025-02-16 21:30:13.162\u001b[0m | \u001b[1mINFO    \u001b[0m | \u001b[36m__main__\u001b[0m:\u001b[36m<module>\u001b[0m:\u001b[36m17\u001b[0m - \u001b[1mConnecting to DuckDB.\u001b[0m\n",
      "\u001b[32m2025-02-16 21:30:13.248\u001b[0m | \u001b[32m\u001b[1mSUCCESS \u001b[0m | \u001b[36m__main__\u001b[0m:\u001b[36m<module>\u001b[0m:\u001b[36m20\u001b[0m - \u001b[32m\u001b[1mConnected to DuckDB.\u001b[0m\n",
      "\u001b[32m2025-02-16 21:30:13.248\u001b[0m | \u001b[1mINFO    \u001b[0m | \u001b[36m__main__\u001b[0m:\u001b[36m<module>\u001b[0m:\u001b[36m23\u001b[0m - \u001b[1mReading data from parquet file global-1988-66191ce6f3d4cb0af46322c6b6d9c43c.parquet.\u001b[0m\n",
      "\u001b[32m2025-02-16 21:30:26.467\u001b[0m | \u001b[32m\u001b[1mSUCCESS \u001b[0m | \u001b[36m__main__\u001b[0m:\u001b[36m<module>\u001b[0m:\u001b[36m31\u001b[0m - \u001b[32m\u001b[1mData read successfully.\u001b[0m\n",
      "\u001b[32m2025-02-16 21:30:26.468\u001b[0m | \u001b[1mINFO    \u001b[0m | \u001b[36m__main__\u001b[0m:\u001b[36m<module>\u001b[0m:\u001b[36m34\u001b[0m - \u001b[1mInserting data into temperature table.\u001b[0m\n"
     ]
    },
    {
     "data": {
      "application/vnd.jupyter.widget-view+json": {
       "model_id": "cbb6a3495bb04233ae8db2f0e28a04e9",
       "version_major": 2,
       "version_minor": 0
      },
      "text/plain": [
       "FloatProgress(value=0.0, layout=Layout(width='auto'), style=ProgressStyle(bar_color='black'))"
      ]
     },
     "metadata": {},
     "output_type": "display_data"
    },
    {
     "name": "stdout",
     "output_type": "stream",
     "text": [
      "\u001b[32m2025-02-16 21:31:31.667\u001b[0m | \u001b[32m\u001b[1mSUCCESS \u001b[0m | \u001b[36m__main__\u001b[0m:\u001b[36m<module>\u001b[0m:\u001b[36m36\u001b[0m - \u001b[32m\u001b[1mData inserted successfully.\u001b[0m\n",
      "\u001b[32m2025-02-16 21:31:31.695\u001b[0m | \u001b[1mINFO    \u001b[0m | \u001b[36m__main__\u001b[0m:\u001b[36m<module>\u001b[0m:\u001b[36m42\u001b[0m - \u001b[1mQuerying data from temperature table.\u001b[0m\n",
      "\u001b[32m2025-02-16 21:31:31.696\u001b[0m | \u001b[32m\u001b[1mSUCCESS \u001b[0m | \u001b[36m__main__\u001b[0m:\u001b[36m<module>\u001b[0m:\u001b[36m44\u001b[0m - \u001b[32m\u001b[1mData queried successfully.\u001b[0m\n",
      "\u001b[32m2025-02-16 21:31:38.153\u001b[0m | \u001b[32m\u001b[1mSUCCESS \u001b[0m | \u001b[36m__main__\u001b[0m:\u001b[36m<module>\u001b[0m:\u001b[36m49\u001b[0m - \u001b[32m\u001b[1mConnection closed successfully.\u001b[0m\n",
      "\u001b[32m2025-02-16 21:31:38.154\u001b[0m | \u001b[1mINFO    \u001b[0m | \u001b[36m__main__\u001b[0m:\u001b[36m<module>\u001b[0m:\u001b[36m17\u001b[0m - \u001b[1mConnecting to DuckDB.\u001b[0m\n",
      "\u001b[32m2025-02-16 21:31:38.258\u001b[0m | \u001b[32m\u001b[1mSUCCESS \u001b[0m | \u001b[36m__main__\u001b[0m:\u001b[36m<module>\u001b[0m:\u001b[36m20\u001b[0m - \u001b[32m\u001b[1mConnected to DuckDB.\u001b[0m\n",
      "\u001b[32m2025-02-16 21:31:38.258\u001b[0m | \u001b[1mINFO    \u001b[0m | \u001b[36m__main__\u001b[0m:\u001b[36m<module>\u001b[0m:\u001b[36m23\u001b[0m - \u001b[1mReading data from parquet file global-1989-7ba150caa9ed1f3f811795e2a7632138.parquet.\u001b[0m\n",
      "\u001b[32m2025-02-16 21:31:58.027\u001b[0m | \u001b[32m\u001b[1mSUCCESS \u001b[0m | \u001b[36m__main__\u001b[0m:\u001b[36m<module>\u001b[0m:\u001b[36m31\u001b[0m - \u001b[32m\u001b[1mData read successfully.\u001b[0m\n",
      "\u001b[32m2025-02-16 21:31:58.027\u001b[0m | \u001b[1mINFO    \u001b[0m | \u001b[36m__main__\u001b[0m:\u001b[36m<module>\u001b[0m:\u001b[36m34\u001b[0m - \u001b[1mInserting data into temperature table.\u001b[0m\n"
     ]
    },
    {
     "data": {
      "application/vnd.jupyter.widget-view+json": {
       "model_id": "cb7c5f4e9635470ba1fa7ee46abd3a0c",
       "version_major": 2,
       "version_minor": 0
      },
      "text/plain": [
       "FloatProgress(value=0.0, layout=Layout(width='auto'), style=ProgressStyle(bar_color='black'))"
      ]
     },
     "metadata": {},
     "output_type": "display_data"
    },
    {
     "name": "stdout",
     "output_type": "stream",
     "text": [
      "\u001b[32m2025-02-16 21:33:08.594\u001b[0m | \u001b[32m\u001b[1mSUCCESS \u001b[0m | \u001b[36m__main__\u001b[0m:\u001b[36m<module>\u001b[0m:\u001b[36m36\u001b[0m - \u001b[32m\u001b[1mData inserted successfully.\u001b[0m\n",
      "\u001b[32m2025-02-16 21:33:08.606\u001b[0m | \u001b[1mINFO    \u001b[0m | \u001b[36m__main__\u001b[0m:\u001b[36m<module>\u001b[0m:\u001b[36m42\u001b[0m - \u001b[1mQuerying data from temperature table.\u001b[0m\n",
      "\u001b[32m2025-02-16 21:33:08.607\u001b[0m | \u001b[32m\u001b[1mSUCCESS \u001b[0m | \u001b[36m__main__\u001b[0m:\u001b[36m<module>\u001b[0m:\u001b[36m44\u001b[0m - \u001b[32m\u001b[1mData queried successfully.\u001b[0m\n",
      "\u001b[32m2025-02-16 21:33:15.261\u001b[0m | \u001b[32m\u001b[1mSUCCESS \u001b[0m | \u001b[36m__main__\u001b[0m:\u001b[36m<module>\u001b[0m:\u001b[36m49\u001b[0m - \u001b[32m\u001b[1mConnection closed successfully.\u001b[0m\n",
      "\u001b[32m2025-02-16 21:33:15.262\u001b[0m | \u001b[1mINFO    \u001b[0m | \u001b[36m__main__\u001b[0m:\u001b[36m<module>\u001b[0m:\u001b[36m17\u001b[0m - \u001b[1mConnecting to DuckDB.\u001b[0m\n",
      "\u001b[32m2025-02-16 21:33:15.409\u001b[0m | \u001b[32m\u001b[1mSUCCESS \u001b[0m | \u001b[36m__main__\u001b[0m:\u001b[36m<module>\u001b[0m:\u001b[36m20\u001b[0m - \u001b[32m\u001b[1mConnected to DuckDB.\u001b[0m\n",
      "\u001b[32m2025-02-16 21:33:15.409\u001b[0m | \u001b[1mINFO    \u001b[0m | \u001b[36m__main__\u001b[0m:\u001b[36m<module>\u001b[0m:\u001b[36m23\u001b[0m - \u001b[1mReading data from parquet file global-1990-9a5362f6da93ee7dfe903f0619ccc0ce.parquet.\u001b[0m\n",
      "\u001b[32m2025-02-16 21:33:33.284\u001b[0m | \u001b[32m\u001b[1mSUCCESS \u001b[0m | \u001b[36m__main__\u001b[0m:\u001b[36m<module>\u001b[0m:\u001b[36m31\u001b[0m - \u001b[32m\u001b[1mData read successfully.\u001b[0m\n",
      "\u001b[32m2025-02-16 21:33:33.285\u001b[0m | \u001b[1mINFO    \u001b[0m | \u001b[36m__main__\u001b[0m:\u001b[36m<module>\u001b[0m:\u001b[36m34\u001b[0m - \u001b[1mInserting data into temperature table.\u001b[0m\n"
     ]
    },
    {
     "data": {
      "application/vnd.jupyter.widget-view+json": {
       "model_id": "36048e9b31274befb85b145bcb6e740e",
       "version_major": 2,
       "version_minor": 0
      },
      "text/plain": [
       "FloatProgress(value=0.0, layout=Layout(width='auto'), style=ProgressStyle(bar_color='black'))"
      ]
     },
     "metadata": {},
     "output_type": "display_data"
    },
    {
     "name": "stdout",
     "output_type": "stream",
     "text": [
      "\u001b[32m2025-02-16 21:34:39.647\u001b[0m | \u001b[32m\u001b[1mSUCCESS \u001b[0m | \u001b[36m__main__\u001b[0m:\u001b[36m<module>\u001b[0m:\u001b[36m36\u001b[0m - \u001b[32m\u001b[1mData inserted successfully.\u001b[0m\n",
      "\u001b[32m2025-02-16 21:34:39.659\u001b[0m | \u001b[1mINFO    \u001b[0m | \u001b[36m__main__\u001b[0m:\u001b[36m<module>\u001b[0m:\u001b[36m42\u001b[0m - \u001b[1mQuerying data from temperature table.\u001b[0m\n",
      "\u001b[32m2025-02-16 21:34:39.660\u001b[0m | \u001b[32m\u001b[1mSUCCESS \u001b[0m | \u001b[36m__main__\u001b[0m:\u001b[36m<module>\u001b[0m:\u001b[36m44\u001b[0m - \u001b[32m\u001b[1mData queried successfully.\u001b[0m\n",
      "\u001b[32m2025-02-16 21:34:46.450\u001b[0m | \u001b[32m\u001b[1mSUCCESS \u001b[0m | \u001b[36m__main__\u001b[0m:\u001b[36m<module>\u001b[0m:\u001b[36m49\u001b[0m - \u001b[32m\u001b[1mConnection closed successfully.\u001b[0m\n",
      "\u001b[32m2025-02-16 21:34:46.451\u001b[0m | \u001b[1mINFO    \u001b[0m | \u001b[36m__main__\u001b[0m:\u001b[36m<module>\u001b[0m:\u001b[36m17\u001b[0m - \u001b[1mConnecting to DuckDB.\u001b[0m\n",
      "\u001b[32m2025-02-16 21:34:46.531\u001b[0m | \u001b[32m\u001b[1mSUCCESS \u001b[0m | \u001b[36m__main__\u001b[0m:\u001b[36m<module>\u001b[0m:\u001b[36m20\u001b[0m - \u001b[32m\u001b[1mConnected to DuckDB.\u001b[0m\n",
      "\u001b[32m2025-02-16 21:34:46.532\u001b[0m | \u001b[1mINFO    \u001b[0m | \u001b[36m__main__\u001b[0m:\u001b[36m<module>\u001b[0m:\u001b[36m23\u001b[0m - \u001b[1mReading data from parquet file global-1991-6350a1e731c1e65640710c27574b564.parquet.\u001b[0m\n",
      "\u001b[32m2025-02-16 21:35:05.528\u001b[0m | \u001b[32m\u001b[1mSUCCESS \u001b[0m | \u001b[36m__main__\u001b[0m:\u001b[36m<module>\u001b[0m:\u001b[36m31\u001b[0m - \u001b[32m\u001b[1mData read successfully.\u001b[0m\n",
      "\u001b[32m2025-02-16 21:35:05.528\u001b[0m | \u001b[1mINFO    \u001b[0m | \u001b[36m__main__\u001b[0m:\u001b[36m<module>\u001b[0m:\u001b[36m34\u001b[0m - \u001b[1mInserting data into temperature table.\u001b[0m\n"
     ]
    },
    {
     "data": {
      "application/vnd.jupyter.widget-view+json": {
       "model_id": "d61535079b5244aba73e8748fe3969c6",
       "version_major": 2,
       "version_minor": 0
      },
      "text/plain": [
       "FloatProgress(value=0.0, layout=Layout(width='auto'), style=ProgressStyle(bar_color='black'))"
      ]
     },
     "metadata": {},
     "output_type": "display_data"
    },
    {
     "name": "stdout",
     "output_type": "stream",
     "text": [
      "\u001b[32m2025-02-16 21:36:13.232\u001b[0m | \u001b[32m\u001b[1mSUCCESS \u001b[0m | \u001b[36m__main__\u001b[0m:\u001b[36m<module>\u001b[0m:\u001b[36m36\u001b[0m - \u001b[32m\u001b[1mData inserted successfully.\u001b[0m\n",
      "\u001b[32m2025-02-16 21:36:13.244\u001b[0m | \u001b[1mINFO    \u001b[0m | \u001b[36m__main__\u001b[0m:\u001b[36m<module>\u001b[0m:\u001b[36m42\u001b[0m - \u001b[1mQuerying data from temperature table.\u001b[0m\n",
      "\u001b[32m2025-02-16 21:36:13.244\u001b[0m | \u001b[32m\u001b[1mSUCCESS \u001b[0m | \u001b[36m__main__\u001b[0m:\u001b[36m<module>\u001b[0m:\u001b[36m44\u001b[0m - \u001b[32m\u001b[1mData queried successfully.\u001b[0m\n",
      "\u001b[32m2025-02-16 21:36:20.404\u001b[0m | \u001b[32m\u001b[1mSUCCESS \u001b[0m | \u001b[36m__main__\u001b[0m:\u001b[36m<module>\u001b[0m:\u001b[36m49\u001b[0m - \u001b[32m\u001b[1mConnection closed successfully.\u001b[0m\n",
      "\u001b[32m2025-02-16 21:36:20.406\u001b[0m | \u001b[1mINFO    \u001b[0m | \u001b[36m__main__\u001b[0m:\u001b[36m<module>\u001b[0m:\u001b[36m17\u001b[0m - \u001b[1mConnecting to DuckDB.\u001b[0m\n",
      "\u001b[32m2025-02-16 21:36:20.534\u001b[0m | \u001b[32m\u001b[1mSUCCESS \u001b[0m | \u001b[36m__main__\u001b[0m:\u001b[36m<module>\u001b[0m:\u001b[36m20\u001b[0m - \u001b[32m\u001b[1mConnected to DuckDB.\u001b[0m\n",
      "\u001b[32m2025-02-16 21:36:20.534\u001b[0m | \u001b[1mINFO    \u001b[0m | \u001b[36m__main__\u001b[0m:\u001b[36m<module>\u001b[0m:\u001b[36m23\u001b[0m - \u001b[1mReading data from parquet file global-1992-3da0f7afc24d0898721ca900fe670d4c.parquet.\u001b[0m\n",
      "\u001b[32m2025-02-16 21:36:40.128\u001b[0m | \u001b[32m\u001b[1mSUCCESS \u001b[0m | \u001b[36m__main__\u001b[0m:\u001b[36m<module>\u001b[0m:\u001b[36m31\u001b[0m - \u001b[32m\u001b[1mData read successfully.\u001b[0m\n",
      "\u001b[32m2025-02-16 21:36:40.128\u001b[0m | \u001b[1mINFO    \u001b[0m | \u001b[36m__main__\u001b[0m:\u001b[36m<module>\u001b[0m:\u001b[36m34\u001b[0m - \u001b[1mInserting data into temperature table.\u001b[0m\n"
     ]
    },
    {
     "data": {
      "application/vnd.jupyter.widget-view+json": {
       "model_id": "ebb3a3f14cde4461971d12be303832de",
       "version_major": 2,
       "version_minor": 0
      },
      "text/plain": [
       "FloatProgress(value=0.0, layout=Layout(width='auto'), style=ProgressStyle(bar_color='black'))"
      ]
     },
     "metadata": {},
     "output_type": "display_data"
    },
    {
     "name": "stdout",
     "output_type": "stream",
     "text": [
      "\u001b[32m2025-02-16 21:37:49.399\u001b[0m | \u001b[32m\u001b[1mSUCCESS \u001b[0m | \u001b[36m__main__\u001b[0m:\u001b[36m<module>\u001b[0m:\u001b[36m36\u001b[0m - \u001b[32m\u001b[1mData inserted successfully.\u001b[0m\n",
      "\u001b[32m2025-02-16 21:37:49.411\u001b[0m | \u001b[1mINFO    \u001b[0m | \u001b[36m__main__\u001b[0m:\u001b[36m<module>\u001b[0m:\u001b[36m42\u001b[0m - \u001b[1mQuerying data from temperature table.\u001b[0m\n",
      "\u001b[32m2025-02-16 21:37:49.411\u001b[0m | \u001b[32m\u001b[1mSUCCESS \u001b[0m | \u001b[36m__main__\u001b[0m:\u001b[36m<module>\u001b[0m:\u001b[36m44\u001b[0m - \u001b[32m\u001b[1mData queried successfully.\u001b[0m\n",
      "\u001b[32m2025-02-16 21:37:56.623\u001b[0m | \u001b[32m\u001b[1mSUCCESS \u001b[0m | \u001b[36m__main__\u001b[0m:\u001b[36m<module>\u001b[0m:\u001b[36m49\u001b[0m - \u001b[32m\u001b[1mConnection closed successfully.\u001b[0m\n",
      "\u001b[32m2025-02-16 21:37:56.624\u001b[0m | \u001b[1mINFO    \u001b[0m | \u001b[36m__main__\u001b[0m:\u001b[36m<module>\u001b[0m:\u001b[36m17\u001b[0m - \u001b[1mConnecting to DuckDB.\u001b[0m\n",
      "\u001b[32m2025-02-16 21:37:56.689\u001b[0m | \u001b[32m\u001b[1mSUCCESS \u001b[0m | \u001b[36m__main__\u001b[0m:\u001b[36m<module>\u001b[0m:\u001b[36m20\u001b[0m - \u001b[32m\u001b[1mConnected to DuckDB.\u001b[0m\n",
      "\u001b[32m2025-02-16 21:37:56.689\u001b[0m | \u001b[1mINFO    \u001b[0m | \u001b[36m__main__\u001b[0m:\u001b[36m<module>\u001b[0m:\u001b[36m23\u001b[0m - \u001b[1mReading data from parquet file global-1993-a41a067b6a5e0db169ca87cb5d3c6ad6.parquet.\u001b[0m\n",
      "\u001b[32m2025-02-16 21:38:13.033\u001b[0m | \u001b[32m\u001b[1mSUCCESS \u001b[0m | \u001b[36m__main__\u001b[0m:\u001b[36m<module>\u001b[0m:\u001b[36m31\u001b[0m - \u001b[32m\u001b[1mData read successfully.\u001b[0m\n",
      "\u001b[32m2025-02-16 21:38:13.034\u001b[0m | \u001b[1mINFO    \u001b[0m | \u001b[36m__main__\u001b[0m:\u001b[36m<module>\u001b[0m:\u001b[36m34\u001b[0m - \u001b[1mInserting data into temperature table.\u001b[0m\n"
     ]
    },
    {
     "data": {
      "application/vnd.jupyter.widget-view+json": {
       "model_id": "75bc4b99c74f4d7682074dbae4c8f66d",
       "version_major": 2,
       "version_minor": 0
      },
      "text/plain": [
       "FloatProgress(value=0.0, layout=Layout(width='auto'), style=ProgressStyle(bar_color='black'))"
      ]
     },
     "metadata": {},
     "output_type": "display_data"
    },
    {
     "name": "stdout",
     "output_type": "stream",
     "text": [
      "\u001b[32m2025-02-16 21:39:24.509\u001b[0m | \u001b[32m\u001b[1mSUCCESS \u001b[0m | \u001b[36m__main__\u001b[0m:\u001b[36m<module>\u001b[0m:\u001b[36m36\u001b[0m - \u001b[32m\u001b[1mData inserted successfully.\u001b[0m\n",
      "\u001b[32m2025-02-16 21:39:24.520\u001b[0m | \u001b[1mINFO    \u001b[0m | \u001b[36m__main__\u001b[0m:\u001b[36m<module>\u001b[0m:\u001b[36m42\u001b[0m - \u001b[1mQuerying data from temperature table.\u001b[0m\n",
      "\u001b[32m2025-02-16 21:39:24.521\u001b[0m | \u001b[32m\u001b[1mSUCCESS \u001b[0m | \u001b[36m__main__\u001b[0m:\u001b[36m<module>\u001b[0m:\u001b[36m44\u001b[0m - \u001b[32m\u001b[1mData queried successfully.\u001b[0m\n",
      "\u001b[32m2025-02-16 21:39:31.888\u001b[0m | \u001b[32m\u001b[1mSUCCESS \u001b[0m | \u001b[36m__main__\u001b[0m:\u001b[36m<module>\u001b[0m:\u001b[36m49\u001b[0m - \u001b[32m\u001b[1mConnection closed successfully.\u001b[0m\n",
      "\u001b[32m2025-02-16 21:39:31.889\u001b[0m | \u001b[1mINFO    \u001b[0m | \u001b[36m__main__\u001b[0m:\u001b[36m<module>\u001b[0m:\u001b[36m17\u001b[0m - \u001b[1mConnecting to DuckDB.\u001b[0m\n",
      "\u001b[32m2025-02-16 21:39:32.167\u001b[0m | \u001b[32m\u001b[1mSUCCESS \u001b[0m | \u001b[36m__main__\u001b[0m:\u001b[36m<module>\u001b[0m:\u001b[36m20\u001b[0m - \u001b[32m\u001b[1mConnected to DuckDB.\u001b[0m\n",
      "\u001b[32m2025-02-16 21:39:32.168\u001b[0m | \u001b[1mINFO    \u001b[0m | \u001b[36m__main__\u001b[0m:\u001b[36m<module>\u001b[0m:\u001b[36m23\u001b[0m - \u001b[1mReading data from parquet file global-1994-9f5a091fc9878c91ca3e8d1690a422db.parquet.\u001b[0m\n",
      "\u001b[32m2025-02-16 21:39:50.557\u001b[0m | \u001b[32m\u001b[1mSUCCESS \u001b[0m | \u001b[36m__main__\u001b[0m:\u001b[36m<module>\u001b[0m:\u001b[36m31\u001b[0m - \u001b[32m\u001b[1mData read successfully.\u001b[0m\n",
      "\u001b[32m2025-02-16 21:39:50.558\u001b[0m | \u001b[1mINFO    \u001b[0m | \u001b[36m__main__\u001b[0m:\u001b[36m<module>\u001b[0m:\u001b[36m34\u001b[0m - \u001b[1mInserting data into temperature table.\u001b[0m\n"
     ]
    },
    {
     "data": {
      "application/vnd.jupyter.widget-view+json": {
       "model_id": "d1ab49b64097435db9d697c50b216742",
       "version_major": 2,
       "version_minor": 0
      },
      "text/plain": [
       "FloatProgress(value=0.0, layout=Layout(width='auto'), style=ProgressStyle(bar_color='black'))"
      ]
     },
     "metadata": {},
     "output_type": "display_data"
    },
    {
     "name": "stdout",
     "output_type": "stream",
     "text": [
      "\u001b[32m2025-02-16 21:41:01.744\u001b[0m | \u001b[32m\u001b[1mSUCCESS \u001b[0m | \u001b[36m__main__\u001b[0m:\u001b[36m<module>\u001b[0m:\u001b[36m36\u001b[0m - \u001b[32m\u001b[1mData inserted successfully.\u001b[0m\n",
      "\u001b[32m2025-02-16 21:41:01.755\u001b[0m | \u001b[1mINFO    \u001b[0m | \u001b[36m__main__\u001b[0m:\u001b[36m<module>\u001b[0m:\u001b[36m42\u001b[0m - \u001b[1mQuerying data from temperature table.\u001b[0m\n",
      "\u001b[32m2025-02-16 21:41:01.755\u001b[0m | \u001b[32m\u001b[1mSUCCESS \u001b[0m | \u001b[36m__main__\u001b[0m:\u001b[36m<module>\u001b[0m:\u001b[36m44\u001b[0m - \u001b[32m\u001b[1mData queried successfully.\u001b[0m\n",
      "\u001b[32m2025-02-16 21:41:09.239\u001b[0m | \u001b[32m\u001b[1mSUCCESS \u001b[0m | \u001b[36m__main__\u001b[0m:\u001b[36m<module>\u001b[0m:\u001b[36m49\u001b[0m - \u001b[32m\u001b[1mConnection closed successfully.\u001b[0m\n",
      "\u001b[32m2025-02-16 21:41:09.240\u001b[0m | \u001b[1mINFO    \u001b[0m | \u001b[36m__main__\u001b[0m:\u001b[36m<module>\u001b[0m:\u001b[36m17\u001b[0m - \u001b[1mConnecting to DuckDB.\u001b[0m\n",
      "\u001b[32m2025-02-16 21:41:09.310\u001b[0m | \u001b[32m\u001b[1mSUCCESS \u001b[0m | \u001b[36m__main__\u001b[0m:\u001b[36m<module>\u001b[0m:\u001b[36m20\u001b[0m - \u001b[32m\u001b[1mConnected to DuckDB.\u001b[0m\n",
      "\u001b[32m2025-02-16 21:41:09.310\u001b[0m | \u001b[1mINFO    \u001b[0m | \u001b[36m__main__\u001b[0m:\u001b[36m<module>\u001b[0m:\u001b[36m23\u001b[0m - \u001b[1mReading data from parquet file global-1995-9cdd9b769066cdabe6e1de575d8095de.parquet.\u001b[0m\n",
      "\u001b[32m2025-02-16 21:41:30.072\u001b[0m | \u001b[32m\u001b[1mSUCCESS \u001b[0m | \u001b[36m__main__\u001b[0m:\u001b[36m<module>\u001b[0m:\u001b[36m31\u001b[0m - \u001b[32m\u001b[1mData read successfully.\u001b[0m\n",
      "\u001b[32m2025-02-16 21:41:30.073\u001b[0m | \u001b[1mINFO    \u001b[0m | \u001b[36m__main__\u001b[0m:\u001b[36m<module>\u001b[0m:\u001b[36m34\u001b[0m - \u001b[1mInserting data into temperature table.\u001b[0m\n"
     ]
    },
    {
     "data": {
      "application/vnd.jupyter.widget-view+json": {
       "model_id": "38e8b68fd621426d9117e34dd96e6e59",
       "version_major": 2,
       "version_minor": 0
      },
      "text/plain": [
       "FloatProgress(value=0.0, layout=Layout(width='auto'), style=ProgressStyle(bar_color='black'))"
      ]
     },
     "metadata": {},
     "output_type": "display_data"
    },
    {
     "name": "stdout",
     "output_type": "stream",
     "text": [
      "\u001b[32m2025-02-16 21:42:42.470\u001b[0m | \u001b[32m\u001b[1mSUCCESS \u001b[0m | \u001b[36m__main__\u001b[0m:\u001b[36m<module>\u001b[0m:\u001b[36m36\u001b[0m - \u001b[32m\u001b[1mData inserted successfully.\u001b[0m\n",
      "\u001b[32m2025-02-16 21:42:42.483\u001b[0m | \u001b[1mINFO    \u001b[0m | \u001b[36m__main__\u001b[0m:\u001b[36m<module>\u001b[0m:\u001b[36m42\u001b[0m - \u001b[1mQuerying data from temperature table.\u001b[0m\n",
      "\u001b[32m2025-02-16 21:42:42.484\u001b[0m | \u001b[32m\u001b[1mSUCCESS \u001b[0m | \u001b[36m__main__\u001b[0m:\u001b[36m<module>\u001b[0m:\u001b[36m44\u001b[0m - \u001b[32m\u001b[1mData queried successfully.\u001b[0m\n",
      "\u001b[32m2025-02-16 21:42:50.189\u001b[0m | \u001b[32m\u001b[1mSUCCESS \u001b[0m | \u001b[36m__main__\u001b[0m:\u001b[36m<module>\u001b[0m:\u001b[36m49\u001b[0m - \u001b[32m\u001b[1mConnection closed successfully.\u001b[0m\n",
      "\u001b[32m2025-02-16 21:42:50.190\u001b[0m | \u001b[1mINFO    \u001b[0m | \u001b[36m__main__\u001b[0m:\u001b[36m<module>\u001b[0m:\u001b[36m17\u001b[0m - \u001b[1mConnecting to DuckDB.\u001b[0m\n",
      "\u001b[32m2025-02-16 21:42:50.320\u001b[0m | \u001b[32m\u001b[1mSUCCESS \u001b[0m | \u001b[36m__main__\u001b[0m:\u001b[36m<module>\u001b[0m:\u001b[36m20\u001b[0m - \u001b[32m\u001b[1mConnected to DuckDB.\u001b[0m\n",
      "\u001b[32m2025-02-16 21:42:50.320\u001b[0m | \u001b[1mINFO    \u001b[0m | \u001b[36m__main__\u001b[0m:\u001b[36m<module>\u001b[0m:\u001b[36m23\u001b[0m - \u001b[1mReading data from parquet file global-1996-85bba01c22d99f710d13297174ec3a2a.parquet.\u001b[0m\n",
      "\u001b[32m2025-02-16 21:43:10.364\u001b[0m | \u001b[32m\u001b[1mSUCCESS \u001b[0m | \u001b[36m__main__\u001b[0m:\u001b[36m<module>\u001b[0m:\u001b[36m31\u001b[0m - \u001b[32m\u001b[1mData read successfully.\u001b[0m\n",
      "\u001b[32m2025-02-16 21:43:10.365\u001b[0m | \u001b[1mINFO    \u001b[0m | \u001b[36m__main__\u001b[0m:\u001b[36m<module>\u001b[0m:\u001b[36m34\u001b[0m - \u001b[1mInserting data into temperature table.\u001b[0m\n"
     ]
    },
    {
     "data": {
      "application/vnd.jupyter.widget-view+json": {
       "model_id": "e2267934e17e4e02a756e759065fcf71",
       "version_major": 2,
       "version_minor": 0
      },
      "text/plain": [
       "FloatProgress(value=0.0, layout=Layout(width='auto'), style=ProgressStyle(bar_color='black'))"
      ]
     },
     "metadata": {},
     "output_type": "display_data"
    },
    {
     "name": "stdout",
     "output_type": "stream",
     "text": [
      "\u001b[32m2025-02-16 21:44:22.389\u001b[0m | \u001b[32m\u001b[1mSUCCESS \u001b[0m | \u001b[36m__main__\u001b[0m:\u001b[36m<module>\u001b[0m:\u001b[36m36\u001b[0m - \u001b[32m\u001b[1mData inserted successfully.\u001b[0m\n",
      "\u001b[32m2025-02-16 21:44:22.400\u001b[0m | \u001b[1mINFO    \u001b[0m | \u001b[36m__main__\u001b[0m:\u001b[36m<module>\u001b[0m:\u001b[36m42\u001b[0m - \u001b[1mQuerying data from temperature table.\u001b[0m\n",
      "\u001b[32m2025-02-16 21:44:22.418\u001b[0m | \u001b[32m\u001b[1mSUCCESS \u001b[0m | \u001b[36m__main__\u001b[0m:\u001b[36m<module>\u001b[0m:\u001b[36m44\u001b[0m - \u001b[32m\u001b[1mData queried successfully.\u001b[0m\n",
      "\u001b[32m2025-02-16 21:44:30.182\u001b[0m | \u001b[32m\u001b[1mSUCCESS \u001b[0m | \u001b[36m__main__\u001b[0m:\u001b[36m<module>\u001b[0m:\u001b[36m49\u001b[0m - \u001b[32m\u001b[1mConnection closed successfully.\u001b[0m\n",
      "\u001b[32m2025-02-16 21:44:30.183\u001b[0m | \u001b[1mINFO    \u001b[0m | \u001b[36m__main__\u001b[0m:\u001b[36m<module>\u001b[0m:\u001b[36m17\u001b[0m - \u001b[1mConnecting to DuckDB.\u001b[0m\n",
      "\u001b[32m2025-02-16 21:44:30.256\u001b[0m | \u001b[32m\u001b[1mSUCCESS \u001b[0m | \u001b[36m__main__\u001b[0m:\u001b[36m<module>\u001b[0m:\u001b[36m20\u001b[0m - \u001b[32m\u001b[1mConnected to DuckDB.\u001b[0m\n",
      "\u001b[32m2025-02-16 21:44:30.257\u001b[0m | \u001b[1mINFO    \u001b[0m | \u001b[36m__main__\u001b[0m:\u001b[36m<module>\u001b[0m:\u001b[36m23\u001b[0m - \u001b[1mReading data from parquet file global-1997-30e107b9b006b86263892b58282748db.parquet.\u001b[0m\n",
      "\u001b[32m2025-02-16 21:44:50.689\u001b[0m | \u001b[32m\u001b[1mSUCCESS \u001b[0m | \u001b[36m__main__\u001b[0m:\u001b[36m<module>\u001b[0m:\u001b[36m31\u001b[0m - \u001b[32m\u001b[1mData read successfully.\u001b[0m\n",
      "\u001b[32m2025-02-16 21:44:50.690\u001b[0m | \u001b[1mINFO    \u001b[0m | \u001b[36m__main__\u001b[0m:\u001b[36m<module>\u001b[0m:\u001b[36m34\u001b[0m - \u001b[1mInserting data into temperature table.\u001b[0m\n"
     ]
    },
    {
     "data": {
      "application/vnd.jupyter.widget-view+json": {
       "model_id": "112b82cd08064d1c83c802cd9493d3c1",
       "version_major": 2,
       "version_minor": 0
      },
      "text/plain": [
       "FloatProgress(value=0.0, layout=Layout(width='auto'), style=ProgressStyle(bar_color='black'))"
      ]
     },
     "metadata": {},
     "output_type": "display_data"
    },
    {
     "name": "stdout",
     "output_type": "stream",
     "text": [
      "\u001b[32m2025-02-16 21:46:02.264\u001b[0m | \u001b[32m\u001b[1mSUCCESS \u001b[0m | \u001b[36m__main__\u001b[0m:\u001b[36m<module>\u001b[0m:\u001b[36m36\u001b[0m - \u001b[32m\u001b[1mData inserted successfully.\u001b[0m\n",
      "\u001b[32m2025-02-16 21:46:02.280\u001b[0m | \u001b[1mINFO    \u001b[0m | \u001b[36m__main__\u001b[0m:\u001b[36m<module>\u001b[0m:\u001b[36m42\u001b[0m - \u001b[1mQuerying data from temperature table.\u001b[0m\n",
      "\u001b[32m2025-02-16 21:46:02.281\u001b[0m | \u001b[32m\u001b[1mSUCCESS \u001b[0m | \u001b[36m__main__\u001b[0m:\u001b[36m<module>\u001b[0m:\u001b[36m44\u001b[0m - \u001b[32m\u001b[1mData queried successfully.\u001b[0m\n",
      "\u001b[32m2025-02-16 21:46:10.208\u001b[0m | \u001b[32m\u001b[1mSUCCESS \u001b[0m | \u001b[36m__main__\u001b[0m:\u001b[36m<module>\u001b[0m:\u001b[36m49\u001b[0m - \u001b[32m\u001b[1mConnection closed successfully.\u001b[0m\n",
      "\u001b[32m2025-02-16 21:46:10.209\u001b[0m | \u001b[1mINFO    \u001b[0m | \u001b[36m__main__\u001b[0m:\u001b[36m<module>\u001b[0m:\u001b[36m17\u001b[0m - \u001b[1mConnecting to DuckDB.\u001b[0m\n",
      "\u001b[32m2025-02-16 21:46:10.307\u001b[0m | \u001b[32m\u001b[1mSUCCESS \u001b[0m | \u001b[36m__main__\u001b[0m:\u001b[36m<module>\u001b[0m:\u001b[36m20\u001b[0m - \u001b[32m\u001b[1mConnected to DuckDB.\u001b[0m\n",
      "\u001b[32m2025-02-16 21:46:10.308\u001b[0m | \u001b[1mINFO    \u001b[0m | \u001b[36m__main__\u001b[0m:\u001b[36m<module>\u001b[0m:\u001b[36m23\u001b[0m - \u001b[1mReading data from parquet file global-1998-3554bfd0f6f90b99b93da0da9459749b.parquet.\u001b[0m\n",
      "\u001b[32m2025-02-16 21:46:25.434\u001b[0m | \u001b[32m\u001b[1mSUCCESS \u001b[0m | \u001b[36m__main__\u001b[0m:\u001b[36m<module>\u001b[0m:\u001b[36m31\u001b[0m - \u001b[32m\u001b[1mData read successfully.\u001b[0m\n",
      "\u001b[32m2025-02-16 21:46:25.435\u001b[0m | \u001b[1mINFO    \u001b[0m | \u001b[36m__main__\u001b[0m:\u001b[36m<module>\u001b[0m:\u001b[36m34\u001b[0m - \u001b[1mInserting data into temperature table.\u001b[0m\n"
     ]
    },
    {
     "data": {
      "application/vnd.jupyter.widget-view+json": {
       "model_id": "3278021bcadc4c168f2270c235009af5",
       "version_major": 2,
       "version_minor": 0
      },
      "text/plain": [
       "FloatProgress(value=0.0, layout=Layout(width='auto'), style=ProgressStyle(bar_color='black'))"
      ]
     },
     "metadata": {},
     "output_type": "display_data"
    },
    {
     "name": "stdout",
     "output_type": "stream",
     "text": [
      "\u001b[32m2025-02-16 21:47:37.450\u001b[0m | \u001b[32m\u001b[1mSUCCESS \u001b[0m | \u001b[36m__main__\u001b[0m:\u001b[36m<module>\u001b[0m:\u001b[36m36\u001b[0m - \u001b[32m\u001b[1mData inserted successfully.\u001b[0m\n",
      "\u001b[32m2025-02-16 21:47:37.463\u001b[0m | \u001b[1mINFO    \u001b[0m | \u001b[36m__main__\u001b[0m:\u001b[36m<module>\u001b[0m:\u001b[36m42\u001b[0m - \u001b[1mQuerying data from temperature table.\u001b[0m\n",
      "\u001b[32m2025-02-16 21:47:37.464\u001b[0m | \u001b[32m\u001b[1mSUCCESS \u001b[0m | \u001b[36m__main__\u001b[0m:\u001b[36m<module>\u001b[0m:\u001b[36m44\u001b[0m - \u001b[32m\u001b[1mData queried successfully.\u001b[0m\n",
      "\u001b[32m2025-02-16 21:47:45.414\u001b[0m | \u001b[32m\u001b[1mSUCCESS \u001b[0m | \u001b[36m__main__\u001b[0m:\u001b[36m<module>\u001b[0m:\u001b[36m49\u001b[0m - \u001b[32m\u001b[1mConnection closed successfully.\u001b[0m\n",
      "\u001b[32m2025-02-16 21:47:45.414\u001b[0m | \u001b[1mINFO    \u001b[0m | \u001b[36m__main__\u001b[0m:\u001b[36m<module>\u001b[0m:\u001b[36m17\u001b[0m - \u001b[1mConnecting to DuckDB.\u001b[0m\n",
      "\u001b[32m2025-02-16 21:47:45.598\u001b[0m | \u001b[32m\u001b[1mSUCCESS \u001b[0m | \u001b[36m__main__\u001b[0m:\u001b[36m<module>\u001b[0m:\u001b[36m20\u001b[0m - \u001b[32m\u001b[1mConnected to DuckDB.\u001b[0m\n",
      "\u001b[32m2025-02-16 21:47:45.598\u001b[0m | \u001b[1mINFO    \u001b[0m | \u001b[36m__main__\u001b[0m:\u001b[36m<module>\u001b[0m:\u001b[36m23\u001b[0m - \u001b[1mReading data from parquet file global-1999-778232cfa4bfa69b44af3e8e2a5838c5.parquet.\u001b[0m\n",
      "\u001b[32m2025-02-16 21:48:16.023\u001b[0m | \u001b[32m\u001b[1mSUCCESS \u001b[0m | \u001b[36m__main__\u001b[0m:\u001b[36m<module>\u001b[0m:\u001b[36m31\u001b[0m - \u001b[32m\u001b[1mData read successfully.\u001b[0m\n",
      "\u001b[32m2025-02-16 21:48:16.024\u001b[0m | \u001b[1mINFO    \u001b[0m | \u001b[36m__main__\u001b[0m:\u001b[36m<module>\u001b[0m:\u001b[36m34\u001b[0m - \u001b[1mInserting data into temperature table.\u001b[0m\n"
     ]
    },
    {
     "data": {
      "application/vnd.jupyter.widget-view+json": {
       "model_id": "f93df1e662bb485f9d1935d0f0c817be",
       "version_major": 2,
       "version_minor": 0
      },
      "text/plain": [
       "FloatProgress(value=0.0, layout=Layout(width='auto'), style=ProgressStyle(bar_color='black'))"
      ]
     },
     "metadata": {},
     "output_type": "display_data"
    },
    {
     "name": "stdout",
     "output_type": "stream",
     "text": [
      "\u001b[32m2025-02-16 21:49:27.434\u001b[0m | \u001b[32m\u001b[1mSUCCESS \u001b[0m | \u001b[36m__main__\u001b[0m:\u001b[36m<module>\u001b[0m:\u001b[36m36\u001b[0m - \u001b[32m\u001b[1mData inserted successfully.\u001b[0m\n",
      "\u001b[32m2025-02-16 21:49:27.488\u001b[0m | \u001b[1mINFO    \u001b[0m | \u001b[36m__main__\u001b[0m:\u001b[36m<module>\u001b[0m:\u001b[36m42\u001b[0m - \u001b[1mQuerying data from temperature table.\u001b[0m\n",
      "\u001b[32m2025-02-16 21:49:27.542\u001b[0m | \u001b[32m\u001b[1mSUCCESS \u001b[0m | \u001b[36m__main__\u001b[0m:\u001b[36m<module>\u001b[0m:\u001b[36m44\u001b[0m - \u001b[32m\u001b[1mData queried successfully.\u001b[0m\n",
      "\u001b[32m2025-02-16 21:49:35.594\u001b[0m | \u001b[32m\u001b[1mSUCCESS \u001b[0m | \u001b[36m__main__\u001b[0m:\u001b[36m<module>\u001b[0m:\u001b[36m49\u001b[0m - \u001b[32m\u001b[1mConnection closed successfully.\u001b[0m\n",
      "\u001b[32m2025-02-16 21:49:35.595\u001b[0m | \u001b[1mINFO    \u001b[0m | \u001b[36m__main__\u001b[0m:\u001b[36m<module>\u001b[0m:\u001b[36m17\u001b[0m - \u001b[1mConnecting to DuckDB.\u001b[0m\n",
      "\u001b[32m2025-02-16 21:49:35.786\u001b[0m | \u001b[32m\u001b[1mSUCCESS \u001b[0m | \u001b[36m__main__\u001b[0m:\u001b[36m<module>\u001b[0m:\u001b[36m20\u001b[0m - \u001b[32m\u001b[1mConnected to DuckDB.\u001b[0m\n",
      "\u001b[32m2025-02-16 21:49:35.787\u001b[0m | \u001b[1mINFO    \u001b[0m | \u001b[36m__main__\u001b[0m:\u001b[36m<module>\u001b[0m:\u001b[36m23\u001b[0m - \u001b[1mReading data from parquet file global-2000-fcc7209ea4214109a1e6a5ded3cac9ba.parquet.\u001b[0m\n",
      "\u001b[32m2025-02-16 21:49:54.060\u001b[0m | \u001b[32m\u001b[1mSUCCESS \u001b[0m | \u001b[36m__main__\u001b[0m:\u001b[36m<module>\u001b[0m:\u001b[36m31\u001b[0m - \u001b[32m\u001b[1mData read successfully.\u001b[0m\n",
      "\u001b[32m2025-02-16 21:49:54.061\u001b[0m | \u001b[1mINFO    \u001b[0m | \u001b[36m__main__\u001b[0m:\u001b[36m<module>\u001b[0m:\u001b[36m34\u001b[0m - \u001b[1mInserting data into temperature table.\u001b[0m\n"
     ]
    },
    {
     "data": {
      "application/vnd.jupyter.widget-view+json": {
       "model_id": "e19e9ff840244200bb09b6e206b7f0b4",
       "version_major": 2,
       "version_minor": 0
      },
      "text/plain": [
       "FloatProgress(value=0.0, layout=Layout(width='auto'), style=ProgressStyle(bar_color='black'))"
      ]
     },
     "metadata": {},
     "output_type": "display_data"
    },
    {
     "name": "stdout",
     "output_type": "stream",
     "text": [
      "\u001b[32m2025-02-16 21:51:08.485\u001b[0m | \u001b[32m\u001b[1mSUCCESS \u001b[0m | \u001b[36m__main__\u001b[0m:\u001b[36m<module>\u001b[0m:\u001b[36m36\u001b[0m - \u001b[32m\u001b[1mData inserted successfully.\u001b[0m\n",
      "\u001b[32m2025-02-16 21:51:08.497\u001b[0m | \u001b[1mINFO    \u001b[0m | \u001b[36m__main__\u001b[0m:\u001b[36m<module>\u001b[0m:\u001b[36m42\u001b[0m - \u001b[1mQuerying data from temperature table.\u001b[0m\n",
      "\u001b[32m2025-02-16 21:51:08.498\u001b[0m | \u001b[32m\u001b[1mSUCCESS \u001b[0m | \u001b[36m__main__\u001b[0m:\u001b[36m<module>\u001b[0m:\u001b[36m44\u001b[0m - \u001b[32m\u001b[1mData queried successfully.\u001b[0m\n",
      "\u001b[32m2025-02-16 21:51:16.680\u001b[0m | \u001b[32m\u001b[1mSUCCESS \u001b[0m | \u001b[36m__main__\u001b[0m:\u001b[36m<module>\u001b[0m:\u001b[36m49\u001b[0m - \u001b[32m\u001b[1mConnection closed successfully.\u001b[0m\n",
      "\u001b[32m2025-02-16 21:51:16.681\u001b[0m | \u001b[1mINFO    \u001b[0m | \u001b[36m__main__\u001b[0m:\u001b[36m<module>\u001b[0m:\u001b[36m17\u001b[0m - \u001b[1mConnecting to DuckDB.\u001b[0m\n",
      "\u001b[32m2025-02-16 21:51:17.013\u001b[0m | \u001b[32m\u001b[1mSUCCESS \u001b[0m | \u001b[36m__main__\u001b[0m:\u001b[36m<module>\u001b[0m:\u001b[36m20\u001b[0m - \u001b[32m\u001b[1mConnected to DuckDB.\u001b[0m\n",
      "\u001b[32m2025-02-16 21:51:17.013\u001b[0m | \u001b[1mINFO    \u001b[0m | \u001b[36m__main__\u001b[0m:\u001b[36m<module>\u001b[0m:\u001b[36m23\u001b[0m - \u001b[1mReading data from parquet file global-2001-88e7468e9c6c18c82f140658821fef12.parquet.\u001b[0m\n",
      "\u001b[32m2025-02-16 21:51:40.212\u001b[0m | \u001b[32m\u001b[1mSUCCESS \u001b[0m | \u001b[36m__main__\u001b[0m:\u001b[36m<module>\u001b[0m:\u001b[36m31\u001b[0m - \u001b[32m\u001b[1mData read successfully.\u001b[0m\n",
      "\u001b[32m2025-02-16 21:51:40.213\u001b[0m | \u001b[1mINFO    \u001b[0m | \u001b[36m__main__\u001b[0m:\u001b[36m<module>\u001b[0m:\u001b[36m34\u001b[0m - \u001b[1mInserting data into temperature table.\u001b[0m\n"
     ]
    },
    {
     "data": {
      "application/vnd.jupyter.widget-view+json": {
       "model_id": "3e5f289d010842f19a9ddab09e4845be",
       "version_major": 2,
       "version_minor": 0
      },
      "text/plain": [
       "FloatProgress(value=0.0, layout=Layout(width='auto'), style=ProgressStyle(bar_color='black'))"
      ]
     },
     "metadata": {},
     "output_type": "display_data"
    },
    {
     "name": "stdout",
     "output_type": "stream",
     "text": [
      "\u001b[32m2025-02-16 21:52:53.278\u001b[0m | \u001b[32m\u001b[1mSUCCESS \u001b[0m | \u001b[36m__main__\u001b[0m:\u001b[36m<module>\u001b[0m:\u001b[36m36\u001b[0m - \u001b[32m\u001b[1mData inserted successfully.\u001b[0m\n",
      "\u001b[32m2025-02-16 21:52:53.290\u001b[0m | \u001b[1mINFO    \u001b[0m | \u001b[36m__main__\u001b[0m:\u001b[36m<module>\u001b[0m:\u001b[36m42\u001b[0m - \u001b[1mQuerying data from temperature table.\u001b[0m\n",
      "\u001b[32m2025-02-16 21:52:53.291\u001b[0m | \u001b[32m\u001b[1mSUCCESS \u001b[0m | \u001b[36m__main__\u001b[0m:\u001b[36m<module>\u001b[0m:\u001b[36m44\u001b[0m - \u001b[32m\u001b[1mData queried successfully.\u001b[0m\n",
      "\u001b[32m2025-02-16 21:53:01.582\u001b[0m | \u001b[32m\u001b[1mSUCCESS \u001b[0m | \u001b[36m__main__\u001b[0m:\u001b[36m<module>\u001b[0m:\u001b[36m49\u001b[0m - \u001b[32m\u001b[1mConnection closed successfully.\u001b[0m\n",
      "\u001b[32m2025-02-16 21:53:01.583\u001b[0m | \u001b[1mINFO    \u001b[0m | \u001b[36m__main__\u001b[0m:\u001b[36m<module>\u001b[0m:\u001b[36m17\u001b[0m - \u001b[1mConnecting to DuckDB.\u001b[0m\n",
      "\u001b[32m2025-02-16 21:53:01.740\u001b[0m | \u001b[32m\u001b[1mSUCCESS \u001b[0m | \u001b[36m__main__\u001b[0m:\u001b[36m<module>\u001b[0m:\u001b[36m20\u001b[0m - \u001b[32m\u001b[1mConnected to DuckDB.\u001b[0m\n",
      "\u001b[32m2025-02-16 21:53:01.740\u001b[0m | \u001b[1mINFO    \u001b[0m | \u001b[36m__main__\u001b[0m:\u001b[36m<module>\u001b[0m:\u001b[36m23\u001b[0m - \u001b[1mReading data from parquet file global-2002-efa58e3c009c813f7ff985dbc04abc7.parquet.\u001b[0m\n",
      "\u001b[32m2025-02-16 21:53:25.707\u001b[0m | \u001b[32m\u001b[1mSUCCESS \u001b[0m | \u001b[36m__main__\u001b[0m:\u001b[36m<module>\u001b[0m:\u001b[36m31\u001b[0m - \u001b[32m\u001b[1mData read successfully.\u001b[0m\n",
      "\u001b[32m2025-02-16 21:53:25.707\u001b[0m | \u001b[1mINFO    \u001b[0m | \u001b[36m__main__\u001b[0m:\u001b[36m<module>\u001b[0m:\u001b[36m34\u001b[0m - \u001b[1mInserting data into temperature table.\u001b[0m\n"
     ]
    },
    {
     "data": {
      "application/vnd.jupyter.widget-view+json": {
       "model_id": "a47dc974d22a4db89084bb56d744bd72",
       "version_major": 2,
       "version_minor": 0
      },
      "text/plain": [
       "FloatProgress(value=0.0, layout=Layout(width='auto'), style=ProgressStyle(bar_color='black'))"
      ]
     },
     "metadata": {},
     "output_type": "display_data"
    },
    {
     "name": "stdout",
     "output_type": "stream",
     "text": [
      "\u001b[32m2025-02-16 21:54:38.995\u001b[0m | \u001b[32m\u001b[1mSUCCESS \u001b[0m | \u001b[36m__main__\u001b[0m:\u001b[36m<module>\u001b[0m:\u001b[36m36\u001b[0m - \u001b[32m\u001b[1mData inserted successfully.\u001b[0m\n",
      "\u001b[32m2025-02-16 21:54:39.009\u001b[0m | \u001b[1mINFO    \u001b[0m | \u001b[36m__main__\u001b[0m:\u001b[36m<module>\u001b[0m:\u001b[36m42\u001b[0m - \u001b[1mQuerying data from temperature table.\u001b[0m\n",
      "\u001b[32m2025-02-16 21:54:39.010\u001b[0m | \u001b[32m\u001b[1mSUCCESS \u001b[0m | \u001b[36m__main__\u001b[0m:\u001b[36m<module>\u001b[0m:\u001b[36m44\u001b[0m - \u001b[32m\u001b[1mData queried successfully.\u001b[0m\n",
      "\u001b[32m2025-02-16 21:54:47.545\u001b[0m | \u001b[32m\u001b[1mSUCCESS \u001b[0m | \u001b[36m__main__\u001b[0m:\u001b[36m<module>\u001b[0m:\u001b[36m49\u001b[0m - \u001b[32m\u001b[1mConnection closed successfully.\u001b[0m\n",
      "\u001b[32m2025-02-16 21:54:47.546\u001b[0m | \u001b[1mINFO    \u001b[0m | \u001b[36m__main__\u001b[0m:\u001b[36m<module>\u001b[0m:\u001b[36m17\u001b[0m - \u001b[1mConnecting to DuckDB.\u001b[0m\n",
      "\u001b[32m2025-02-16 21:54:47.650\u001b[0m | \u001b[32m\u001b[1mSUCCESS \u001b[0m | \u001b[36m__main__\u001b[0m:\u001b[36m<module>\u001b[0m:\u001b[36m20\u001b[0m - \u001b[32m\u001b[1mConnected to DuckDB.\u001b[0m\n",
      "\u001b[32m2025-02-16 21:54:47.650\u001b[0m | \u001b[1mINFO    \u001b[0m | \u001b[36m__main__\u001b[0m:\u001b[36m<module>\u001b[0m:\u001b[36m23\u001b[0m - \u001b[1mReading data from parquet file global-2003-8c3dc5a1e26249db4b6ebd16fd4e8498.parquet.\u001b[0m\n",
      "\u001b[32m2025-02-16 21:55:03.743\u001b[0m | \u001b[32m\u001b[1mSUCCESS \u001b[0m | \u001b[36m__main__\u001b[0m:\u001b[36m<module>\u001b[0m:\u001b[36m31\u001b[0m - \u001b[32m\u001b[1mData read successfully.\u001b[0m\n",
      "\u001b[32m2025-02-16 21:55:03.743\u001b[0m | \u001b[1mINFO    \u001b[0m | \u001b[36m__main__\u001b[0m:\u001b[36m<module>\u001b[0m:\u001b[36m34\u001b[0m - \u001b[1mInserting data into temperature table.\u001b[0m\n"
     ]
    },
    {
     "data": {
      "application/vnd.jupyter.widget-view+json": {
       "model_id": "a553d0dac9f7495d97bf9700111a6f3e",
       "version_major": 2,
       "version_minor": 0
      },
      "text/plain": [
       "FloatProgress(value=0.0, layout=Layout(width='auto'), style=ProgressStyle(bar_color='black'))"
      ]
     },
     "metadata": {},
     "output_type": "display_data"
    },
    {
     "name": "stdout",
     "output_type": "stream",
     "text": [
      "\u001b[32m2025-02-16 21:56:21.029\u001b[0m | \u001b[32m\u001b[1mSUCCESS \u001b[0m | \u001b[36m__main__\u001b[0m:\u001b[36m<module>\u001b[0m:\u001b[36m36\u001b[0m - \u001b[32m\u001b[1mData inserted successfully.\u001b[0m\n",
      "\u001b[32m2025-02-16 21:56:21.042\u001b[0m | \u001b[1mINFO    \u001b[0m | \u001b[36m__main__\u001b[0m:\u001b[36m<module>\u001b[0m:\u001b[36m42\u001b[0m - \u001b[1mQuerying data from temperature table.\u001b[0m\n",
      "\u001b[32m2025-02-16 21:56:21.044\u001b[0m | \u001b[32m\u001b[1mSUCCESS \u001b[0m | \u001b[36m__main__\u001b[0m:\u001b[36m<module>\u001b[0m:\u001b[36m44\u001b[0m - \u001b[32m\u001b[1mData queried successfully.\u001b[0m\n",
      "\u001b[32m2025-02-16 21:56:29.789\u001b[0m | \u001b[32m\u001b[1mSUCCESS \u001b[0m | \u001b[36m__main__\u001b[0m:\u001b[36m<module>\u001b[0m:\u001b[36m49\u001b[0m - \u001b[32m\u001b[1mConnection closed successfully.\u001b[0m\n",
      "\u001b[32m2025-02-16 21:56:29.790\u001b[0m | \u001b[1mINFO    \u001b[0m | \u001b[36m__main__\u001b[0m:\u001b[36m<module>\u001b[0m:\u001b[36m17\u001b[0m - \u001b[1mConnecting to DuckDB.\u001b[0m\n",
      "\u001b[32m2025-02-16 21:56:29.869\u001b[0m | \u001b[32m\u001b[1mSUCCESS \u001b[0m | \u001b[36m__main__\u001b[0m:\u001b[36m<module>\u001b[0m:\u001b[36m20\u001b[0m - \u001b[32m\u001b[1mConnected to DuckDB.\u001b[0m\n",
      "\u001b[32m2025-02-16 21:56:29.870\u001b[0m | \u001b[1mINFO    \u001b[0m | \u001b[36m__main__\u001b[0m:\u001b[36m<module>\u001b[0m:\u001b[36m23\u001b[0m - \u001b[1mReading data from parquet file global-2004-612c3752ad9e185b32a6cdb8fc9cf98c.parquet.\u001b[0m\n",
      "\u001b[32m2025-02-16 21:56:52.101\u001b[0m | \u001b[32m\u001b[1mSUCCESS \u001b[0m | \u001b[36m__main__\u001b[0m:\u001b[36m<module>\u001b[0m:\u001b[36m31\u001b[0m - \u001b[32m\u001b[1mData read successfully.\u001b[0m\n",
      "\u001b[32m2025-02-16 21:56:52.101\u001b[0m | \u001b[1mINFO    \u001b[0m | \u001b[36m__main__\u001b[0m:\u001b[36m<module>\u001b[0m:\u001b[36m34\u001b[0m - \u001b[1mInserting data into temperature table.\u001b[0m\n"
     ]
    },
    {
     "data": {
      "application/vnd.jupyter.widget-view+json": {
       "model_id": "6ced6c3224f14f38974500dd14d3e804",
       "version_major": 2,
       "version_minor": 0
      },
      "text/plain": [
       "FloatProgress(value=0.0, layout=Layout(width='auto'), style=ProgressStyle(bar_color='black'))"
      ]
     },
     "metadata": {},
     "output_type": "display_data"
    },
    {
     "name": "stdout",
     "output_type": "stream",
     "text": [
      "\u001b[32m2025-02-16 21:58:09.697\u001b[0m | \u001b[32m\u001b[1mSUCCESS \u001b[0m | \u001b[36m__main__\u001b[0m:\u001b[36m<module>\u001b[0m:\u001b[36m36\u001b[0m - \u001b[32m\u001b[1mData inserted successfully.\u001b[0m\n",
      "\u001b[32m2025-02-16 21:58:09.709\u001b[0m | \u001b[1mINFO    \u001b[0m | \u001b[36m__main__\u001b[0m:\u001b[36m<module>\u001b[0m:\u001b[36m42\u001b[0m - \u001b[1mQuerying data from temperature table.\u001b[0m\n",
      "\u001b[32m2025-02-16 21:58:09.710\u001b[0m | \u001b[32m\u001b[1mSUCCESS \u001b[0m | \u001b[36m__main__\u001b[0m:\u001b[36m<module>\u001b[0m:\u001b[36m44\u001b[0m - \u001b[32m\u001b[1mData queried successfully.\u001b[0m\n",
      "\u001b[32m2025-02-16 21:58:18.691\u001b[0m | \u001b[32m\u001b[1mSUCCESS \u001b[0m | \u001b[36m__main__\u001b[0m:\u001b[36m<module>\u001b[0m:\u001b[36m49\u001b[0m - \u001b[32m\u001b[1mConnection closed successfully.\u001b[0m\n",
      "\u001b[32m2025-02-16 21:58:18.692\u001b[0m | \u001b[1mINFO    \u001b[0m | \u001b[36m__main__\u001b[0m:\u001b[36m<module>\u001b[0m:\u001b[36m17\u001b[0m - \u001b[1mConnecting to DuckDB.\u001b[0m\n",
      "\u001b[32m2025-02-16 21:58:18.920\u001b[0m | \u001b[32m\u001b[1mSUCCESS \u001b[0m | \u001b[36m__main__\u001b[0m:\u001b[36m<module>\u001b[0m:\u001b[36m20\u001b[0m - \u001b[32m\u001b[1mConnected to DuckDB.\u001b[0m\n",
      "\u001b[32m2025-02-16 21:58:18.921\u001b[0m | \u001b[1mINFO    \u001b[0m | \u001b[36m__main__\u001b[0m:\u001b[36m<module>\u001b[0m:\u001b[36m23\u001b[0m - \u001b[1mReading data from parquet file global-2005-9288e1c0025f6643916f802b95adb8e6.parquet.\u001b[0m\n",
      "\u001b[32m2025-02-16 21:58:42.388\u001b[0m | \u001b[32m\u001b[1mSUCCESS \u001b[0m | \u001b[36m__main__\u001b[0m:\u001b[36m<module>\u001b[0m:\u001b[36m31\u001b[0m - \u001b[32m\u001b[1mData read successfully.\u001b[0m\n",
      "\u001b[32m2025-02-16 21:58:42.388\u001b[0m | \u001b[1mINFO    \u001b[0m | \u001b[36m__main__\u001b[0m:\u001b[36m<module>\u001b[0m:\u001b[36m34\u001b[0m - \u001b[1mInserting data into temperature table.\u001b[0m\n"
     ]
    },
    {
     "data": {
      "application/vnd.jupyter.widget-view+json": {
       "model_id": "42e202649c854e19a730fa59b802507b",
       "version_major": 2,
       "version_minor": 0
      },
      "text/plain": [
       "FloatProgress(value=0.0, layout=Layout(width='auto'), style=ProgressStyle(bar_color='black'))"
      ]
     },
     "metadata": {},
     "output_type": "display_data"
    },
    {
     "name": "stdout",
     "output_type": "stream",
     "text": [
      "\u001b[32m2025-02-16 21:59:58.107\u001b[0m | \u001b[32m\u001b[1mSUCCESS \u001b[0m | \u001b[36m__main__\u001b[0m:\u001b[36m<module>\u001b[0m:\u001b[36m36\u001b[0m - \u001b[32m\u001b[1mData inserted successfully.\u001b[0m\n",
      "\u001b[32m2025-02-16 21:59:58.121\u001b[0m | \u001b[1mINFO    \u001b[0m | \u001b[36m__main__\u001b[0m:\u001b[36m<module>\u001b[0m:\u001b[36m42\u001b[0m - \u001b[1mQuerying data from temperature table.\u001b[0m\n",
      "\u001b[32m2025-02-16 21:59:58.122\u001b[0m | \u001b[32m\u001b[1mSUCCESS \u001b[0m | \u001b[36m__main__\u001b[0m:\u001b[36m<module>\u001b[0m:\u001b[36m44\u001b[0m - \u001b[32m\u001b[1mData queried successfully.\u001b[0m\n",
      "\u001b[32m2025-02-16 22:00:07.027\u001b[0m | \u001b[32m\u001b[1mSUCCESS \u001b[0m | \u001b[36m__main__\u001b[0m:\u001b[36m<module>\u001b[0m:\u001b[36m49\u001b[0m - \u001b[32m\u001b[1mConnection closed successfully.\u001b[0m\n",
      "\u001b[32m2025-02-16 22:00:07.028\u001b[0m | \u001b[1mINFO    \u001b[0m | \u001b[36m__main__\u001b[0m:\u001b[36m<module>\u001b[0m:\u001b[36m17\u001b[0m - \u001b[1mConnecting to DuckDB.\u001b[0m\n",
      "\u001b[32m2025-02-16 22:00:07.130\u001b[0m | \u001b[32m\u001b[1mSUCCESS \u001b[0m | \u001b[36m__main__\u001b[0m:\u001b[36m<module>\u001b[0m:\u001b[36m20\u001b[0m - \u001b[32m\u001b[1mConnected to DuckDB.\u001b[0m\n",
      "\u001b[32m2025-02-16 22:00:07.130\u001b[0m | \u001b[1mINFO    \u001b[0m | \u001b[36m__main__\u001b[0m:\u001b[36m<module>\u001b[0m:\u001b[36m23\u001b[0m - \u001b[1mReading data from parquet file global-2006-db87d845b80d7f787b3c950f7c989316.parquet.\u001b[0m\n",
      "\u001b[32m2025-02-16 22:00:30.752\u001b[0m | \u001b[32m\u001b[1mSUCCESS \u001b[0m | \u001b[36m__main__\u001b[0m:\u001b[36m<module>\u001b[0m:\u001b[36m31\u001b[0m - \u001b[32m\u001b[1mData read successfully.\u001b[0m\n",
      "\u001b[32m2025-02-16 22:00:30.752\u001b[0m | \u001b[1mINFO    \u001b[0m | \u001b[36m__main__\u001b[0m:\u001b[36m<module>\u001b[0m:\u001b[36m34\u001b[0m - \u001b[1mInserting data into temperature table.\u001b[0m\n"
     ]
    },
    {
     "data": {
      "application/vnd.jupyter.widget-view+json": {
       "model_id": "1a8f318456cb49f1ac41bcca448b1e74",
       "version_major": 2,
       "version_minor": 0
      },
      "text/plain": [
       "FloatProgress(value=0.0, layout=Layout(width='auto'), style=ProgressStyle(bar_color='black'))"
      ]
     },
     "metadata": {},
     "output_type": "display_data"
    },
    {
     "name": "stdout",
     "output_type": "stream",
     "text": [
      "\u001b[32m2025-02-16 22:01:52.682\u001b[0m | \u001b[32m\u001b[1mSUCCESS \u001b[0m | \u001b[36m__main__\u001b[0m:\u001b[36m<module>\u001b[0m:\u001b[36m36\u001b[0m - \u001b[32m\u001b[1mData inserted successfully.\u001b[0m\n",
      "\u001b[32m2025-02-16 22:01:52.694\u001b[0m | \u001b[1mINFO    \u001b[0m | \u001b[36m__main__\u001b[0m:\u001b[36m<module>\u001b[0m:\u001b[36m42\u001b[0m - \u001b[1mQuerying data from temperature table.\u001b[0m\n",
      "\u001b[32m2025-02-16 22:01:52.695\u001b[0m | \u001b[32m\u001b[1mSUCCESS \u001b[0m | \u001b[36m__main__\u001b[0m:\u001b[36m<module>\u001b[0m:\u001b[36m44\u001b[0m - \u001b[32m\u001b[1mData queried successfully.\u001b[0m\n",
      "\u001b[32m2025-02-16 22:02:01.906\u001b[0m | \u001b[32m\u001b[1mSUCCESS \u001b[0m | \u001b[36m__main__\u001b[0m:\u001b[36m<module>\u001b[0m:\u001b[36m49\u001b[0m - \u001b[32m\u001b[1mConnection closed successfully.\u001b[0m\n",
      "\u001b[32m2025-02-16 22:02:01.906\u001b[0m | \u001b[1mINFO    \u001b[0m | \u001b[36m__main__\u001b[0m:\u001b[36m<module>\u001b[0m:\u001b[36m17\u001b[0m - \u001b[1mConnecting to DuckDB.\u001b[0m\n",
      "\u001b[32m2025-02-16 22:02:02.023\u001b[0m | \u001b[32m\u001b[1mSUCCESS \u001b[0m | \u001b[36m__main__\u001b[0m:\u001b[36m<module>\u001b[0m:\u001b[36m20\u001b[0m - \u001b[32m\u001b[1mConnected to DuckDB.\u001b[0m\n",
      "\u001b[32m2025-02-16 22:02:02.023\u001b[0m | \u001b[1mINFO    \u001b[0m | \u001b[36m__main__\u001b[0m:\u001b[36m<module>\u001b[0m:\u001b[36m23\u001b[0m - \u001b[1mReading data from parquet file global-2007-6954171548fa84227703db653fd4de86.parquet.\u001b[0m\n",
      "\u001b[32m2025-02-16 22:02:20.623\u001b[0m | \u001b[32m\u001b[1mSUCCESS \u001b[0m | \u001b[36m__main__\u001b[0m:\u001b[36m<module>\u001b[0m:\u001b[36m31\u001b[0m - \u001b[32m\u001b[1mData read successfully.\u001b[0m\n",
      "\u001b[32m2025-02-16 22:02:20.623\u001b[0m | \u001b[1mINFO    \u001b[0m | \u001b[36m__main__\u001b[0m:\u001b[36m<module>\u001b[0m:\u001b[36m34\u001b[0m - \u001b[1mInserting data into temperature table.\u001b[0m\n"
     ]
    },
    {
     "data": {
      "application/vnd.jupyter.widget-view+json": {
       "model_id": "e9df57e57c2a4f5e9d4c151519c213d6",
       "version_major": 2,
       "version_minor": 0
      },
      "text/plain": [
       "FloatProgress(value=0.0, layout=Layout(width='auto'), style=ProgressStyle(bar_color='black'))"
      ]
     },
     "metadata": {},
     "output_type": "display_data"
    },
    {
     "name": "stdout",
     "output_type": "stream",
     "text": [
      "\u001b[32m2025-02-16 22:03:37.991\u001b[0m | \u001b[32m\u001b[1mSUCCESS \u001b[0m | \u001b[36m__main__\u001b[0m:\u001b[36m<module>\u001b[0m:\u001b[36m36\u001b[0m - \u001b[32m\u001b[1mData inserted successfully.\u001b[0m\n",
      "\u001b[32m2025-02-16 22:03:38.002\u001b[0m | \u001b[1mINFO    \u001b[0m | \u001b[36m__main__\u001b[0m:\u001b[36m<module>\u001b[0m:\u001b[36m42\u001b[0m - \u001b[1mQuerying data from temperature table.\u001b[0m\n",
      "\u001b[32m2025-02-16 22:03:38.042\u001b[0m | \u001b[32m\u001b[1mSUCCESS \u001b[0m | \u001b[36m__main__\u001b[0m:\u001b[36m<module>\u001b[0m:\u001b[36m44\u001b[0m - \u001b[32m\u001b[1mData queried successfully.\u001b[0m\n",
      "\u001b[32m2025-02-16 22:03:47.607\u001b[0m | \u001b[32m\u001b[1mSUCCESS \u001b[0m | \u001b[36m__main__\u001b[0m:\u001b[36m<module>\u001b[0m:\u001b[36m49\u001b[0m - \u001b[32m\u001b[1mConnection closed successfully.\u001b[0m\n",
      "\u001b[32m2025-02-16 22:03:47.608\u001b[0m | \u001b[1mINFO    \u001b[0m | \u001b[36m__main__\u001b[0m:\u001b[36m<module>\u001b[0m:\u001b[36m17\u001b[0m - \u001b[1mConnecting to DuckDB.\u001b[0m\n",
      "\u001b[32m2025-02-16 22:03:47.700\u001b[0m | \u001b[32m\u001b[1mSUCCESS \u001b[0m | \u001b[36m__main__\u001b[0m:\u001b[36m<module>\u001b[0m:\u001b[36m20\u001b[0m - \u001b[32m\u001b[1mConnected to DuckDB.\u001b[0m\n",
      "\u001b[32m2025-02-16 22:03:47.700\u001b[0m | \u001b[1mINFO    \u001b[0m | \u001b[36m__main__\u001b[0m:\u001b[36m<module>\u001b[0m:\u001b[36m23\u001b[0m - \u001b[1mReading data from parquet file global-2008-61a78481bb3711e710532f5ccd3485cc.parquet.\u001b[0m\n",
      "\u001b[32m2025-02-16 22:04:06.166\u001b[0m | \u001b[32m\u001b[1mSUCCESS \u001b[0m | \u001b[36m__main__\u001b[0m:\u001b[36m<module>\u001b[0m:\u001b[36m31\u001b[0m - \u001b[32m\u001b[1mData read successfully.\u001b[0m\n",
      "\u001b[32m2025-02-16 22:04:06.166\u001b[0m | \u001b[1mINFO    \u001b[0m | \u001b[36m__main__\u001b[0m:\u001b[36m<module>\u001b[0m:\u001b[36m34\u001b[0m - \u001b[1mInserting data into temperature table.\u001b[0m\n"
     ]
    },
    {
     "data": {
      "application/vnd.jupyter.widget-view+json": {
       "model_id": "c130f046ca704d3d8b93ce85f32e3c74",
       "version_major": 2,
       "version_minor": 0
      },
      "text/plain": [
       "FloatProgress(value=0.0, layout=Layout(width='auto'), style=ProgressStyle(bar_color='black'))"
      ]
     },
     "metadata": {},
     "output_type": "display_data"
    },
    {
     "name": "stdout",
     "output_type": "stream",
     "text": [
      "\u001b[32m2025-02-16 22:05:24.992\u001b[0m | \u001b[32m\u001b[1mSUCCESS \u001b[0m | \u001b[36m__main__\u001b[0m:\u001b[36m<module>\u001b[0m:\u001b[36m36\u001b[0m - \u001b[32m\u001b[1mData inserted successfully.\u001b[0m\n",
      "\u001b[32m2025-02-16 22:05:25.004\u001b[0m | \u001b[1mINFO    \u001b[0m | \u001b[36m__main__\u001b[0m:\u001b[36m<module>\u001b[0m:\u001b[36m42\u001b[0m - \u001b[1mQuerying data from temperature table.\u001b[0m\n",
      "\u001b[32m2025-02-16 22:05:25.006\u001b[0m | \u001b[32m\u001b[1mSUCCESS \u001b[0m | \u001b[36m__main__\u001b[0m:\u001b[36m<module>\u001b[0m:\u001b[36m44\u001b[0m - \u001b[32m\u001b[1mData queried successfully.\u001b[0m\n",
      "\u001b[32m2025-02-16 22:05:34.820\u001b[0m | \u001b[32m\u001b[1mSUCCESS \u001b[0m | \u001b[36m__main__\u001b[0m:\u001b[36m<module>\u001b[0m:\u001b[36m49\u001b[0m - \u001b[32m\u001b[1mConnection closed successfully.\u001b[0m\n",
      "\u001b[32m2025-02-16 22:05:34.821\u001b[0m | \u001b[1mINFO    \u001b[0m | \u001b[36m__main__\u001b[0m:\u001b[36m<module>\u001b[0m:\u001b[36m17\u001b[0m - \u001b[1mConnecting to DuckDB.\u001b[0m\n",
      "\u001b[32m2025-02-16 22:05:34.966\u001b[0m | \u001b[32m\u001b[1mSUCCESS \u001b[0m | \u001b[36m__main__\u001b[0m:\u001b[36m<module>\u001b[0m:\u001b[36m20\u001b[0m - \u001b[32m\u001b[1mConnected to DuckDB.\u001b[0m\n",
      "\u001b[32m2025-02-16 22:05:34.966\u001b[0m | \u001b[1mINFO    \u001b[0m | \u001b[36m__main__\u001b[0m:\u001b[36m<module>\u001b[0m:\u001b[36m23\u001b[0m - \u001b[1mReading data from parquet file global-2009-ac4b01f8da9f8c4dc3ac65a35e75ee2b.parquet.\u001b[0m\n",
      "\u001b[32m2025-02-16 22:05:54.738\u001b[0m | \u001b[32m\u001b[1mSUCCESS \u001b[0m | \u001b[36m__main__\u001b[0m:\u001b[36m<module>\u001b[0m:\u001b[36m31\u001b[0m - \u001b[32m\u001b[1mData read successfully.\u001b[0m\n",
      "\u001b[32m2025-02-16 22:05:54.739\u001b[0m | \u001b[1mINFO    \u001b[0m | \u001b[36m__main__\u001b[0m:\u001b[36m<module>\u001b[0m:\u001b[36m34\u001b[0m - \u001b[1mInserting data into temperature table.\u001b[0m\n"
     ]
    },
    {
     "data": {
      "application/vnd.jupyter.widget-view+json": {
       "model_id": "616c1f5ec0ef48098d9b08cb596b04ae",
       "version_major": 2,
       "version_minor": 0
      },
      "text/plain": [
       "FloatProgress(value=0.0, layout=Layout(width='auto'), style=ProgressStyle(bar_color='black'))"
      ]
     },
     "metadata": {},
     "output_type": "display_data"
    },
    {
     "name": "stdout",
     "output_type": "stream",
     "text": [
      "\u001b[32m2025-02-16 22:07:23.225\u001b[0m | \u001b[32m\u001b[1mSUCCESS \u001b[0m | \u001b[36m__main__\u001b[0m:\u001b[36m<module>\u001b[0m:\u001b[36m36\u001b[0m - \u001b[32m\u001b[1mData inserted successfully.\u001b[0m\n",
      "\u001b[32m2025-02-16 22:07:23.237\u001b[0m | \u001b[1mINFO    \u001b[0m | \u001b[36m__main__\u001b[0m:\u001b[36m<module>\u001b[0m:\u001b[36m42\u001b[0m - \u001b[1mQuerying data from temperature table.\u001b[0m\n",
      "\u001b[32m2025-02-16 22:07:23.237\u001b[0m | \u001b[32m\u001b[1mSUCCESS \u001b[0m | \u001b[36m__main__\u001b[0m:\u001b[36m<module>\u001b[0m:\u001b[36m44\u001b[0m - \u001b[32m\u001b[1mData queried successfully.\u001b[0m\n",
      "\u001b[32m2025-02-16 22:07:33.711\u001b[0m | \u001b[32m\u001b[1mSUCCESS \u001b[0m | \u001b[36m__main__\u001b[0m:\u001b[36m<module>\u001b[0m:\u001b[36m49\u001b[0m - \u001b[32m\u001b[1mConnection closed successfully.\u001b[0m\n",
      "\u001b[32m2025-02-16 22:07:33.712\u001b[0m | \u001b[1mINFO    \u001b[0m | \u001b[36m__main__\u001b[0m:\u001b[36m<module>\u001b[0m:\u001b[36m17\u001b[0m - \u001b[1mConnecting to DuckDB.\u001b[0m\n",
      "\u001b[32m2025-02-16 22:07:33.797\u001b[0m | \u001b[32m\u001b[1mSUCCESS \u001b[0m | \u001b[36m__main__\u001b[0m:\u001b[36m<module>\u001b[0m:\u001b[36m20\u001b[0m - \u001b[32m\u001b[1mConnected to DuckDB.\u001b[0m\n",
      "\u001b[32m2025-02-16 22:07:33.798\u001b[0m | \u001b[1mINFO    \u001b[0m | \u001b[36m__main__\u001b[0m:\u001b[36m<module>\u001b[0m:\u001b[36m23\u001b[0m - \u001b[1mReading data from parquet file global-2010-66942a31b50a21523dcf6fdd0d43dde3.parquet.\u001b[0m\n",
      "\u001b[32m2025-02-16 22:07:56.385\u001b[0m | \u001b[32m\u001b[1mSUCCESS \u001b[0m | \u001b[36m__main__\u001b[0m:\u001b[36m<module>\u001b[0m:\u001b[36m31\u001b[0m - \u001b[32m\u001b[1mData read successfully.\u001b[0m\n",
      "\u001b[32m2025-02-16 22:07:56.386\u001b[0m | \u001b[1mINFO    \u001b[0m | \u001b[36m__main__\u001b[0m:\u001b[36m<module>\u001b[0m:\u001b[36m34\u001b[0m - \u001b[1mInserting data into temperature table.\u001b[0m\n"
     ]
    },
    {
     "data": {
      "application/vnd.jupyter.widget-view+json": {
       "model_id": "7ec2f9356eec4846b7d8d7bbc5634490",
       "version_major": 2,
       "version_minor": 0
      },
      "text/plain": [
       "FloatProgress(value=0.0, layout=Layout(width='auto'), style=ProgressStyle(bar_color='black'))"
      ]
     },
     "metadata": {},
     "output_type": "display_data"
    },
    {
     "name": "stdout",
     "output_type": "stream",
     "text": [
      "\u001b[32m2025-02-16 22:09:23.552\u001b[0m | \u001b[32m\u001b[1mSUCCESS \u001b[0m | \u001b[36m__main__\u001b[0m:\u001b[36m<module>\u001b[0m:\u001b[36m36\u001b[0m - \u001b[32m\u001b[1mData inserted successfully.\u001b[0m\n",
      "\u001b[32m2025-02-16 22:09:23.561\u001b[0m | \u001b[1mINFO    \u001b[0m | \u001b[36m__main__\u001b[0m:\u001b[36m<module>\u001b[0m:\u001b[36m42\u001b[0m - \u001b[1mQuerying data from temperature table.\u001b[0m\n",
      "\u001b[32m2025-02-16 22:09:23.563\u001b[0m | \u001b[32m\u001b[1mSUCCESS \u001b[0m | \u001b[36m__main__\u001b[0m:\u001b[36m<module>\u001b[0m:\u001b[36m44\u001b[0m - \u001b[32m\u001b[1mData queried successfully.\u001b[0m\n",
      "\u001b[32m2025-02-16 22:09:33.872\u001b[0m | \u001b[32m\u001b[1mSUCCESS \u001b[0m | \u001b[36m__main__\u001b[0m:\u001b[36m<module>\u001b[0m:\u001b[36m49\u001b[0m - \u001b[32m\u001b[1mConnection closed successfully.\u001b[0m\n",
      "\u001b[32m2025-02-16 22:09:33.873\u001b[0m | \u001b[1mINFO    \u001b[0m | \u001b[36m__main__\u001b[0m:\u001b[36m<module>\u001b[0m:\u001b[36m17\u001b[0m - \u001b[1mConnecting to DuckDB.\u001b[0m\n",
      "\u001b[32m2025-02-16 22:09:34.000\u001b[0m | \u001b[32m\u001b[1mSUCCESS \u001b[0m | \u001b[36m__main__\u001b[0m:\u001b[36m<module>\u001b[0m:\u001b[36m20\u001b[0m - \u001b[32m\u001b[1mConnected to DuckDB.\u001b[0m\n",
      "\u001b[32m2025-02-16 22:09:34.000\u001b[0m | \u001b[1mINFO    \u001b[0m | \u001b[36m__main__\u001b[0m:\u001b[36m<module>\u001b[0m:\u001b[36m23\u001b[0m - \u001b[1mReading data from parquet file global-2011-f991487104e8160b267dc549790b50c5.parquet.\u001b[0m\n",
      "\u001b[32m2025-02-16 22:09:54.334\u001b[0m | \u001b[32m\u001b[1mSUCCESS \u001b[0m | \u001b[36m__main__\u001b[0m:\u001b[36m<module>\u001b[0m:\u001b[36m31\u001b[0m - \u001b[32m\u001b[1mData read successfully.\u001b[0m\n",
      "\u001b[32m2025-02-16 22:09:54.335\u001b[0m | \u001b[1mINFO    \u001b[0m | \u001b[36m__main__\u001b[0m:\u001b[36m<module>\u001b[0m:\u001b[36m34\u001b[0m - \u001b[1mInserting data into temperature table.\u001b[0m\n"
     ]
    },
    {
     "data": {
      "application/vnd.jupyter.widget-view+json": {
       "model_id": "ac6f99a4a48e4a55b1958f22079629be",
       "version_major": 2,
       "version_minor": 0
      },
      "text/plain": [
       "FloatProgress(value=0.0, layout=Layout(width='auto'), style=ProgressStyle(bar_color='black'))"
      ]
     },
     "metadata": {},
     "output_type": "display_data"
    },
    {
     "name": "stdout",
     "output_type": "stream",
     "text": [
      "\u001b[32m2025-02-16 22:11:16.384\u001b[0m | \u001b[32m\u001b[1mSUCCESS \u001b[0m | \u001b[36m__main__\u001b[0m:\u001b[36m<module>\u001b[0m:\u001b[36m36\u001b[0m - \u001b[32m\u001b[1mData inserted successfully.\u001b[0m\n",
      "\u001b[32m2025-02-16 22:11:16.394\u001b[0m | \u001b[1mINFO    \u001b[0m | \u001b[36m__main__\u001b[0m:\u001b[36m<module>\u001b[0m:\u001b[36m42\u001b[0m - \u001b[1mQuerying data from temperature table.\u001b[0m\n",
      "\u001b[32m2025-02-16 22:11:16.395\u001b[0m | \u001b[32m\u001b[1mSUCCESS \u001b[0m | \u001b[36m__main__\u001b[0m:\u001b[36m<module>\u001b[0m:\u001b[36m44\u001b[0m - \u001b[32m\u001b[1mData queried successfully.\u001b[0m\n",
      "\u001b[32m2025-02-16 22:11:26.738\u001b[0m | \u001b[32m\u001b[1mSUCCESS \u001b[0m | \u001b[36m__main__\u001b[0m:\u001b[36m<module>\u001b[0m:\u001b[36m49\u001b[0m - \u001b[32m\u001b[1mConnection closed successfully.\u001b[0m\n",
      "\u001b[32m2025-02-16 22:11:26.739\u001b[0m | \u001b[1mINFO    \u001b[0m | \u001b[36m__main__\u001b[0m:\u001b[36m<module>\u001b[0m:\u001b[36m17\u001b[0m - \u001b[1mConnecting to DuckDB.\u001b[0m\n",
      "\u001b[32m2025-02-16 22:11:26.849\u001b[0m | \u001b[32m\u001b[1mSUCCESS \u001b[0m | \u001b[36m__main__\u001b[0m:\u001b[36m<module>\u001b[0m:\u001b[36m20\u001b[0m - \u001b[32m\u001b[1mConnected to DuckDB.\u001b[0m\n",
      "\u001b[32m2025-02-16 22:11:26.849\u001b[0m | \u001b[1mINFO    \u001b[0m | \u001b[36m__main__\u001b[0m:\u001b[36m<module>\u001b[0m:\u001b[36m23\u001b[0m - \u001b[1mReading data from parquet file global-2012-7e0e5d140eacf762bdb90038553036a7.parquet.\u001b[0m\n",
      "\u001b[32m2025-02-16 22:11:44.481\u001b[0m | \u001b[32m\u001b[1mSUCCESS \u001b[0m | \u001b[36m__main__\u001b[0m:\u001b[36m<module>\u001b[0m:\u001b[36m31\u001b[0m - \u001b[32m\u001b[1mData read successfully.\u001b[0m\n",
      "\u001b[32m2025-02-16 22:11:44.482\u001b[0m | \u001b[1mINFO    \u001b[0m | \u001b[36m__main__\u001b[0m:\u001b[36m<module>\u001b[0m:\u001b[36m34\u001b[0m - \u001b[1mInserting data into temperature table.\u001b[0m\n"
     ]
    },
    {
     "data": {
      "application/vnd.jupyter.widget-view+json": {
       "model_id": "f2911e88b3e944d89d9147ae8afcd904",
       "version_major": 2,
       "version_minor": 0
      },
      "text/plain": [
       "FloatProgress(value=0.0, layout=Layout(width='auto'), style=ProgressStyle(bar_color='black'))"
      ]
     },
     "metadata": {},
     "output_type": "display_data"
    },
    {
     "name": "stdout",
     "output_type": "stream",
     "text": [
      "\u001b[32m2025-02-16 22:13:07.068\u001b[0m | \u001b[32m\u001b[1mSUCCESS \u001b[0m | \u001b[36m__main__\u001b[0m:\u001b[36m<module>\u001b[0m:\u001b[36m36\u001b[0m - \u001b[32m\u001b[1mData inserted successfully.\u001b[0m\n",
      "\u001b[32m2025-02-16 22:13:07.079\u001b[0m | \u001b[1mINFO    \u001b[0m | \u001b[36m__main__\u001b[0m:\u001b[36m<module>\u001b[0m:\u001b[36m42\u001b[0m - \u001b[1mQuerying data from temperature table.\u001b[0m\n",
      "\u001b[32m2025-02-16 22:13:07.080\u001b[0m | \u001b[32m\u001b[1mSUCCESS \u001b[0m | \u001b[36m__main__\u001b[0m:\u001b[36m<module>\u001b[0m:\u001b[36m44\u001b[0m - \u001b[32m\u001b[1mData queried successfully.\u001b[0m\n",
      "\u001b[32m2025-02-16 22:13:17.669\u001b[0m | \u001b[32m\u001b[1mSUCCESS \u001b[0m | \u001b[36m__main__\u001b[0m:\u001b[36m<module>\u001b[0m:\u001b[36m49\u001b[0m - \u001b[32m\u001b[1mConnection closed successfully.\u001b[0m\n",
      "\u001b[32m2025-02-16 22:13:17.670\u001b[0m | \u001b[1mINFO    \u001b[0m | \u001b[36m__main__\u001b[0m:\u001b[36m<module>\u001b[0m:\u001b[36m17\u001b[0m - \u001b[1mConnecting to DuckDB.\u001b[0m\n",
      "\u001b[32m2025-02-16 22:13:17.759\u001b[0m | \u001b[32m\u001b[1mSUCCESS \u001b[0m | \u001b[36m__main__\u001b[0m:\u001b[36m<module>\u001b[0m:\u001b[36m20\u001b[0m - \u001b[32m\u001b[1mConnected to DuckDB.\u001b[0m\n",
      "\u001b[32m2025-02-16 22:13:17.759\u001b[0m | \u001b[1mINFO    \u001b[0m | \u001b[36m__main__\u001b[0m:\u001b[36m<module>\u001b[0m:\u001b[36m23\u001b[0m - \u001b[1mReading data from parquet file global-2013-e19b2952bbfa8aead79415bd4c541e9f.parquet.\u001b[0m\n",
      "\u001b[32m2025-02-16 22:13:33.437\u001b[0m | \u001b[32m\u001b[1mSUCCESS \u001b[0m | \u001b[36m__main__\u001b[0m:\u001b[36m<module>\u001b[0m:\u001b[36m31\u001b[0m - \u001b[32m\u001b[1mData read successfully.\u001b[0m\n",
      "\u001b[32m2025-02-16 22:13:33.438\u001b[0m | \u001b[1mINFO    \u001b[0m | \u001b[36m__main__\u001b[0m:\u001b[36m<module>\u001b[0m:\u001b[36m34\u001b[0m - \u001b[1mInserting data into temperature table.\u001b[0m\n"
     ]
    },
    {
     "data": {
      "application/vnd.jupyter.widget-view+json": {
       "model_id": "263cf7e73ce04e9e8233e3f6f7c437e5",
       "version_major": 2,
       "version_minor": 0
      },
      "text/plain": [
       "FloatProgress(value=0.0, layout=Layout(width='auto'), style=ProgressStyle(bar_color='black'))"
      ]
     },
     "metadata": {},
     "output_type": "display_data"
    },
    {
     "name": "stdout",
     "output_type": "stream",
     "text": [
      "\u001b[32m2025-02-16 22:14:57.370\u001b[0m | \u001b[32m\u001b[1mSUCCESS \u001b[0m | \u001b[36m__main__\u001b[0m:\u001b[36m<module>\u001b[0m:\u001b[36m36\u001b[0m - \u001b[32m\u001b[1mData inserted successfully.\u001b[0m\n",
      "\u001b[32m2025-02-16 22:14:57.382\u001b[0m | \u001b[1mINFO    \u001b[0m | \u001b[36m__main__\u001b[0m:\u001b[36m<module>\u001b[0m:\u001b[36m42\u001b[0m - \u001b[1mQuerying data from temperature table.\u001b[0m\n",
      "\u001b[32m2025-02-16 22:14:57.413\u001b[0m | \u001b[32m\u001b[1mSUCCESS \u001b[0m | \u001b[36m__main__\u001b[0m:\u001b[36m<module>\u001b[0m:\u001b[36m44\u001b[0m - \u001b[32m\u001b[1mData queried successfully.\u001b[0m\n",
      "\u001b[32m2025-02-16 22:15:08.234\u001b[0m | \u001b[32m\u001b[1mSUCCESS \u001b[0m | \u001b[36m__main__\u001b[0m:\u001b[36m<module>\u001b[0m:\u001b[36m49\u001b[0m - \u001b[32m\u001b[1mConnection closed successfully.\u001b[0m\n",
      "\u001b[32m2025-02-16 22:15:08.235\u001b[0m | \u001b[1mINFO    \u001b[0m | \u001b[36m__main__\u001b[0m:\u001b[36m<module>\u001b[0m:\u001b[36m17\u001b[0m - \u001b[1mConnecting to DuckDB.\u001b[0m\n",
      "\u001b[32m2025-02-16 22:15:08.308\u001b[0m | \u001b[32m\u001b[1mSUCCESS \u001b[0m | \u001b[36m__main__\u001b[0m:\u001b[36m<module>\u001b[0m:\u001b[36m20\u001b[0m - \u001b[32m\u001b[1mConnected to DuckDB.\u001b[0m\n",
      "\u001b[32m2025-02-16 22:15:08.308\u001b[0m | \u001b[1mINFO    \u001b[0m | \u001b[36m__main__\u001b[0m:\u001b[36m<module>\u001b[0m:\u001b[36m23\u001b[0m - \u001b[1mReading data from parquet file global-2014-b33ef1dc2b5fa5e2c72ea554451d032c.parquet.\u001b[0m\n",
      "\u001b[32m2025-02-16 22:15:23.287\u001b[0m | \u001b[32m\u001b[1mSUCCESS \u001b[0m | \u001b[36m__main__\u001b[0m:\u001b[36m<module>\u001b[0m:\u001b[36m31\u001b[0m - \u001b[32m\u001b[1mData read successfully.\u001b[0m\n",
      "\u001b[32m2025-02-16 22:15:23.287\u001b[0m | \u001b[1mINFO    \u001b[0m | \u001b[36m__main__\u001b[0m:\u001b[36m<module>\u001b[0m:\u001b[36m34\u001b[0m - \u001b[1mInserting data into temperature table.\u001b[0m\n"
     ]
    },
    {
     "data": {
      "application/vnd.jupyter.widget-view+json": {
       "model_id": "cc6ec7c042724ae4bc5127e5b8dff7d6",
       "version_major": 2,
       "version_minor": 0
      },
      "text/plain": [
       "FloatProgress(value=0.0, layout=Layout(width='auto'), style=ProgressStyle(bar_color='black'))"
      ]
     },
     "metadata": {},
     "output_type": "display_data"
    },
    {
     "name": "stdout",
     "output_type": "stream",
     "text": [
      "\u001b[32m2025-02-16 22:16:48.855\u001b[0m | \u001b[32m\u001b[1mSUCCESS \u001b[0m | \u001b[36m__main__\u001b[0m:\u001b[36m<module>\u001b[0m:\u001b[36m36\u001b[0m - \u001b[32m\u001b[1mData inserted successfully.\u001b[0m\n",
      "\u001b[32m2025-02-16 22:16:48.865\u001b[0m | \u001b[1mINFO    \u001b[0m | \u001b[36m__main__\u001b[0m:\u001b[36m<module>\u001b[0m:\u001b[36m42\u001b[0m - \u001b[1mQuerying data from temperature table.\u001b[0m\n",
      "\u001b[32m2025-02-16 22:16:48.866\u001b[0m | \u001b[32m\u001b[1mSUCCESS \u001b[0m | \u001b[36m__main__\u001b[0m:\u001b[36m<module>\u001b[0m:\u001b[36m44\u001b[0m - \u001b[32m\u001b[1mData queried successfully.\u001b[0m\n",
      "\u001b[32m2025-02-16 22:16:59.903\u001b[0m | \u001b[32m\u001b[1mSUCCESS \u001b[0m | \u001b[36m__main__\u001b[0m:\u001b[36m<module>\u001b[0m:\u001b[36m49\u001b[0m - \u001b[32m\u001b[1mConnection closed successfully.\u001b[0m\n",
      "\u001b[32m2025-02-16 22:16:59.904\u001b[0m | \u001b[1mINFO    \u001b[0m | \u001b[36m__main__\u001b[0m:\u001b[36m<module>\u001b[0m:\u001b[36m17\u001b[0m - \u001b[1mConnecting to DuckDB.\u001b[0m\n",
      "\u001b[32m2025-02-16 22:17:00.036\u001b[0m | \u001b[32m\u001b[1mSUCCESS \u001b[0m | \u001b[36m__main__\u001b[0m:\u001b[36m<module>\u001b[0m:\u001b[36m20\u001b[0m - \u001b[32m\u001b[1mConnected to DuckDB.\u001b[0m\n",
      "\u001b[32m2025-02-16 22:17:00.036\u001b[0m | \u001b[1mINFO    \u001b[0m | \u001b[36m__main__\u001b[0m:\u001b[36m<module>\u001b[0m:\u001b[36m23\u001b[0m - \u001b[1mReading data from parquet file global-2015-ab167f440ac9e6c6d97d676ac77be3a1.parquet.\u001b[0m\n",
      "\u001b[32m2025-02-16 22:17:25.377\u001b[0m | \u001b[32m\u001b[1mSUCCESS \u001b[0m | \u001b[36m__main__\u001b[0m:\u001b[36m<module>\u001b[0m:\u001b[36m31\u001b[0m - \u001b[32m\u001b[1mData read successfully.\u001b[0m\n",
      "\u001b[32m2025-02-16 22:17:25.378\u001b[0m | \u001b[1mINFO    \u001b[0m | \u001b[36m__main__\u001b[0m:\u001b[36m<module>\u001b[0m:\u001b[36m34\u001b[0m - \u001b[1mInserting data into temperature table.\u001b[0m\n"
     ]
    },
    {
     "data": {
      "application/vnd.jupyter.widget-view+json": {
       "model_id": "c6ed2cd9a217417aabbe5c3008539149",
       "version_major": 2,
       "version_minor": 0
      },
      "text/plain": [
       "FloatProgress(value=0.0, layout=Layout(width='auto'), style=ProgressStyle(bar_color='black'))"
      ]
     },
     "metadata": {},
     "output_type": "display_data"
    },
    {
     "name": "stdout",
     "output_type": "stream",
     "text": [
      "\u001b[32m2025-02-16 22:18:51.670\u001b[0m | \u001b[32m\u001b[1mSUCCESS \u001b[0m | \u001b[36m__main__\u001b[0m:\u001b[36m<module>\u001b[0m:\u001b[36m36\u001b[0m - \u001b[32m\u001b[1mData inserted successfully.\u001b[0m\n",
      "\u001b[32m2025-02-16 22:18:51.681\u001b[0m | \u001b[1mINFO    \u001b[0m | \u001b[36m__main__\u001b[0m:\u001b[36m<module>\u001b[0m:\u001b[36m42\u001b[0m - \u001b[1mQuerying data from temperature table.\u001b[0m\n",
      "\u001b[32m2025-02-16 22:18:51.682\u001b[0m | \u001b[32m\u001b[1mSUCCESS \u001b[0m | \u001b[36m__main__\u001b[0m:\u001b[36m<module>\u001b[0m:\u001b[36m44\u001b[0m - \u001b[32m\u001b[1mData queried successfully.\u001b[0m\n",
      "\u001b[32m2025-02-16 22:19:03.266\u001b[0m | \u001b[32m\u001b[1mSUCCESS \u001b[0m | \u001b[36m__main__\u001b[0m:\u001b[36m<module>\u001b[0m:\u001b[36m49\u001b[0m - \u001b[32m\u001b[1mConnection closed successfully.\u001b[0m\n",
      "\u001b[32m2025-02-16 22:19:03.267\u001b[0m | \u001b[1mINFO    \u001b[0m | \u001b[36m__main__\u001b[0m:\u001b[36m<module>\u001b[0m:\u001b[36m17\u001b[0m - \u001b[1mConnecting to DuckDB.\u001b[0m\n",
      "\u001b[32m2025-02-16 22:19:03.898\u001b[0m | \u001b[32m\u001b[1mSUCCESS \u001b[0m | \u001b[36m__main__\u001b[0m:\u001b[36m<module>\u001b[0m:\u001b[36m20\u001b[0m - \u001b[32m\u001b[1mConnected to DuckDB.\u001b[0m\n",
      "\u001b[32m2025-02-16 22:19:03.898\u001b[0m | \u001b[1mINFO    \u001b[0m | \u001b[36m__main__\u001b[0m:\u001b[36m<module>\u001b[0m:\u001b[36m23\u001b[0m - \u001b[1mReading data from parquet file global-2016-330980adec940fd51ff6d1e106d6bc91.parquet.\u001b[0m\n",
      "\u001b[32m2025-02-16 22:19:22.145\u001b[0m | \u001b[32m\u001b[1mSUCCESS \u001b[0m | \u001b[36m__main__\u001b[0m:\u001b[36m<module>\u001b[0m:\u001b[36m31\u001b[0m - \u001b[32m\u001b[1mData read successfully.\u001b[0m\n",
      "\u001b[32m2025-02-16 22:19:22.146\u001b[0m | \u001b[1mINFO    \u001b[0m | \u001b[36m__main__\u001b[0m:\u001b[36m<module>\u001b[0m:\u001b[36m34\u001b[0m - \u001b[1mInserting data into temperature table.\u001b[0m\n"
     ]
    },
    {
     "data": {
      "application/vnd.jupyter.widget-view+json": {
       "model_id": "d7c70573019d4060b090ab269780767e",
       "version_major": 2,
       "version_minor": 0
      },
      "text/plain": [
       "FloatProgress(value=0.0, layout=Layout(width='auto'), style=ProgressStyle(bar_color='black'))"
      ]
     },
     "metadata": {},
     "output_type": "display_data"
    },
    {
     "name": "stdout",
     "output_type": "stream",
     "text": [
      "\u001b[32m2025-02-16 22:20:49.763\u001b[0m | \u001b[32m\u001b[1mSUCCESS \u001b[0m | \u001b[36m__main__\u001b[0m:\u001b[36m<module>\u001b[0m:\u001b[36m36\u001b[0m - \u001b[32m\u001b[1mData inserted successfully.\u001b[0m\n",
      "\u001b[32m2025-02-16 22:20:49.774\u001b[0m | \u001b[1mINFO    \u001b[0m | \u001b[36m__main__\u001b[0m:\u001b[36m<module>\u001b[0m:\u001b[36m42\u001b[0m - \u001b[1mQuerying data from temperature table.\u001b[0m\n",
      "\u001b[32m2025-02-16 22:20:49.775\u001b[0m | \u001b[32m\u001b[1mSUCCESS \u001b[0m | \u001b[36m__main__\u001b[0m:\u001b[36m<module>\u001b[0m:\u001b[36m44\u001b[0m - \u001b[32m\u001b[1mData queried successfully.\u001b[0m\n",
      "\u001b[32m2025-02-16 22:21:01.563\u001b[0m | \u001b[32m\u001b[1mSUCCESS \u001b[0m | \u001b[36m__main__\u001b[0m:\u001b[36m<module>\u001b[0m:\u001b[36m49\u001b[0m - \u001b[32m\u001b[1mConnection closed successfully.\u001b[0m\n",
      "\u001b[32m2025-02-16 22:21:01.564\u001b[0m | \u001b[1mINFO    \u001b[0m | \u001b[36m__main__\u001b[0m:\u001b[36m<module>\u001b[0m:\u001b[36m17\u001b[0m - \u001b[1mConnecting to DuckDB.\u001b[0m\n",
      "\u001b[32m2025-02-16 22:21:02.221\u001b[0m | \u001b[32m\u001b[1mSUCCESS \u001b[0m | \u001b[36m__main__\u001b[0m:\u001b[36m<module>\u001b[0m:\u001b[36m20\u001b[0m - \u001b[32m\u001b[1mConnected to DuckDB.\u001b[0m\n",
      "\u001b[32m2025-02-16 22:21:02.222\u001b[0m | \u001b[1mINFO    \u001b[0m | \u001b[36m__main__\u001b[0m:\u001b[36m<module>\u001b[0m:\u001b[36m23\u001b[0m - \u001b[1mReading data from parquet file global-2017-3e584a7ef0569534c28c2a39231975bf.parquet.\u001b[0m\n",
      "\u001b[32m2025-02-16 22:21:17.251\u001b[0m | \u001b[32m\u001b[1mSUCCESS \u001b[0m | \u001b[36m__main__\u001b[0m:\u001b[36m<module>\u001b[0m:\u001b[36m31\u001b[0m - \u001b[32m\u001b[1mData read successfully.\u001b[0m\n",
      "\u001b[32m2025-02-16 22:21:17.251\u001b[0m | \u001b[1mINFO    \u001b[0m | \u001b[36m__main__\u001b[0m:\u001b[36m<module>\u001b[0m:\u001b[36m34\u001b[0m - \u001b[1mInserting data into temperature table.\u001b[0m\n"
     ]
    },
    {
     "data": {
      "application/vnd.jupyter.widget-view+json": {
       "model_id": "7581e4a223c246369e7f98570b6f56d8",
       "version_major": 2,
       "version_minor": 0
      },
      "text/plain": [
       "FloatProgress(value=0.0, layout=Layout(width='auto'), style=ProgressStyle(bar_color='black'))"
      ]
     },
     "metadata": {},
     "output_type": "display_data"
    },
    {
     "name": "stdout",
     "output_type": "stream",
     "text": [
      "\u001b[32m2025-02-16 22:22:48.029\u001b[0m | \u001b[32m\u001b[1mSUCCESS \u001b[0m | \u001b[36m__main__\u001b[0m:\u001b[36m<module>\u001b[0m:\u001b[36m36\u001b[0m - \u001b[32m\u001b[1mData inserted successfully.\u001b[0m\n",
      "\u001b[32m2025-02-16 22:22:48.047\u001b[0m | \u001b[1mINFO    \u001b[0m | \u001b[36m__main__\u001b[0m:\u001b[36m<module>\u001b[0m:\u001b[36m42\u001b[0m - \u001b[1mQuerying data from temperature table.\u001b[0m\n",
      "\u001b[32m2025-02-16 22:22:48.073\u001b[0m | \u001b[32m\u001b[1mSUCCESS \u001b[0m | \u001b[36m__main__\u001b[0m:\u001b[36m<module>\u001b[0m:\u001b[36m44\u001b[0m - \u001b[32m\u001b[1mData queried successfully.\u001b[0m\n",
      "\u001b[32m2025-02-16 22:23:00.167\u001b[0m | \u001b[32m\u001b[1mSUCCESS \u001b[0m | \u001b[36m__main__\u001b[0m:\u001b[36m<module>\u001b[0m:\u001b[36m49\u001b[0m - \u001b[32m\u001b[1mConnection closed successfully.\u001b[0m\n",
      "\u001b[32m2025-02-16 22:23:00.168\u001b[0m | \u001b[1mINFO    \u001b[0m | \u001b[36m__main__\u001b[0m:\u001b[36m<module>\u001b[0m:\u001b[36m17\u001b[0m - \u001b[1mConnecting to DuckDB.\u001b[0m\n",
      "\u001b[32m2025-02-16 22:23:00.334\u001b[0m | \u001b[32m\u001b[1mSUCCESS \u001b[0m | \u001b[36m__main__\u001b[0m:\u001b[36m<module>\u001b[0m:\u001b[36m20\u001b[0m - \u001b[32m\u001b[1mConnected to DuckDB.\u001b[0m\n",
      "\u001b[32m2025-02-16 22:23:00.334\u001b[0m | \u001b[1mINFO    \u001b[0m | \u001b[36m__main__\u001b[0m:\u001b[36m<module>\u001b[0m:\u001b[36m23\u001b[0m - \u001b[1mReading data from parquet file global-2018-e925f0c5a9d5ae998f27249ea4a7b666.parquet.\u001b[0m\n",
      "\u001b[32m2025-02-16 22:23:17.621\u001b[0m | \u001b[32m\u001b[1mSUCCESS \u001b[0m | \u001b[36m__main__\u001b[0m:\u001b[36m<module>\u001b[0m:\u001b[36m31\u001b[0m - \u001b[32m\u001b[1mData read successfully.\u001b[0m\n",
      "\u001b[32m2025-02-16 22:23:17.622\u001b[0m | \u001b[1mINFO    \u001b[0m | \u001b[36m__main__\u001b[0m:\u001b[36m<module>\u001b[0m:\u001b[36m34\u001b[0m - \u001b[1mInserting data into temperature table.\u001b[0m\n"
     ]
    },
    {
     "data": {
      "application/vnd.jupyter.widget-view+json": {
       "model_id": "da84697c453a493f8644605c9dea26e3",
       "version_major": 2,
       "version_minor": 0
      },
      "text/plain": [
       "FloatProgress(value=0.0, layout=Layout(width='auto'), style=ProgressStyle(bar_color='black'))"
      ]
     },
     "metadata": {},
     "output_type": "display_data"
    },
    {
     "name": "stdout",
     "output_type": "stream",
     "text": [
      "\u001b[32m2025-02-16 22:24:53.353\u001b[0m | \u001b[32m\u001b[1mSUCCESS \u001b[0m | \u001b[36m__main__\u001b[0m:\u001b[36m<module>\u001b[0m:\u001b[36m36\u001b[0m - \u001b[32m\u001b[1mData inserted successfully.\u001b[0m\n",
      "\u001b[32m2025-02-16 22:24:53.363\u001b[0m | \u001b[1mINFO    \u001b[0m | \u001b[36m__main__\u001b[0m:\u001b[36m<module>\u001b[0m:\u001b[36m42\u001b[0m - \u001b[1mQuerying data from temperature table.\u001b[0m\n",
      "\u001b[32m2025-02-16 22:24:53.364\u001b[0m | \u001b[32m\u001b[1mSUCCESS \u001b[0m | \u001b[36m__main__\u001b[0m:\u001b[36m<module>\u001b[0m:\u001b[36m44\u001b[0m - \u001b[32m\u001b[1mData queried successfully.\u001b[0m\n",
      "\u001b[32m2025-02-16 22:25:05.938\u001b[0m | \u001b[32m\u001b[1mSUCCESS \u001b[0m | \u001b[36m__main__\u001b[0m:\u001b[36m<module>\u001b[0m:\u001b[36m49\u001b[0m - \u001b[32m\u001b[1mConnection closed successfully.\u001b[0m\n",
      "\u001b[32m2025-02-16 22:25:05.939\u001b[0m | \u001b[1mINFO    \u001b[0m | \u001b[36m__main__\u001b[0m:\u001b[36m<module>\u001b[0m:\u001b[36m17\u001b[0m - \u001b[1mConnecting to DuckDB.\u001b[0m\n",
      "\u001b[32m2025-02-16 22:25:06.152\u001b[0m | \u001b[32m\u001b[1mSUCCESS \u001b[0m | \u001b[36m__main__\u001b[0m:\u001b[36m<module>\u001b[0m:\u001b[36m20\u001b[0m - \u001b[32m\u001b[1mConnected to DuckDB.\u001b[0m\n",
      "\u001b[32m2025-02-16 22:25:06.152\u001b[0m | \u001b[1mINFO    \u001b[0m | \u001b[36m__main__\u001b[0m:\u001b[36m<module>\u001b[0m:\u001b[36m23\u001b[0m - \u001b[1mReading data from parquet file global-2019-5cdbae60c87f2ff4474c675308afaa6e.parquet.\u001b[0m\n",
      "\u001b[32m2025-02-16 22:25:28.744\u001b[0m | \u001b[32m\u001b[1mSUCCESS \u001b[0m | \u001b[36m__main__\u001b[0m:\u001b[36m<module>\u001b[0m:\u001b[36m31\u001b[0m - \u001b[32m\u001b[1mData read successfully.\u001b[0m\n",
      "\u001b[32m2025-02-16 22:25:28.745\u001b[0m | \u001b[1mINFO    \u001b[0m | \u001b[36m__main__\u001b[0m:\u001b[36m<module>\u001b[0m:\u001b[36m34\u001b[0m - \u001b[1mInserting data into temperature table.\u001b[0m\n"
     ]
    },
    {
     "data": {
      "application/vnd.jupyter.widget-view+json": {
       "model_id": "fbe0b6a167e6463a90e6d7877e0cbc5c",
       "version_major": 2,
       "version_minor": 0
      },
      "text/plain": [
       "FloatProgress(value=0.0, layout=Layout(width='auto'), style=ProgressStyle(bar_color='black'))"
      ]
     },
     "metadata": {},
     "output_type": "display_data"
    },
    {
     "name": "stdout",
     "output_type": "stream",
     "text": [
      "\u001b[32m2025-02-16 22:27:09.219\u001b[0m | \u001b[32m\u001b[1mSUCCESS \u001b[0m | \u001b[36m__main__\u001b[0m:\u001b[36m<module>\u001b[0m:\u001b[36m36\u001b[0m - \u001b[32m\u001b[1mData inserted successfully.\u001b[0m\n",
      "\u001b[32m2025-02-16 22:27:09.233\u001b[0m | \u001b[1mINFO    \u001b[0m | \u001b[36m__main__\u001b[0m:\u001b[36m<module>\u001b[0m:\u001b[36m42\u001b[0m - \u001b[1mQuerying data from temperature table.\u001b[0m\n",
      "\u001b[32m2025-02-16 22:27:09.234\u001b[0m | \u001b[32m\u001b[1mSUCCESS \u001b[0m | \u001b[36m__main__\u001b[0m:\u001b[36m<module>\u001b[0m:\u001b[36m44\u001b[0m - \u001b[32m\u001b[1mData queried successfully.\u001b[0m\n",
      "\u001b[32m2025-02-16 22:27:22.113\u001b[0m | \u001b[32m\u001b[1mSUCCESS \u001b[0m | \u001b[36m__main__\u001b[0m:\u001b[36m<module>\u001b[0m:\u001b[36m49\u001b[0m - \u001b[32m\u001b[1mConnection closed successfully.\u001b[0m\n",
      "\u001b[32m2025-02-16 22:27:22.140\u001b[0m | \u001b[1mINFO    \u001b[0m | \u001b[36m__main__\u001b[0m:\u001b[36m<module>\u001b[0m:\u001b[36m17\u001b[0m - \u001b[1mConnecting to DuckDB.\u001b[0m\n",
      "\u001b[32m2025-02-16 22:27:22.277\u001b[0m | \u001b[32m\u001b[1mSUCCESS \u001b[0m | \u001b[36m__main__\u001b[0m:\u001b[36m<module>\u001b[0m:\u001b[36m20\u001b[0m - \u001b[32m\u001b[1mConnected to DuckDB.\u001b[0m\n",
      "\u001b[32m2025-02-16 22:27:22.277\u001b[0m | \u001b[1mINFO    \u001b[0m | \u001b[36m__main__\u001b[0m:\u001b[36m<module>\u001b[0m:\u001b[36m23\u001b[0m - \u001b[1mReading data from parquet file global-2020-67f550101b701f2ef812235ef7a39899.parquet.\u001b[0m\n",
      "\u001b[32m2025-02-16 22:27:44.035\u001b[0m | \u001b[32m\u001b[1mSUCCESS \u001b[0m | \u001b[36m__main__\u001b[0m:\u001b[36m<module>\u001b[0m:\u001b[36m31\u001b[0m - \u001b[32m\u001b[1mData read successfully.\u001b[0m\n",
      "\u001b[32m2025-02-16 22:27:44.035\u001b[0m | \u001b[1mINFO    \u001b[0m | \u001b[36m__main__\u001b[0m:\u001b[36m<module>\u001b[0m:\u001b[36m34\u001b[0m - \u001b[1mInserting data into temperature table.\u001b[0m\n"
     ]
    },
    {
     "data": {
      "application/vnd.jupyter.widget-view+json": {
       "model_id": "be2447725f0e42f59cf523883b6edf56",
       "version_major": 2,
       "version_minor": 0
      },
      "text/plain": [
       "FloatProgress(value=0.0, layout=Layout(width='auto'), style=ProgressStyle(bar_color='black'))"
      ]
     },
     "metadata": {},
     "output_type": "display_data"
    },
    {
     "name": "stdout",
     "output_type": "stream",
     "text": [
      "\u001b[32m2025-02-16 22:29:26.510\u001b[0m | \u001b[32m\u001b[1mSUCCESS \u001b[0m | \u001b[36m__main__\u001b[0m:\u001b[36m<module>\u001b[0m:\u001b[36m36\u001b[0m - \u001b[32m\u001b[1mData inserted successfully.\u001b[0m\n",
      "\u001b[32m2025-02-16 22:29:26.638\u001b[0m | \u001b[1mINFO    \u001b[0m | \u001b[36m__main__\u001b[0m:\u001b[36m<module>\u001b[0m:\u001b[36m42\u001b[0m - \u001b[1mQuerying data from temperature table.\u001b[0m\n",
      "\u001b[32m2025-02-16 22:29:26.707\u001b[0m | \u001b[32m\u001b[1mSUCCESS \u001b[0m | \u001b[36m__main__\u001b[0m:\u001b[36m<module>\u001b[0m:\u001b[36m44\u001b[0m - \u001b[32m\u001b[1mData queried successfully.\u001b[0m\n",
      "\u001b[32m2025-02-16 22:29:39.963\u001b[0m | \u001b[32m\u001b[1mSUCCESS \u001b[0m | \u001b[36m__main__\u001b[0m:\u001b[36m<module>\u001b[0m:\u001b[36m49\u001b[0m - \u001b[32m\u001b[1mConnection closed successfully.\u001b[0m\n",
      "\u001b[32m2025-02-16 22:29:39.964\u001b[0m | \u001b[1mINFO    \u001b[0m | \u001b[36m__main__\u001b[0m:\u001b[36m<module>\u001b[0m:\u001b[36m17\u001b[0m - \u001b[1mConnecting to DuckDB.\u001b[0m\n",
      "\u001b[32m2025-02-16 22:29:40.099\u001b[0m | \u001b[32m\u001b[1mSUCCESS \u001b[0m | \u001b[36m__main__\u001b[0m:\u001b[36m<module>\u001b[0m:\u001b[36m20\u001b[0m - \u001b[32m\u001b[1mConnected to DuckDB.\u001b[0m\n",
      "\u001b[32m2025-02-16 22:29:40.099\u001b[0m | \u001b[1mINFO    \u001b[0m | \u001b[36m__main__\u001b[0m:\u001b[36m<module>\u001b[0m:\u001b[36m23\u001b[0m - \u001b[1mReading data from parquet file global-2021-f600d0ad40dc2b8269b6f43f2351b6b8.parquet.\u001b[0m\n",
      "\u001b[32m2025-02-16 22:30:05.471\u001b[0m | \u001b[32m\u001b[1mSUCCESS \u001b[0m | \u001b[36m__main__\u001b[0m:\u001b[36m<module>\u001b[0m:\u001b[36m31\u001b[0m - \u001b[32m\u001b[1mData read successfully.\u001b[0m\n",
      "\u001b[32m2025-02-16 22:30:05.472\u001b[0m | \u001b[1mINFO    \u001b[0m | \u001b[36m__main__\u001b[0m:\u001b[36m<module>\u001b[0m:\u001b[36m34\u001b[0m - \u001b[1mInserting data into temperature table.\u001b[0m\n"
     ]
    },
    {
     "data": {
      "application/vnd.jupyter.widget-view+json": {
       "model_id": "141c0f53042c4d00983ab36dec95d5b0",
       "version_major": 2,
       "version_minor": 0
      },
      "text/plain": [
       "FloatProgress(value=0.0, layout=Layout(width='auto'), style=ProgressStyle(bar_color='black'))"
      ]
     },
     "metadata": {},
     "output_type": "display_data"
    },
    {
     "name": "stdout",
     "output_type": "stream",
     "text": [
      "\u001b[32m2025-02-16 22:31:43.291\u001b[0m | \u001b[32m\u001b[1mSUCCESS \u001b[0m | \u001b[36m__main__\u001b[0m:\u001b[36m<module>\u001b[0m:\u001b[36m36\u001b[0m - \u001b[32m\u001b[1mData inserted successfully.\u001b[0m\n",
      "\u001b[32m2025-02-16 22:31:43.313\u001b[0m | \u001b[1mINFO    \u001b[0m | \u001b[36m__main__\u001b[0m:\u001b[36m<module>\u001b[0m:\u001b[36m42\u001b[0m - \u001b[1mQuerying data from temperature table.\u001b[0m\n",
      "\u001b[32m2025-02-16 22:31:43.315\u001b[0m | \u001b[32m\u001b[1mSUCCESS \u001b[0m | \u001b[36m__main__\u001b[0m:\u001b[36m<module>\u001b[0m:\u001b[36m44\u001b[0m - \u001b[32m\u001b[1mData queried successfully.\u001b[0m\n",
      "\u001b[32m2025-02-16 22:31:57.058\u001b[0m | \u001b[32m\u001b[1mSUCCESS \u001b[0m | \u001b[36m__main__\u001b[0m:\u001b[36m<module>\u001b[0m:\u001b[36m49\u001b[0m - \u001b[32m\u001b[1mConnection closed successfully.\u001b[0m\n",
      "\u001b[32m2025-02-16 22:31:57.059\u001b[0m | \u001b[1mINFO    \u001b[0m | \u001b[36m__main__\u001b[0m:\u001b[36m<module>\u001b[0m:\u001b[36m17\u001b[0m - \u001b[1mConnecting to DuckDB.\u001b[0m\n",
      "\u001b[32m2025-02-16 22:31:57.196\u001b[0m | \u001b[32m\u001b[1mSUCCESS \u001b[0m | \u001b[36m__main__\u001b[0m:\u001b[36m<module>\u001b[0m:\u001b[36m20\u001b[0m - \u001b[32m\u001b[1mConnected to DuckDB.\u001b[0m\n",
      "\u001b[32m2025-02-16 22:31:57.196\u001b[0m | \u001b[1mINFO    \u001b[0m | \u001b[36m__main__\u001b[0m:\u001b[36m<module>\u001b[0m:\u001b[36m23\u001b[0m - \u001b[1mReading data from parquet file global-2022-f1580e79dd2982be7d770536c097a899.parquet.\u001b[0m\n",
      "\u001b[32m2025-02-16 22:32:18.800\u001b[0m | \u001b[32m\u001b[1mSUCCESS \u001b[0m | \u001b[36m__main__\u001b[0m:\u001b[36m<module>\u001b[0m:\u001b[36m31\u001b[0m - \u001b[32m\u001b[1mData read successfully.\u001b[0m\n",
      "\u001b[32m2025-02-16 22:32:18.801\u001b[0m | \u001b[1mINFO    \u001b[0m | \u001b[36m__main__\u001b[0m:\u001b[36m<module>\u001b[0m:\u001b[36m34\u001b[0m - \u001b[1mInserting data into temperature table.\u001b[0m\n"
     ]
    },
    {
     "data": {
      "application/vnd.jupyter.widget-view+json": {
       "model_id": "0fa47a4f75bc4859b55ae626488addcd",
       "version_major": 2,
       "version_minor": 0
      },
      "text/plain": [
       "FloatProgress(value=0.0, layout=Layout(width='auto'), style=ProgressStyle(bar_color='black'))"
      ]
     },
     "metadata": {},
     "output_type": "display_data"
    },
    {
     "name": "stdout",
     "output_type": "stream",
     "text": [
      "\u001b[32m2025-02-16 22:33:57.773\u001b[0m | \u001b[32m\u001b[1mSUCCESS \u001b[0m | \u001b[36m__main__\u001b[0m:\u001b[36m<module>\u001b[0m:\u001b[36m36\u001b[0m - \u001b[32m\u001b[1mData inserted successfully.\u001b[0m\n",
      "\u001b[32m2025-02-16 22:33:57.786\u001b[0m | \u001b[1mINFO    \u001b[0m | \u001b[36m__main__\u001b[0m:\u001b[36m<module>\u001b[0m:\u001b[36m42\u001b[0m - \u001b[1mQuerying data from temperature table.\u001b[0m\n",
      "\u001b[32m2025-02-16 22:33:57.786\u001b[0m | \u001b[32m\u001b[1mSUCCESS \u001b[0m | \u001b[36m__main__\u001b[0m:\u001b[36m<module>\u001b[0m:\u001b[36m44\u001b[0m - \u001b[32m\u001b[1mData queried successfully.\u001b[0m\n",
      "\u001b[32m2025-02-16 22:34:11.603\u001b[0m | \u001b[32m\u001b[1mSUCCESS \u001b[0m | \u001b[36m__main__\u001b[0m:\u001b[36m<module>\u001b[0m:\u001b[36m49\u001b[0m - \u001b[32m\u001b[1mConnection closed successfully.\u001b[0m\n",
      "\u001b[32m2025-02-16 22:34:11.604\u001b[0m | \u001b[1mINFO    \u001b[0m | \u001b[36m__main__\u001b[0m:\u001b[36m<module>\u001b[0m:\u001b[36m17\u001b[0m - \u001b[1mConnecting to DuckDB.\u001b[0m\n",
      "\u001b[32m2025-02-16 22:34:11.846\u001b[0m | \u001b[32m\u001b[1mSUCCESS \u001b[0m | \u001b[36m__main__\u001b[0m:\u001b[36m<module>\u001b[0m:\u001b[36m20\u001b[0m - \u001b[32m\u001b[1mConnected to DuckDB.\u001b[0m\n",
      "\u001b[32m2025-02-16 22:34:11.846\u001b[0m | \u001b[1mINFO    \u001b[0m | \u001b[36m__main__\u001b[0m:\u001b[36m<module>\u001b[0m:\u001b[36m23\u001b[0m - \u001b[1mReading data from parquet file global-2023-4df1664a1ac1c628e790466714035da3.parquet.\u001b[0m\n",
      "\u001b[32m2025-02-16 22:34:29.521\u001b[0m | \u001b[32m\u001b[1mSUCCESS \u001b[0m | \u001b[36m__main__\u001b[0m:\u001b[36m<module>\u001b[0m:\u001b[36m31\u001b[0m - \u001b[32m\u001b[1mData read successfully.\u001b[0m\n",
      "\u001b[32m2025-02-16 22:34:29.522\u001b[0m | \u001b[1mINFO    \u001b[0m | \u001b[36m__main__\u001b[0m:\u001b[36m<module>\u001b[0m:\u001b[36m34\u001b[0m - \u001b[1mInserting data into temperature table.\u001b[0m\n"
     ]
    },
    {
     "data": {
      "application/vnd.jupyter.widget-view+json": {
       "model_id": "4936bd194a2c4e0eb0388a9468c75df0",
       "version_major": 2,
       "version_minor": 0
      },
      "text/plain": [
       "FloatProgress(value=0.0, layout=Layout(width='auto'), style=ProgressStyle(bar_color='black'))"
      ]
     },
     "metadata": {},
     "output_type": "display_data"
    },
    {
     "name": "stdout",
     "output_type": "stream",
     "text": [
      "\u001b[32m2025-02-16 22:36:07.832\u001b[0m | \u001b[32m\u001b[1mSUCCESS \u001b[0m | \u001b[36m__main__\u001b[0m:\u001b[36m<module>\u001b[0m:\u001b[36m36\u001b[0m - \u001b[32m\u001b[1mData inserted successfully.\u001b[0m\n",
      "\u001b[32m2025-02-16 22:36:07.850\u001b[0m | \u001b[1mINFO    \u001b[0m | \u001b[36m__main__\u001b[0m:\u001b[36m<module>\u001b[0m:\u001b[36m42\u001b[0m - \u001b[1mQuerying data from temperature table.\u001b[0m\n",
      "\u001b[32m2025-02-16 22:36:07.851\u001b[0m | \u001b[32m\u001b[1mSUCCESS \u001b[0m | \u001b[36m__main__\u001b[0m:\u001b[36m<module>\u001b[0m:\u001b[36m44\u001b[0m - \u001b[32m\u001b[1mData queried successfully.\u001b[0m\n",
      "\u001b[32m2025-02-16 22:36:22.149\u001b[0m | \u001b[32m\u001b[1mSUCCESS \u001b[0m | \u001b[36m__main__\u001b[0m:\u001b[36m<module>\u001b[0m:\u001b[36m49\u001b[0m - \u001b[32m\u001b[1mConnection closed successfully.\u001b[0m\n",
      "\u001b[32m2025-02-16 22:36:22.150\u001b[0m | \u001b[1mINFO    \u001b[0m | \u001b[36m__main__\u001b[0m:\u001b[36m<module>\u001b[0m:\u001b[36m17\u001b[0m - \u001b[1mConnecting to DuckDB.\u001b[0m\n",
      "\u001b[32m2025-02-16 22:36:22.365\u001b[0m | \u001b[32m\u001b[1mSUCCESS \u001b[0m | \u001b[36m__main__\u001b[0m:\u001b[36m<module>\u001b[0m:\u001b[36m20\u001b[0m - \u001b[32m\u001b[1mConnected to DuckDB.\u001b[0m\n",
      "\u001b[32m2025-02-16 22:36:22.366\u001b[0m | \u001b[1mINFO    \u001b[0m | \u001b[36m__main__\u001b[0m:\u001b[36m<module>\u001b[0m:\u001b[36m23\u001b[0m - \u001b[1mReading data from parquet file global-2024-e2a241c1f72491e3288cb5e866aeaf54.parquet.\u001b[0m\n",
      "\u001b[32m2025-02-16 22:36:38.084\u001b[0m | \u001b[32m\u001b[1mSUCCESS \u001b[0m | \u001b[36m__main__\u001b[0m:\u001b[36m<module>\u001b[0m:\u001b[36m31\u001b[0m - \u001b[32m\u001b[1mData read successfully.\u001b[0m\n",
      "\u001b[32m2025-02-16 22:36:38.084\u001b[0m | \u001b[1mINFO    \u001b[0m | \u001b[36m__main__\u001b[0m:\u001b[36m<module>\u001b[0m:\u001b[36m34\u001b[0m - \u001b[1mInserting data into temperature table.\u001b[0m\n"
     ]
    },
    {
     "data": {
      "application/vnd.jupyter.widget-view+json": {
       "model_id": "942c849601dd42a7a7be45954df6effc",
       "version_major": 2,
       "version_minor": 0
      },
      "text/plain": [
       "FloatProgress(value=0.0, layout=Layout(width='auto'), style=ProgressStyle(bar_color='black'))"
      ]
     },
     "metadata": {},
     "output_type": "display_data"
    },
    {
     "name": "stdout",
     "output_type": "stream",
     "text": [
      "\u001b[32m2025-02-16 22:38:16.038\u001b[0m | \u001b[32m\u001b[1mSUCCESS \u001b[0m | \u001b[36m__main__\u001b[0m:\u001b[36m<module>\u001b[0m:\u001b[36m36\u001b[0m - \u001b[32m\u001b[1mData inserted successfully.\u001b[0m\n",
      "\u001b[32m2025-02-16 22:38:16.051\u001b[0m | \u001b[1mINFO    \u001b[0m | \u001b[36m__main__\u001b[0m:\u001b[36m<module>\u001b[0m:\u001b[36m42\u001b[0m - \u001b[1mQuerying data from temperature table.\u001b[0m\n",
      "\u001b[32m2025-02-16 22:38:16.052\u001b[0m | \u001b[32m\u001b[1mSUCCESS \u001b[0m | \u001b[36m__main__\u001b[0m:\u001b[36m<module>\u001b[0m:\u001b[36m44\u001b[0m - \u001b[32m\u001b[1mData queried successfully.\u001b[0m\n",
      "\u001b[32m2025-02-16 22:38:30.802\u001b[0m | \u001b[32m\u001b[1mSUCCESS \u001b[0m | \u001b[36m__main__\u001b[0m:\u001b[36m<module>\u001b[0m:\u001b[36m49\u001b[0m - \u001b[32m\u001b[1mConnection closed successfully.\u001b[0m\n"
     ]
    }
   ],
   "source": [
    "import duckdb\n",
    "import polars as pl\n",
    "from loguru import logger\n",
    "\n",
    "from compstat_research.config import PROCESSED_DATA_DIR\n",
    "\n",
    "save_path = PROCESSED_DATA_DIR / \"cds\" / \"era5\" / \"2m-temperature\" / \"global\"\n",
    "\n",
    "logger.add(\"1.0-iragca-cds-data.log\", rotation=\"500 MB\", retention=\"7 days\", compression=\"zip\")\n",
    "\n",
    "# Customize the year range to be iterated over\n",
    "for year in range(1940, 2025):\n",
    "    # Iterate over all parquet files in the save path\n",
    "    for file in save_path.iterdir():\n",
    "        if (file.suffix == \".parquet\") and (file.name.startswith(f\"global-{year}\")):\n",
    "            # Connect to DuckDB\n",
    "            logger.info(\"Connecting to DuckDB.\")\n",
    "            save_path = PROCESSED_DATA_DIR / \"cds\" / \"era5\" / \"2m-temperature\" / \"global\"\n",
    "            conn = duckdb.connect(save_path / \"era5-2m-temperature-global.duckdb\")\n",
    "            logger.success(\"Connected to DuckDB.\")\n",
    "\n",
    "            # Read data from parquet file\n",
    "            logger.info(f\"Reading data from parquet file {file.name}.\")\n",
    "            data = pl.read_parquet(\n",
    "                source=file,\n",
    "                columns=[\"valid_time\", \"latitude\", \"longitude\", \"t2m\"],\n",
    "                low_memory=True,\n",
    "                use_pyarrow=True,\n",
    "                memory_map=True,\n",
    "            )\n",
    "            logger.success(\"Data read successfully.\")\n",
    "\n",
    "            # Insert data into temperature table\n",
    "            logger.info(\"Inserting data into temperature table.\")\n",
    "            conn.sql(\"INSERT INTO temperature SELECT * FROM data\")\n",
    "            logger.success(\"Data inserted successfully.\")\n",
    "\n",
    "            # Delete data from memory and make space for the next .parquet file\n",
    "            del data\n",
    "\n",
    "            # Commit and close connection\n",
    "            conn.commit()\n",
    "            conn.close()\n",
    "            logger.success(\"Connection closed successfully.\")"
   ]
  }
 ],
 "metadata": {
  "kernelspec": {
   "display_name": ".venv",
   "language": "python",
   "name": "python3"
  },
  "language_info": {
   "codemirror_mode": {
    "name": "ipython",
    "version": 3
   },
   "file_extension": ".py",
   "mimetype": "text/x-python",
   "name": "python",
   "nbconvert_exporter": "python",
   "pygments_lexer": "ipython3",
   "version": "3.12.9"
  }
 },
 "nbformat": 4,
 "nbformat_minor": 2
}
