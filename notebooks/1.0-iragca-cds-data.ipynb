{
 "cells": [
  {
   "cell_type": "markdown",
   "metadata": {},
   "source": [
    "# Data Download"
   ]
  },
  {
   "cell_type": "code",
   "execution_count": null,
   "metadata": {},
   "outputs": [
    {
     "name": "stderr",
     "output_type": "stream",
     "text": [
      "\u001b[32m2025-02-05 20:48:27.601\u001b[0m | \u001b[1mINFO    \u001b[0m | \u001b[36m__main__\u001b[0m:\u001b[36m<module>\u001b[0m:\u001b[36m9\u001b[0m - \u001b[1mStarting download of ERA5 data from 1940 to 2024.\u001b[0m\n",
      "Downloading data:   0%|          | 0/85 [00:00<?, ?year/s]2025-02-05 20:48:28,643 INFO [2024-09-26T00:00:00] Watch our [Forum](https://forum.ecmwf.int/) for Announcements, news and other discussed topics.\n",
      "2025-02-05 20:48:28,643 WARNING [2024-06-16T00:00:00] CDS API syntax is changed and some keys or parameter names may have also changed. To avoid requests failing, please use the \"Show API request code\" tool on the dataset Download Form to check you are using the correct syntax for your API request.\n",
      "Recovering from HTTP error [500 Internal Server Error], attemps 1 of 500\n",
      "Retrying in 120 seconds\n"
     ]
    }
   ],
   "source": [
    "import cdsapi\n",
    "from tqdm import tqdm\n",
    "from loguru import logger\n",
    "\n",
    "\n",
    "years = range(1940, 2025)\n",
    "\n",
    "logger.add(\"1.0-iragca-cds-data.log\", rotation=\"500 MB\", retention=\"7 days\", compression=\"zip\")\n",
    "logger.info(f\"Starting download of ERA5 data from {years[0]} to {years[-1]}.\")\n",
    "for year in tqdm(years, desc=\"Downloading data\", unit=\"year\"):\n",
    "    try:\n",
    "        dataset = \"derived-era5-single-levels-daily-statistics\"\n",
    "        request = {\n",
    "            \"product_type\": \"reanalysis\",\n",
    "            \"variable\": [\"2m_temperature\"],\n",
    "            \"year\": f\"{year}\",\n",
    "            \"month\": [\n",
    "                \"01\", \"02\", \"03\",\n",
    "                \"04\", \"05\", \"06\",\n",
    "                \"07\", \"08\", \"09\",\n",
    "                \"10\", \"11\", \"12\"\n",
    "            ],\n",
    "            \"day\": [\n",
    "                \"01\", \"02\", \"03\",\n",
    "                \"04\", \"05\", \"06\",\n",
    "                \"07\", \"08\", \"09\",\n",
    "                \"10\", \"11\", \"12\",\n",
    "                \"13\", \"14\", \"15\",\n",
    "                \"16\", \"17\", \"18\",\n",
    "                \"19\", \"20\", \"21\",\n",
    "                \"22\", \"23\", \"24\",\n",
    "                \"25\", \"26\", \"27\",\n",
    "                \"28\", \"29\", \"30\",\n",
    "                \"31\"\n",
    "            ],\n",
    "            \"daily_statistic\": \"daily_mean\",\n",
    "            \"time_zone\": \"utc+08:00\",\n",
    "            \"frequency\": \"1_hourly\",\n",
    "            \"area\": [20, 115, 5, 130]\n",
    "        }\n",
    "\n",
    "        client = cdsapi.Client()\n",
    "        client.retrieve(dataset, request).download()\n",
    "    except Exception as e:\n",
    "        logger.error(f\"Error downloading data for year {year}. Error: {e}\")\n",
    "        continue\n",
    "    else:\n",
    "        logger.info(f\"Downloaded data for year {year}.\")\n"
   ]
  }
 ],
 "metadata": {
  "kernelspec": {
   "display_name": ".venv",
   "language": "python",
   "name": "python3"
  },
  "language_info": {
   "codemirror_mode": {
    "name": "ipython",
    "version": 3
   },
   "file_extension": ".py",
   "mimetype": "text/x-python",
   "name": "python",
   "nbconvert_exporter": "python",
   "pygments_lexer": "ipython3",
   "version": "3.10.7"
  }
 },
 "nbformat": 4,
 "nbformat_minor": 2
}
